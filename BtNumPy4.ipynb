{
  "nbformat": 4,
  "nbformat_minor": 0,
  "metadata": {
    "colab": {
      "name": "BtNumPy4.ipynb",
      "provenance": [],
      "collapsed_sections": [],
      "authorship_tag": "ABX9TyPGLyJ6weQ/LXkmPvgn7NJq",
      "include_colab_link": true
    },
    "kernelspec": {
      "name": "python3",
      "display_name": "Python 3"
    },
    "language_info": {
      "name": "python"
    }
  },
  "cells": [
    {
      "cell_type": "markdown",
      "metadata": {
        "id": "view-in-github",
        "colab_type": "text"
      },
      "source": [
        "<a href=\"https://colab.research.google.com/github/TranNhatHan/LamBt/blob/main/BtNumPy4.ipynb\" target=\"_parent\"><img src=\"https://colab.research.google.com/assets/colab-badge.svg\" alt=\"Open In Colab\"/></a>"
      ]
    },
    {
      "cell_type": "code",
      "source": [
        "import numpy as np"
      ],
      "metadata": {
        "id": "0lE-WdJmDhp8"
      },
      "execution_count": null,
      "outputs": []
    },
    {
      "cell_type": "markdown",
      "source": [
        "Câu 1: Sử dụng thư viện Numpy, hãy tạo một vector a có 7 chiều (tương ứng 7 phần tử) với giá\n",
        "trị các phần tử được sinh bằng hàm (kết quả xuất ra màn hình):\n",
        "- np.arrange()\n",
        "- np.linspace()\n",
        "- np.logspace()\n",
        "- np.random.rand()"
      ],
      "metadata": {
        "id": "-aZD5VODCZ72"
      }
    },
    {
      "cell_type": "code",
      "execution_count": null,
      "metadata": {
        "colab": {
          "base_uri": "https://localhost:8080/"
        },
        "id": "R28mbVA1CCWl",
        "outputId": "bc79064a-3826-444e-dcfc-d0c608eaf2dc"
      },
      "outputs": [
        {
          "output_type": "stream",
          "name": "stdout",
          "text": [
            "2 (1, 7) 2 (7, 1)\n",
            "2 (1, 7) 2 (7, 1)\n",
            "2 (1, 7) 2 (7, 1)\n",
            "2 (1, 7) 2 (7, 1)\n"
          ]
        }
      ],
      "source": [
        "a = np.arange(7)\n",
        "b = np.linspace(1.0, 10.0, num=7)\n",
        "c = np.logspace(2.0, 3.0, num=7)\n",
        "d = np.random.rand(7)\n",
        "print(a.T.ndim, a.T.shape, a.ndim, a.shape)\n",
        "print(b.T.ndim, b.T.shape, b.ndim, b.shape)\n",
        "print(c.T.ndim, c.T.shape, c.ndim, c.shape)\n",
        "print(d.T.ndim, d.T.shape, d.ndim, d.shape)"
      ]
    },
    {
      "cell_type": "markdown",
      "source": [
        "Câu 2: Sử dụng thư viện Numpy, hãy tạo ra ma trận $A_{10x7}$ với giá trị các phần tử của ma trận A\n",
        "được sinh bởi:\n",
        "- np.arrange()\n",
        "- np.linspace()\n",
        "- np.logspace()\n",
        "- np.random.rand()"
      ],
      "metadata": {
        "id": "vpe73Gw7FvSO"
      }
    },
    {
      "cell_type": "code",
      "source": [
        "e = np.arange(70).reshape(10, 7)\n",
        "f = np.linspace(1.0, 10.0, num=70).reshape(10, 7)\n",
        "g = np.logspace(2.0, 3.0, num=70).reshape(10, 7)\n",
        "h = np.random.rand(10, 7)\n",
        "print(e.T.ndim, e.T.shape, e.ndim, e.shape)\n",
        "print(f.T.ndim, f.T.shape, f.ndim, f.shape)\n",
        "print(g.T.ndim, g.T.shape, g.ndim, g.shape)\n",
        "print(h.T.ndim, h.T.shape, h.ndim, h.shape)"
      ],
      "metadata": {
        "colab": {
          "base_uri": "https://localhost:8080/"
        },
        "id": "JY5xPA8HE4KT",
        "outputId": "65180c18-59f0-4bef-da15-80e0989690ab"
      },
      "execution_count": null,
      "outputs": [
        {
          "output_type": "stream",
          "name": "stdout",
          "text": [
            "2 (7, 10) 2 (10, 7)\n",
            "2 (7, 10) 2 (10, 7)\n",
            "2 (7, 10) 2 (10, 7)\n",
            "2 (7, 10) 2 (10, 7)\n"
          ]
        }
      ]
    },
    {
      "cell_type": "markdown",
      "source": [
        "Câu 3: Sử dụng thư viện Numpy, hãy:\n",
        "- Chuyển ma trận A ở câu 2 thành vector. (Gợi ý: sử dụng hàm flatten())\n",
        "- Chuyển vector vừa được tạo ra ở câu trên thành ma trận. (Gợi ý: sử dụng hàm reshape())"
      ],
      "metadata": {
        "id": "hxlhVeD0Mrx2"
      }
    },
    {
      "cell_type": "code",
      "source": [
        "vector = e.flatten()\n",
        "matrix = vector.reshape(14, 5)\n",
        "print(vector)\n",
        "print(matrix)"
      ],
      "metadata": {
        "colab": {
          "base_uri": "https://localhost:8080/"
        },
        "id": "azgtMUjWKLjH",
        "outputId": "8313a27b-1466-49c9-8f30-9ee3e3555868"
      },
      "execution_count": null,
      "outputs": [
        {
          "output_type": "stream",
          "name": "stdout",
          "text": [
            "[ 0  1  2  3  4  5  6  7  8  9 10 11 12 13 14 15 16 17 18 19 20 21 22 23\n",
            " 24 25 26 27 28 29 30 31 32 33 34 35 36 37 38 39 40 41 42 43 44 45 46 47\n",
            " 48 49 50 51 52 53 54 55 56 57 58 59 60 61 62 63 64 65 66 67 68 69]\n",
            "[[ 0  1  2  3  4]\n",
            " [ 5  6  7  8  9]\n",
            " [10 11 12 13 14]\n",
            " [15 16 17 18 19]\n",
            " [20 21 22 23 24]\n",
            " [25 26 27 28 29]\n",
            " [30 31 32 33 34]\n",
            " [35 36 37 38 39]\n",
            " [40 41 42 43 44]\n",
            " [45 46 47 48 49]\n",
            " [50 51 52 53 54]\n",
            " [55 56 57 58 59]\n",
            " [60 61 62 63 64]\n",
            " [65 66 67 68 69]]\n"
          ]
        }
      ]
    },
    {
      "cell_type": "markdown",
      "source": [
        "Câu 4: Sử dụng thư viện Numpy, hãy:\n",
        "- Tạo ra 1 ma trận $A_{10x15}$ với các giá trị được sinh ra bởi hàm logspace();\n",
        "- Hãy trích rút dòng thứ 3 của ma trận A (tương ứng với 1 vector hàng);\n",
        "- Hãy trích rút ra cột thứ 5 của ma trận A (tương ứng với 1 vector cột)."
      ],
      "metadata": {
        "id": "koyKU4jYMzt-"
      }
    },
    {
      "cell_type": "code",
      "source": [
        "A = np.logspace(1.0, 3.0, num=150).reshape(10, 15)\n",
        "print(A[2,:])\n",
        "print(A[:,4])"
      ],
      "metadata": {
        "id": "qMNaGnL1OK43",
        "colab": {
          "base_uri": "https://localhost:8080/"
        },
        "outputId": "03342ec9-2f28-441f-d20e-407b0a885ec3"
      },
      "execution_count": null,
      "outputs": [
        {
          "output_type": "stream",
          "name": "stdout",
          "text": [
            "[25.27461587 26.06798021 26.88624807 27.73020117 28.60064576 29.4984134\n",
            " 30.42436177 31.37937544 32.36436676 33.38027674 34.4280759  35.50876522\n",
            " 36.62337714 37.77297646 38.95866145]\n",
            "[ 11.31595665  17.99009916  28.60064576  45.46928456  72.28703351\n",
            " 114.9218701  182.70270042 290.46061216 461.77405711 734.12803971]\n"
          ]
        }
      ]
    },
    {
      "cell_type": "markdown",
      "source": [
        "Câu 5: Thực hiện các yêu cầu sau:\n",
        "- Xây dựng hàm tính giá trị trung bình\n",
        "- Xây dựng hàm tính giá trị trung vị\n",
        "- Xây dựng hàm tính giá trị yếu vị\n",
        "- Xây dựng hàm tính phương sai\n",
        "- Xây dựng hàm tính độ lệch chuẩn\n",
        "- Hãy tạo ra ma trận $A_{10x15}$ với các giá trị sinh bởi hàm arrange()\n",
        "- Áp dụng 5 hàm ở trên cho từng hàng của ma trận A\n",
        "- Áp dụng 5 hàm ở trên cho từng cột của ma trận A"
      ],
      "metadata": {
        "id": "lMO7K33INTiQ"
      }
    },
    {
      "cell_type": "code",
      "source": [
        "def mean(A):\n",
        "  sum = 0\n",
        "  for i in A:\n",
        "    sum+=i\n",
        "  return sum/len(A)\n",
        "\n",
        "def median(A):\n",
        "  A.sort()\n",
        "  n = len(A)\n",
        "  if n % 2 == 0:\n",
        "    median1 = A[n//2]\n",
        "    median2 = A[n//2 - 1]\n",
        "    median = (median1 + median2)/2\n",
        "  else:\n",
        "    median = A[n//2]\n",
        "  return median\n",
        "\n",
        "def mode(A):\n",
        "  A.sort()\n",
        "  B=[]  \n",
        "  for i in A:\n",
        "    B.append(list(A).count(i))\n",
        "  d = dict(zip(A, B))\n",
        "  m = [k for (k,v) in d.items() if v == max(B)]\n",
        "  return m\n",
        "\n",
        "\n",
        "def variance(A):\n",
        "  sum = 0\n",
        "  for i in A:\n",
        "    sum+=(i-mean(A))**2\n",
        "  return sum/len(A)\n",
        "\n",
        "def standard_deviation(A):\n",
        "  return variance(A)**(1/2)\n",
        "\n",
        "A = np.arange(150).reshape(10, 15)\n",
        "print(A)"
      ],
      "metadata": {
        "id": "a-oRQ9DWOLbf",
        "colab": {
          "base_uri": "https://localhost:8080/"
        },
        "outputId": "7da800d6-8c0a-44d2-feb8-492a4c846fc2"
      },
      "execution_count": null,
      "outputs": [
        {
          "output_type": "stream",
          "name": "stdout",
          "text": [
            "[[  0   1   2   3   4   5   6   7   8   9  10  11  12  13  14]\n",
            " [ 15  16  17  18  19  20  21  22  23  24  25  26  27  28  29]\n",
            " [ 30  31  32  33  34  35  36  37  38  39  40  41  42  43  44]\n",
            " [ 45  46  47  48  49  50  51  52  53  54  55  56  57  58  59]\n",
            " [ 60  61  62  63  64  65  66  67  68  69  70  71  72  73  74]\n",
            " [ 75  76  77  78  79  80  81  82  83  84  85  86  87  88  89]\n",
            " [ 90  91  92  93  94  95  96  97  98  99 100 101 102 103 104]\n",
            " [105 106 107 108 109 110 111 112 113 114 115 116 117 118 119]\n",
            " [120 121 122 123 124 125 126 127 128 129 130 131 132 133 134]\n",
            " [135 136 137 138 139 140 141 142 143 144 145 146 147 148 149]]\n"
          ]
        }
      ]
    },
    {
      "cell_type": "code",
      "source": [
        "print(np.apply_along_axis(mean, 1, A))\n",
        "print(np.apply_along_axis(mean, 0, A))"
      ],
      "metadata": {
        "colab": {
          "base_uri": "https://localhost:8080/"
        },
        "id": "3f1X23paUX2r",
        "outputId": "f2b58745-a109-4e93-fa7b-0239f60b2dc9"
      },
      "execution_count": null,
      "outputs": [
        {
          "output_type": "stream",
          "name": "stdout",
          "text": [
            "[  7.  22.  37.  52.  67.  82.  97. 112. 127. 142.]\n",
            "[67.5 68.5 69.5 70.5 71.5 72.5 73.5 74.5 75.5 76.5 77.5 78.5 79.5 80.5\n",
            " 81.5]\n"
          ]
        }
      ]
    },
    {
      "cell_type": "code",
      "source": [
        "print(np.apply_along_axis(median, 1, A))\n",
        "print(np.apply_along_axis(median, 0, A))"
      ],
      "metadata": {
        "colab": {
          "base_uri": "https://localhost:8080/"
        },
        "id": "HQ8Blz1eUaJv",
        "outputId": "acc6a0f0-f882-4f36-f21a-e35fdb9545f0"
      },
      "execution_count": null,
      "outputs": [
        {
          "output_type": "stream",
          "name": "stdout",
          "text": [
            "[  7  22  37  52  67  82  97 112 127 142]\n",
            "[67.5 68.5 69.5 70.5 71.5 72.5 73.5 74.5 75.5 76.5 77.5 78.5 79.5 80.5\n",
            " 81.5]\n"
          ]
        }
      ]
    },
    {
      "cell_type": "code",
      "source": [
        "print(np.apply_along_axis(mode, 1, A))\n",
        "print(np.apply_along_axis(mode, 0, A))"
      ],
      "metadata": {
        "colab": {
          "base_uri": "https://localhost:8080/"
        },
        "id": "8PNqqP3eUalV",
        "outputId": "c66a5a58-3a87-4abe-e3b9-5e86d0314bc6"
      },
      "execution_count": null,
      "outputs": [
        {
          "output_type": "stream",
          "name": "stdout",
          "text": [
            "[[  0   1   2   3   4   5   6   7   8   9  10  11  12  13  14]\n",
            " [ 15  16  17  18  19  20  21  22  23  24  25  26  27  28  29]\n",
            " [ 30  31  32  33  34  35  36  37  38  39  40  41  42  43  44]\n",
            " [ 45  46  47  48  49  50  51  52  53  54  55  56  57  58  59]\n",
            " [ 60  61  62  63  64  65  66  67  68  69  70  71  72  73  74]\n",
            " [ 75  76  77  78  79  80  81  82  83  84  85  86  87  88  89]\n",
            " [ 90  91  92  93  94  95  96  97  98  99 100 101 102 103 104]\n",
            " [105 106 107 108 109 110 111 112 113 114 115 116 117 118 119]\n",
            " [120 121 122 123 124 125 126 127 128 129 130 131 132 133 134]\n",
            " [135 136 137 138 139 140 141 142 143 144 145 146 147 148 149]]\n",
            "[[  0   1   2   3   4   5   6   7   8   9  10  11  12  13  14]\n",
            " [ 15  16  17  18  19  20  21  22  23  24  25  26  27  28  29]\n",
            " [ 30  31  32  33  34  35  36  37  38  39  40  41  42  43  44]\n",
            " [ 45  46  47  48  49  50  51  52  53  54  55  56  57  58  59]\n",
            " [ 60  61  62  63  64  65  66  67  68  69  70  71  72  73  74]\n",
            " [ 75  76  77  78  79  80  81  82  83  84  85  86  87  88  89]\n",
            " [ 90  91  92  93  94  95  96  97  98  99 100 101 102 103 104]\n",
            " [105 106 107 108 109 110 111 112 113 114 115 116 117 118 119]\n",
            " [120 121 122 123 124 125 126 127 128 129 130 131 132 133 134]\n",
            " [135 136 137 138 139 140 141 142 143 144 145 146 147 148 149]]\n"
          ]
        }
      ]
    },
    {
      "cell_type": "code",
      "source": [
        "print(np.apply_along_axis(variance, 1, A))\n",
        "print(np.apply_along_axis(variance, 0, A))"
      ],
      "metadata": {
        "colab": {
          "base_uri": "https://localhost:8080/"
        },
        "id": "hxXM6-eAUbAQ",
        "outputId": "5d283ea7-fecb-4be1-a9b3-a240246674ba"
      },
      "execution_count": null,
      "outputs": [
        {
          "output_type": "stream",
          "name": "stdout",
          "text": [
            "[18.66666667 18.66666667 18.66666667 18.66666667 18.66666667 18.66666667\n",
            " 18.66666667 18.66666667 18.66666667 18.66666667]\n",
            "[1856.25 1856.25 1856.25 1856.25 1856.25 1856.25 1856.25 1856.25 1856.25\n",
            " 1856.25 1856.25 1856.25 1856.25 1856.25 1856.25]\n"
          ]
        }
      ]
    },
    {
      "cell_type": "code",
      "source": [
        "print(np.apply_along_axis(standard_deviation, 1, A))\n",
        "print(np.apply_along_axis(standard_deviation, 0, A))"
      ],
      "metadata": {
        "colab": {
          "base_uri": "https://localhost:8080/"
        },
        "id": "RpWmC42NUbam",
        "outputId": "514bf570-3cc7-4845-c3ce-0971d579f7aa"
      },
      "execution_count": null,
      "outputs": [
        {
          "output_type": "stream",
          "name": "stdout",
          "text": [
            "[4.3204938 4.3204938 4.3204938 4.3204938 4.3204938 4.3204938 4.3204938\n",
            " 4.3204938 4.3204938 4.3204938]\n",
            "[43.08421985 43.08421985 43.08421985 43.08421985 43.08421985 43.08421985\n",
            " 43.08421985 43.08421985 43.08421985 43.08421985 43.08421985 43.08421985\n",
            " 43.08421985 43.08421985 43.08421985]\n"
          ]
        }
      ]
    }
  ]
}