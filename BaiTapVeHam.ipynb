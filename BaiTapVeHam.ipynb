{
  "nbformat": 4,
  "nbformat_minor": 0,
  "metadata": {
    "colab": {
      "name": "BaiTapVeHam.ipynb",
      "provenance": [],
      "collapsed_sections": [],
      "include_colab_link": true
    },
    "kernelspec": {
      "name": "python3",
      "display_name": "Python 3"
    },
    "language_info": {
      "name": "python"
    }
  },
  "cells": [
    {
      "cell_type": "markdown",
      "metadata": {
        "id": "view-in-github",
        "colab_type": "text"
      },
      "source": [
        "<a href=\"https://colab.research.google.com/github/TranNhatHan/LamBt/blob/main/BaiTapVeHam.ipynb\" target=\"_parent\"><img src=\"https://colab.research.google.com/assets/colab-badge.svg\" alt=\"Open In Colab\"/></a>"
      ]
    },
    {
      "cell_type": "markdown",
      "metadata": {
        "id": "z8OMNBJuMpCJ"
      },
      "source": [
        "Bài Tập Về Hàm"
      ]
    },
    {
      "cell_type": "markdown",
      "metadata": {
        "id": "7J8SEXYeMt0z"
      },
      "source": [
        "Bài 1: Hãy xây dựng một hàm thực hiện các yêu cầu sau:\n",
        "- Xuất ra màn hình câu thông báo: “Lập trình Java 2021”\n",
        "- Hàm không có giá trị trả về"
      ]
    },
    {
      "cell_type": "markdown",
      "metadata": {
        "id": "9TAhYiF9NNle"
      },
      "source": [
        ""
      ]
    },
    {
      "cell_type": "code",
      "metadata": {
        "id": "l4tPTKjxMhXm"
      },
      "source": [
        "#Tạo hàm hthi\n",
        "def hthi(text):\n",
        "  print(text)"
      ],
      "execution_count": 5,
      "outputs": []
    },
    {
      "cell_type": "code",
      "metadata": {
        "colab": {
          "base_uri": "https://localhost:8080/"
        },
        "id": "U8GOjfInIJOo",
        "outputId": "03a960cf-bb1e-44c5-9da9-e0b15597d8dd"
      },
      "source": [
        "#Gọi hàm hthi\n",
        "hthi('Lập trình Java 2021')"
      ],
      "execution_count": 6,
      "outputs": [
        {
          "output_type": "stream",
          "name": "stdout",
          "text": [
            "Lập trình Java 2021\n"
          ]
        }
      ]
    },
    {
      "cell_type": "markdown",
      "metadata": {
        "id": "cAaoPBSNRm0R"
      },
      "source": [
        "Bài 2: Hãy xây dựng một hàm thực hiện các yêu cầu sau:\n",
        "- Nhận một tham số đầu vào là một chuỗi ký tự (kiểu String)\n",
        "- Xuất ra màn hình nội dung chuỗi được truyền vào từ tham số\n",
        "- Hàm không có giá trị trả về"
      ]
    },
    {
      "cell_type": "code",
      "metadata": {
        "id": "0hr1tUxXRpJw"
      },
      "source": [
        "#Tạo hàm bài 2\n",
        "def bai2(nhap):\n",
        "  print(nhap)"
      ],
      "execution_count": 19,
      "outputs": []
    },
    {
      "cell_type": "code",
      "metadata": {
        "colab": {
          "base_uri": "https://localhost:8080/"
        },
        "id": "YUKRMRMeIcqZ",
        "outputId": "e6ba5e24-87ea-45fd-8585-9808a4ceb544"
      },
      "source": [
        "#Gọi hàm với tham số nhập từ bàn phím\n",
        "bai2(input())"
      ],
      "execution_count": 8,
      "outputs": [
        {
          "output_type": "stream",
          "name": "stdout",
          "text": [
            "Ahihi\n",
            "Ahihi\n"
          ]
        }
      ]
    },
    {
      "cell_type": "markdown",
      "metadata": {
        "id": "S6vQ92L1SI-W"
      },
      "source": [
        "Bài 3: Hãy viết chương trình thực hiện các yêu cầu sau:\n",
        "- Nhập một số nguyên dương n từ bàn phím (kiểm tra nếu không đạt yêu cầu thì bắt nhập\n",
        "lại)\n",
        "- Nhập một thông điệp từ bàn phím\n",
        "- Gọi thực hiện hàm ở Bài 2 n lần với thông điệp được truyền làm tham số đầu vào của hàm."
      ]
    },
    {
      "cell_type": "code",
      "metadata": {
        "id": "DfHXvdNYSK-D"
      },
      "source": [
        "#Tạo hàm bai3\n",
        "def bai3(n, text):\n",
        "  #Kiểm tra có phải là số nguyên dương hay ko\n",
        "  if n.isdecimal()==True:\n",
        "    #Nếu đúng thì thực hiện hàm bai2 n lần\n",
        "    for i in range(int(n)):\n",
        "      bai2(text)\n",
        "  else:\n",
        "    #Nếu sai thì thực hiện gọi lại hàm bai3, tức là nhập lại n.\n",
        "    print(\"n không phải là số nguyên dương\")\n",
        "    bai3(input(\"Nhập lại n:\"),input(\"Nhập chuỗi:\"))"
      ],
      "execution_count": 22,
      "outputs": []
    },
    {
      "cell_type": "code",
      "metadata": {
        "colab": {
          "base_uri": "https://localhost:8080/"
        },
        "id": "UdEEp129I2WK",
        "outputId": "19df59b5-277e-4ab0-94e7-a97c0dbc0bb2"
      },
      "source": [
        "#Gọi hàm bai3\n",
        "bai3(input(\"Nhập n:\"),input(\"Nhập chuỗi:\"))"
      ],
      "execution_count": 23,
      "outputs": [
        {
          "output_type": "stream",
          "name": "stdout",
          "text": [
            "Nhập n:5\n",
            "Nhập chuỗi:Han dep trai\n",
            "Han dep trai\n",
            "Han dep trai\n",
            "Han dep trai\n",
            "Han dep trai\n",
            "Han dep trai\n"
          ]
        }
      ]
    },
    {
      "cell_type": "markdown",
      "metadata": {
        "id": "7g8KbpSqVsnf"
      },
      "source": [
        "Bài 4: Hãy viết chương trình thực hiện các yêu cầu sau:\n",
        "- Xây dựng hàm giải phương trình bậc 1 (ax + b = 0), với hệ số a & b được truyền vào qua\n",
        "thông số của hàm.\n",
        "- Chương trình chính nhận các thông số a, b từ bàn phím\n",
        "- Chương trình chính gọi hàm giải phương trình bậc 1 nêu trên"
      ]
    },
    {
      "cell_type": "code",
      "metadata": {
        "id": "QYKbUd7lVu72"
      },
      "source": [
        "#Cái này cơ bản là bạn làm nên mình ko comment vào nữa nha\n",
        "def bai4(a, b):\n",
        "  if a == 0:\n",
        "    if b == 0:\n",
        "      print(\"Vô số nghiệm\")\n",
        "    else:\n",
        "      print(\"Vô nghiệm\")\n",
        "  else:\n",
        "    print(\"Phương trình có nghiệm x =\", -b / a)"
      ],
      "execution_count": 24,
      "outputs": []
    },
    {
      "cell_type": "code",
      "metadata": {
        "colab": {
          "base_uri": "https://localhost:8080/"
        },
        "id": "61wjo-mhKJnT",
        "outputId": "243c5d0f-e5df-4e58-8e41-063752b8368a"
      },
      "source": [
        "#Gọi hàm với tham số a và b được nhập từ bàn phím\n",
        "bai4(float(input(\"Nhap a:\")), float(input(\"Nhap b:\")))"
      ],
      "execution_count": 27,
      "outputs": [
        {
          "output_type": "stream",
          "name": "stdout",
          "text": [
            "Nhap a:2\n",
            "Nhap b:-4\n",
            "Phương trình có nghiệm x = 2.0\n"
          ]
        }
      ]
    },
    {
      "cell_type": "markdown",
      "metadata": {
        "id": "29CgycrlZMLD"
      },
      "source": [
        "Bài 5: Hãy viết chương trình thực hiện các yêu cầu sau:\n",
        "- Xây dựng hàm giải phương trình bậc (ax2 + bx + c = 0), với hệ số a & b & c được truyền\n",
        "vào qua thông số của hàm.\n",
        "- Chương trình chính nhận các thông số a, b & c từ bàn phím\n",
        "- Chương trình chính gọi hàm giải phương trình bậc 2 nêu trên"
      ]
    },
    {
      "cell_type": "code",
      "metadata": {
        "id": "EYUcUmuNZOgf"
      },
      "source": [
        "#Cái này cơ bản là bạn làm nên mình ko comment vào nữa nha\n",
        "import math\n",
        "def bai5(a, b, c):\n",
        "  if (a == 0):\n",
        "    if b == 0:\n",
        "      if c == 0:\n",
        "        print(\"Vô số nghiệm\")\n",
        "      else:\n",
        "        print(\"Vô nghiệm\")\n",
        "    else:\n",
        "      print(\"Phương trình có nghiệm x =\", -c / b)\n",
        "  #Bài của bạn chưa có cái else này\n",
        "  #Cái này mình mới thêm vào\n",
        "  #Bạn làm đúng rồi chỉ thiếu cái này thôi\n",
        "  else:\n",
        "   delta = b * b - 4 * a * c\n",
        "   if (delta > 0):\n",
        "        x1 = (float)((-b + math.sqrt(delta)) / (2 * a))\n",
        "        x2 = (float)((-b - math.sqrt(delta)) / (2 * a))\n",
        "        print (\"Phương trình có 2 nghiệm là: x1 =\",x1, \" và x2 =\",x2)\n",
        "   if (delta == 0):\n",
        "        x1 = (-b / (2 * a))\n",
        "        print(\"Phương trình có nghiệm kép: x1 = x2 = \", x1)\n",
        "   if delta<0:\n",
        "        print(\"Phương trình vô nghiệm!\")"
      ],
      "execution_count": 48,
      "outputs": []
    },
    {
      "cell_type": "code",
      "metadata": {
        "colab": {
          "base_uri": "https://localhost:8080/"
        },
        "id": "PcfKTvlCKqG8",
        "outputId": "51c6e5b9-d59c-4d3e-bd96-9cda4450aacd"
      },
      "source": [
        "#Gọi hàm bai5 với tham số a, b và c được nhập từ bàn phím\n",
        "bai5(float(input(\"Nhap a:\")),float(input(\"Nhap b:\")),float(input(\"Nhap c:\")))"
      ],
      "execution_count": 34,
      "outputs": [
        {
          "output_type": "stream",
          "name": "stdout",
          "text": [
            "Nhap a:1\n",
            "Nhap b:3\n",
            "Nhap c:-4\n",
            "Phương trình có 2 nghiệm là: x1 = 1.0  và x2 = -4.0\n"
          ]
        }
      ]
    },
    {
      "cell_type": "markdown",
      "metadata": {
        "id": "Pd5kew-S2_ky"
      },
      "source": [
        "Bài 6: Hãy viết chương trình thực hiện các yêu cầu sau:\n",
        "\n",
        "- Cho người dùng lựa chọn giải phương trình bậc 1 hay bậc 2 bằng cách nhập số (1 hay 2)\n",
        "từ bàn phím\n",
        "- Nếu người dùng chọn giải phương trình bậc 1, thì thực hiện các bước như Bài 4\n",
        "- Nếu người dùng chọn giải phương trình bậc 2, thì thực hiện các bước như Bài 5"
      ]
    },
    {
      "cell_type": "code",
      "metadata": {
        "id": "OgSSTpcd3AFu"
      },
      "source": [
        "#Tạo hàm bài 6\n",
        "def bai6(key):\n",
        "  #Nếu key=1 thì gọi lại hàm bai4\n",
        "  if key==1:\n",
        "    bai4(float(input(\"Nhap a:\")), float(input(\"Nhap b:\")))\n",
        "  #Nếu key=2 thì gọi lài hàm bai5\n",
        "  elif key==2:\n",
        "    bai5(float(input(\"Nhap a:\")),float(input(\"Nhap b:\")),float(input(\"Nhap c:\")))\n",
        "  #Nếu key!=1 và key!=2 thì gọi lại hàm bai6, tức là nhập lại key.\n",
        "  else:\n",
        "    print(\"Sai điều kiện! Nhập lại\")\n",
        "    bai6(int(input(\"Bạn muốn giải phương trình bậc 1 hay bậc 2:\")))"
      ],
      "execution_count": 37,
      "outputs": []
    },
    {
      "cell_type": "code",
      "metadata": {
        "colab": {
          "base_uri": "https://localhost:8080/"
        },
        "id": "_slXBqJPLSuw",
        "outputId": "7b371aa3-87dd-4555-ad79-bca50e1f23e7"
      },
      "source": [
        "#Goi hàm bai6\n",
        "bai6(int(input(\"Bạn muốn giải phương trình bậc 1 hay bậc 2:\")))"
      ],
      "execution_count": 38,
      "outputs": [
        {
          "output_type": "stream",
          "name": "stdout",
          "text": [
            "Bạn muốn giải phương trình bậc 1 hay bậc 2:1\n",
            "Nhap a:5.0\n",
            "Nhap b:10\n",
            "Phương trình có nghiệm x = -2.0\n"
          ]
        }
      ]
    },
    {
      "cell_type": "markdown",
      "metadata": {
        "id": "YP4DOOlRAb4i"
      },
      "source": [
        "Bài 7: Viết chương trình thực hiện các yêu cầu sau:\n",
        "- Thực hiện yêu cầu như bài 6\n",
        "- Sau khi thực hiện xong cho người dùng lựa chọn tiếp tục thực hiện lại hay kết thúc chương\n",
        "trình"
      ]
    },
    {
      "cell_type": "code",
      "metadata": {
        "id": "Tossb8HsAeyy"
      },
      "source": [
        "#Tạo hàm bai7\n",
        "def bai7(key):\n",
        "  #Nếu key=\"y\" thì gọi hàm bai6 rồi nhập lại key\n",
        "  while key==\"y\":\n",
        "    #Gọi hàm bai6\n",
        "    bai6(int(input(\"Bạn muốn giải phương trình bậc 1 hay bậc 2:\")))\n",
        "    #Nhập lại key\n",
        "    key=(input(\"Bạn muốn kết thúc hay tiếp tục (y/n)?\"))\n",
        "  #Nếu không in ra màn hình thông báo kết thúc.\n",
        "  else:\n",
        "    print(\"Ket thuc\")"
      ],
      "execution_count": 45,
      "outputs": []
    },
    {
      "cell_type": "code",
      "metadata": {
        "colab": {
          "base_uri": "https://localhost:8080/"
        },
        "id": "0636UdH1MQqX",
        "outputId": "bc8d0c66-54f1-4a32-8eea-b7c9b92a0468"
      },
      "source": [
        "#Gọi hàm bai7 với key=\"y\"\n",
        "bai7(\"y\")"
      ],
      "execution_count": 49,
      "outputs": [
        {
          "output_type": "stream",
          "name": "stdout",
          "text": [
            "Bạn muốn giải phương trình bậc 1 hay bậc 2:2\n",
            "Nhap a:0\n",
            "Nhap b:0\n",
            "Nhap c:5\n",
            "Vô nghiệm\n",
            "Bạn muốn kết thúc hay tiếp tục (y/n)?n\n",
            "Ket thuc\n"
          ]
        }
      ]
    }
  ]
}