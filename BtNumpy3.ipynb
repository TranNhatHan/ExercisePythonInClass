{
  "nbformat": 4,
  "nbformat_minor": 0,
  "metadata": {
    "colab": {
      "name": "BtNumpy3.ipynb",
      "provenance": [],
      "collapsed_sections": [],
      "authorship_tag": "ABX9TyO6wANU4PSIBbLmM6R/efP0",
      "include_colab_link": true
    },
    "kernelspec": {
      "name": "python3",
      "display_name": "Python 3"
    },
    "language_info": {
      "name": "python"
    }
  },
  "cells": [
    {
      "cell_type": "markdown",
      "metadata": {
        "id": "view-in-github",
        "colab_type": "text"
      },
      "source": [
        "<a href=\"https://colab.research.google.com/github/TranNhatHan/LamBt/blob/main/BtNumpy3.ipynb\" target=\"_parent\"><img src=\"https://colab.research.google.com/assets/colab-badge.svg\" alt=\"Open In Colab\"/></a>"
      ]
    },
    {
      "cell_type": "markdown",
      "source": [
        "Cú pháp: numpy.apply_along_axis(func1d, axis, arr, *args, **kwargs)"
      ],
      "metadata": {
        "id": "T35LRRXwCKDS"
      }
    },
    {
      "cell_type": "markdown",
      "source": [
        "func1d : hàm bạn muốn thực hiện cho từng hàm hay cột\n",
        "\n",
        "axis : số 0 nếu bạn muốn áp dụng cho từng cột, 1 nếu muốn áp dụng cho từng hàm\n",
        "\n",
        "arr : ma trận bạn muốn áp dụng thực hiện hàm này"
      ],
      "metadata": {
        "id": "5ofFT4XtEiOT"
      }
    },
    {
      "cell_type": "code",
      "execution_count": null,
      "metadata": {
        "id": "eJw9H4b5qiVv"
      },
      "outputs": [],
      "source": [
        "import numpy as np"
      ]
    },
    {
      "cell_type": "markdown",
      "source": [
        "Câu 2: Tạo một ma trận A15x17 có giá trị ngẫu nhiên"
      ],
      "metadata": {
        "id": "V1omIgjU_akZ"
      }
    },
    {
      "cell_type": "code",
      "source": [
        "a = np.random.randint(-20,20, (15, 17))\n",
        "print(a)"
      ],
      "metadata": {
        "colab": {
          "base_uri": "https://localhost:8080/"
        },
        "id": "UMFj8E6VvxVs",
        "outputId": "4b741f62-6d3c-42f9-a1a3-c93ec1bfe7ff"
      },
      "execution_count": null,
      "outputs": [
        {
          "output_type": "stream",
          "name": "stdout",
          "text": [
            "[[  1 -17   1   7   7 -16  14  13  13  12  12  14 -10 -19   6   7   2]\n",
            " [ -3   9  18   6   1  17  10   2  -5  14   5   2   3   5  -6  12   8]\n",
            " [-17  -5  -5  -2  -7  -3 -16  -9 -15 -12  -1  12   0   4  10   5   1]\n",
            " [ 18  16  -4  16  -4   0  -2  -1   6 -12   4 -18 -18  14   6  -1 -14]\n",
            " [ 10   6  -3  18 -17   0  -3 -15 -10 -16   3  12 -16   8   8   1 -18]\n",
            " [ -7 -16  -3   7  -2  10 -17  17 -15  -4   8   0  15  -8   6  -8 -16]\n",
            " [-11   4   9  16 -19  13  10  -4  10  -3   0   4 -17  15  12  -1 -15]\n",
            " [-18   2   5  18 -10  -5   9 -11 -10  -4 -17 -18 -18 -10  19   5  -9]\n",
            " [-17 -15  13   8  -6 -18  10  13   1  -5  13  10   4  18  -5 -20 -11]\n",
            " [ -4 -11   0   5   4  11 -10  19  15   6   7  13  -8   8 -15   0  -3]\n",
            " [ 11  17   8 -15  11   8   3  -1 -15  -4   1  -5 -10   0  14  15  19]\n",
            " [  5   0   0 -16  -7   8  -8  12  16  -6  -4   6   8  12 -14   2   9]\n",
            " [ 16 -12  -9  -2   6  14 -16  17   1  17 -11  -7  -3   1 -17 -14  -2]\n",
            " [ 11   2  -3  17  14  -4  -3  -4   7   5 -12 -18  -5 -13  -8  14  15]\n",
            " [ 10  -7  -5 -11  11   9   2 -10  -4  -3   8  -6  16 -16 -18 -13 -10]]\n"
          ]
        }
      ]
    },
    {
      "cell_type": "markdown",
      "source": [
        "Câu 3: Xây dựng hàm tìm giá trị lớn nhất có tên là tim_gia_tri_lon_nhat(vector_a) có tham số\n",
        "đầu vào là 1 vector a và giá trị trả về là giá trị phần tử lớn nhất của vector này. Áp dụng hàm này\n",
        "theo từng hàng của ma trận A ở Câu 1 và xuất kết quả ra màn hình."
      ],
      "metadata": {
        "id": "f9YAz5Q3_eWW"
      }
    },
    {
      "cell_type": "code",
      "source": [
        "def tim_gia_tri_lon_nhat(vector_a):\n",
        "  return np.max(vector_a)\n",
        "np.apply_along_axis(tim_gia_tri_lon_nhat, 1, a)"
      ],
      "metadata": {
        "colab": {
          "base_uri": "https://localhost:8080/"
        },
        "id": "GIHXtJ4Sv60P",
        "outputId": "80d95cea-ec79-49c2-ee7d-04a973949319"
      },
      "execution_count": null,
      "outputs": [
        {
          "output_type": "execute_result",
          "data": {
            "text/plain": [
              "array([14, 18, 12, 18, 18, 17, 16, 19, 18, 19, 19, 16, 17, 17, 16])"
            ]
          },
          "metadata": {},
          "execution_count": 15
        }
      ]
    },
    {
      "cell_type": "code",
      "source": [
        "np.apply_along_axis(tim_gia_tri_lon_nhat, 0, a)"
      ],
      "metadata": {
        "colab": {
          "base_uri": "https://localhost:8080/"
        },
        "id": "7VH90w67zAdM",
        "outputId": "cb11ef50-cfac-428c-e037-1c2421d7975a"
      },
      "execution_count": null,
      "outputs": [
        {
          "output_type": "execute_result",
          "data": {
            "text/plain": [
              "array([18, 17, 18, 18, 14, 17, 14, 19, 16, 17, 13, 14, 16, 18, 19, 15, 19])"
            ]
          },
          "metadata": {},
          "execution_count": 17
        }
      ]
    },
    {
      "cell_type": "markdown",
      "source": [
        "Câu 4: Xây dựng hàm tìm giá trị nhỏ nhất có tên là tim_gia_tri_nho_nhat(vector_a) có tham số\n",
        "đầu vào là 1 vector a và giá trị trả về là giá trị phần tử nhỏ nhất của vector này. Áp dụng hàm này\n",
        "theo từng cột của ma trận A ở Câu 1 và xuất kết quả ra màn hình."
      ],
      "metadata": {
        "id": "Fyq7lK43_hVN"
      }
    },
    {
      "cell_type": "code",
      "source": [
        "def tim_gia_tri_nho_nhat(vector_a):\n",
        "  return np.min(vector_a)\n",
        "np.apply_along_axis(tim_gia_tri_nho_nhat, 1, a)"
      ],
      "metadata": {
        "colab": {
          "base_uri": "https://localhost:8080/"
        },
        "id": "NweyzzdYx5yP",
        "outputId": "7f1db9d2-88d4-46da-eeeb-e2fa8f2909bc"
      },
      "execution_count": null,
      "outputs": [
        {
          "output_type": "execute_result",
          "data": {
            "text/plain": [
              "array([-19,  -6, -17, -18, -18, -17, -19, -18, -20, -15, -15, -16, -17,\n",
              "       -18, -18])"
            ]
          },
          "metadata": {},
          "execution_count": 16
        }
      ]
    },
    {
      "cell_type": "code",
      "source": [
        "np.apply_along_axis(tim_gia_tri_nho_nhat, 0, a)"
      ],
      "metadata": {
        "colab": {
          "base_uri": "https://localhost:8080/"
        },
        "id": "Rcs9mPs8yEVt",
        "outputId": "edec42cf-974b-4a38-ae46-f1cef4e16047"
      },
      "execution_count": null,
      "outputs": [
        {
          "output_type": "execute_result",
          "data": {
            "text/plain": [
              "array([-18, -17,  -9, -16, -19, -18, -17, -15, -15, -16, -17, -18, -18,\n",
              "       -19, -18, -20, -18])"
            ]
          },
          "metadata": {},
          "execution_count": 18
        }
      ]
    },
    {
      "cell_type": "markdown",
      "source": [
        "Câu 5: Xây dựng hàm tìm giá trị lớn nhất có tên là tinh_tong(vector_a) có tham số đầu vào là 1\n",
        "vector a và giá trị trả về là tổng các phần tử của vector này. Áp dụng hàm này theo từng hàng của\n",
        "ma trận A ở Câu 1 và xuất kết quả ra màn hình."
      ],
      "metadata": {
        "id": "wLUqzyS5ASLI"
      }
    },
    {
      "cell_type": "code",
      "source": [
        "def tinh_tong(vector_a):\n",
        "  return np.sum(vector_a)\n",
        "np.apply_along_axis(tinh_tong, 1, a)"
      ],
      "metadata": {
        "colab": {
          "base_uri": "https://localhost:8080/"
        },
        "id": "v9vCyxNazSwu",
        "outputId": "d9ed2010-f0f5-45f3-953e-c9e3b16a2b3d"
      },
      "execution_count": null,
      "outputs": [
        {
          "output_type": "execute_result",
          "data": {
            "text/plain": [
              "array([ 47,  98, -60,   6, -32, -33,  23, -72,  -7,  37,  57,  23, -21,\n",
              "        15, -47])"
            ]
          },
          "metadata": {},
          "execution_count": 19
        }
      ]
    },
    {
      "cell_type": "markdown",
      "source": [
        "Câu 6: Xây dựng hàm tìm giá trị lớn nhất có tên là tinh_tong_2(vector_a) có tham số đầu vào là\n",
        "1 vector a và giá trị trả về là tổng các phần tử có chỉ số lẻ (1 – 3 – 5 , .v.v.) của vector này. Áp\n",
        "dụng hàm này theo từng cột của ma trận A ở Câu 1 và xuất kết quả ra màn hình. Tiếp tục áp dụng\n",
        "hàm này theo từng hàng của ma trận A kể trên và xuất kết quả ra màn hình."
      ],
      "metadata": {
        "id": "PfrCeNSf_0m6"
      }
    },
    {
      "cell_type": "code",
      "source": [
        "def tinh_tong2(vector_a):\n",
        "  sum = 0\n",
        "  for i in vector_a:\n",
        "    if i//2!=0:\n",
        "      sum+=i\n",
        "  return sum\n",
        "np.apply_along_axis(tinh_tong2, 1, a)"
      ],
      "metadata": {
        "colab": {
          "base_uri": "https://localhost:8080/"
        },
        "id": "2tqH9jgizk1P",
        "outputId": "e3354f9b-e69c-4c15-c56c-8c0740ac3413"
      },
      "execution_count": null,
      "outputs": [
        {
          "output_type": "execute_result",
          "data": {
            "text/plain": [
              "array([ 45,  97, -61,   6, -33, -33,  23, -72,  -8,  37,  56,  23, -23,\n",
              "        15, -47])"
            ]
          },
          "metadata": {},
          "execution_count": 20
        }
      ]
    },
    {
      "cell_type": "code",
      "source": [
        "np.apply_along_axis(tinh_tong2, 0, a)"
      ],
      "metadata": {
        "id": "W4Uj8I8r1i_j"
      },
      "execution_count": null,
      "outputs": []
    }
  ]
}