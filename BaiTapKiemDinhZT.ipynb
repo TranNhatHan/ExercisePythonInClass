{
  "cells": [
    {
      "cell_type": "markdown",
      "metadata": {
        "id": "view-in-github",
        "colab_type": "text"
      },
      "source": [
        "<a href=\"https://colab.research.google.com/github/TranNhatHan/LamBt/blob/main/BaiTapKiemDinhZT.ipynb\" target=\"_parent\"><img src=\"https://colab.research.google.com/assets/colab-badge.svg\" alt=\"Open In Colab\"/></a>"
      ]
    },
    {
      "cell_type": "markdown",
      "metadata": {
        "id": "qkZiGC4vuNvi"
      },
      "source": [
        "XÂY DỰNG CHƯƠNG TRÌNH KIỂM ĐỊNH Z (HOẶC T) CHO CÁC BÀI TẬP SAU\n",
        "\n",
        "Gợi ý:\n",
        "\n",
        "- Số liệu được sinh ngẫu nhiên theo phân phối chuẩn\n",
        "- Sử dụng gói phần mềm statsmodels để tiến hành kiểm định\n",
        "- Đối với các bài tập kiểm định giả thuyết thì sinh viên cần phát biểu các giả thuyết (bằng tiếng Việt) $H_{0}$ và $H_{a}$ trước khi lập trình kiểm định"
      ]
    },
    {
      "cell_type": "code",
      "source": [
        "import numpy as np\n",
        "from statsmodels.stats.weightstats import DescrStatsW, ttest_ind\n",
        "from statsmodels.stats.weightstats import ztest\n",
        "import scipy.stats as st\n",
        "import math"
      ],
      "metadata": {
        "id": "T2Dh4PZ-uQtG"
      },
      "execution_count": null,
      "outputs": []
    },
    {
      "cell_type": "markdown",
      "metadata": {
        "id": "6F4xkNYzuNvl"
      },
      "source": [
        "Bài 1: You’re a Q/C inspector for Gallo. The sample standard deviation for 2-liter bottles is .05 liters.  A random sample of 100 bottles showed sasmple mean = 1.99 liters.  What is the 90%  confidence interval estimate of the true mean amount in 2-liter bottles? "
      ]
    },
    {
      "cell_type": "code",
      "source": [
        "sample1 = np.random.normal(1.99, 0.05, 100)"
      ],
      "metadata": {
        "id": "WYiazT1NupnC"
      },
      "execution_count": null,
      "outputs": []
    },
    {
      "cell_type": "code",
      "execution_count": null,
      "metadata": {
        "id": "CpTH6NFEuNvm",
        "outputId": "4501cf84-361f-4e67-d109-c11f4b6ebefc",
        "colab": {
          "base_uri": "https://localhost:8080/"
        }
      },
      "outputs": [
        {
          "output_type": "execute_result",
          "data": {
            "text/plain": [
              "(1.9754917994205239, 1.9937538361493705)"
            ]
          },
          "metadata": {},
          "execution_count": 281
        }
      ],
      "source": [
        "st.norm.interval(0.9, np.mean(sample1), np.std(sample1)/math.sqrt(len(sample1)))"
      ]
    },
    {
      "cell_type": "markdown",
      "metadata": {
        "id": "68LnE-yIuNvn"
      },
      "source": [
        "Bài 2: You’re a time study analyst in manufacturing.  You’ve recorded the following task times (min.): 3.6, 4.2, 4.0, 3.5, 3.8, 3.1. What is the 90% confidence interval estimate of the population mean task time? "
      ]
    },
    {
      "cell_type": "code",
      "source": [
        "sample2 = [3.6, 4.2, 4.0, 3.5, 3.8, 3.1]"
      ],
      "metadata": {
        "id": "ZYn070QHwC2w"
      },
      "execution_count": null,
      "outputs": []
    },
    {
      "cell_type": "code",
      "execution_count": null,
      "metadata": {
        "id": "uNdgVxGEuNvn",
        "outputId": "0cdabc20-d3dd-4c9a-ba0e-9522d3f6a7de",
        "colab": {
          "base_uri": "https://localhost:8080/"
        }
      },
      "outputs": [
        {
          "output_type": "execute_result",
          "data": {
            "text/plain": [
              "(3.4072202592396357, 3.9927797407603656)"
            ]
          },
          "metadata": {},
          "execution_count": 283
        }
      ],
      "source": [
        "st.t.interval(0.9, len(sample2) - 1, np.mean(sample2), np.std(sample2)/math.sqrt(len(sample2)))"
      ]
    },
    {
      "cell_type": "markdown",
      "metadata": {
        "id": "A7YkDx3-uNvn"
      },
      "source": [
        "Bài 3: Does an average box of cereal contain 368 grams of cereal?  A random sample of 25 boxes had $\\overline{\\rm x}$ = 372.5.  The company has specified $\\sigma$ to be 25 grams.  Test at the .05 level of significance."
      ]
    },
    {
      "cell_type": "markdown",
      "source": [
        "Xây dựng giả thuyết\n",
        "\n",
        "$$H_{0}: \\mu = 368$$\n",
        "\n",
        "Giả thuyết thay thế: \n",
        "\n",
        "$$H_{a}: \\mu \\ne 368 $$"
      ],
      "metadata": {
        "id": "BZQ1BW10xOZ4"
      }
    },
    {
      "cell_type": "code",
      "source": [
        "sample3 = np.random.normal(372.5, 25, 25)"
      ],
      "metadata": {
        "id": "hesDkyojw11k"
      },
      "execution_count": null,
      "outputs": []
    },
    {
      "cell_type": "code",
      "execution_count": null,
      "metadata": {
        "id": "i7t6vOLKGe8W"
      },
      "outputs": [],
      "source": [
        "#Xác định các thông số\n",
        "alpha = 0.05\n",
        "popmean = 368"
      ]
    },
    {
      "cell_type": "code",
      "execution_count": null,
      "metadata": {
        "id": "2gSgf6pSGe8W",
        "outputId": "574fd4c4-7418-439a-9db8-82cfccf32f08",
        "colab": {
          "base_uri": "https://localhost:8080/"
        }
      },
      "outputs": [
        {
          "output_type": "stream",
          "name": "stdout",
          "text": [
            "Chưa có bằng chứng để bác bỏ giả thuyết H0\n"
          ]
        }
      ],
      "source": [
        "#Kiểm định t\n",
        "t3 = DescrStatsW(sample3)\n",
        "ttest_score, p_value, df = t3.ttest_mean(popmean, 'two-sided')\n",
        "if (p_value <  alpha):\n",
        "  print(\"Có bằng chứng để bác bỏ giả thuyết H0\")\n",
        "else:\n",
        "  print(\"Chưa có bằng chứng để bác bỏ giả thuyết H0\")"
      ]
    },
    {
      "cell_type": "markdown",
      "metadata": {
        "id": "JN6mjm8luNvo"
      },
      "source": [
        "Bài 4: You’re a Q/C inspector.  You want to find out if a new machine is making electrical cords to customer specification: average breaking strength of 70 lb. with $\\sigma$ = 3.5 lb.  You take a sample of 36 cords & compute a sample mean of 69.7 lb.  At the .05 level of significance, is there evidence that the machine is not meeting the average breaking strength?"
      ]
    },
    {
      "cell_type": "markdown",
      "source": [
        "Xây dựng giả thuyết\n",
        "\n",
        "$$H_{0}: \\mu < 70$$\n",
        "\n",
        "Giả thuyết thay thế: \n",
        "\n",
        "$$H_{a}: \\mu \\geq 70 $$"
      ],
      "metadata": {
        "id": "TPc3gWK_MhDa"
      }
    },
    {
      "cell_type": "code",
      "source": [
        "sample4 = np.random.normal(69.7, 3.5, 36)"
      ],
      "metadata": {
        "id": "_gdhbUXyMoNy"
      },
      "execution_count": null,
      "outputs": []
    },
    {
      "cell_type": "code",
      "execution_count": null,
      "metadata": {
        "id": "TT_mt6I2MoNz"
      },
      "outputs": [],
      "source": [
        "#Xác định các thông số\n",
        "alpha = 0.05\n",
        "popmean = 70"
      ]
    },
    {
      "cell_type": "code",
      "execution_count": null,
      "metadata": {
        "outputId": "a758310f-43ae-4bcb-abab-cd587cbab158",
        "colab": {
          "base_uri": "https://localhost:8080/"
        },
        "id": "sBlS6sm8MoN0"
      },
      "outputs": [
        {
          "output_type": "stream",
          "name": "stdout",
          "text": [
            "Chưa có bằng chứng để bác bỏ giả thuyết H0\n"
          ]
        }
      ],
      "source": [
        "#Kiểm định z\n",
        "ttest_score, p_value = ztest(sample4 ,value = popmean, alternative = 'smaller')\n",
        "if (p_value <  alpha):\n",
        "  print(\"Có bằng chứng để bác bỏ giả thuyết H0\")\n",
        "else:\n",
        "  print(\"Chưa có bằng chứng để bác bỏ giả thuyết H0\")"
      ]
    },
    {
      "cell_type": "markdown",
      "metadata": {
        "id": "4ZDLP0IQuNvp"
      },
      "source": [
        "Bài 5: Does an average box of cereal contain more than 368 grams of cereal?  A random sample of 25 boxes showed $\\overline{\\rm x}$ =  372.5.  The company has specified $\\sigma$ to be 25 grams.  Test at the .05 level of significance."
      ]
    },
    {
      "cell_type": "markdown",
      "source": [
        "Xây dựng giả thuyết\n",
        "\n",
        "$$H_{0}: \\mu > 368$$\n",
        "\n",
        "Giả thuyết thay thế: \n",
        "\n",
        "$$H_{a}: \\mu \\leq 368 $$"
      ],
      "metadata": {
        "id": "4xzY78cRNrLV"
      }
    },
    {
      "cell_type": "code",
      "source": [
        "sample5 = np.random.normal(372.5, 25, 25)"
      ],
      "metadata": {
        "id": "Wn37EDMXOFfh"
      },
      "execution_count": null,
      "outputs": []
    },
    {
      "cell_type": "code",
      "execution_count": null,
      "metadata": {
        "id": "zO2UdIr0OFfy"
      },
      "outputs": [],
      "source": [
        "#Xác định các thông số\n",
        "alpha = 0.05\n",
        "popmean = 368"
      ]
    },
    {
      "cell_type": "code",
      "execution_count": null,
      "metadata": {
        "outputId": "24c7b04a-9ecf-4848-9d25-d805225fba8a",
        "colab": {
          "base_uri": "https://localhost:8080/"
        },
        "id": "X2_suY_COFfz"
      },
      "outputs": [
        {
          "output_type": "stream",
          "name": "stdout",
          "text": [
            "Có bằng chứng để bác bỏ giả thuyết H0\n"
          ]
        }
      ],
      "source": [
        "#Kiểm định t\n",
        "t5 = DescrStatsW(sample5)\n",
        "ttest_score, p_value, df = t5.ttest_mean(popmean, 'larger')\n",
        "if (p_value <  alpha):\n",
        "  print(\"Có bằng chứng để bác bỏ giả thuyết H0\")\n",
        "else:\n",
        "  print(\"Chưa có bằng chứng để bác bỏ giả thuyết H0\")"
      ]
    },
    {
      "cell_type": "markdown",
      "metadata": {
        "id": "q3Twf3eZuNvq"
      },
      "source": [
        "Bài 6: You’re an analyst for Ford.  You want to find out if the average miles per gallon of Escorts is at least 32 mpg. Similar models have a standard deviation of 3.8 mpg. You take a sample of 60 Escorts & compute a sample mean of 30.7 mpg. At the .01 level of significance, is there evidence that the miles per gallon is less than 32?"
      ]
    },
    {
      "cell_type": "markdown",
      "source": [
        "Xây dựng giả thuyết\n",
        "\n",
        "$$H_{0}: \\mu < 32$$\n",
        "\n",
        "Giả thuyết thay thế: \n",
        "\n",
        "$$H_{a}: \\mu \\geq 32 $$"
      ],
      "metadata": {
        "id": "_t0__u6SPFVg"
      }
    },
    {
      "cell_type": "code",
      "source": [
        "sample6 = np.random.normal(30.7, 3.8, 60)"
      ],
      "metadata": {
        "id": "o_GKOrz2QHZ2"
      },
      "execution_count": null,
      "outputs": []
    },
    {
      "cell_type": "code",
      "execution_count": null,
      "metadata": {
        "id": "zmeCbgMKQHaG"
      },
      "outputs": [],
      "source": [
        "#Xác định các thông số\n",
        "alpha = 0.01\n",
        "popmean = 32"
      ]
    },
    {
      "cell_type": "code",
      "execution_count": null,
      "metadata": {
        "outputId": "859f1bff-65e9-460d-cd58-de8072be9165",
        "colab": {
          "base_uri": "https://localhost:8080/"
        },
        "id": "g1kt_YHHQHaH"
      },
      "outputs": [
        {
          "output_type": "stream",
          "name": "stdout",
          "text": [
            "Chưa có bằng chứng để bác bỏ giả thuyết H0\n"
          ]
        }
      ],
      "source": [
        "#Kiểm định z\n",
        "ttest_score, p_value = ztest(sample6 ,value = popmean, alternative = 'smaller')\n",
        "if (p_value <  alpha):\n",
        "  print(\"Có bằng chứng để bác bỏ giả thuyết H0\")\n",
        "else:\n",
        "  print(\"Chưa có bằng chứng để bác bỏ giả thuyết H0\")"
      ]
    },
    {
      "cell_type": "markdown",
      "metadata": {
        "id": "RI3sd4P9uNvq"
      },
      "source": [
        "Bài 7: Does an average box of cereal contain 368 grams of cereal?  A random sample of 25 boxes showed $\\overline{\\rm x}$ = 372.5.  The company has specified $\\sigma$ to be 15 grams.  Find the p-Value."
      ]
    },
    {
      "cell_type": "code",
      "source": [
        "sample78 = np.random.normal(372.5, 15, 25)"
      ],
      "metadata": {
        "id": "4cL8nJJhSUIz"
      },
      "execution_count": null,
      "outputs": []
    },
    {
      "cell_type": "code",
      "execution_count": null,
      "metadata": {
        "id": "1OJPKw8zSUI1"
      },
      "outputs": [],
      "source": [
        "#Xác định các thông số\n",
        "popmean = 368"
      ]
    },
    {
      "cell_type": "code",
      "execution_count": null,
      "metadata": {
        "outputId": "86d8c5aa-cece-48e3-e7e5-d657307c4c0d",
        "colab": {
          "base_uri": "https://localhost:8080/"
        },
        "id": "72mUGxJ_SUI1"
      },
      "outputs": [
        {
          "output_type": "stream",
          "name": "stdout",
          "text": [
            "0.026114448041396586\n"
          ]
        }
      ],
      "source": [
        "#Kiểm định t\n",
        "t7 = DescrStatsW(sample78)\n",
        "ttest_score, p_value, df = t7.ttest_mean(popmean, 'two-sided')\n",
        "print(p_value)"
      ]
    },
    {
      "cell_type": "markdown",
      "metadata": {
        "id": "TlhVM8P-uNvq"
      },
      "source": [
        "Bài 8: Does an average box of cereal contain more than 368 grams of cereal?  A random sample of 25 boxes showed $\\overline{\\rm x}$ = 372.5.  The company has specified $\\sigma$ to be 15 grams.  Find the p-Value."
      ]
    },
    {
      "cell_type": "code",
      "execution_count": null,
      "metadata": {
        "id": "u-6HKWQ9S4l_"
      },
      "outputs": [],
      "source": [
        "#Xác định các thông số\n",
        "popmean = 368"
      ]
    },
    {
      "cell_type": "code",
      "execution_count": null,
      "metadata": {
        "outputId": "ca528936-c57a-4eb9-ba37-31351c3dde22",
        "colab": {
          "base_uri": "https://localhost:8080/"
        },
        "id": "nudJNrmdS4mA"
      },
      "outputs": [
        {
          "output_type": "stream",
          "name": "stdout",
          "text": [
            "0.013057224020698293\n"
          ]
        }
      ],
      "source": [
        "#Kiểm định t\n",
        "t8 = DescrStatsW(sample78)\n",
        "ttest_score, p_value, df = t8.ttest_mean(popmean, 'larger')\n",
        "print(p_value)"
      ]
    },
    {
      "cell_type": "markdown",
      "metadata": {
        "id": "qWaouQyFuNvr"
      },
      "source": [
        "Bài 9: You’re an analyst for Ford.  You want to find out if the average miles per gallon of Escorts is less than 32 mpg.   Similar models have a standard deviation of 3.8 mpg.  You take a sample of 60 Escorts & compute a sample mean of 30.7 mpg.  What is the value of the observed level of significance (p-Value)?"
      ]
    },
    {
      "cell_type": "code",
      "source": [
        "sample9 = np.random.normal(30.7, 3.8, 60)"
      ],
      "metadata": {
        "id": "lYGq1A3tTpz1"
      },
      "execution_count": null,
      "outputs": []
    },
    {
      "cell_type": "code",
      "execution_count": null,
      "metadata": {
        "id": "4l3oD6QOTp0H"
      },
      "outputs": [],
      "source": [
        "#Xác định các thông số\n",
        "popmean = 32"
      ]
    },
    {
      "cell_type": "code",
      "execution_count": null,
      "metadata": {
        "outputId": "88a33dbc-7f2e-40d9-8c08-00832354b362",
        "colab": {
          "base_uri": "https://localhost:8080/"
        },
        "id": "WWmdejA1Tp0I"
      },
      "outputs": [
        {
          "output_type": "stream",
          "name": "stdout",
          "text": [
            "3.7135000856210125e-05\n"
          ]
        }
      ],
      "source": [
        "#Kiểm định z\n",
        "ttest_score, p_value = ztest(sample9 ,value = popmean, alternative = 'smaller')\n",
        "print(p_value)"
      ]
    },
    {
      "cell_type": "markdown",
      "metadata": {
        "id": "9ZylqpM6uNvr"
      },
      "source": [
        "Bài 10: Does an average box of cereal contain 368 grams of cereal?  A random sample of 36 boxes had a mean of 372.5 and a standard deviation of 12 grams. Test at the .05 level of significance."
      ]
    },
    {
      "cell_type": "markdown",
      "source": [
        "Xây dựng giả thuyết\n",
        "\n",
        "$$H_{0}: \\mu = 368$$\n",
        "\n",
        "Giả thuyết thay thế: \n",
        "\n",
        "$$H_{a}: \\mu \\ne 368 $$"
      ],
      "metadata": {
        "id": "80R4_K77UWCy"
      }
    },
    {
      "cell_type": "code",
      "source": [
        "sample10 = np.random.normal(372.5, 12, 36)"
      ],
      "metadata": {
        "id": "zu6B6QBxUESJ"
      },
      "execution_count": null,
      "outputs": []
    },
    {
      "cell_type": "code",
      "execution_count": null,
      "metadata": {
        "id": "Z4Gw_nKvUESY"
      },
      "outputs": [],
      "source": [
        "#Xác định các thông số\n",
        "alpha = 0.05\n",
        "popmean = 368"
      ]
    },
    {
      "cell_type": "code",
      "execution_count": null,
      "metadata": {
        "outputId": "b8d75d21-b9d6-4d23-e2b6-d5a62cab5dee",
        "colab": {
          "base_uri": "https://localhost:8080/"
        },
        "id": "3-NXL0aAUESY"
      },
      "outputs": [
        {
          "output_type": "stream",
          "name": "stdout",
          "text": [
            "Có bằng chứng để bác bỏ giả thuyết H0\n"
          ]
        }
      ],
      "source": [
        "#Kiểm định z\n",
        "ttest_score, p_value = ztest(sample10 ,value = popmean, alternative = 'two-sided')\n",
        "if (p_value <  alpha):\n",
        "  print(\"Có bằng chứng để bác bỏ giả thuyết H0\")\n",
        "else:\n",
        "  print(\"Chưa có bằng chứng để bác bỏ giả thuyết H0\")"
      ]
    },
    {
      "cell_type": "markdown",
      "metadata": {
        "id": "L8aCY7CduNvs"
      },
      "source": [
        "Bài 11: You work for the FTC.  A manufacturer of detergent claims that the mean weight of detergent is 3.25 lb.  You take a random sample of 64 containers.  You calculate the sample average to be 3.238 lb. with a standard deviation of .117 lb.  At the .01 level of significance, is the manufacturer correct?"
      ]
    },
    {
      "cell_type": "markdown",
      "source": [
        "Xây dựng giả thuyết\n",
        "\n",
        "$$H_{0}: \\mu = 3.25$$\n",
        "\n",
        "Giả thuyết thay thế: \n",
        "\n",
        "$$H_{a}: \\mu \\ne 3.25 $$"
      ],
      "metadata": {
        "id": "oOaWApvKWVgN"
      }
    },
    {
      "cell_type": "code",
      "source": [
        "sample11 = np.random.normal(3.238, 0.117, 64)"
      ],
      "metadata": {
        "id": "yFXz-GR7X2WS"
      },
      "execution_count": null,
      "outputs": []
    },
    {
      "cell_type": "code",
      "execution_count": null,
      "metadata": {
        "id": "KwG7aypaX2WT"
      },
      "outputs": [],
      "source": [
        "#Xác định các thông số\n",
        "alpha = 0.01\n",
        "popmean = 3.25"
      ]
    },
    {
      "cell_type": "code",
      "execution_count": null,
      "metadata": {
        "outputId": "ca4fa632-b0cf-46cc-9d61-bf6718932747",
        "colab": {
          "base_uri": "https://localhost:8080/"
        },
        "id": "oGPgmnAoX2WU"
      },
      "outputs": [
        {
          "output_type": "stream",
          "name": "stdout",
          "text": [
            "Chưa có bằng chứng để bác bỏ giả thuyết H0\n"
          ]
        }
      ],
      "source": [
        "#Kiểm định z\n",
        "ttest_score, p_value = ztest(sample11 ,value = popmean, alternative = 'two-sided')\n",
        "if (p_value <  alpha):\n",
        "  print(\"Có bằng chứng để bác bỏ giả thuyết H0\")\n",
        "else:\n",
        "  print(\"Chưa có bằng chứng để bác bỏ giả thuyết H0\")"
      ]
    },
    {
      "cell_type": "markdown",
      "metadata": {
        "id": "MdKwzjT0uNvs"
      },
      "source": [
        "Bài 12: Is the average capacity of batteries less than 140 ampere-hours?  A random sample of 20 batteries had a mean of 138.47 and a standard deviation of 2.66.  Assume a normal distribution. Test at the .05 level of significance."
      ]
    },
    {
      "cell_type": "markdown",
      "source": [
        "Xây dựng giả thuyết\n",
        "\n",
        "$$H_{0}: \\mu < 140$$\n",
        "\n",
        "Giả thuyết thay thế: \n",
        "\n",
        "$$H_{a}: \\mu \\geq 140 $$"
      ],
      "metadata": {
        "id": "3GCEbBxOWXUG"
      }
    },
    {
      "cell_type": "code",
      "source": [
        "sample12 = np.random.normal(138.47, 2.66, 20)"
      ],
      "metadata": {
        "id": "iqbgMcQOW6ee"
      },
      "execution_count": null,
      "outputs": []
    },
    {
      "cell_type": "code",
      "execution_count": null,
      "metadata": {
        "id": "OAoMX2TcW6eg"
      },
      "outputs": [],
      "source": [
        "#Xác định các thông số\n",
        "alpha = 0.05\n",
        "popmean = 140"
      ]
    },
    {
      "cell_type": "code",
      "execution_count": null,
      "metadata": {
        "outputId": "587949a7-27e6-4581-afc2-063de1b5d6a7",
        "colab": {
          "base_uri": "https://localhost:8080/"
        },
        "id": "Y6cG7z5CW6eg"
      },
      "outputs": [
        {
          "output_type": "stream",
          "name": "stdout",
          "text": [
            "Có bằng chứng để bác bỏ giả thuyết H0\n"
          ]
        }
      ],
      "source": [
        "#Kiểm định t\n",
        "t12 = DescrStatsW(sample12)\n",
        "ttest_score, p_value, df = t12.ttest_mean(popmean, 'smaller')\n",
        "if (p_value <  alpha):\n",
        "  print(\"Có bằng chứng để bác bỏ giả thuyết H0\")\n",
        "else:\n",
        "  print(\"Chưa có bằng chứng để bác bỏ giả thuyết H0\")"
      ]
    },
    {
      "cell_type": "markdown",
      "metadata": {
        "id": "drCnN5AWuNvs"
      },
      "source": [
        "Bài 13: You’re a marketing analyst for Wal-Mart.  Wal-Mart had teddy bears on sale last week.  The weekly sales of bears sold in 10 stores was: 8  11  0   4   7   8   10   5   8   3. At the .05 level of significance, is there evidence that the average bear sales per store is more than 5?"
      ]
    },
    {
      "cell_type": "markdown",
      "source": [
        "Xây dựng giả thuyết\n",
        "\n",
        "$$H_{0}: \\mu > 5$$\n",
        "\n",
        "Giả thuyết thay thế: \n",
        "\n",
        "$$H_{a}: \\mu \\leq 5 $$"
      ],
      "metadata": {
        "id": "HD-ggwpfXaWn"
      }
    },
    {
      "cell_type": "code",
      "execution_count": null,
      "metadata": {
        "id": "hm3JhYQWuNvs"
      },
      "outputs": [],
      "source": [
        "sample13 = [8, 11, 0, 4, 7, 8, 10, 5, 8, 3]"
      ]
    },
    {
      "cell_type": "code",
      "execution_count": null,
      "metadata": {
        "id": "xDREr29dYewQ"
      },
      "outputs": [],
      "source": [
        "#Xác định các thông số\n",
        "alpha = 0.05\n",
        "popmean = 5"
      ]
    },
    {
      "cell_type": "code",
      "execution_count": null,
      "metadata": {
        "outputId": "5c14b2bd-1eb7-40e5-f630-6b3a2a01174f",
        "colab": {
          "base_uri": "https://localhost:8080/"
        },
        "id": "11swpUn4Y7gw"
      },
      "outputs": [
        {
          "output_type": "stream",
          "name": "stdout",
          "text": [
            "Chưa có bằng chứng để bác bỏ giả thuyết H0\n"
          ]
        }
      ],
      "source": [
        "#Kiểm định t\n",
        "t13 = DescrStatsW(sample13)\n",
        "ttest_score, p_value, df = t13.ttest_mean(popmean, 'larger')\n",
        "if (p_value <  alpha):\n",
        "  print(\"Có bằng chứng để bác bỏ giả thuyết H0\")\n",
        "else:\n",
        "  print(\"Chưa có bằng chứng để bác bỏ giả thuyết H0\")"
      ]
    }
  ],
  "metadata": {
    "kernelspec": {
      "display_name": "Python 3",
      "language": "python",
      "name": "python3"
    },
    "language_info": {
      "codemirror_mode": {
        "name": "ipython",
        "version": 3
      },
      "file_extension": ".py",
      "mimetype": "text/x-python",
      "name": "python",
      "nbconvert_exporter": "python",
      "pygments_lexer": "ipython3",
      "version": "3.7.3"
    },
    "colab": {
      "name": "BaiTapKiemDinhZT.ipynb",
      "provenance": [],
      "collapsed_sections": [],
      "include_colab_link": true
    }
  },
  "nbformat": 4,
  "nbformat_minor": 0
}