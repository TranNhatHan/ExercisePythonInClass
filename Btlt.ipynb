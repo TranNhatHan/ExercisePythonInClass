{
  "nbformat": 4,
  "nbformat_minor": 0,
  "metadata": {
    "colab": {
      "name": "Btlt.ipynb",
      "provenance": [],
      "collapsed_sections": [],
      "include_colab_link": true
    },
    "kernelspec": {
      "name": "python3",
      "display_name": "Python 3"
    }
  },
  "cells": [
    {
      "cell_type": "markdown",
      "metadata": {
        "id": "view-in-github",
        "colab_type": "text"
      },
      "source": [
        "<a href=\"https://colab.research.google.com/github/TranNhatHan/LamBt/blob/main/Btlt.ipynb\" target=\"_parent\"><img src=\"https://colab.research.google.com/assets/colab-badge.svg\" alt=\"Open In Colab\"/></a>"
      ]
    },
    {
      "cell_type": "markdown",
      "metadata": {
        "id": "sMJ5KoiBMARd"
      },
      "source": [
        "**BÀI TẬP LẬP TRÌNH CHƯƠNG 2**\n",
        "\n",
        "Bài 1: Lập trình nhập vào từ bàn phím 2 số nguyên và tính:\n",
        "\n",
        "\n",
        "1.   Tổng của 2 số\n",
        "2.   Tích của 2 số\n",
        "3.   Hiệu của 2 số\n",
        "4.   Phép chia lấy phần dư của 2 số\n",
        "5.   Phép chia lấy phần nguyên của 2 số\n",
        "\n",
        "Kết quả xuất ra màn hình\n",
        "\n"
      ]
    },
    {
      "cell_type": "code",
      "metadata": {
        "id": "Os5z0wPpL1Nk",
        "colab": {
          "base_uri": "https://localhost:8080/"
        },
        "outputId": "ce553e9e-f6b3-4e44-b10c-5aba08cc0c3d"
      },
      "source": [
        "#Your code here\n",
        "\n",
        "a = input(\"a=\")\n",
        "b= input(\"b=\")\n",
        "a = int(a)\n",
        "b= int(b)\n",
        "c=a+b\n",
        "print(\"a+b=\",c)\n",
        "print(\"a*b=\",a*b)\n",
        "print(\"a-b=\",a-b)\n",
        "print(\"Phép chia lấy phần dư của hai số a và b là:\",a%b)\n",
        "print(\"Phép chia lấy phần nguyên của hai số a và b là:\",a//b)\n",
        "\n"
      ],
      "execution_count": null,
      "outputs": [
        {
          "output_type": "stream",
          "name": "stdout",
          "text": [
            "a=5\n",
            "b=3\n",
            "a+b= 8\n",
            "a*b= 15\n",
            "a-b= 2\n",
            "Phép chia lấy phần dư của hai số a và b là: 2\n",
            "Phép chia lấy phần nguyên của hai số a và b là: 1\n"
          ]
        }
      ]
    },
    {
      "cell_type": "markdown",
      "metadata": {
        "id": "j2suJwVPM5Zk"
      },
      "source": [
        "Bài 2: Lập trình nhập vào từ bàn phím 2 số thực và tính:\n",
        "\n",
        "1.   Tổng của 2 số\n",
        "2.   Tích của 2 số\n",
        "3.   Hiệu của 2 số\n",
        "4.   Thương của 2 số\n",
        "\n",
        "Kết quả xuất ra màn hình"
      ]
    },
    {
      "cell_type": "code",
      "metadata": {
        "id": "fmlD-ggRMh9q",
        "colab": {
          "base_uri": "https://localhost:8080/"
        },
        "outputId": "c72190d1-3828-4458-b729-0b103aeb2199"
      },
      "source": [
        "#Your code here\n",
        "a=float(input(\"So thuc a:\"))\n",
        "b=float(input(\"So thuc b:\"))\n",
        "print(\"a+b=\",a+b)\n",
        "print(\"a*b=\",a*b)\n",
        "print(\"a-b=\",a-b)\n",
        "print(\"a/b=\",a/b)"
      ],
      "execution_count": null,
      "outputs": [
        {
          "output_type": "stream",
          "name": "stdout",
          "text": [
            "So thuc a:1.5\n",
            "So thuc b:0.5\n",
            "a+b= 2.0\n",
            "a*b= 0.75\n",
            "a-b= 1.0\n",
            "a/b= 3.0\n"
          ]
        }
      ]
    },
    {
      "cell_type": "markdown",
      "metadata": {
        "id": "sOCly6AvNUAN"
      },
      "source": [
        "Bài 3: (Sử dụng các hàm toán học) Nhập một số từ bàn phím và tính:\n",
        "\n",
        "\n",
        "\n",
        "1.   Trị tuyệt đối\n",
        "2.   Lấy phần nguyên của số\n",
        "3.   Chuyển đổi thành số thực\n",
        "4.   (nhập thêm 1 số từ bàn phím) và tính lũy thừa $ x^y $\n",
        "5.   Tính căn bậc hai\n",
        "\n",
        "Kết quả xuất ra màn hình\n",
        "\n"
      ]
    },
    {
      "cell_type": "code",
      "metadata": {
        "id": "XNKN4yAoOUAa",
        "colab": {
          "base_uri": "https://localhost:8080/"
        },
        "outputId": "91bff37d-1ac8-42bb-a28c-93697b5b11b8"
      },
      "source": [
        "#Your code here\n",
        "a = float(input(\"So thuc a:\"))\n",
        "print(\"Trị tuyệt đối của a là:\",abs(a))\n",
        "a=abs(a)\n",
        "print(\"Phần nguyên trị tuyệt đối của a là:\", math.floor(a))\n",
        "a=math.floor(a)\n",
        "float(a)\n",
        "print(\"Chuyển lại thành số thực x=\",a)\n",
        "b = float(input(\"So thực y:\"))\n",
        "print(\"Lũy thừa số thực x mũ y là:\",a**b)\n",
        "print(\"Căn bậc hai của a là:\", math.sqrt(a))\n",
        "\n",
        "\n",
        "\n",
        "\n",
        "\n"
      ],
      "execution_count": null,
      "outputs": [
        {
          "output_type": "stream",
          "name": "stdout",
          "text": [
            "So thuc a:-5.4\n",
            "Trị tuyệt đối của a là: 5.4\n",
            "Phần nguyên trị tuyệt đối của a là: 5\n",
            "Chuyển lại thành số thực x= 5\n",
            "So thực y:3\n",
            "Lũy thừa số thực x mũ y là: 125.0\n",
            "Căn bậc hai của a là: 2.23606797749979\n"
          ]
        }
      ]
    },
    {
      "cell_type": "markdown",
      "metadata": {
        "id": "79zQGrU5Od-d"
      },
      "source": [
        "Bài 4: Nhập 2 số từ bàn phím và thực hiện các phép so sánh sau giữa 2 số:\n",
        "\n",
        "\n",
        "\n",
        "1.   $ \\geq $\n",
        "2.   $ \\leq $\n",
        "3.   $ > $\n",
        "4.   $ < $\n",
        "5.   $ \\neq $\n",
        "\n",
        "Kết quả xuất ra màn hình\n"
      ]
    },
    {
      "cell_type": "code",
      "metadata": {
        "id": "qePknJEaP1tL",
        "colab": {
          "base_uri": "https://localhost:8080/"
        },
        "outputId": "45a50610-50cf-4fab-bff9-345df56d1170"
      },
      "source": [
        "#Your code here\n",
        "a=input(\"So a:\")\n",
        "b=input(\"So b:\")\n",
        "print(a>=b)\n",
        "print(a<=b)\n",
        "print(a>b)\n",
        "print(a<b)\n",
        "print(a!=b)\n",
        "\n",
        "\n",
        "\n",
        "\n"
      ],
      "execution_count": 60,
      "outputs": [
        {
          "output_type": "stream",
          "name": "stdout",
          "text": [
            "So a:3\n",
            "So b:4\n",
            "False\n",
            "True\n",
            "False\n",
            "True\n",
            "True\n"
          ]
        }
      ]
    },
    {
      "cell_type": "markdown",
      "metadata": {
        "id": "90lU8sTXP4hu"
      },
      "source": [
        "Bài 5: Nhập 1 chuỗi ký tự từ bàn phím:\n",
        "\n",
        "\n",
        "\n",
        "1.   Chuyển thành chuỗi in hoa\n",
        "2.   Chuyển thành chuỗi in thường\n",
        "\n",
        "Kết quả xuất ra màn hình\n",
        "\n",
        "\n",
        "\n"
      ]
    },
    {
      "cell_type": "code",
      "metadata": {
        "id": "PWIIssukQXja",
        "colab": {
          "base_uri": "https://localhost:8080/"
        },
        "outputId": "7e6113c0-9883-4156-94b5-52673c830ebb"
      },
      "source": [
        "#Your code here\n",
        "a=input()\n",
        "print(a.lower())\n",
        "print(a.upper())\n",
        "\n",
        "\n",
        "\n"
      ],
      "execution_count": null,
      "outputs": [
        {
          "output_type": "stream",
          "name": "stdout",
          "text": [
            "Hello\n",
            "hello\n",
            "HELLO\n"
          ]
        }
      ]
    },
    {
      "cell_type": "markdown",
      "metadata": {
        "id": "gv9n9-gMQZ7O"
      },
      "source": [
        "Bài 6: Xuất ra màn hình 1 chuỗi ký từ nằm trên nhiều hàng (có thể là 1 bài thơ tùy ý bạn lựa chọn)"
      ]
    },
    {
      "cell_type": "code",
      "metadata": {
        "id": "ZcjBCkQOQoS0",
        "colab": {
          "base_uri": "https://localhost:8080/"
        },
        "outputId": "e75c6bb9-355d-408f-cc85-d5007cf54e33"
      },
      "source": [
        "#Your code here\n",
        "a='''Cá chẳng ăn muối cá ươn\n",
        "Con cưỡng cha mẹ trăm đường con hư.'''\n",
        "print(a)\n",
        "\n"
      ],
      "execution_count": 48,
      "outputs": [
        {
          "output_type": "stream",
          "name": "stdout",
          "text": [
            "Cá chẳng ăn muối cá ươn\n",
            "Con cưỡng cha mẹ trăm đường con hư.\n"
          ]
        }
      ]
    }
  ]
}