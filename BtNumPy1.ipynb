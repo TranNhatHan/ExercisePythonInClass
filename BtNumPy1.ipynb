{
  "nbformat": 4,
  "nbformat_minor": 0,
  "metadata": {
    "colab": {
      "name": "BtNumPy1.ipynb",
      "provenance": [],
      "collapsed_sections": [],
      "authorship_tag": "ABX9TyNFGRjWgz/HjNU4DuZEl/As",
      "include_colab_link": true
    },
    "kernelspec": {
      "name": "python3",
      "display_name": "Python 3"
    },
    "language_info": {
      "name": "python"
    }
  },
  "cells": [
    {
      "cell_type": "markdown",
      "metadata": {
        "id": "view-in-github",
        "colab_type": "text"
      },
      "source": [
        "<a href=\"https://colab.research.google.com/github/TranNhatHan/LamBt/blob/main/BtNumPy1.ipynb\" target=\"_parent\"><img src=\"https://colab.research.google.com/assets/colab-badge.svg\" alt=\"Open In Colab\"/></a>"
      ]
    },
    {
      "cell_type": "markdown",
      "source": [
        "Bài 1: Xét không gian R3, một điểm A trong không gian này có tọa độ là (5, 7, 14). Hãy khởi tạo giá trị của điểm A nêu trên bằng Numpy."
      ],
      "metadata": {
        "id": "H_DZXWOi5tnS"
      }
    },
    {
      "cell_type": "code",
      "execution_count": null,
      "metadata": {
        "id": "sOWPp3nfyj0o"
      },
      "outputs": [],
      "source": [
        "import numpy as np\n",
        "a = np.array([5, 7, 4])\n",
        "print(a)"
      ]
    },
    {
      "cell_type": "markdown",
      "source": [
        "Bài 2: Mở rộng không gian lên R15, điểm A trong không gian này có tọa độ là (1, 2, 3, 4, 5, 6, 7, 8, 9, 10, 11, 12, 13, 14, 15). Hãy khởi tạo điểm A trong không gian 15 chiều này bằng Numpy."
      ],
      "metadata": {
        "id": "KdVDJcUl510u"
      }
    },
    {
      "cell_type": "code",
      "source": [
        "import numpy as np\n",
        "b = np.array([1, 2, 3, 4, 5, 6, 7, 8, 9, 10, 11, 12, 13, 14, 15])\n",
        "print(b)"
      ],
      "metadata": {
        "colab": {
          "base_uri": "https://localhost:8080/"
        },
        "id": "i6jKiu18zIKz",
        "outputId": "146216fd-aeb2-4cff-d3aa-fd3dd943d8c7"
      },
      "execution_count": null,
      "outputs": [
        {
          "output_type": "stream",
          "name": "stdout",
          "text": [
            "[ 1  2  3  4  5  6  7  8  9 10 11 12 13 14 15]\n"
          ]
        }
      ]
    },
    {
      "cell_type": "markdown",
      "source": [
        "Bài 3: Trong không gian Rn, xét vector OA , với O là điểm gốc tọa độ và A là điểm có tọa độ tổng quát là (a1, a2, ..., an). Vector OA lúc này được viết dưới dạng vector cột (column vector) là:"
      ],
      "metadata": {
        "id": "HX4m_Owv55ss"
      }
    },
    {
      "cell_type": "code",
      "source": [
        "import numpy as np\n",
        "n = int(input(\"Nhap n:\"))\n",
        "c = np.random.randn(n)\n",
        "print(c)"
      ],
      "metadata": {
        "colab": {
          "base_uri": "https://localhost:8080/"
        },
        "id": "o1RShNCyzXcy",
        "outputId": "a95c7bbf-0431-48e0-fc42-93bd72ee6092"
      },
      "execution_count": null,
      "outputs": [
        {
          "output_type": "stream",
          "name": "stdout",
          "text": [
            "Nhap n:3\n",
            "[0.35568806 0.03797436 0.12756991]\n"
          ]
        }
      ]
    },
    {
      "cell_type": "markdown",
      "source": [
        "Bài 4: Trong không gian R3, xét vector OA. Hãy viết chương trình tính chiều dài của vector OAOA , biết công thức tổng quát để tính chiều dài\n",
        "vector OA trong không gian Rn là:"
      ],
      "metadata": {
        "id": "BcHrFMwN6Eg-"
      }
    },
    {
      "cell_type": "code",
      "source": [
        "import numpy as np\n",
        "oa = np.array([7, -5, 8])\n",
        "dist = np.linalg.norm(oa)\n",
        "print(dist)"
      ],
      "metadata": {
        "colab": {
          "base_uri": "https://localhost:8080/"
        },
        "id": "R1Yes9RH1bPV",
        "outputId": "cbba90f2-8559-415e-de00-fb7bfd965aee"
      },
      "execution_count": null,
      "outputs": [
        {
          "output_type": "stream",
          "name": "stdout",
          "text": [
            "11.74734012447073\n"
          ]
        }
      ]
    },
    {
      "cell_type": "markdown",
      "source": [
        "Bài 5: Trong không gian Rn\n",
        ", hãy sinh ngẫu nhiên 2 điểm A và B. Xác định vector ABAB và tính\n",
        "chiều dài của vector này ‖AB‖. Lưu ý: sử dụng Numpy."
      ],
      "metadata": {
        "id": "R7Psg5nB6M1v"
      }
    },
    {
      "cell_type": "code",
      "source": [
        "import numpy as np\n",
        "n = int(input(\"Nhap n:\"))\n",
        "a = np.random.randn(n)\n",
        "b = np.random.randn(n)\n",
        "dist = np.linalg.norm(a-b)\n",
        "print(dist)"
      ],
      "metadata": {
        "colab": {
          "base_uri": "https://localhost:8080/"
        },
        "id": "pFmbUUG624P3",
        "outputId": "76397842-bd5f-4c41-fe91-ff3069511f1c"
      },
      "execution_count": null,
      "outputs": [
        {
          "output_type": "stream",
          "name": "stdout",
          "text": [
            "Nhap n:4\n",
            "3.763473440194887\n"
          ]
        }
      ]
    },
    {
      "cell_type": "markdown",
      "source": [
        "Bài 6 - Trong không gian Rn, hãy sinh ngẫu nhiên 2 vector a & b và tính tích vô hướng của 2 vector này.\n",
        "Lưu ý: sử dụng numpy để tính tích vô hướng và số nguyên dương n được nhập vào từ bàn phím."
      ],
      "metadata": {
        "id": "pOEeCOXE7ICa"
      }
    },
    {
      "cell_type": "code",
      "source": [
        "import numpy as np\n",
        "n = int(input(\"Nhap n:\"))\n",
        "a = np.random.randn(n)\n",
        "b = np.random.randn(n)\n",
        "c = np.inner(a,b)\n",
        "print(c)"
      ],
      "metadata": {
        "colab": {
          "base_uri": "https://localhost:8080/"
        },
        "id": "N0VRqLhI5ULf",
        "outputId": "1ac301cf-8a63-496a-e2dc-b4470a8ac151"
      },
      "execution_count": null,
      "outputs": [
        {
          "output_type": "stream",
          "name": "stdout",
          "text": [
            "Nhap n:3\n",
            "2.038046671367756\n"
          ]
        }
      ]
    },
    {
      "cell_type": "markdown",
      "source": [
        "Bài 7 - Trong không gian Rn, hãy sinh ngẫu nhiên 2 vector a & b và tính tích hữu hướng của 2 vector này.\n",
        "Lưu ý: sử dụng numpy để tính tích vô hướng và số nguyên dương n được nhập vào từ bàn phím."
      ],
      "metadata": {
        "id": "Y19_TDIw7AMr"
      }
    },
    {
      "cell_type": "code",
      "source": [
        "import numpy as np\n",
        "n = int(input(\"Nhap n:\"))\n",
        "a = np.random.randn(n)\n",
        "b = np.random.randn(n)\n",
        "c = np.cross(a,b)\n",
        "print(c)"
      ],
      "metadata": {
        "colab": {
          "base_uri": "https://localhost:8080/"
        },
        "id": "emR7QyNu6Iks",
        "outputId": "d7b7c5c8-698d-4143-8d35-a83867eb8115"
      },
      "execution_count": null,
      "outputs": [
        {
          "output_type": "stream",
          "name": "stdout",
          "text": [
            "Nhap n:3\n",
            "[0.90874477 0.00236078 0.14103858]\n"
          ]
        }
      ]
    },
    {
      "cell_type": "markdown",
      "source": [
        "Bài 8 - Phép chuyển vị (transpose): trong numpy, một vector a khi thực hiện chuyển vị sẽ được\n",
        "thực hiện thông qua thao tác a.T\n",
        "Hãy viết chương trình sinh ngẫu nhiên một vector a trong không gian Rn, số nguyên dương n được nhập vào từ bàn phím. Xuất ra màn hình giá của vector a và chuyển vị của vector a"
      ],
      "metadata": {
        "id": "MnRaxH5265rU"
      }
    },
    {
      "cell_type": "code",
      "source": [
        "import numpy as np\n",
        "n = int(input(\"Nhap n:\"))\n",
        "a = np.random.randn(n)\n",
        "b = np.transpose(a)\n",
        "print(a)\n",
        "print(b)"
      ],
      "metadata": {
        "colab": {
          "base_uri": "https://localhost:8080/"
        },
        "id": "qU-Ohn7F6Pdk",
        "outputId": "e0ac03d2-ad66-45fa-b1bc-9a75921c44ea"
      },
      "execution_count": null,
      "outputs": [
        {
          "output_type": "stream",
          "name": "stdout",
          "text": [
            "Nhap n:3\n",
            "[ 0.5734961  -0.91941363 -1.38120338]\n",
            "[ 0.5734961  -0.91941363 -1.38120338]\n"
          ]
        }
      ]
    },
    {
      "cell_type": "markdown",
      "source": [
        "Bài 9 - Kết hợp cấu trúc list với Numpy: Xét 2 cấu trúc list dưới đây:\n",
        "a = [1, 2, 3, 4, 5], \n",
        "b = [[1], [2], [3], [4], [5]]\n",
        "Hãy:\n",
        "1. Xuất a và b ra màn hình\n",
        "2. Tạo vector tương ứng từ a và b, xuất kết quả ra màn hình\n",
        "3. Thực hiện phép chuyển vị đối với 2 vector ở trên và xuất kết quả ra màn hình.\n"
      ],
      "metadata": {
        "id": "I7KWgeEr60iZ"
      }
    },
    {
      "cell_type": "code",
      "source": [
        "import numpy as np\n",
        "a = [[1, 2, 3, 4, 5]]\n",
        "b = [[1], [2], [3], [4], [5]]\n",
        "print(a)\n",
        "print(b)\n",
        "va = np.array(a)\n",
        "vb = np.array(b)\n",
        "print(va)\n",
        "print(vb)\n",
        "vat = np.transpose(va)\n",
        "vbt = np.transpose(vb)\n",
        "print(vat)\n",
        "print(vbt)"
      ],
      "metadata": {
        "colab": {
          "base_uri": "https://localhost:8080/"
        },
        "id": "CbM9bkU1657X",
        "outputId": "aacbd051-2b21-415b-8413-23ee6fbd3cd1"
      },
      "execution_count": null,
      "outputs": [
        {
          "output_type": "stream",
          "name": "stdout",
          "text": [
            "[[1, 2, 3, 4, 5]]\n",
            "[[1], [2], [3], [4], [5]]\n",
            "[[1 2 3 4 5]]\n",
            "[[1]\n",
            " [2]\n",
            " [3]\n",
            " [4]\n",
            " [5]]\n",
            "[[1]\n",
            " [2]\n",
            " [3]\n",
            " [4]\n",
            " [5]]\n",
            "[[1 2 3 4 5]]\n"
          ]
        }
      ]
    },
    {
      "cell_type": "markdown",
      "source": [
        "Bài 10: Trong không gian Rn, hãy sinh ngẫu nhiên vector a và b⃗ , n là số nguyên dương nhập vào từ bàn phím. Hãy:\n",
        "\n",
        "1.   Thực hiện phép nhân: ma với m là số bất kỳ, xuất kết quả ra màn hình\n",
        "2.   Thực hiện phép cộng 2 vector: a + b và xuất kết quả ra màn hình.\n",
        "\n",
        "\n",
        "\n",
        "\n"
      ],
      "metadata": {
        "id": "bjlUP9Tn6cQh"
      }
    },
    {
      "cell_type": "code",
      "source": [
        "import numpy as np\n",
        "n = int(input(\"Nhap n:\"))\n",
        "a = np.random.randn(n)\n",
        "b = np.random.randn(n)\n",
        "print(a)\n",
        "print(b)\n",
        "print(a*5)\n",
        "print(a+b)"
      ],
      "metadata": {
        "colab": {
          "base_uri": "https://localhost:8080/"
        },
        "id": "UqM5C4NV718d",
        "outputId": "82894643-2d9a-4086-b688-253da429366b"
      },
      "execution_count": null,
      "outputs": [
        {
          "output_type": "stream",
          "name": "stdout",
          "text": [
            "Nhap n:3\n",
            "[-0.12020753  0.14406939  0.70321602]\n",
            "[-1.3734542  -0.24426211 -0.4515574 ]\n",
            "[-0.60103767  0.72034694  3.5160801 ]\n",
            "[-1.49366173 -0.10019273  0.25165862]\n"
          ]
        }
      ]
    }
  ]
}