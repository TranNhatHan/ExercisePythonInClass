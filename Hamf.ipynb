{
  "nbformat": 4,
  "nbformat_minor": 0,
  "metadata": {
    "colab": {
      "name": "Hamf.ipynb",
      "provenance": [],
      "collapsed_sections": [],
      "authorship_tag": "ABX9TyM1K7341CmgR4ZWiX0vxH9Z",
      "include_colab_link": true
    },
    "kernelspec": {
      "name": "python3",
      "display_name": "Python 3"
    },
    "language_info": {
      "name": "python"
    }
  },
  "cells": [
    {
      "cell_type": "markdown",
      "metadata": {
        "id": "view-in-github",
        "colab_type": "text"
      },
      "source": [
        "<a href=\"https://colab.research.google.com/github/TranNhatHan/LamBt/blob/main/Hamf.ipynb\" target=\"_parent\"><img src=\"https://colab.research.google.com/assets/colab-badge.svg\" alt=\"Open In Colab\"/></a>"
      ]
    },
    {
      "cell_type": "markdown",
      "metadata": {
        "id": "_IbcOu8nNP_n"
      },
      "source": [
        "Chuong trinh chinh\n"
      ]
    },
    {
      "cell_type": "markdown",
      "metadata": {
        "id": "zt51G7utRzag"
      },
      "source": [
        ""
      ]
    },
    {
      "cell_type": "code",
      "metadata": {
        "id": "JJaq5m5wMos9"
      },
      "source": [
        "def bt1():\n",
        "  print(\"Lap trinh Python\")\n",
        "def bt2(Han):\n",
        "  print(Han)\n",
        "def bt3(n,Nah):\n",
        "  if float(n) == int(n):\n",
        "    n=int(n)\n",
        "    for i in range(n):\n",
        "      b(Nah)\n",
        "  else:\n",
        "    print(\"Nhap lai\")\n",
        "    c(input(), input())\n",
        "def pt1(a,b):\n",
        "    if a==0:\n",
        "        if b==0:\n",
        "            print(\"Phuong trinh vo so ngiem\")\n",
        "        else:\n",
        "            print(\"Phuong trinh vo nghiem\")\n",
        "    else:\n",
        "        print(\"Nghiem cua phuonng trinh la x =\",-b/a)\n",
        "def pt2(a,b,c):\n",
        " if a==0:\n",
        "    if b==0:\n",
        "        if c==0:\n",
        "            print(\"Phuong trinh vo so ngiem\")\n",
        "        else:\n",
        "            print(\"Phuong trinh vo nghiem\")\n",
        "    else:\n",
        "        print(\"Nghiem cua phuonng trinh la x =\",-c/b)\n",
        " else:\n",
        "     delta=b*b-4*a*c\n",
        "     if delta==0:\n",
        "         print(\"Phuong trinh co nghiem kep x=\",-b/(2*a))\n",
        "     if delta>0:\n",
        "         import math\n",
        "         print(\"Phuong trinh co hai nghiem x =\",(-b+math.sqrt(delta))/(2*a),\"x =\",(-b-math.sqrt(delta))/(2*a))\n",
        "     if delta<0:\n",
        "         print(\"Phuong trinh vo nghiem\")\n",
        "def bt6(luachon): \n",
        " if luachon == 1:\n",
        "  pt1(float(input(\"Nhap a:\")),float(input(\"Nhap b:\")))\n",
        " if luachon == 2:\n",
        "  pt2(float(input(\"Nhap a:\")),float(input(\"Nhap b:\")),float(input(\"Nhap c:\")))\n",
        "def bt7(wdyd):\n",
        "  while wdyd==\"y\":\n",
        "    bt6(int(input(\"Giai phuong trinh bac 1 hay bac 2:\")))\n",
        "    wdyd = input(\"Ban muon tiep tuc chuong trinh hay khong (y/n)?\")\n",
        "  else:\n",
        "    print(\"Ket thuc\")\n",
        "\n",
        "\n",
        "  \n",
        "  \n",
        "\n",
        "\n",
        "\n",
        "  \n",
        "\n",
        "    \n"
      ],
      "execution_count": null,
      "outputs": []
    },
    {
      "cell_type": "markdown",
      "metadata": {
        "id": "IlcILWGbNTfT"
      },
      "source": [
        "Goi ham"
      ]
    },
    {
      "cell_type": "code",
      "metadata": {
        "colab": {
          "base_uri": "https://localhost:8080/"
        },
        "id": "YWZ2nKIaNOAN",
        "outputId": "cbc37c20-1e3d-4efb-fc28-741c6d38588c"
      },
      "source": [
        "bt1()"
      ],
      "execution_count": null,
      "outputs": [
        {
          "output_type": "stream",
          "name": "stdout",
          "text": [
            "Lap trinh Python\n"
          ]
        }
      ]
    },
    {
      "cell_type": "code",
      "metadata": {
        "colab": {
          "base_uri": "https://localhost:8080/"
        },
        "id": "dcNkYJHONvfO",
        "outputId": "6c6a26c7-de75-479d-8fd2-b0c23124ed57"
      },
      "source": [
        "bt2(input())"
      ],
      "execution_count": null,
      "outputs": [
        {
          "output_type": "stream",
          "name": "stdout",
          "text": [
            "Thay Cuong\n",
            "Thay Cuong\n"
          ]
        }
      ]
    },
    {
      "cell_type": "code",
      "metadata": {
        "colab": {
          "base_uri": "https://localhost:8080/"
        },
        "id": "eUmOrsUZR-h8",
        "outputId": "766c47e2-536a-410e-ba95-d910192b7b64"
      },
      "source": [
        "bt3(input(), input())"
      ],
      "execution_count": null,
      "outputs": [
        {
          "output_type": "stream",
          "name": "stdout",
          "text": [
            "3\n",
            "Ban Trung\n",
            "Ban Trung\n",
            "Ban Trung\n",
            "Ban Trung\n"
          ]
        }
      ]
    },
    {
      "cell_type": "code",
      "metadata": {
        "colab": {
          "base_uri": "https://localhost:8080/"
        },
        "id": "aseBE-8RSCwx",
        "outputId": "296a5319-45cb-4356-d2e2-43a478714cc6"
      },
      "source": [
        "pt1(float(input(\"Nhap a:\")),float(input(\"Nhap b:\")))"
      ],
      "execution_count": null,
      "outputs": [
        {
          "output_type": "stream",
          "name": "stdout",
          "text": [
            "Nhap a:2\n",
            "Nhap b:-6\n",
            "Nghiem cua phuonng trinh la x = 3.0\n"
          ]
        }
      ]
    },
    {
      "cell_type": "code",
      "metadata": {
        "colab": {
          "base_uri": "https://localhost:8080/"
        },
        "id": "89fED-4vSFhF",
        "outputId": "3e61b9e6-3122-4a0c-cf2d-44ebb4ee5ce1"
      },
      "source": [
        "pt2(float(input(\"Nhap a:\")),float(input(\"Nhap b:\")),float(input(\"Nhap c:\")))"
      ],
      "execution_count": null,
      "outputs": [
        {
          "output_type": "stream",
          "name": "stdout",
          "text": [
            "Nhap a:0\n",
            "Nhap b:0\n",
            "Nhap c:4\n",
            "Phuong trinh vo nghiem\n"
          ]
        }
      ]
    },
    {
      "cell_type": "code",
      "metadata": {
        "colab": {
          "base_uri": "https://localhost:8080/"
        },
        "id": "5Ab_WbLbSON3",
        "outputId": "f1d62ac8-73f5-4ae4-f4d8-487b0bb520fa"
      },
      "source": [
        "bt6(int(input(\"Giai phuong trinh bac 1 hay bac 2:\")))\n"
      ],
      "execution_count": null,
      "outputs": [
        {
          "output_type": "stream",
          "name": "stdout",
          "text": [
            "Giai phuong trinh bac 1 hay bac 2:2\n",
            "Nhap a:1\n",
            "Nhap b:4\n",
            "Nhap c:-5\n",
            "Phuong trinh co hai nghiem x = 1.0 x = -5.0\n"
          ]
        }
      ]
    },
    {
      "cell_type": "code",
      "metadata": {
        "colab": {
          "base_uri": "https://localhost:8080/"
        },
        "id": "E_9sNM7bTAqO",
        "outputId": "5f5d3504-b658-40d9-95d8-07835b9167c3"
      },
      "source": [
        "bt7(\"y\")\n",
        "\n"
      ],
      "execution_count": null,
      "outputs": [
        {
          "output_type": "stream",
          "name": "stdout",
          "text": [
            "Giai phuong trinh bac 1 hay bac 2:2\n",
            "Nhap a:1\n",
            "Nhap b:2\n",
            "Nhap c:1\n",
            "Phuong trinh co nghiem kep x= -1.0\n",
            "Ban muon tiep tuc chuong trinh hay khong (y/n)?n\n",
            "Ket thuc\n"
          ]
        }
      ]
    }
  ]
}