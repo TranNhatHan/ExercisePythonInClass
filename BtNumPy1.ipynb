{
  "nbformat": 4,
  "nbformat_minor": 0,
  "metadata": {
    "colab": {
      "name": "BtNumPy1.ipynb",
      "provenance": [],
      "collapsed_sections": [],
      "authorship_tag": "ABX9TyNQaU7BBOnDGb3vSJ4QqjrH",
      "include_colab_link": true
    },
    "kernelspec": {
      "name": "python3",
      "display_name": "Python 3"
    },
    "language_info": {
      "name": "python"
    }
  },
  "cells": [
    {
      "cell_type": "markdown",
      "metadata": {
        "id": "view-in-github",
        "colab_type": "text"
      },
      "source": [
        "<a href=\"https://colab.research.google.com/github/TranNhatHan/LamBt/blob/main/BtNumPy1.ipynb\" target=\"_parent\"><img src=\"https://colab.research.google.com/assets/colab-badge.svg\" alt=\"Open In Colab\"/></a>"
      ]
    },
    {
      "cell_type": "code",
      "execution_count": 2,
      "metadata": {
        "id": "sOWPp3nfyj0o"
      },
      "outputs": [],
      "source": [
        "import numpy as np\n",
        "a = np.array([5, 7, 4])\n",
        "print(a)"
      ]
    },
    {
      "cell_type": "code",
      "source": [
        "import numpy as np\n",
        "b = np.array([1, 2, 3, 4, 5, 6, 7, 8, 9, 10, 11, 12, 13, 14, 15])\n",
        "print(b)"
      ],
      "metadata": {
        "colab": {
          "base_uri": "https://localhost:8080/"
        },
        "id": "i6jKiu18zIKz",
        "outputId": "146216fd-aeb2-4cff-d3aa-fd3dd943d8c7"
      },
      "execution_count": 3,
      "outputs": [
        {
          "output_type": "stream",
          "name": "stdout",
          "text": [
            "[ 1  2  3  4  5  6  7  8  9 10 11 12 13 14 15]\n"
          ]
        }
      ]
    },
    {
      "cell_type": "code",
      "source": [
        "import numpy as np\n",
        "n = int(input(\"Nhap n:\"))\n",
        "c = np.random.randn(n)\n",
        "print(c)"
      ],
      "metadata": {
        "colab": {
          "base_uri": "https://localhost:8080/"
        },
        "id": "o1RShNCyzXcy",
        "outputId": "a95c7bbf-0431-48e0-fc42-93bd72ee6092"
      },
      "execution_count": 37,
      "outputs": [
        {
          "output_type": "stream",
          "name": "stdout",
          "text": [
            "Nhap n:3\n",
            "[0.35568806 0.03797436 0.12756991]\n"
          ]
        }
      ]
    },
    {
      "cell_type": "code",
      "source": [
        "import numpy as np\n",
        "oa = np.array([7, -5, 8])\n",
        "dist = np.linalg.norm(oa)\n",
        "print(dist)"
      ],
      "metadata": {
        "colab": {
          "base_uri": "https://localhost:8080/"
        },
        "id": "R1Yes9RH1bPV",
        "outputId": "cbba90f2-8559-415e-de00-fb7bfd965aee"
      },
      "execution_count": 31,
      "outputs": [
        {
          "output_type": "stream",
          "name": "stdout",
          "text": [
            "11.74734012447073\n"
          ]
        }
      ]
    },
    {
      "cell_type": "code",
      "source": [
        "import numpy as np\n",
        "n = int(input(\"Nhap n:\"))\n",
        "a = np.random.randn(n)\n",
        "b = np.random.randn(n)\n",
        "dist = np.linalg.norm(a-b)\n",
        "print(dist)"
      ],
      "metadata": {
        "colab": {
          "base_uri": "https://localhost:8080/"
        },
        "id": "pFmbUUG624P3",
        "outputId": "76397842-bd5f-4c41-fe91-ff3069511f1c"
      },
      "execution_count": 51,
      "outputs": [
        {
          "output_type": "stream",
          "name": "stdout",
          "text": [
            "Nhap n:4\n",
            "3.763473440194887\n"
          ]
        }
      ]
    },
    {
      "cell_type": "code",
      "source": [
        "import numpy as np\n",
        "n = int(input(\"Nhap n:\"))\n",
        "a = np.random.randn(n)\n",
        "b = np.random.randn(n)\n",
        "c = np.inner(a,b)\n",
        "print(c)"
      ],
      "metadata": {
        "colab": {
          "base_uri": "https://localhost:8080/"
        },
        "id": "N0VRqLhI5ULf",
        "outputId": "1ac301cf-8a63-496a-e2dc-b4470a8ac151"
      },
      "execution_count": 53,
      "outputs": [
        {
          "output_type": "stream",
          "name": "stdout",
          "text": [
            "Nhap n:3\n",
            "2.038046671367756\n"
          ]
        }
      ]
    },
    {
      "cell_type": "code",
      "source": [
        "import numpy as np\n",
        "n = int(input(\"Nhap n:\"))\n",
        "a = np.random.randn(n)\n",
        "b = np.random.randn(n)\n",
        "c = np.cross(a,b)\n",
        "print(c)"
      ],
      "metadata": {
        "colab": {
          "base_uri": "https://localhost:8080/"
        },
        "id": "emR7QyNu6Iks",
        "outputId": "d7b7c5c8-698d-4143-8d35-a83867eb8115"
      },
      "execution_count": 54,
      "outputs": [
        {
          "output_type": "stream",
          "name": "stdout",
          "text": [
            "Nhap n:3\n",
            "[0.90874477 0.00236078 0.14103858]\n"
          ]
        }
      ]
    },
    {
      "cell_type": "code",
      "source": [
        "import numpy as np\n",
        "n = int(input(\"Nhap n:\"))\n",
        "a = np.random.randn(n)\n",
        "b = np.transpose(a)\n",
        "print(a)\n",
        "print(b)"
      ],
      "metadata": {
        "colab": {
          "base_uri": "https://localhost:8080/"
        },
        "id": "qU-Ohn7F6Pdk",
        "outputId": "e0ac03d2-ad66-45fa-b1bc-9a75921c44ea"
      },
      "execution_count": 58,
      "outputs": [
        {
          "output_type": "stream",
          "name": "stdout",
          "text": [
            "Nhap n:3\n",
            "[ 0.5734961  -0.91941363 -1.38120338]\n",
            "[ 0.5734961  -0.91941363 -1.38120338]\n"
          ]
        }
      ]
    },
    {
      "cell_type": "code",
      "source": [
        "import numpy as np\n",
        "a = [1, 2, 3, 4, 5]\n",
        "b = [[1], [2], [3], [4], [5]]\n",
        "print(a)\n",
        "print(b)\n",
        "va = np.array(a)\n",
        "vb = np.array(b)\n",
        "print(va)\n",
        "print(vb)\n",
        "vat = np.transpose(va)\n",
        "vbt = np.transpose(vb)\n",
        "print(vat)\n",
        "print(vbt)"
      ],
      "metadata": {
        "colab": {
          "base_uri": "https://localhost:8080/"
        },
        "id": "CbM9bkU1657X",
        "outputId": "98cbf2e2-b3e0-4434-b78a-ff814812fcdc"
      },
      "execution_count": 64,
      "outputs": [
        {
          "output_type": "stream",
          "name": "stdout",
          "text": [
            "[1, 2, 3, 4, 5]\n",
            "[[1], [2], [3], [4], [5]]\n",
            "[1 2 3 4 5]\n",
            "[[1]\n",
            " [2]\n",
            " [3]\n",
            " [4]\n",
            " [5]]\n",
            "[1 2 3 4 5]\n",
            "[[1 2 3 4 5]]\n"
          ]
        }
      ]
    },
    {
      "cell_type": "code",
      "source": [
        "import numpy as np\n",
        "n = int(input(\"Nhap n:\"))\n",
        "a = np.random.randn(n)\n",
        "b = np.random.randn(n)\n",
        "print(a*5)\n",
        "print(a+b)"
      ],
      "metadata": {
        "colab": {
          "base_uri": "https://localhost:8080/"
        },
        "id": "UqM5C4NV718d",
        "outputId": "f7198c72-1e7e-4615-9c32-ebe3b0fc777e"
      },
      "execution_count": 66,
      "outputs": [
        {
          "output_type": "stream",
          "name": "stdout",
          "text": [
            "Nhap n:3\n",
            "[ 3.31004184 -0.40086093 -2.38163134]\n",
            "[ 2.18752462 -1.00702105 -0.06986343]\n"
          ]
        }
      ]
    }
  ]
}