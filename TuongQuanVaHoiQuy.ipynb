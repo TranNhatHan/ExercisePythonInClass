{
  "nbformat": 4,
  "nbformat_minor": 0,
  "metadata": {
    "colab": {
      "name": "TuongQuanVaHoiQuy.ipynb",
      "provenance": [],
      "collapsed_sections": [],
      "authorship_tag": "ABX9TyNrTvBe5omDb4vSdxBfA46e",
      "include_colab_link": true
    },
    "kernelspec": {
      "name": "python3",
      "display_name": "Python 3"
    },
    "language_info": {
      "name": "python"
    }
  },
  "cells": [
    {
      "cell_type": "markdown",
      "metadata": {
        "id": "view-in-github",
        "colab_type": "text"
      },
      "source": [
        "<a href=\"https://colab.research.google.com/github/TranNhatHan/ExercisePythonInClass/blob/main/TuongQuanVaHoiQuy.ipynb\" target=\"_parent\"><img src=\"https://colab.research.google.com/assets/colab-badge.svg\" alt=\"Open In Colab\"/></a>"
      ]
    },
    {
      "cell_type": "code",
      "execution_count": 151,
      "metadata": {
        "id": "JQeKNLBAkUqr"
      },
      "outputs": [],
      "source": [
        "import pandas as pd\n",
        "import numpy as np\n",
        "import scipy.stats as ss\n",
        "import matplotlib.pyplot as plt\n",
        "import statsmodels.api as sm"
      ]
    },
    {
      "cell_type": "markdown",
      "source": [
        "#Ví dụ 1: \n",
        "Theo dõi mức lãi suất (Y) và tỷ lệ lạm phát (X) ở một số nước ta có số liệu sau: \n",
        "> Y: 17,5 15,6 9,8 5,3 7,9 10,0 19,2 13,1 \n",
        "\n",
        "> X: 14,2 11,7 6,4 2,1 4,8 8,1 15,4 9,8 \n",
        "\n",
        "Hãy: \n",
        "* Tính hệ số tương quan mẫu. \n",
        "* Xây dựng phương trình hồi quy mẫu. \n",
        "* Ước lượng sai số hồi quy. \n",
        "* Dự báo giá trị của mức lãi suất nếu tỷ lệ lạm \n",
        "phát là 22,5."
      ],
      "metadata": {
        "id": "-N-gErktkmtx"
      }
    },
    {
      "cell_type": "code",
      "source": [
        "y = [17.5, 15.6, 9.8, 5.3, 7.9, 10, 19.2, 13.1]\n",
        "x = [14.2, 11.7, 6.4, 2.1, 4.8, 8.1, 15.4, 9.8]"
      ],
      "metadata": {
        "id": "TCHWgzlpmNRh"
      },
      "execution_count": 107,
      "outputs": []
    },
    {
      "cell_type": "markdown",
      "source": [
        "* Hệ số tương quan"
      ],
      "metadata": {
        "id": "0UggQzozlvHe"
      }
    },
    {
      "cell_type": "code",
      "source": [
        "print(\"Hệ số tương quan là:\", np.corrcoef(x, y)[0,1])"
      ],
      "metadata": {
        "colab": {
          "base_uri": "https://localhost:8080/"
        },
        "id": "dOlucg4xkj1K",
        "outputId": "90180fda-e585-445a-8639-1377c75df8c6"
      },
      "execution_count": 108,
      "outputs": [
        {
          "output_type": "stream",
          "name": "stdout",
          "text": [
            "Hệ số tương quan là: 0.9932563991920245\n"
          ]
        }
      ]
    },
    {
      "cell_type": "markdown",
      "source": [
        "* Phương trình hồi quy mẫu"
      ],
      "metadata": {
        "id": "xSeUcu5Zly9V"
      }
    },
    {
      "cell_type": "code",
      "source": [
        "x = sm.add_constant(x)\n",
        "model = sm.OLS(y, x).fit()\n",
        "print(model.summary())"
      ],
      "metadata": {
        "id": "fRpNv2iQmg6c",
        "colab": {
          "base_uri": "https://localhost:8080/"
        },
        "outputId": "2d4ad74e-df42-4d66-c2f5-7dbddc6cbfb3"
      },
      "execution_count": 109,
      "outputs": [
        {
          "output_type": "stream",
          "name": "stdout",
          "text": [
            "                            OLS Regression Results                            \n",
            "==============================================================================\n",
            "Dep. Variable:                      y   R-squared:                       0.987\n",
            "Model:                            OLS   Adj. R-squared:                  0.984\n",
            "Method:                 Least Squares   F-statistic:                     440.4\n",
            "Date:                Tue, 24 May 2022   Prob (F-statistic):           7.63e-07\n",
            "Time:                        03:41:48   Log-Likelihood:                -6.2461\n",
            "No. Observations:                   8   AIC:                             16.49\n",
            "Df Residuals:                       6   BIC:                             16.65\n",
            "Df Model:                           1                                         \n",
            "Covariance Type:            nonrobust                                         \n",
            "==============================================================================\n",
            "                 coef    std err          t      P>|t|      [0.025      0.975]\n",
            "------------------------------------------------------------------------------\n",
            "const          2.7877      0.502      5.553      0.001       1.559       4.016\n",
            "x1             1.0496      0.050     20.985      0.000       0.927       1.172\n",
            "==============================================================================\n",
            "Omnibus:                       12.669   Durbin-Watson:                   2.199\n",
            "Prob(Omnibus):                  0.002   Jarque-Bera (JB):                4.436\n",
            "Skew:                          -1.638   Prob(JB):                        0.109\n",
            "Kurtosis:                       4.605   Cond. No.                         23.5\n",
            "==============================================================================\n",
            "\n",
            "Warnings:\n",
            "[1] Standard Errors assume that the covariance matrix of the errors is correctly specified.\n"
          ]
        },
        {
          "output_type": "stream",
          "name": "stderr",
          "text": [
            "/usr/local/lib/python3.7/dist-packages/scipy/stats/stats.py:1535: UserWarning: kurtosistest only valid for n>=20 ... continuing anyway, n=8\n",
            "  \"anyway, n=%i\" % int(n))\n"
          ]
        }
      ]
    },
    {
      "cell_type": "markdown",
      "source": [
        "Từ đó ta có phương trình hồi quy mẫu là:\n",
        "> y = 1.0496 + 2.7877"
      ],
      "metadata": {
        "id": "ab5OKhVazHRz"
      }
    },
    {
      "cell_type": "code",
      "source": [
        "fig = sm.graphics.plot_ccpr(model, \"x1\")\n",
        "fig.tight_layout(pad=1.0)"
      ],
      "metadata": {
        "colab": {
          "base_uri": "https://localhost:8080/",
          "height": 299
        },
        "id": "HarxxPLaMiL2",
        "outputId": "13c74950-2475-4fa9-eb2f-b23271acb959"
      },
      "execution_count": 134,
      "outputs": [
        {
          "output_type": "display_data",
          "data": {
            "text/plain": [
              "<Figure size 432x288 with 1 Axes>"
            ],
            "image/png": "[encoded data removed]"
          },
          "metadata": {
            "needs_background": "light"
          }
        }
      ]
    },
    {
      "cell_type": "markdown",
      "source": [
        "* Ước lượng sai số hồi quy"
      ],
      "metadata": {
        "id": "fnfq4iPY4mrj"
      }
    },
    {
      "cell_type": "code",
      "source": [
        "model.scale"
      ],
      "metadata": {
        "colab": {
          "base_uri": "https://localhost:8080/"
        },
        "id": "2mFGqoMJ4Bld",
        "outputId": "de34d91f-27e8-4911-f2e1-c7ec7a96b947"
      },
      "execution_count": 111,
      "outputs": [
        {
          "output_type": "execute_result",
          "data": {
            "text/plain": [
              "0.3720669608461158"
            ]
          },
          "metadata": {},
          "execution_count": 111
        }
      ]
    },
    {
      "cell_type": "markdown",
      "source": [
        "* Dự báo giá trị của mức lãi suất nếu tỷ lệ lạm phát là 22,5."
      ],
      "metadata": {
        "id": "-YUsT4wpKyDO"
      }
    },
    {
      "cell_type": "code",
      "source": [
        "1.0496*22.5 + 2.7877"
      ],
      "metadata": {
        "colab": {
          "base_uri": "https://localhost:8080/"
        },
        "id": "xWK7jyS1K1YX",
        "outputId": "7cff86c8-0e7e-4a7c-82bd-9ebc8a78b6c3"
      },
      "execution_count": 124,
      "outputs": [
        {
          "output_type": "execute_result",
          "data": {
            "text/plain": [
              "26.403700000000004"
            ]
          },
          "metadata": {},
          "execution_count": 124
        }
      ]
    },
    {
      "cell_type": "code",
      "source": [
        "model.predict(np.array([1, 22.5]))"
      ],
      "metadata": {
        "colab": {
          "base_uri": "https://localhost:8080/"
        },
        "id": "VC55m7KxLVA8",
        "outputId": "797f31f4-9a7e-4b37-f4f0-d89106cfd39d"
      },
      "execution_count": 125,
      "outputs": [
        {
          "output_type": "execute_result",
          "data": {
            "text/plain": [
              "array([26.4044337])"
            ]
          },
          "metadata": {},
          "execution_count": 125
        }
      ]
    },
    {
      "cell_type": "markdown",
      "source": [
        "# Ví dụ 2:\n",
        "Điều tra mức thu nhập (X) và chi tiêu (Y) cho\n",
        "những nhu cầu yếu phẩm của cá nhân ta có bảng số\n",
        "liệu sau (đơn vị triệu đồng)"
      ],
      "metadata": {
        "id": "yX7-uRqJ0DSG"
      }
    },
    {
      "cell_type": "markdown",
      "source": [
        "![image.png](data:image/png;base64,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)"
      ],
      "metadata": {
        "id": "A2_rx3140ICv"
      }
    },
    {
      "cell_type": "markdown",
      "source": [
        "* Tính hệ số tương quan mẫu.\n",
        "* Viết phương trình hồi quy tuyến tính mẫu.\n",
        "* Ước lượng sai số hồi quy.\n",
        "* Dự báo giá trị của Y khi mức thu nhập X là 4,0 triệu đồng. "
      ],
      "metadata": {
        "id": "uAs_zAas0Qe6"
      }
    },
    {
      "cell_type": "code",
      "source": [
        "y = [0.5, 0.5, 0.5, 0.5, 0.8, 0.8, 0.8, 0.5, 0.5, 0.5, 0.5, 0.5, 0.5, 0.8, 0.8, 1.0, 0.5, 0.5, 0.8, 0.8, 0.8, 0.8, 0.8, 1.0, 1.0, 0.5, 0.8, 1.0, 1.0, 1.0, 1.0]\n",
        "x = [1.5, 1.5, 1.5, 1.5, 1.5, 1.5, 1.5, 2.0, 2.0, 2.0, 2.0, 2.0, 2.0, 2.0, 2.0, 2.0, 2.5, 2.5, 2.5, 2.5, 2.5, 2.5, 2.5, 2.5, 2.5, 3.0, 3.0, 3.0, 3.0, 3.0, 3.0]"
      ],
      "metadata": {
        "id": "Cmuh9ZZizfG6"
      },
      "execution_count": 148,
      "outputs": []
    },
    {
      "cell_type": "markdown",
      "source": [
        "Hệ số tương quan mẫu"
      ],
      "metadata": {
        "id": "Ck5CiH4KJtgh"
      }
    },
    {
      "cell_type": "code",
      "source": [
        "print(\"Hệ số tương quan là:\", np.corrcoef(x, y)[0,1])\n",
        "np.mean(np.array(x)*np.array(y))"
      ],
      "metadata": {
        "colab": {
          "base_uri": "https://localhost:8080/"
        },
        "id": "ql0wUVNl66TO",
        "outputId": "e807b112-f0a6-41ca-c775-9454527e7882"
      },
      "execution_count": 149,
      "outputs": [
        {
          "output_type": "stream",
          "name": "stdout",
          "text": [
            "Hệ số tương quan là: 0.4825763145999933\n"
          ]
        },
        {
          "output_type": "execute_result",
          "data": {
            "text/plain": [
              "1.6516129032258062"
            ]
          },
          "metadata": {},
          "execution_count": 149
        }
      ]
    },
    {
      "cell_type": "code",
      "source": [
        "x = sm.add_constant(x)\n",
        "model = sm.OLS(y, x).fit()\n",
        "print(model.summary())"
      ],
      "metadata": {
        "colab": {
          "base_uri": "https://localhost:8080/"
        },
        "id": "cdjXh5en2B_N",
        "outputId": "49a515c4-7374-41ee-8e84-9dce352e1fe1"
      },
      "execution_count": 137,
      "outputs": [
        {
          "output_type": "stream",
          "name": "stdout",
          "text": [
            "                            OLS Regression Results                            \n",
            "==============================================================================\n",
            "Dep. Variable:                      y   R-squared:                       0.233\n",
            "Model:                            OLS   Adj. R-squared:                  0.206\n",
            "Method:                 Least Squares   F-statistic:                     8.804\n",
            "Date:                Tue, 24 May 2022   Prob (F-statistic):            0.00597\n",
            "Time:                        04:00:47   Log-Likelihood:                 9.9102\n",
            "No. Observations:                  31   AIC:                            -15.82\n",
            "Df Residuals:                      29   BIC:                            -12.95\n",
            "Df Model:                           1                                         \n",
            "Covariance Type:            nonrobust                                         \n",
            "==============================================================================\n",
            "                 coef    std err          t      P>|t|      [0.025      0.975]\n",
            "------------------------------------------------------------------------------\n",
            "const          0.3057      0.143      2.136      0.041       0.013       0.599\n",
            "x1             0.1858      0.063      2.967      0.006       0.058       0.314\n",
            "==============================================================================\n",
            "Omnibus:                        2.771   Durbin-Watson:                   1.397\n",
            "Prob(Omnibus):                  0.250   Jarque-Bera (JB):                1.395\n",
            "Skew:                          -0.129   Prob(JB):                        0.498\n",
            "Kurtosis:                       1.993   Cond. No.                         11.9\n",
            "==============================================================================\n",
            "\n",
            "Warnings:\n",
            "[1] Standard Errors assume that the covariance matrix of the errors is correctly specified.\n"
          ]
        }
      ]
    },
    {
      "cell_type": "markdown",
      "source": [
        "Từ đó ta có phương trình hồi quy mẫu là:\n",
        "> y = 0.1858*x + 0.3057"
      ],
      "metadata": {
        "id": "dhwJxO92OHnq"
      }
    },
    {
      "cell_type": "code",
      "source": [
        "fig = sm.graphics.plot_ccpr(model, \"x1\")\n",
        "fig.tight_layout(pad=1.0)"
      ],
      "metadata": {
        "colab": {
          "base_uri": "https://localhost:8080/",
          "height": 299
        },
        "id": "41kfEFnyOkA9",
        "outputId": "7fcae296-2fdf-4b25-c749-30d5d2f5f21b"
      },
      "execution_count": 138,
      "outputs": [
        {
          "output_type": "display_data",
          "data": {
            "text/plain": [
              "<Figure size 432x288 with 1 Axes>"
            ],
            "image/png": "[encoded data removed]"
          },
          "metadata": {
            "needs_background": "light"
          }
        }
      ]
    },
    {
      "cell_type": "markdown",
      "source": [
        "* Ước lượng sai số hồi quy."
      ],
      "metadata": {
        "id": "qHQ0ISeeKJhz"
      }
    },
    {
      "cell_type": "code",
      "source": [
        "model.scale"
      ],
      "metadata": {
        "colab": {
          "base_uri": "https://localhost:8080/"
        },
        "id": "8-TpND8F6oWo",
        "outputId": "12063926-fa60-48e5-e1cd-88fb7aef775e"
      },
      "execution_count": 106,
      "outputs": [
        {
          "output_type": "execute_result",
          "data": {
            "text/plain": [
              "0.03302285638789801"
            ]
          },
          "metadata": {},
          "execution_count": 106
        }
      ]
    },
    {
      "cell_type": "markdown",
      "source": [
        "* Dự báo giá trị của Y khi mức thu nhập X là 4,0 triệu đồng."
      ],
      "metadata": {
        "id": "2b2d5wfkO58j"
      }
    },
    {
      "cell_type": "code",
      "source": [
        "model.predict(np.array([1, 4]))"
      ],
      "metadata": {
        "colab": {
          "base_uri": "https://localhost:8080/"
        },
        "id": "NwyIA3tdJ5N9",
        "outputId": "51b95b35-85a8-4ce4-bd6a-36a54405b6ba"
      },
      "execution_count": 139,
      "outputs": [
        {
          "output_type": "execute_result",
          "data": {
            "text/plain": [
              "array([1.04904215])"
            ]
          },
          "metadata": {},
          "execution_count": 139
        }
      ]
    },
    {
      "cell_type": "markdown",
      "source": [
        "Cách khác"
      ],
      "metadata": {
        "id": "PpUzhSLoUy2V"
      }
    },
    {
      "cell_type": "code",
      "source": [
        "slope, intercept, r, p, std_err = ss.linregress(x, y)"
      ],
      "metadata": {
        "id": "3Fsl_2a8URKU"
      },
      "execution_count": 152,
      "outputs": []
    }
  ]
}