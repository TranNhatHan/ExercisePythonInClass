{
  "cells": [
    {
      "cell_type": "markdown",
      "metadata": {
        "id": "view-in-github",
        "colab_type": "text"
      },
      "source": [
        "<a href=\"https://colab.research.google.com/github/TranNhatHan/ExercisePythonInClass/blob/main/GiaDinhANOVA.ipynb\" target=\"_parent\"><img src=\"https://colab.research.google.com/assets/colab-badge.svg\" alt=\"Open In Colab\"/></a>"
      ]
    },
    {
      "cell_type": "markdown",
      "metadata": {
        "id": "w9k9Mu96ETyP"
      },
      "source": [
        "PHÂN TÍCH ANOVA MỘT CHIỀU\n",
        "\n",
        "Phân tích ANOVA chấp nhận các giả định sau:\n",
        "\n",
        "(1) Tất cả các nhóm đều độc lập với nhau\n",
        "\n",
        "(2) Dữ liệu của mỗi nhóm đều tuân theo phân phối chuẩn. Tính chất này có thể được kiểm định bằng phương pháp Shapiro-Wilks.\n",
        "\n",
        "(3) Phương sai (variance) của các nhóm bằng nhau. Tính chất này có thể được kiểm định bằng phương pháp kiểm định Bartlett hay Levene.\n",
        "\n",
        "Nếu dữ liệu hiện có thỏa mãn các tính chất trên thì chúng ta mới tiến hành kiểm định ANOVA. Do vậy trước khi tiến hành kiểm định ANOVA, chúng ta cần thực hiện kiểm tra tập dữ liệu cần thỏa mãn 3 tính chất trên.\n",
        "    "
      ]
    },
    {
      "cell_type": "code",
      "source": [
        "import scipy.stats as st\n",
        "import pandas as pd\n",
        "import numpy as np"
      ],
      "metadata": {
        "id": "9pBdAJ6dE2j-"
      },
      "execution_count": 1,
      "outputs": []
    },
    {
      "cell_type": "code",
      "execution_count": 8,
      "metadata": {
        "id": "moKcH3ZmETyT"
      },
      "outputs": [],
      "source": [
        "#Bước 1: Hãy tạo một tập dữ liệu mẫu sample_1 với kích thước 100 tuân theo phân phối chuẩn\n",
        "sample_1 = np.random.normal(size =100) "
      ]
    },
    {
      "cell_type": "code",
      "execution_count": 5,
      "metadata": {
        "id": "xEoSTnwKETyW"
      },
      "outputs": [],
      "source": [
        "#Bước 2: hãy tạo tập dữ liệu mẫu sample_2 với kích thước 100 tuân theo phân phối Poisson\n",
        "sample_2 = np.random.poisson(size =100)"
      ]
    },
    {
      "cell_type": "markdown",
      "metadata": {
        "id": "UX3Ivki9ETyX"
      },
      "source": [
        "Hãy tham khảo các hướng dẫn sau để kiểm định tính chất thứ 2 bằng phương pháp Shapiro-Wilks đối với sample_1 và sample_2\n",
        "\n",
        "(1) [Tài liệu tham khảo scipy](https://docs.scipy.org/doc/scipy/reference/generated/scipy.stats.shapiro.html)\n",
        "\n",
        "(2) [Hướng dẫn cụ thể của statology](https://www.statology.org/shapiro-wilk-test-python/)"
      ]
    },
    {
      "cell_type": "markdown",
      "source": [
        "$H_0$: Mẫu đến từ phân phối chuẩn\n",
        "\n",
        "$H_a$: Mẫu không đến từ phân phối chuẩn"
      ],
      "metadata": {
        "id": "Vy-EgB_KId2z"
      }
    },
    {
      "cell_type": "code",
      "execution_count": 17,
      "metadata": {
        "id": "Mzle276jETyY",
        "colab": {
          "base_uri": "https://localhost:8080/"
        },
        "outputId": "9af46840-1a3f-48ed-a5ce-dcad7bb7ce75"
      },
      "outputs": [
        {
          "output_type": "stream",
          "name": "stdout",
          "text": [
            "0.3733788728713989\n",
            "Không có bằng chứng bác bỏ mẫu đến từ phân phối chuẩn\n"
          ]
        }
      ],
      "source": [
        "#Code kiểm định tính chất thứ 2 của sample_1 và sample_2\n",
        "statistic, p_value = st.shapiro(sample_1)\n",
        "print(p_value)\n",
        "if p_value < 0.05:\n",
        "  print(\"Có bằng chứng bác bỏ mẫu đến từ phân phối chuẩn\")\n",
        "else:\n",
        "  print(\"Không có bằng chứng bác bỏ mẫu đến từ phân phối chuẩn\")"
      ]
    },
    {
      "cell_type": "code",
      "source": [
        "statistic, p_value = st.shapiro(sample_2)\n",
        "print(p_value)\n",
        "if p_value < 0.05:\n",
        "  print(\"Có bằng chứng bác bỏ mẫu đến từ phân phối chuẩn\")\n",
        "else:\n",
        "  print(\"Không có bằng chứng bác bỏ mẫu đến từ phân phối chuẩn\")"
      ],
      "metadata": {
        "colab": {
          "base_uri": "https://localhost:8080/"
        },
        "id": "xBxgVJYhH2hN",
        "outputId": "f9ff81a6-b8c7-4e21-a420-4050dfe8f721"
      },
      "execution_count": 19,
      "outputs": [
        {
          "output_type": "stream",
          "name": "stdout",
          "text": [
            "1.1145303346893343e-08\n",
            "Có bằng chứng bác bỏ mẫu đến từ phân phối chuẩn\n"
          ]
        }
      ]
    },
    {
      "cell_type": "markdown",
      "metadata": {
        "id": "ESQAIfKbETyZ"
      },
      "source": [
        "Hãy tham khảo các hướng dẫn sau để kiểm định tính chất thứ 3 bằng kiểm định Bartlett hoặc kiểm định Levene\n",
        "\n",
        "(1) [Hướng dẫn tổng quát](https://www.marsja.se/levenes-bartletts-test-of-equality-homogeneity-of-variance-in-python/)\n",
        "\n",
        "(2) [Hướng dẫn ở stackoverflow](https://stackoverflow.com/questions/36141254/how-to-test-for-homoscedasticity-having-the-same-population-variance-in-python)\n",
        "\n",
        "(3) Sử dụng bài giảng về kiểm định Bartlett và Levene ở buổi trước"
      ]
    },
    {
      "cell_type": "code",
      "execution_count": null,
      "metadata": {
        "id": "AZ09aTX4ETya"
      },
      "outputs": [],
      "source": [
        "#Code kiểm định tính đồng nhất về phương sai của các nhóm"
      ]
    },
    {
      "cell_type": "markdown",
      "source": [
        "$H_0$: Hai mẫu có phương sai bằng nhau\n",
        "\n",
        "$H_a$: Hai mẫu có phương sai khác nhau\n",
        "\n",
        "Phát biểu bằng toán học:\n",
        "$$H_{0}: \\sigma^{2} = \\sigma_{0}^{2}$$\n",
        "$$H_{a}:\\sigma^{2} \\neq \\sigma_{0}^{2} $$"
      ],
      "metadata": {
        "id": "swOWZs70K4yD"
      }
    },
    {
      "cell_type": "code",
      "execution_count": 22,
      "metadata": {
        "id": "OzPXrhOHETyb",
        "colab": {
          "base_uri": "https://localhost:8080/"
        },
        "outputId": "77df4dfe-c43e-440c-acbe-b846170d3697"
      },
      "outputs": [
        {
          "output_type": "stream",
          "name": "stdout",
          "text": [
            "0.4982780345583284\n",
            "Không có bằng chứng bác bỏ giả thuyết hai mẫu có phương sai bằng nhau\n"
          ]
        }
      ],
      "source": [
        "statistic, p_value = st.levene(sample_1, sample_2)\n",
        "print(p_value)\n",
        "if p_value < 0.05:\n",
        "  print(\"Có bằng chứng bác bỏ giả thuyết hai mẫu có phương sai bằng nhau\")\n",
        "else:\n",
        "  print(\"Không có bằng chứng bác bỏ giả thuyết hai mẫu có phương sai bằng nhau\")"
      ]
    }
  ],
  "metadata": {
    "kernelspec": {
      "display_name": "Python 3",
      "language": "python",
      "name": "python3"
    },
    "language_info": {
      "codemirror_mode": {
        "name": "ipython",
        "version": 3
      },
      "file_extension": ".py",
      "mimetype": "text/x-python",
      "name": "python",
      "nbconvert_exporter": "python",
      "pygments_lexer": "ipython3",
      "version": "3.7.3"
    },
    "colab": {
      "name": "GiaDinhANOVA.ipynb",
      "provenance": [],
      "collapsed_sections": [],
      "include_colab_link": true
    }
  },
  "nbformat": 4,
  "nbformat_minor": 0
}