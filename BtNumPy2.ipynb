{
  "nbformat": 4,
  "nbformat_minor": 0,
  "metadata": {
    "colab": {
      "name": "BtNumPy2.ipynb",
      "provenance": [],
      "collapsed_sections": [],
      "authorship_tag": "ABX9TyN3dVmLQ+YmzdShszoaEoZ5",
      "include_colab_link": true
    },
    "kernelspec": {
      "name": "python3",
      "display_name": "Python 3"
    },
    "language_info": {
      "name": "python"
    }
  },
  "cells": [
    {
      "cell_type": "markdown",
      "metadata": {
        "id": "view-in-github",
        "colab_type": "text"
      },
      "source": [
        "<a href=\"https://colab.research.google.com/github/TranNhatHan/LamBt/blob/main/BtNumPy2.ipynb\" target=\"_parent\"><img src=\"https://colab.research.google.com/assets/colab-badge.svg\" alt=\"Open In Colab\"/></a>"
      ]
    },
    {
      "cell_type": "code",
      "execution_count": null,
      "metadata": {
        "id": "xqLSFf1V8qqd"
      },
      "outputs": [],
      "source": [
        "import numpy as np"
      ]
    },
    {
      "cell_type": "markdown",
      "source": [
        "Bài 1 - Ma trận: Trong Toán học, ma trận (matrix) là một mảng 2 chiều chứa số hoặc các đối tượng toán học khác. Một cách tổng quát ma trận A có m hàng và n cột chứa các số thực, ký hiệu là A ∈ Rm×n hay Am×n hay A = (ai,j)\n",
        "m×n"
      ],
      "metadata": {
        "id": "jq-ZtgYE9bsb"
      }
    },
    {
      "cell_type": "code",
      "source": [
        "a = np.random.randn(7, 5)\n",
        "print(a)"
      ],
      "metadata": {
        "colab": {
          "base_uri": "https://localhost:8080/"
        },
        "id": "4TqohVdr8v2A",
        "outputId": "42c96f55-e66e-47db-a51b-874860b41048"
      },
      "execution_count": null,
      "outputs": [
        {
          "output_type": "stream",
          "name": "stdout",
          "text": [
            "[[-0.94416062 -0.56695863 -0.21836018 -1.09320355 -0.6394564 ]\n",
            " [ 0.36533176  0.14872107 -0.8099196   0.15927314  0.51120794]\n",
            " [-0.14264175  0.38491974  0.74951029 -0.47730995 -0.05293411]\n",
            " [-0.41198439 -0.18253828  0.10500017 -0.15005464 -1.1916487 ]\n",
            " [ 1.19560338  0.32949129 -0.89775696  0.46029378  1.48124554]\n",
            " [-0.01173483 -0.13814552  0.51479692  0.47014361  1.09978178]\n",
            " [ 1.04133848 -1.46328403 -1.14509718  0.70964416  0.62944726]]\n"
          ]
        }
      ]
    },
    {
      "cell_type": "markdown",
      "source": [
        "Bài 2 – Ma trận không (zero matrix): Ma trận Am×n được gọi là ma trận không khi ai,j = 0, ∀i,j.\n",
        "Sử dụng thư viện NumPy, hãy tạo một ma trận 0 - A6×7. Gợi ý: sử dụng hàm numpy.zeros((m,n)).\n",
        "Kết quả xuất ra màn hình."
      ],
      "metadata": {
        "id": "aaLOUXg69jI7"
      }
    },
    {
      "cell_type": "code",
      "source": [
        "o = np.zeros((6, 7))\n",
        "print(o)"
      ],
      "metadata": {
        "colab": {
          "base_uri": "https://localhost:8080/"
        },
        "id": "jOc5HY1o9di-",
        "outputId": "ca0af3da-e158-4766-83f5-fba2ee350102"
      },
      "execution_count": null,
      "outputs": [
        {
          "output_type": "stream",
          "name": "stdout",
          "text": [
            "[[0. 0. 0. 0. 0. 0. 0.]\n",
            " [0. 0. 0. 0. 0. 0. 0.]\n",
            " [0. 0. 0. 0. 0. 0. 0.]\n",
            " [0. 0. 0. 0. 0. 0. 0.]\n",
            " [0. 0. 0. 0. 0. 0. 0.]\n",
            " [0. 0. 0. 0. 0. 0. 0.]]\n"
          ]
        }
      ]
    },
    {
      "cell_type": "markdown",
      "source": [
        "Bài 3 – Ma trận vuông: Là ma trận có số hàng và số cột bằng nhau. Sử dụng thư viện NumPy, hãy tạo ra một ma trận A ∈ R7×7 , giá trị các phần tử của ma trận được sinh ngẫu nhiên. Kết quả xuất ra màn hình."
      ],
      "metadata": {
        "id": "j5bvlzHH9nS-"
      }
    },
    {
      "cell_type": "code",
      "source": [
        "b = np.random.randn(7, 7)\n",
        "print(b)"
      ],
      "metadata": {
        "colab": {
          "base_uri": "https://localhost:8080/"
        },
        "id": "7LjBeCRa9qSP",
        "outputId": "be9487b1-9ff7-4e29-b1f1-4cfc5744d77d"
      },
      "execution_count": null,
      "outputs": [
        {
          "output_type": "stream",
          "name": "stdout",
          "text": [
            "[[-0.03640442 -1.26060216 -0.79262249 -1.36030231 -2.96126591  2.06409159\n",
            "   0.91920197]\n",
            " [ 0.65576482  0.27590524 -1.74611127  0.28611568 -0.57176493 -0.2676838\n",
            "   0.45042516]\n",
            " [-0.7708728  -1.29213555  0.2396847  -2.14066783  1.64669207 -1.28020348\n",
            "   1.46144109]\n",
            " [ 0.59821459  1.12404879  0.14415196  0.91431956 -0.39834388 -0.18271622\n",
            "  -1.49468383]\n",
            " [-0.13018349  0.43706195  1.19532038  1.49745233 -0.56113213  0.08851699\n",
            "  -0.58952057]\n",
            " [ 1.08382847  0.1009074   0.20947667  0.9614306   0.50005428  0.25538088\n",
            "   0.46600007]\n",
            " [ 1.24318961  1.33580215  0.29858697  1.39609248  0.00412143 -0.38162626\n",
            "   0.81609286]]\n"
          ]
        }
      ]
    },
    {
      "cell_type": "markdown",
      "source": [
        "Bài 4 – Ma trận chéo (diagonal matrix): Ma trận vuông có các phần tử trên đường chéo ai,i ≠ 0\n",
        "trong khi các phần tử còn lại ai,j = 0, ∀i ≠ j."
      ],
      "metadata": {
        "id": "_CHd50dx9tcq"
      }
    },
    {
      "cell_type": "code",
      "source": [
        "c = np.zeros((6, 6))\n",
        "np.fill_diagonal(c, 15)\n",
        "print(c)"
      ],
      "metadata": {
        "colab": {
          "base_uri": "https://localhost:8080/"
        },
        "id": "vkWeasLm-LTf",
        "outputId": "d95f9d76-dc77-486b-cc27-f0ddcdf0d4c7"
      },
      "execution_count": null,
      "outputs": [
        {
          "output_type": "stream",
          "name": "stdout",
          "text": [
            "[[15.  0.  0.  0.  0.  0.]\n",
            " [ 0. 15.  0.  0.  0.  0.]\n",
            " [ 0.  0. 15.  0.  0.  0.]\n",
            " [ 0.  0.  0. 15.  0.  0.]\n",
            " [ 0.  0.  0.  0. 15.  0.]\n",
            " [ 0.  0.  0.  0.  0. 15.]]\n"
          ]
        }
      ]
    },
    {
      "cell_type": "markdown",
      "source": [
        "Bài 5 – Ma trận tam giác trên (upper triangular matrix): Ma trận vuông An×n được gọi là ma\n",
        "trận tam giác trên nếu các phần tử nằm trên đường chéo đều khác 0 và các phần tử nằm dưới đường\n",
        "chéo đều bằng 0."
      ],
      "metadata": {
        "id": "oUXZKwPb9vhR"
      }
    },
    {
      "cell_type": "code",
      "source": [
        "d = np.random.randn(8, 8)\n",
        "tgt = np.triu(d)\n",
        "print(tgt)"
      ],
      "metadata": {
        "colab": {
          "base_uri": "https://localhost:8080/"
        },
        "id": "l1jkTJYbARr3",
        "outputId": "d9bc8ec8-93e5-4afe-a5d1-082fb8d672a7"
      },
      "execution_count": null,
      "outputs": [
        {
          "output_type": "stream",
          "name": "stdout",
          "text": [
            "[[-7.46430401e-01 -2.84195605e-01 -4.08601085e-01  2.17029068e+00\n",
            "   1.28096813e-03 -1.83000426e-01 -2.60359187e-01 -1.21376537e-01]\n",
            " [ 0.00000000e+00 -5.86371594e-01  9.89422744e-03  1.90434373e-01\n",
            "  -5.88172940e-01 -3.27703185e-01 -8.66356650e-01 -7.49122623e-01]\n",
            " [ 0.00000000e+00  0.00000000e+00  1.01810445e+00  4.77140823e-01\n",
            "  -4.34912775e-01  1.27143236e+00  1.18514291e+00  7.34599510e-01]\n",
            " [ 0.00000000e+00  0.00000000e+00  0.00000000e+00 -2.93155953e-01\n",
            "   9.37481461e-01  1.92509028e+00  4.30133889e-01 -1.16818936e+00]\n",
            " [ 0.00000000e+00  0.00000000e+00  0.00000000e+00  0.00000000e+00\n",
            "   4.28257454e-01  4.96994795e-01  3.07181921e-01 -1.31661945e+00]\n",
            " [ 0.00000000e+00  0.00000000e+00  0.00000000e+00  0.00000000e+00\n",
            "   0.00000000e+00 -7.16405585e-01  7.47364139e-01 -2.84730862e-01]\n",
            " [ 0.00000000e+00  0.00000000e+00  0.00000000e+00  0.00000000e+00\n",
            "   0.00000000e+00  0.00000000e+00  1.74052695e+00 -8.81419227e-01]\n",
            " [ 0.00000000e+00  0.00000000e+00  0.00000000e+00  0.00000000e+00\n",
            "   0.00000000e+00  0.00000000e+00  0.00000000e+00  7.17681328e-02]]\n"
          ]
        }
      ]
    },
    {
      "cell_type": "markdown",
      "source": [
        "Bài 6 – Ma trận tam giác dưới (lower triangular matrix): Tương tự bài 5, bạn hãy xây dựng\n",
        "ma trận tam giác dưới. Kết quả xuất ra màn hình."
      ],
      "metadata": {
        "id": "4KfpXKJD9yLF"
      }
    },
    {
      "cell_type": "code",
      "source": [
        "e = np.random.randn(8, 8)\n",
        "tgd = np.tril(e)\n",
        "print(tgd)"
      ],
      "metadata": {
        "colab": {
          "base_uri": "https://localhost:8080/"
        },
        "id": "TxXtDlJiA15h",
        "outputId": "daee172c-7405-4e7c-c08a-7f97ade38053"
      },
      "execution_count": null,
      "outputs": [
        {
          "output_type": "stream",
          "name": "stdout",
          "text": [
            "[[-0.61817503  0.          0.          0.          0.          0.\n",
            "   0.          0.        ]\n",
            " [-0.03228769 -0.27123347  0.          0.          0.          0.\n",
            "   0.          0.        ]\n",
            " [ 1.47834199 -1.63418521 -0.02878229  0.          0.          0.\n",
            "   0.          0.        ]\n",
            " [-0.95343661 -1.35875967  0.56787456 -0.00247459  0.          0.\n",
            "   0.          0.        ]\n",
            " [ 1.6430275   0.1739816  -1.67499445  1.03123018  0.10824136  0.\n",
            "   0.          0.        ]\n",
            " [-0.79887141  0.93429071 -0.8605507  -1.47731906 -0.87088522 -0.05683276\n",
            "   0.          0.        ]\n",
            " [ 0.79008534  0.95600992 -1.35596923  0.37030522  0.81951957  0.45365778\n",
            "   0.37422328  0.        ]\n",
            " [-2.22303502 -1.01865896  0.1910093   0.20627812 -0.62831958 -0.79206135\n",
            "   0.53915767  0.0998387 ]]\n"
          ]
        }
      ]
    },
    {
      "cell_type": "markdown",
      "source": [
        "Bài 7 – Ma trận đơn vị (identity matrix): Ma trận đơn vị In có số chiều n là một ma trận vuông\n",
        "mà mọi phần tử trên đường chéo chính bằng 1. Sử dụng thư viện NumPy, hãy tạo ra một ma trận\n",
        "I9\n",
        "."
      ],
      "metadata": {
        "id": "xxgS4bLd915U"
      }
    },
    {
      "cell_type": "code",
      "source": [
        "i = np.identity(9)\n",
        "print(i)"
      ],
      "metadata": {
        "colab": {
          "base_uri": "https://localhost:8080/"
        },
        "id": "8LjvuaM5-uz7",
        "outputId": "bc321f4d-fc04-437d-e94b-acccb73821ef"
      },
      "execution_count": null,
      "outputs": [
        {
          "output_type": "stream",
          "name": "stdout",
          "text": [
            "[[1. 0. 0. 0. 0. 0. 0. 0. 0.]\n",
            " [0. 1. 0. 0. 0. 0. 0. 0. 0.]\n",
            " [0. 0. 1. 0. 0. 0. 0. 0. 0.]\n",
            " [0. 0. 0. 1. 0. 0. 0. 0. 0.]\n",
            " [0. 0. 0. 0. 1. 0. 0. 0. 0.]\n",
            " [0. 0. 0. 0. 0. 1. 0. 0. 0.]\n",
            " [0. 0. 0. 0. 0. 0. 1. 0. 0.]\n",
            " [0. 0. 0. 0. 0. 0. 0. 1. 0.]\n",
            " [0. 0. 0. 0. 0. 0. 0. 0. 1.]]\n"
          ]
        }
      ]
    },
    {
      "cell_type": "markdown",
      "source": [
        "Bài 8 – Phép toán trên ma trận: sử dụng thư viện NumPy để thực hiện các yêu cầu sau:\n",
        "1. Phép cộng ma trận: Am×n + Bm×n = Cm×n. Hãy sinh ngẫu nhiên 2 ma trận có kích thước\n",
        "6x7. Thực hiện phép cộng 2 ma trận trên. Xuất giá trị các ma trận ra màn hình.\n",
        "2. Phép nhân vô hướng một số với ma trận: Hãy sinh ngẫu nhiên 1 ma trận có kích thước\n",
        "5x8. Thực hiện nhân vô hướng 1 số được nhập từ bàn phím với ma trận này. Kết quả xuất\n",
        "ra màn hình.\n",
        "3. Phép chuyển vị ma trận: Sinh ngẫu nhiên một ma trận có kích thước 3x7. Thực hiện phép\n",
        "chuyển vị đối với ma trận này. Xuất các ma trận này ra màn hình.\n",
        "4. Phép nhân 2 ma trận: Am×n ∙ Bn×p = Cm×p. Hãy sinh ngẫu nhiên 2 ma trận A5×7 và B7×3,\n",
        "tiến hành nhân 2 ma trận này để thu được ma trận C5×3. Xuất các ma trận trên ra màn hình.\n",
        "Gợi ý: sử dụng hàm numpy.dot()\n",
        " Ma trận khả nghịch: ma trận vuông An×n gọi là khả nghịch (hay không suy biến) nếu tồn\n",
        "tại một ma trận vuông Bn×n sao cho A ∙ B = In . Khi này, B được gọi là ma trận nghịch\n",
        "đảo của A và ký hiệu là A\n",
        "−1\n",
        ". Cho ma trận A5×7, hãy tính ma trận khả nghịch của A. Gợi\n",
        "\n",
        "ý: sử dụng hàm numpy.linalg.inv()"
      ],
      "metadata": {
        "id": "zGuW4ABn99AA"
      }
    },
    {
      "cell_type": "code",
      "source": [
        "a = np.random.randn(6, 7)\n",
        "b = np.random.randn(6, 7)\n",
        "print(a+b)\n",
        "print()\n",
        "c = np.random.randn(5, 8)\n",
        "print(c*3)\n",
        "print()\n",
        "d = np.random.randn(3, 7)\n",
        "print(np.transpose(d))\n",
        "print()\n",
        "e = np.random.randn(5, 7)\n",
        "f = np.random.randn(7, 3)\n",
        "print(np.dot(e, f))\n",
        "print()\n",
        "g = np.random.randn(5, 5)\n",
        "print(np.linalg.inv(g))"
      ],
      "metadata": {
        "colab": {
          "base_uri": "https://localhost:8080/"
        },
        "id": "cHqOPJr4Bk_R",
        "outputId": "259e9303-91c8-49d9-f339-7a81f43bd92f"
      },
      "execution_count": null,
      "outputs": [
        {
          "output_type": "stream",
          "name": "stdout",
          "text": [
            "[[-0.82638552  2.37513118 -3.23406234 -0.37178394 -0.02860733 -0.58684214\n",
            "   3.6607984 ]\n",
            " [-1.98189508  0.23129792 -0.47178946 -0.87466607  0.86331091 -1.61627556\n",
            "   0.64683911]\n",
            " [ 0.58066683  0.46115854 -1.43939449 -0.69025406  0.49604664  1.54784385\n",
            "  -0.5697441 ]\n",
            " [ 1.50559438  0.2342317  -1.57645473  0.54560574  0.37235848 -2.81758313\n",
            "   0.82420476]\n",
            " [-0.8845945   0.73122033  1.61694368 -2.59667097  1.39043811 -0.91935756\n",
            "   0.70834982]\n",
            " [ 2.8531165   0.25058181 -0.37765141  0.04176329 -3.82468282  2.25225397\n",
            "  -1.46295131]]\n",
            "\n",
            "[[-1.56851519  3.03330889 -1.34319784  1.54006933 -3.84041619 -1.16171185\n",
            "  -5.94290578 -2.04047511]\n",
            " [ 2.50563981  0.96069812 -1.38078747 -1.0476747   2.57012805  2.85559901\n",
            "   3.67335572  6.4756188 ]\n",
            " [-0.0542947  -0.58830045  1.32725808 -2.99571777 -1.06171503 -3.05729432\n",
            "   0.91756869  0.73411943]\n",
            " [ 2.8309834   3.15125057 -1.8173602  -3.51982006 -3.63104052 -1.54013787\n",
            "   2.3725722   0.1753793 ]\n",
            " [ 0.43106841  2.2169759   1.58957762  0.12743959 -1.21562475  2.26795021\n",
            "   0.63175851  2.41082535]]\n",
            "\n",
            "[[-0.92818501  1.78397851 -0.01933175]\n",
            " [ 1.50618575 -1.09641455  0.05083604]\n",
            " [-1.00214367  0.90118225 -1.0028079 ]\n",
            " [ 0.01240994  0.25205554  0.82090509]\n",
            " [ 1.35038333 -1.64271641 -0.75865705]\n",
            " [ 2.69381954 -2.03639152  0.80303909]\n",
            " [-0.34001501  0.54285792  0.53041315]]\n",
            "\n",
            "[[-2.59218988 -3.00055148  2.56992956]\n",
            " [-1.17662836 -2.88612187  2.23841523]\n",
            " [ 1.88970516 -3.68088145  2.34692841]\n",
            " [ 1.40907982  0.79446977  0.1670171 ]\n",
            " [ 0.34427941 -0.18165825 -1.21450136]]\n",
            "\n",
            "[[ 0.02509235  0.38187073 -0.38982214 -0.78671121 -0.29105028]\n",
            " [-1.35338792 -1.22128505  0.49139225  0.4775391   0.57305356]\n",
            " [-1.64129079 -0.84917469  0.45440456  1.03034591  1.40989384]\n",
            " [ 0.38915574  0.36958631 -0.14592373  0.17134804 -0.59299367]\n",
            " [-1.98131487 -1.88428012  0.26199749  0.66855537  1.29627147]]\n"
          ]
        }
      ]
    },
    {
      "cell_type": "markdown",
      "source": [
        "Bài 9 – Vector là dạng ma trận đặc biệt: Sử dụng numpy để thực hiện các yêu cầu sau\n",
        "1. Vector hàng (row vector) thực chất là ma trận có kích thước 1 × n. Hãy tạo ngẫu nhiên 1\n",
        "vector hàng - x có kích thước 1 × 8. Kết quả xuất ra màn hình.\n",
        "2. Vector cột (column vector) thực chất là ma trận có kích thước m × 1. Hãy tạo ngẫu nhiên\n",
        "1 vector cột – x có kích thước 8 × 1. Kết quả xuất ra màn hình."
      ],
      "metadata": {
        "id": "xxP7hF6X95ua"
      }
    },
    {
      "cell_type": "code",
      "source": [
        "h = np.random.randn(1, 8)\n",
        "print(h)\n",
        "k = np.random.randn(8, 1)\n",
        "print(k)"
      ],
      "metadata": {
        "colab": {
          "base_uri": "https://localhost:8080/"
        },
        "id": "Z_pb_bopE-ou",
        "outputId": "aa29ac4b-f55b-4186-bd15-fbbf40dff8ba"
      },
      "execution_count": null,
      "outputs": [
        {
          "output_type": "stream",
          "name": "stdout",
          "text": [
            "[[ 1.50286464 -0.6829318  -0.23760935 -0.77710203 -1.58486305  1.74169206\n",
            "   1.0169457   0.70324814]]\n",
            "[[ 0.01803219]\n",
            " [ 1.76521169]\n",
            " [ 0.32202272]\n",
            " [-0.26120902]\n",
            " [ 0.67655902]\n",
            " [-0.12182515]\n",
            " [ 0.78892337]\n",
            " [ 1.73270722]]\n"
          ]
        }
      ]
    },
    {
      "cell_type": "markdown",
      "source": [
        "Bài 10 - Hệ phương trình tuyến tính: Giải hệ phương trình tuyến tính."
      ],
      "metadata": {
        "id": "SSG7NNfd-AsS"
      }
    },
    {
      "cell_type": "code",
      "source": [
        "n = int(input(\"So an cua phuong trinh:\"))\n",
        "A = np.zeros((n, n))\n",
        "b = []\n",
        "for i in range(n):\n",
        "  z = int(input(f\"Nhap b[{i+1}]:\"))\n",
        "  b.append(z)\n",
        "b = np.array(b)\n",
        "for i in range(0, n):\n",
        "  for j in range(0, n):\n",
        "    z = int(input(f\"Nhap a[{i+1}, {j+1}]:\"))\n",
        "    A[i][j] = z\n",
        "A = np.linalg.inv(A)\n",
        "print(np.dot(A, b))"
      ],
      "metadata": {
        "colab": {
          "base_uri": "https://localhost:8080/"
        },
        "id": "cInCM7R8FYaC",
        "outputId": "b6051925-ba33-45c0-c0c2-405e18da653c"
      },
      "execution_count": null,
      "outputs": [
        {
          "output_type": "stream",
          "name": "stdout",
          "text": [
            "So an cua phuong trinh:4\n",
            "Nhap b[1]:10\n",
            "Nhap b[2]:0\n",
            "Nhap b[3]:7\n",
            "Nhap b[4]:2\n",
            "Nhap a[1, 1]:3\n",
            "Nhap a[1, 2]:1\n",
            "Nhap a[1, 3]:-1\n",
            "Nhap a[1, 4]:1\n",
            "Nhap a[2, 1]:1\n",
            "Nhap a[2, 2]:4\n",
            "Nhap a[2, 3]:1\n",
            "Nhap a[2, 4]:-10\n",
            "Nhap a[3, 1]:5\n",
            "Nhap a[3, 2]:-1\n",
            "Nhap a[3, 3]:2\n",
            "Nhap a[3, 4]:6\n",
            "Nhap a[4, 1]:9\n",
            "Nhap a[4, 2]:-1\n",
            "Nhap a[4, 3]:2\n",
            "Nhap a[4, 4]:6\n",
            "[-1.25        9.93367347  0.03571429  3.85204082]\n"
          ]
        }
      ]
    }
  ]
}