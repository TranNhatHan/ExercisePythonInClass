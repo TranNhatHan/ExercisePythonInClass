{
  "nbformat": 4,
  "nbformat_minor": 0,
  "metadata": {
    "colab": {
      "name": "BtPandas1.ipynb",
      "provenance": [],
      "collapsed_sections": [],
      "authorship_tag": "ABX9TyOVtmuaT0p77W43618MlD+2",
      "include_colab_link": true
    },
    "kernelspec": {
      "name": "python3",
      "display_name": "Python 3"
    },
    "language_info": {
      "name": "python"
    }
  },
  "cells": [
    {
      "cell_type": "markdown",
      "metadata": {
        "id": "view-in-github",
        "colab_type": "text"
      },
      "source": [
        "<a href=\"https://colab.research.google.com/github/TranNhatHan/LamBt/blob/main/BtPandas1.ipynb\" target=\"_parent\"><img src=\"https://colab.research.google.com/assets/colab-badge.svg\" alt=\"Open In Colab\"/></a>"
      ]
    },
    {
      "cell_type": "code",
      "execution_count": null,
      "metadata": {
        "id": "pg9m8_5Z-o5s"
      },
      "outputs": [],
      "source": [
        "import pandas as pd\n",
        "import numpy as np\n",
        "import string"
      ]
    },
    {
      "cell_type": "markdown",
      "source": [
        "Câu 1: Khởi tạo 1 Series với giá trị rỗng"
      ],
      "metadata": {
        "id": "FPdPHRSoAm3b"
      }
    },
    {
      "cell_type": "code",
      "source": [
        "a = pd.Series()\n",
        "print(a)"
      ],
      "metadata": {
        "colab": {
          "base_uri": "https://localhost:8080/"
        },
        "id": "8IRAmRad-4Ln",
        "outputId": "7449bb91-9455-4315-b2a7-154a4fde0e8e"
      },
      "execution_count": null,
      "outputs": [
        {
          "output_type": "stream",
          "name": "stdout",
          "text": [
            "Series([], dtype: float64)\n"
          ]
        },
        {
          "output_type": "stream",
          "name": "stderr",
          "text": [
            "/usr/local/lib/python3.7/dist-packages/ipykernel_launcher.py:1: DeprecationWarning: The default dtype for empty Series will be 'object' instead of 'float64' in a future version. Specify a dtype explicitly to silence this warning.\n",
            "  \"\"\"Entry point for launching an IPython kernel.\n"
          ]
        }
      ]
    },
    {
      "cell_type": "markdown",
      "source": [
        "Câu 2: Giả sử có 1 vector hàng a có kích thước (1x7) được biểu diễn trong NumPy, hãy tạo 1\n",
        "series tương ứng với các giá trị được sinh ngẫu nhiên."
      ],
      "metadata": {
        "id": "CCTTxCucApjg"
      }
    },
    {
      "cell_type": "code",
      "source": [
        "data = np.random.randint(-20, 20 , 7)\n",
        "b = pd.Series(data)\n",
        "print(b)"
      ],
      "metadata": {
        "colab": {
          "base_uri": "https://localhost:8080/"
        },
        "id": "nVBwkSJcAJk6",
        "outputId": "23fc2936-4937-4903-af52-8c12be9fa79d"
      },
      "execution_count": null,
      "outputs": [
        {
          "output_type": "stream",
          "name": "stdout",
          "text": [
            "0    17\n",
            "1    -4\n",
            "2    19\n",
            "3    -9\n",
            "4    -6\n",
            "5   -10\n",
            "6   -18\n",
            "dtype: int64\n"
          ]
        }
      ]
    },
    {
      "cell_type": "markdown",
      "source": [
        "Câu 3: Giả sử có 1 vector hàng a có kích thước (1x7), hãy nhập các giá trị cho 7 phần tử này từ\n",
        "bàn phím và tạo series tương ứng."
      ],
      "metadata": {
        "id": "MIUl3AIIAsjP"
      }
    },
    {
      "cell_type": "code",
      "source": [
        "c = []\n",
        "for i in range(7):\n",
        "  val = int(input(f\"Nhap phan tu thu {i+1}:\"))\n",
        "  c.append(val)\n",
        "c = pd.Series(c)\n",
        "print(c)"
      ],
      "metadata": {
        "colab": {
          "base_uri": "https://localhost:8080/"
        },
        "id": "BWcX52lFEjxp",
        "outputId": "f053d794-b26e-4e68-a736-8e09f7c46e53"
      },
      "execution_count": null,
      "outputs": [
        {
          "output_type": "stream",
          "name": "stdout",
          "text": [
            "Nhap phan tu thu 1:2\n",
            "Nhap phan tu thu 2:4\n",
            "Nhap phan tu thu 3:6\n",
            "Nhap phan tu thu 4:1\n",
            "Nhap phan tu thu 5:3\n",
            "Nhap phan tu thu 6:5\n",
            "Nhap phan tu thu 7:7\n",
            "0    2\n",
            "1    4\n",
            "2    6\n",
            "3    1\n",
            "4    3\n",
            "5    5\n",
            "6    7\n",
            "dtype: int64\n"
          ]
        }
      ]
    },
    {
      "cell_type": "markdown",
      "source": [
        "Câu 4: Giả sử có 1 vector cột có kích thước (7x1) được biểu diễn trong NumPy, hãy tạo Series\n",
        "tương ứng."
      ],
      "metadata": {
        "id": "M_ZYf3elAvU1"
      }
    },
    {
      "cell_type": "code",
      "source": [
        "data = np.random.randint(-20, 20 , 7)\n",
        "d = pd.Series(data)\n",
        "print(d)"
      ],
      "metadata": {
        "colab": {
          "base_uri": "https://localhost:8080/"
        },
        "id": "JoYIjBLbFmoD",
        "outputId": "333c9435-9b59-437e-91b3-d16753ef23e6"
      },
      "execution_count": null,
      "outputs": [
        {
          "output_type": "stream",
          "name": "stdout",
          "text": [
            "0     7\n",
            "1   -10\n",
            "2   -19\n",
            "3     8\n",
            "4     8\n",
            "5    10\n",
            "6     5\n",
            "dtype: int64\n"
          ]
        }
      ]
    },
    {
      "cell_type": "markdown",
      "source": [
        "Câu 5: Chuyển đổi dữ liệu, hãy thực hiện các yêu cầu sau:\n",
        "- Chuyển 1 list thành 1 series\n",
        "- Chuyển 1 tuple thành 1 series\n",
        "- Chuyển 1 dictionary thành 1 series"
      ],
      "metadata": {
        "id": "UkLIQL6FAzu2"
      }
    },
    {
      "cell_type": "code",
      "source": [
        "lst = [2, 5, 4, 3]\n",
        "tpl = (3, 4, 5, 2)\n",
        "dic = {\"A\":1, \"B\": 2, \"C\":3}\n",
        "x = pd.Series(lst)\n",
        "y = pd.Series(tpl)\n",
        "z = pd.Series(dic)\n",
        "print(x)\n",
        "print(y)\n",
        "print(z)"
      ],
      "metadata": {
        "colab": {
          "base_uri": "https://localhost:8080/"
        },
        "id": "IqwQHMmOGQa7",
        "outputId": "0aa4e31b-51c6-43b1-cef9-23c2d538e110"
      },
      "execution_count": null,
      "outputs": [
        {
          "output_type": "stream",
          "name": "stdout",
          "text": [
            "0    2\n",
            "1    5\n",
            "2    4\n",
            "3    3\n",
            "dtype: int64\n",
            "0    3\n",
            "1    4\n",
            "2    5\n",
            "3    2\n",
            "dtype: int64\n",
            "A    1\n",
            "B    2\n",
            "C    3\n",
            "dtype: int64\n"
          ]
        }
      ]
    },
    {
      "cell_type": "markdown",
      "source": [
        "Câu 6: Mỗi phần tử của series đều gắn liền với các chỉ số (index) tương ứng, hãy tạo một series\n",
        "có kích thước (1x20) với giá trị ngẫu nhiên:\n",
        "- Xuất series ra màn hình\n",
        "- Xuất các chỉ số của series ra màn hình\n",
        "- Thay đổi cách đánh chỉ số mặc định của series từ đánh chỉ số bằng số nguyên sang các kiểu\n",
        "đánh chỉ số bằng label và in kết quả ra màn hình"
      ],
      "metadata": {
        "id": "20_Gsmk5A2qp"
      }
    },
    {
      "cell_type": "code",
      "source": [
        "data = np.random.randint(-20, 20, 20)\n",
        "e = pd.Series(data)\n",
        "print(e)\n",
        "print(e.index)\n",
        "idx = list(string.ascii_lowercase)\n",
        "e.index = idx[:20]\n",
        "print(e)"
      ],
      "metadata": {
        "colab": {
          "base_uri": "https://localhost:8080/"
        },
        "id": "YNu2OiFOHmjM",
        "outputId": "86c03c26-d234-45b2-f6f1-7777463d7590"
      },
      "execution_count": null,
      "outputs": [
        {
          "output_type": "stream",
          "name": "stdout",
          "text": [
            "0      5\n",
            "1     12\n",
            "2    -14\n",
            "3     17\n",
            "4    -17\n",
            "5     12\n",
            "6      2\n",
            "7    -12\n",
            "8     10\n",
            "9    -11\n",
            "10    -5\n",
            "11     3\n",
            "12    15\n",
            "13    16\n",
            "14     9\n",
            "15     7\n",
            "16   -20\n",
            "17     0\n",
            "18     6\n",
            "19   -15\n",
            "dtype: int64\n",
            "RangeIndex(start=0, stop=20, step=1)\n",
            "a     5\n",
            "b    12\n",
            "c   -14\n",
            "d    17\n",
            "e   -17\n",
            "f    12\n",
            "g     2\n",
            "h   -12\n",
            "i    10\n",
            "j   -11\n",
            "k    -5\n",
            "l     3\n",
            "m    15\n",
            "n    16\n",
            "o     9\n",
            "p     7\n",
            "q   -20\n",
            "r     0\n",
            "s     6\n",
            "t   -15\n",
            "dtype: int64\n"
          ]
        }
      ]
    },
    {
      "cell_type": "markdown",
      "source": [
        "Câu 7: Giả sử có series có kích thước (1x10), giá trị ngẫu nhiên, index được đánh từ ‘a’ trở đi,\n",
        "hãy:\n",
        "- Trích xuất các phần tử của Series có chỉ số là ‘a’, ‘c’, ‘e’\n",
        "- Trích xuất các phần tử của Series có chỉ số từ 3 đến 6"
      ],
      "metadata": {
        "id": "wxqN1Q0oA507"
      }
    },
    {
      "cell_type": "code",
      "source": [
        "data = np.random.randint(-20, 20, 10)\n",
        "f = pd.Series(data)\n",
        "idx = list(string.ascii_lowercase)\n",
        "f.index = idx[:10]\n",
        "print(f.loc[[\"a\",\"c\",\"e\"]])\n",
        "print(f.iloc[range(3,6)])"
      ],
      "metadata": {
        "colab": {
          "base_uri": "https://localhost:8080/"
        },
        "id": "dBPz7nbkKxTh",
        "outputId": "2f9adb86-61e6-4280-d344-6e7bc8312123"
      },
      "execution_count": null,
      "outputs": [
        {
          "output_type": "stream",
          "name": "stdout",
          "text": [
            "a    -6\n",
            "c    -3\n",
            "e   -18\n",
            "dtype: int64\n",
            "d     2\n",
            "e   -18\n",
            "f   -12\n",
            "dtype: int64\n"
          ]
        }
      ]
    }
  ]
}