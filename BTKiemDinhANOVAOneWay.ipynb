{
  "cells": [
    {
      "cell_type": "markdown",
      "metadata": {
        "id": "view-in-github",
        "colab_type": "text"
      },
      "source": [
        "<a href=\"https://colab.research.google.com/github/TranNhatHan/ExercisePythonInClass/blob/main/BTKiemDinhANOVAOneWay.ipynb\" target=\"_parent\"><img src=\"https://colab.research.google.com/assets/colab-badge.svg\" alt=\"Open In Colab\"/></a>"
      ]
    },
    {
      "cell_type": "markdown",
      "metadata": {
        "id": "TmvtWmTR4ZnB"
      },
      "source": [
        "Hãy sử dụng các tập dữ liệu sau và tiến hành phân tích ANOVA 1 chiều\n",
        "\n",
        "- [Excavation Depth and Archaeology](https://college.cengage.com/mathematics/brase/understandable_statistics/7e/students/datasets/owan/frames/owan01.html)\n",
        "- [Apple Orchard Experiment](https://college.cengage.com/mathematics/brase/understandable_statistics/7e/students/datasets/owan/frames/owan02.html)\n",
        "- [Red Dye Number 40](https://college.cengage.com/mathematics/brase/understandable_statistics/7e/students/datasets/owan/frames/owan03.html)\n",
        "- [Business Startup Costs](https://college.cengage.com/mathematics/brase/understandable_statistics/7e/students/datasets/owan/frames/owan04.html)\n",
        "- [Weights of Football Players](https://college.cengage.com/mathematics/brase/understandable_statistics/7e/students/datasets/owan/frames/owan05.html)"
      ]
    },
    {
      "cell_type": "code",
      "source": [
        "from google.colab import drive\n",
        "drive.mount('/content/drive')"
      ],
      "metadata": {
        "colab": {
          "base_uri": "https://localhost:8080/"
        },
        "id": "l6-UuP0T7SuE",
        "outputId": "85756ed2-81d0-48e9-eb51-b2eb5e3e59d7"
      },
      "execution_count": 78,
      "outputs": [
        {
          "output_type": "stream",
          "name": "stdout",
          "text": [
            "Drive already mounted at /content/drive; to attempt to forcibly remount, call drive.mount(\"/content/drive\", force_remount=True).\n"
          ]
        }
      ]
    },
    {
      "cell_type": "code",
      "source": [
        "import pandas as pd\n",
        "import scipy.stats as ss"
      ],
      "metadata": {
        "id": "0VrALi0P41P0"
      },
      "execution_count": 143,
      "outputs": []
    },
    {
      "cell_type": "markdown",
      "source": [
        "Bài toán 1: Độ sâu khai quật và khảo cổ học\n",
        "Bốn địa điểm khai quật khác nhau tại một khu vực khảo cổ ở New Mexico đã đưa ra độ sâu (cm) cho những khám phá khảo cổ quan trọng.\n",
        "* X1 = độ sâu tại Vị trí I\n",
        "* X2 = độ sâu tại Vị trí II\n",
        "* X3 = độ sâu tại Vị trí III\n",
        "* X4 = độ sâu tại Vị trí IV\n",
        "\n",
        "Kiểm tra có sự khác biệt nào về độ sâu trung bình để tìm ra khảo cổ của bốn địa điểm có khác nhau hay không?"
      ],
      "metadata": {
        "id": "kvAxy7W6BgKl"
      }
    },
    {
      "cell_type": "markdown",
      "source": [
        "Phát biểu giả thuyết:\n",
        "*   $H_0$: Không có sự khác nhau về độ sâu trung bình để tìm ra khảo cổ của bốn địa điểm\n",
        "*   $H_a$: Có ít nhất một địa điểm có độ sâu trung bình khác với các địa điểm còn lại"
      ],
      "metadata": {
        "id": "ziAQLJPHCMp5"
      }
    },
    {
      "cell_type": "code",
      "execution_count": 144,
      "metadata": {
        "id": "wH-PsSb84ZnG"
      },
      "outputs": [],
      "source": [
        "df1 = pd.read_csv(\"/content/drive/MyDrive/DataANOVAExercise/DataANOVA1.csv\")\n",
        "df1 = df1.dropna()"
      ]
    },
    {
      "cell_type": "markdown",
      "source": [
        "Kiểm tra mẫu có phải là phân phối chuẩn hay xấp xỉ phân phối chuẩn"
      ],
      "metadata": {
        "id": "o-WEUDPTGAgA"
      }
    },
    {
      "cell_type": "code",
      "source": [
        "statistic, p_value = ss.shapiro(df1[\"X1\"])\n",
        "print(p_value)\n",
        "if p_value < 0.05:\n",
        "  print(\"Có bằng chứng bác bỏ giả thuyết mẫu đến từ phân phối chuẩn\")\n",
        "else:\n",
        "  print(\"Không có bằng chứng bác bỏ giả thuyết mẫu đến từ phân phối chuẩn\")"
      ],
      "metadata": {
        "colab": {
          "base_uri": "https://localhost:8080/"
        },
        "id": "tSLC0FtvEpzZ",
        "outputId": "41506cd4-f1ae-4d3d-b1e9-264ba7c253bf"
      },
      "execution_count": 145,
      "outputs": [
        {
          "output_type": "stream",
          "name": "stdout",
          "text": [
            "0.9508695602416992\n",
            "Không có bằng chứng bác bỏ giả thuyết mẫu đến từ phân phối chuẩn\n"
          ]
        }
      ]
    },
    {
      "cell_type": "code",
      "source": [
        "statistic, p_value = ss.shapiro(df1[\"X2\"])\n",
        "print(p_value)\n",
        "if p_value < 0.05:\n",
        "  print(\"Có bằng chứng bác bỏ giả thuyết mẫu đến từ phân phối chuẩn\")\n",
        "else:\n",
        "  print(\"Không có bằng chứng bác bỏ giả thuyết mẫu đến từ phân phối chuẩn\")"
      ],
      "metadata": {
        "colab": {
          "base_uri": "https://localhost:8080/"
        },
        "id": "JK_-JbzYFgxL",
        "outputId": "79d1f963-eb04-4165-e094-3fffa048fc34"
      },
      "execution_count": 146,
      "outputs": [
        {
          "output_type": "stream",
          "name": "stdout",
          "text": [
            "0.8324363231658936\n",
            "Không có bằng chứng bác bỏ giả thuyết mẫu đến từ phân phối chuẩn\n"
          ]
        }
      ]
    },
    {
      "cell_type": "code",
      "source": [
        "statistic, p_value = ss.shapiro(df1[\"X3\"])\n",
        "print(p_value)\n",
        "if p_value < 0.05:\n",
        "  print(\"Có bằng chứng bác bỏ giả thuyết mẫu đến từ phân phối chuẩn\")\n",
        "else:\n",
        "  print(\"Không có bằng chứng bác bỏ giả thuyết mẫu đến từ phân phối chuẩn\")"
      ],
      "metadata": {
        "colab": {
          "base_uri": "https://localhost:8080/"
        },
        "id": "BSvh5sKDFg41",
        "outputId": "d7dfaa90-103b-461e-97f9-547175f22cc7"
      },
      "execution_count": 147,
      "outputs": [
        {
          "output_type": "stream",
          "name": "stdout",
          "text": [
            "0.8603958487510681\n",
            "Không có bằng chứng bác bỏ giả thuyết mẫu đến từ phân phối chuẩn\n"
          ]
        }
      ]
    },
    {
      "cell_type": "code",
      "source": [
        "statistic, p_value = ss.shapiro(df1[\"X4\"])\n",
        "print(p_value)\n",
        "if p_value < 0.05:\n",
        "  print(\"Có bằng chứng bác bỏ giả thuyết mẫu đến từ phân phối chuẩn\")\n",
        "else:\n",
        "  print(\"Không có bằng chứng bác bỏ giả thuyết mẫu đến từ phân phối chuẩn\")"
      ],
      "metadata": {
        "colab": {
          "base_uri": "https://localhost:8080/"
        },
        "id": "CPQqQhECFg_H",
        "outputId": "92db9ffb-6029-46e1-bb12-e91b55d74931"
      },
      "execution_count": 148,
      "outputs": [
        {
          "output_type": "stream",
          "name": "stdout",
          "text": [
            "0.13579683005809784\n",
            "Không có bằng chứng bác bỏ giả thuyết mẫu đến từ phân phối chuẩn\n"
          ]
        }
      ]
    },
    {
      "cell_type": "markdown",
      "source": [
        "Kiểm tra phương sai của mẫu có sự khác biệt nào không?"
      ],
      "metadata": {
        "id": "6ROt14z-GKCh"
      }
    },
    {
      "cell_type": "code",
      "source": [
        "statistic, p_value = ss.bartlett(df1[\"X1\"], df1[\"X2\"], df1[\"X3\"], df1[\"X4\"])\n",
        "print(p_value)\n",
        "if p_value <= 0.05:\n",
        "  print(\"Có bằng chứng bác bỏ giả thuyết độ sâu trung bình của các địa điểm có phương sai bằng nhau\")\n",
        "else:\n",
        "  print(\"Không có bằng chứng bác bỏ giả thuyết độ sâu trung bình của các địa điểm có phương sai bằng nhau\")"
      ],
      "metadata": {
        "colab": {
          "base_uri": "https://localhost:8080/"
        },
        "id": "uDU1fe2OGVa0",
        "outputId": "18e6ade9-217b-4fd6-bee8-a31ef2ca43f0"
      },
      "execution_count": 149,
      "outputs": [
        {
          "output_type": "stream",
          "name": "stdout",
          "text": [
            "0.6593319405510176\n",
            "Không có bằng chứng bác bỏ giả thuyết độ sâu trung bình của các địa điểm có phương sai bằng nhau\n"
          ]
        }
      ]
    },
    {
      "cell_type": "markdown",
      "source": [
        "Từ các kiểm định trên ta giả định rằng các mẫu dữ liệu được lấy từ phân phối chuẩn và không có sự khác biệt về phương sai về độ sâu trung bình giữa các địa điểm. Và tất cả các nhóm đều độc lập với nhau."
      ],
      "metadata": {
        "id": "2LphztemHUWt"
      }
    },
    {
      "cell_type": "code",
      "source": [
        "statistic, p_value = ss.f_oneway(df1[\"X1\"], df1[\"X2\"], df1[\"X3\"], df1[\"X4\"])\n",
        "if p_value <= 0.05:\n",
        "  print(\"Có bằng chứng bác bỏ giả thuyết H0\")\n",
        "else:\n",
        "  print(\"Không có bằng chứng bác bỏ giả thuyết H0\")"
      ],
      "metadata": {
        "colab": {
          "base_uri": "https://localhost:8080/"
        },
        "id": "lUCvDh6QCpmN",
        "outputId": "715109a1-08fd-4c78-8636-f27ee4bad0df"
      },
      "execution_count": 150,
      "outputs": [
        {
          "output_type": "stream",
          "name": "stdout",
          "text": [
            "Có bằng chứng bác bỏ giả thuyết H0\n"
          ]
        }
      ]
    },
    {
      "cell_type": "markdown",
      "source": [
        "VỚI 95% ĐỘ TIN CẬY TA CÓ BẰNG CHỨNG BÁC BỎ GIẢ THUYẾT ĐỘ SÂU TRUNG BÌNH ĐỂ TÌM RA CÁC KHẢO CỔ CỦA MỖI ĐỊA ĐIỂM LÀ GIỐNG NHAU "
      ],
      "metadata": {
        "id": "F1aoIsIRJMeu"
      }
    },
    {
      "cell_type": "markdown",
      "source": [
        "TỨC TA CÓ THỂ PHÁT BIỂU RẰNG ĐỘ SÂU TRUNG BÌNH CỦA MỖI ĐỊA ĐIỂM LÀ KHÁC NHAU"
      ],
      "metadata": {
        "id": "a1ZoY7rUKUHS"
      }
    },
    {
      "cell_type": "markdown",
      "source": [
        "Bài toán 3: Đại học Harvard cho chuột ăn các liều thuốc nhuộm đỏ số 40 khác nhau và ghi lại thời gian chết trong nhiều tuần. Kết quả đối với chuột cái, liều lượng và thời gian chết được hiển thị trong dữ liệu\n",
        "* X1 = thời gian chết cho nhóm kiểm soát\n",
        "* X2 = thời gian tử vong của nhóm sử dụng liều lượng thấp\n",
        "* X3 = thời gian tử vong của nhóm sử dụng liều lượng trung bình\n",
        "* X4 = thời gian tử vong của nhóm sử dụng liều lượng cao\n",
        "\n",
        "Kiểm tra có sự khác biệt nào về thời gian chết của các nhóm?"
      ],
      "metadata": {
        "id": "6UDks46fMgrl"
      }
    },
    {
      "cell_type": "code",
      "source": [
        "df3 = pd.read_csv(\"/content/drive/MyDrive/DataANOVAExercise/DataANOVA3.csv\")\n",
        "df3 = df3.dropna()"
      ],
      "metadata": {
        "id": "_myPF9hjJmda"
      },
      "execution_count": 151,
      "outputs": []
    },
    {
      "cell_type": "markdown",
      "source": [
        "Phát biểu giả thuyết:\n",
        "*   $H_0$: Không có sự khác nhau về thời gian chết trung bình của các nhóm\n",
        "*   $H_a$: Có ít nhất một nhóm có thời gian chết trung bình khác biệt so với các nhóm còn lại"
      ],
      "metadata": {
        "id": "RyQYJQq0M4hV"
      }
    },
    {
      "cell_type": "markdown",
      "source": [
        "Kiểm tra mẫu có phải là phân phối chuẩn hay xấp xỉ phân phối chuẩn"
      ],
      "metadata": {
        "id": "WtIHoAXYLuXX"
      }
    },
    {
      "cell_type": "code",
      "source": [
        "statistic, p_value = ss.shapiro(df3[\"X1\"])\n",
        "print(p_value)\n",
        "if p_value < 0.05:\n",
        "  print(\"Có bằng chứng bác bỏ giả thuyết mẫu đến từ phân phối chuẩn\")\n",
        "else:\n",
        "  print(\"Không có bằng chứng bác bỏ giả thuyết mẫu đến từ phân phối chuẩn\")"
      ],
      "metadata": {
        "colab": {
          "base_uri": "https://localhost:8080/"
        },
        "outputId": "bc83beeb-b7d9-4c65-a389-d57591d62c53",
        "id": "y546r2nZLuXh"
      },
      "execution_count": 152,
      "outputs": [
        {
          "output_type": "stream",
          "name": "stdout",
          "text": [
            "0.8542101979255676\n",
            "Không có bằng chứng bác bỏ giả thuyết mẫu đến từ phân phối chuẩn\n"
          ]
        }
      ]
    },
    {
      "cell_type": "code",
      "source": [
        "statistic, p_value = ss.shapiro(df3[\"X2\"])\n",
        "print(p_value)\n",
        "if p_value < 0.05:\n",
        "  print(\"Có bằng chứng bác bỏ giả thuyết mẫu đến từ phân phối chuẩn\")\n",
        "else:\n",
        "  print(\"Không có bằng chứng bác bỏ giả thuyết mẫu đến từ phân phối chuẩn\")"
      ],
      "metadata": {
        "colab": {
          "base_uri": "https://localhost:8080/"
        },
        "outputId": "e0e42c6c-2f74-42c0-eccf-06cae688a435",
        "id": "f8mVHB40LuXi"
      },
      "execution_count": 153,
      "outputs": [
        {
          "output_type": "stream",
          "name": "stdout",
          "text": [
            "0.8434385061264038\n",
            "Không có bằng chứng bác bỏ giả thuyết mẫu đến từ phân phối chuẩn\n"
          ]
        }
      ]
    },
    {
      "cell_type": "code",
      "source": [
        "statistic, p_value = ss.shapiro(df3[\"X3\"])\n",
        "print(p_value)\n",
        "if p_value < 0.05:\n",
        "  print(\"Có bằng chứng bác bỏ giả thuyết mẫu đến từ phân phối chuẩn\")\n",
        "else:\n",
        "  print(\"Không có bằng chứng bác bỏ giả thuyết mẫu đến từ phân phối chuẩn\")"
      ],
      "metadata": {
        "colab": {
          "base_uri": "https://localhost:8080/"
        },
        "outputId": "fc71b0b6-f1bc-4106-ca46-b50286586ad8",
        "id": "JATCCBh_LuXi"
      },
      "execution_count": 154,
      "outputs": [
        {
          "output_type": "stream",
          "name": "stdout",
          "text": [
            "0.3321065306663513\n",
            "Không có bằng chứng bác bỏ giả thuyết mẫu đến từ phân phối chuẩn\n"
          ]
        }
      ]
    },
    {
      "cell_type": "code",
      "source": [
        "statistic, p_value = ss.shapiro(df3[\"X4\"])\n",
        "print(p_value)\n",
        "if p_value < 0.05:\n",
        "  print(\"Có bằng chứng bác bỏ giả thuyết mẫu đến từ phân phối chuẩn\")\n",
        "else:\n",
        "  print(\"Không có bằng chứng bác bỏ giả thuyết mẫu đến từ phân phối chuẩn\")"
      ],
      "metadata": {
        "colab": {
          "base_uri": "https://localhost:8080/"
        },
        "outputId": "38191287-fee2-4d62-9b20-c1ed3e6b96d1",
        "id": "EPSbxSyDLuXi"
      },
      "execution_count": 155,
      "outputs": [
        {
          "output_type": "stream",
          "name": "stdout",
          "text": [
            "0.14956821501255035\n",
            "Không có bằng chứng bác bỏ giả thuyết mẫu đến từ phân phối chuẩn\n"
          ]
        }
      ]
    },
    {
      "cell_type": "markdown",
      "source": [
        "Kiểm tra phương sai của mẫu có sự khác biệt nào không?"
      ],
      "metadata": {
        "id": "c1bLVXBdLuXi"
      }
    },
    {
      "cell_type": "code",
      "source": [
        "statistic, p_value = ss.bartlett(df3[\"X1\"], df3[\"X2\"], df3[\"X3\"], df3[\"X4\"])\n",
        "print(p_value)\n",
        "if p_value <= 0.05:\n",
        "  print(\"Có bằng chứng bác bỏ giả thuyết thời gian chết của các nhóm chuột có phương sai bằng nhau\")\n",
        "else:\n",
        "  print(\"Không có bằng chứng bác bỏ giả thuyết thời gian chết của các nhóm chuột có phương sai bằng nhau\")"
      ],
      "metadata": {
        "colab": {
          "base_uri": "https://localhost:8080/"
        },
        "outputId": "661f097b-3b4a-43bb-fd04-eeb03a3dc013",
        "id": "j58sX66ZLuXi"
      },
      "execution_count": 164,
      "outputs": [
        {
          "output_type": "stream",
          "name": "stdout",
          "text": [
            "0.023106804849423433\n",
            "Có bằng chứng bác bỏ giả thuyết thời gian chết của các nhóm chuột có phương sai bằng nhau\n"
          ]
        }
      ]
    },
    {
      "cell_type": "markdown",
      "source": [
        "Vì phương sai của các nhóm có sự khác biết nên ta không thể tiến hành kiểm định ANOVA"
      ],
      "metadata": {
        "id": "aKissmYOSO0M"
      }
    },
    {
      "cell_type": "markdown",
      "source": [
        "Bài toán 5: Dữ liệu sau đây là trọngtrọng lượng (pound) của một mẫu ngẫu nhiên các cầu thủ bóng đá chuyên nghiệp của các đội sau đây.\n",
        "* X1 = Trọng lượng của các cầu thủ chơi cho Dallas Cowboys\n",
        "* X2 = Trọng lượng của các cầu thủ chơi cho Green Bay Packers\n",
        "* X3 = Trọng lượng của các cầu thủ chơi cho Denver Broncos\n",
        "* X4 = Trọng lượng của các cầu thủ chơi cho Miami Dolphins\n",
        "* X5 = Trọng lượng của các cầu thủ chơi cho San Francisco Forty Niners\n",
        "\n",
        "Kiểm tra xem có sự khác biệt về trọng lượng trung bình của các cầu thủ của mỗi đội"
      ],
      "metadata": {
        "id": "rhkFFZ10Sqnk"
      }
    },
    {
      "cell_type": "code",
      "source": [
        "df5 = pd.read_csv(\"/content/drive/MyDrive/DataANOVAExercise/DataANOVA5.csv\")\n",
        "df5 = df5.dropna()"
      ],
      "metadata": {
        "id": "JnsMwYyGTYvq"
      },
      "execution_count": 157,
      "outputs": []
    },
    {
      "cell_type": "markdown",
      "source": [
        "Phát biểu giả thuyết:\n",
        "*   $H_0$: Không có sự khác nhau về trọng lượng trung bình của các nhóm\n",
        "*   $H_a$: Có ít nhất một nhóm có trọng lượng trung bình khác biệt so với các nhóm còn lại"
      ],
      "metadata": {
        "id": "T7q0EWL-TYvq"
      }
    },
    {
      "cell_type": "markdown",
      "source": [
        "Kiểm tra mẫu có phải là phân phối chuẩn hay xấp xỉ phân phối chuẩn"
      ],
      "metadata": {
        "id": "iTe4ThUCTYvr"
      }
    },
    {
      "cell_type": "code",
      "source": [
        "statistic, p_value = ss.shapiro(df5[\"X1\"])\n",
        "print(p_value)\n",
        "if p_value < 0.05:\n",
        "  print(\"Có bằng chứng bác bỏ giả thuyết mẫu đến từ phân phối chuẩn\")\n",
        "else:\n",
        "  print(\"Không có bằng chứng bác bỏ giả thuyết mẫu đến từ phân phối chuẩn\")"
      ],
      "metadata": {
        "colab": {
          "base_uri": "https://localhost:8080/"
        },
        "outputId": "13b055b7-24ff-4538-be4d-8d6fc54925e3",
        "id": "JhGw6SbHTYvr"
      },
      "execution_count": 158,
      "outputs": [
        {
          "output_type": "stream",
          "name": "stdout",
          "text": [
            "0.028549334034323692\n",
            "Có bằng chứng bác bỏ giả thuyết mẫu đến từ phân phối chuẩn\n"
          ]
        }
      ]
    },
    {
      "cell_type": "markdown",
      "source": [
        "Mẫu không đến từ phân phối chuẩn hay xấp xỉ nên không thể tiến hành kiểm định ANOVA"
      ],
      "metadata": {
        "id": "IXEjhK65UAgA"
      }
    },
    {
      "cell_type": "markdown",
      "source": [
        "Bài toán 2: Năm loại gốc rễ đã được sử dụng trong một thí nghiệm ghép vườn táo. Dữ liệu sau đây thể hiện mức tăng trưởng mở rộng (cm) sau bốn năm.\n",
        "* X1 = tăng trưởng phần mở rộng cho loại I\n",
        "* X2 = tăng trưởng mở rộng cho loại II\n",
        "* X3 = tăng trưởng mở rộng cho loại III\n",
        "* X4 = tăng trưởng mở rộng cho loại IV\n",
        "* X5 = tăng trưởng mở rộng cho loại V\n",
        "\n",
        "Kiểm tra có sự khác biệt về mức tăng trưởng mở rộng sau bốn năm của năm loại gốc rễ?"
      ],
      "metadata": {
        "id": "891uzo7FUhRm"
      }
    },
    {
      "cell_type": "code",
      "source": [
        "df2 = pd.read_csv(\"/content/drive/MyDrive/DataANOVAExercise/DataANOVA2.csv\")\n",
        "df2 = df2.dropna()"
      ],
      "metadata": {
        "id": "nv_D1G8TUKN2"
      },
      "execution_count": 159,
      "outputs": []
    },
    {
      "cell_type": "markdown",
      "source": [
        "Phát biểu giả thuyết:\n",
        "*   $H_0$: Không có sự khác nhau mức độ tăng trưởng mở rộng trung bình của các nhóm\n",
        "*   $H_a$: Có ít nhất một nhóm có mức độ tăng trưởng mở rộng trung bình khác biệt so với các nhóm còn lại"
      ],
      "metadata": {
        "id": "bv8KgG1AZFID"
      }
    },
    {
      "cell_type": "markdown",
      "source": [
        "Kiểm tra mẫu có phải là phân phối chuẩn hay xấp xỉ phân phối chuẩn"
      ],
      "metadata": {
        "id": "7-eVVCiNU_J2"
      }
    },
    {
      "cell_type": "code",
      "source": [
        "statistic, p_value = ss.shapiro(df2[\"X1\"])\n",
        "print(p_value)\n",
        "if p_value < 0.05:\n",
        "  print(\"Có bằng chứng bác bỏ giả thuyết mẫu đến từ phân phối chuẩn\")\n",
        "else:\n",
        "  print(\"Không có bằng chứng bác bỏ giả thuyết mẫu đến từ phân phối chuẩn\")"
      ],
      "metadata": {
        "colab": {
          "base_uri": "https://localhost:8080/"
        },
        "outputId": "11b08563-345f-4044-d9b5-da6f3ed46561",
        "id": "pts_XX9WU_J2"
      },
      "execution_count": 160,
      "outputs": [
        {
          "output_type": "stream",
          "name": "stdout",
          "text": [
            "0.644533634185791\n",
            "Không có bằng chứng bác bỏ giả thuyết mẫu đến từ phân phối chuẩn\n"
          ]
        }
      ]
    },
    {
      "cell_type": "code",
      "source": [
        "statistic, p_value = ss.shapiro(df2[\"X2\"])\n",
        "print(p_value)\n",
        "if p_value < 0.05:\n",
        "  print(\"Có bằng chứng bác bỏ giả thuyết mẫu đến từ phân phối chuẩn\")\n",
        "else:\n",
        "  print(\"Không có bằng chứng bác bỏ giả thuyết mẫu đến từ phân phối chuẩn\")"
      ],
      "metadata": {
        "colab": {
          "base_uri": "https://localhost:8080/"
        },
        "outputId": "bf795376-9916-4339-f4a6-644f45eb1fff",
        "id": "XvcW0k20U_J3"
      },
      "execution_count": 161,
      "outputs": [
        {
          "output_type": "stream",
          "name": "stdout",
          "text": [
            "0.7472830414772034\n",
            "Không có bằng chứng bác bỏ giả thuyết mẫu đến từ phân phối chuẩn\n"
          ]
        }
      ]
    },
    {
      "cell_type": "code",
      "source": [
        "statistic, p_value = ss.shapiro(df2[\"X3\"])\n",
        "print(p_value)\n",
        "if p_value < 0.05:\n",
        "  print(\"Có bằng chứng bác bỏ giả thuyết mẫu đến từ phân phối chuẩn\")\n",
        "else:\n",
        "  print(\"Không có bằng chứng bác bỏ giả thuyết mẫu đến từ phân phối chuẩn\")"
      ],
      "metadata": {
        "colab": {
          "base_uri": "https://localhost:8080/"
        },
        "outputId": "1e7a3218-9d92-4105-d34f-3ab3b5bebe60",
        "id": "nJ_kRECYU_J3"
      },
      "execution_count": 162,
      "outputs": [
        {
          "output_type": "stream",
          "name": "stdout",
          "text": [
            "0.3169650137424469\n",
            "Không có bằng chứng bác bỏ giả thuyết mẫu đến từ phân phối chuẩn\n"
          ]
        }
      ]
    },
    {
      "cell_type": "code",
      "source": [
        "statistic, p_value = ss.shapiro(df2[\"X4\"])\n",
        "print(p_value)\n",
        "if p_value < 0.05:\n",
        "  print(\"Có bằng chứng bác bỏ giả thuyết mẫu đến từ phân phối chuẩn\")\n",
        "else:\n",
        "  print(\"Không có bằng chứng bác bỏ giả thuyết mẫu đến từ phân phối chuẩn\")"
      ],
      "metadata": {
        "colab": {
          "base_uri": "https://localhost:8080/"
        },
        "outputId": "1574af3e-6a32-4d32-c94d-8faa883489e1",
        "id": "OfN2Nt9NU_J3"
      },
      "execution_count": 131,
      "outputs": [
        {
          "output_type": "stream",
          "name": "stdout",
          "text": [
            "0.5994704365730286\n",
            "Không có bằng chứng bác bỏ giả thuyết mẫu đến từ phân phối chuẩn\n"
          ]
        }
      ]
    },
    {
      "cell_type": "code",
      "source": [
        "statistic, p_value = ss.shapiro(df2[\"X5\"])\n",
        "print(p_value)\n",
        "if p_value < 0.05:\n",
        "  print(\"Có bằng chứng bác bỏ giả thuyết mẫu đến từ phân phối chuẩn\")\n",
        "else:\n",
        "  print(\"Không có bằng chứng bác bỏ giả thuyết mẫu đến từ phân phối chuẩn\")"
      ],
      "metadata": {
        "colab": {
          "base_uri": "https://localhost:8080/"
        },
        "id": "AKjteMniVJR4",
        "outputId": "75d5a8c6-eeb6-480c-a98a-014d0dcd2d62"
      },
      "execution_count": 132,
      "outputs": [
        {
          "output_type": "stream",
          "name": "stdout",
          "text": [
            "0.803491473197937\n",
            "Không có bằng chứng bác bỏ giả thuyết mẫu đến từ phân phối chuẩn\n"
          ]
        }
      ]
    },
    {
      "cell_type": "markdown",
      "source": [
        "Kiểm tra phương sai của mẫu có sự khác biệt nào không?"
      ],
      "metadata": {
        "id": "NPRhIJ2GU_J3"
      }
    },
    {
      "cell_type": "code",
      "source": [
        "statistic, p_value = ss.bartlett(df2[\"X1\"], df2[\"X2\"], df2[\"X3\"], df2[\"X4\"])\n",
        "print(p_value)\n",
        "if p_value <= 0.05:\n",
        "  print(\"Có bằng chứng bác bỏ giả thuyết mức độ tăng trưởng của các loại rễ có phương sai bằng nhau\")\n",
        "else:\n",
        "  print(\"Không có bằng chứng bác bỏ giả thuyết mức độ tăng trưởng của các loại rễ có phương sai bằng nhau\")"
      ],
      "metadata": {
        "colab": {
          "base_uri": "https://localhost:8080/"
        },
        "outputId": "7d7d75bc-4ec3-4276-bc60-3b4a3bbd73f3",
        "id": "wCVzsG5TU_J3"
      },
      "execution_count": 163,
      "outputs": [
        {
          "output_type": "stream",
          "name": "stdout",
          "text": [
            "0.8329412252031859\n",
            "Không có bằng chứng bác bỏ giả thuyết mức độ tăng trưởng của các loại rễ có phương sai bằng nhau\n"
          ]
        }
      ]
    },
    {
      "cell_type": "markdown",
      "source": [
        "Từ các kiểm định trên ta giả định rằng các mẫu dữ liệu được lấy từ phân phối chuẩn và không có sự khác biệt về phương sai về độ sâu trung bình giữa các địa điểm. Và tất cả các nhóm đều độc lập với nhau."
      ],
      "metadata": {
        "id": "3hx6FbsQU_J3"
      }
    },
    {
      "cell_type": "code",
      "source": [
        "statistic, p_value = ss.f_oneway(df2[\"X1\"], df2[\"X2\"], df2[\"X3\"], df2[\"X4\"])\n",
        "if p_value <= 0.05:\n",
        "  print(\"Có bằng chứng bác bỏ giả thuyết H0\")\n",
        "else:\n",
        "  print(\"Không có bằng chứng bác bỏ giả thuyết H0\")"
      ],
      "metadata": {
        "colab": {
          "base_uri": "https://localhost:8080/"
        },
        "outputId": "af47274c-b7bd-4012-dc5b-d3782b25cff0",
        "id": "FsM2ej13WrwF"
      },
      "execution_count": 135,
      "outputs": [
        {
          "output_type": "stream",
          "name": "stdout",
          "text": [
            "Không có bằng chứng bác bỏ giả thuyết H0\n"
          ]
        }
      ]
    },
    {
      "cell_type": "markdown",
      "source": [
        "VỚI 95% ĐỘ TIN CẬY TA KHÔNG CÓ BẰNG CHỨNG BÁC BỎ GIẢ THUYẾT MỨC TĂNG TRƯỞNG MỞ RỘNG CỦA NĂM LOẠI RỄ LÀ GIỐNG NHAU "
      ],
      "metadata": {
        "id": "3lpCmLjgWrwF"
      }
    },
    {
      "cell_type": "markdown",
      "source": [
        "TỨC TA CÓ THỂ PHÁT BIỂU RẰNG MỨC ĐỘ TĂNG TRƯỞNG MỞ RỘNG CỦA NĂM LOẠI RỄ CÂY CÓ THỂ BẰNG NHAU"
      ],
      "metadata": {
        "id": "nCTwMEimWrwF"
      }
    },
    {
      "cell_type": "markdown",
      "source": [
        "Bài toán 4: Dữ liệu sau thể hiện chi phí khởi nghiệp kinh doanh (nghìn đô la) cho các cửa hàng.\n",
        "* X1 = chi phí khởi nghiệp cho cửa hàng bánh pizza\n",
        "* X2 = chi phí khởi nghiệp cho cửa hàng bánh / bánh rán\n",
        "* X3 = chi phí khởi nghiệp cho cửa hàng hàng giày\n",
        "* X4 = chi phí khởi nghiệp cho cửa hàng quà tặng\n",
        "* X5 = chi phí khởi nghiệp cho cửa hàng thú cưng\n",
        "\n",
        "Kiểm tra xem chi phí khởi nghiệp của các loại của hàng có sự khác biệt nào không?"
      ],
      "metadata": {
        "id": "BLYLdb6fXX4s"
      }
    },
    {
      "cell_type": "code",
      "source": [
        "df4 = pd.read_csv(\"/content/drive/MyDrive/DataANOVAExercise/DataANOVA4.csv\")\n",
        "df4 = df4.dropna()"
      ],
      "metadata": {
        "id": "HyQ8lCtFYLVo"
      },
      "execution_count": 136,
      "outputs": []
    },
    {
      "cell_type": "markdown",
      "source": [
        "Phát biểu giả thuyết:\n",
        "*   $H_0$: Không có sự khác nhau chi phí khởi nghiệp trung bình của các nhóm\n",
        "*   $H_a$: Có ít nhất một nhóm có chi phí khởi nghiệp trung bình khác biệt so với các nhóm còn lại"
      ],
      "metadata": {
        "id": "mMk5oyzaZdUs"
      }
    },
    {
      "cell_type": "markdown",
      "source": [
        "Kiểm tra mẫu có phải là phân phối chuẩn hay xấp xỉ phân phối chuẩn"
      ],
      "metadata": {
        "id": "eDW2seyuYLVp"
      }
    },
    {
      "cell_type": "code",
      "source": [
        "statistic, p_value = ss.shapiro(df4[\"X1\"])\n",
        "print(p_value)\n",
        "if p_value < 0.05:\n",
        "  print(\"Có bằng chứng bác bỏ giả thuyết mẫu đến từ phân phối chuẩn\")\n",
        "else:\n",
        "  print(\"Không có bằng chứng bác bỏ giả thuyết mẫu đến từ phân phối chuẩn\")"
      ],
      "metadata": {
        "colab": {
          "base_uri": "https://localhost:8080/"
        },
        "outputId": "f485b8db-b521-4be8-be75-bbe349e99f74",
        "id": "PpRCjSl4YLVp"
      },
      "execution_count": 137,
      "outputs": [
        {
          "output_type": "stream",
          "name": "stdout",
          "text": [
            "0.9062873125076294\n",
            "Không có bằng chứng bác bỏ giả thuyết mẫu đến từ phân phối chuẩn\n"
          ]
        }
      ]
    },
    {
      "cell_type": "code",
      "source": [
        "statistic, p_value = ss.shapiro(df4[\"X2\"])\n",
        "print(p_value)\n",
        "if p_value < 0.05:\n",
        "  print(\"Có bằng chứng bác bỏ giả thuyết mẫu đến từ phân phối chuẩn\")\n",
        "else:\n",
        "  print(\"Không có bằng chứng bác bỏ giả thuyết mẫu đến từ phân phối chuẩn\")"
      ],
      "metadata": {
        "colab": {
          "base_uri": "https://localhost:8080/"
        },
        "outputId": "3dc3d129-0d58-4ff3-fdc3-32507ec6057e",
        "id": "5Kfj7BsfYLVp"
      },
      "execution_count": 138,
      "outputs": [
        {
          "output_type": "stream",
          "name": "stdout",
          "text": [
            "0.5765353441238403\n",
            "Không có bằng chứng bác bỏ giả thuyết mẫu đến từ phân phối chuẩn\n"
          ]
        }
      ]
    },
    {
      "cell_type": "code",
      "source": [
        "statistic, p_value = ss.shapiro(df4[\"X3\"])\n",
        "print(p_value)\n",
        "if p_value < 0.05:\n",
        "  print(\"Có bằng chứng bác bỏ giả thuyết mẫu đến từ phân phối chuẩn\")\n",
        "else:\n",
        "  print(\"Không có bằng chứng bác bỏ giả thuyết mẫu đến từ phân phối chuẩn\")"
      ],
      "metadata": {
        "colab": {
          "base_uri": "https://localhost:8080/"
        },
        "outputId": "71965a75-f67d-4f0c-fccf-3f3e3b91ebe9",
        "id": "jToK2sMEYLVp"
      },
      "execution_count": 139,
      "outputs": [
        {
          "output_type": "stream",
          "name": "stdout",
          "text": [
            "0.3917592167854309\n",
            "Không có bằng chứng bác bỏ giả thuyết mẫu đến từ phân phối chuẩn\n"
          ]
        }
      ]
    },
    {
      "cell_type": "code",
      "source": [
        "statistic, p_value = ss.shapiro(df4[\"X4\"])\n",
        "print(p_value)\n",
        "if p_value < 0.05:\n",
        "  print(\"Có bằng chứng bác bỏ giả thuyết mẫu đến từ phân phối chuẩn\")\n",
        "else:\n",
        "  print(\"Không có bằng chứng bác bỏ giả thuyết mẫu đến từ phân phối chuẩn\")"
      ],
      "metadata": {
        "colab": {
          "base_uri": "https://localhost:8080/"
        },
        "outputId": "081e0823-c171-4eed-d6f1-1045e804ac37",
        "id": "ZQe3-1LtYLVp"
      },
      "execution_count": 140,
      "outputs": [
        {
          "output_type": "stream",
          "name": "stdout",
          "text": [
            "0.5785742998123169\n",
            "Không có bằng chứng bác bỏ giả thuyết mẫu đến từ phân phối chuẩn\n"
          ]
        }
      ]
    },
    {
      "cell_type": "code",
      "source": [
        "statistic, p_value = ss.shapiro(df4[\"X5\"])\n",
        "print(p_value)\n",
        "if p_value < 0.05:\n",
        "  print(\"Có bằng chứng bác bỏ giả thuyết mẫu đến từ phân phối chuẩn\")\n",
        "else:\n",
        "  print(\"Không có bằng chứng bác bỏ giả thuyết mẫu đến từ phân phối chuẩn\")"
      ],
      "metadata": {
        "colab": {
          "base_uri": "https://localhost:8080/"
        },
        "outputId": "f6768b88-7cc5-43e1-82fe-a390ff82a020",
        "id": "npXYGlf-YLVp"
      },
      "execution_count": 141,
      "outputs": [
        {
          "output_type": "stream",
          "name": "stdout",
          "text": [
            "0.012689383700489998\n",
            "Có bằng chứng bác bỏ giả thuyết mẫu đến từ phân phối chuẩn\n"
          ]
        }
      ]
    },
    {
      "cell_type": "markdown",
      "source": [
        "Mẫu không đến từ phân phối chuẩn hay xấp xỉ nên không thể tiến hành kiểm định ANOVA"
      ],
      "metadata": {
        "id": "2bzTfX8mYljf"
      }
    }
  ],
  "metadata": {
    "kernelspec": {
      "display_name": "Python 3",
      "language": "python",
      "name": "python3"
    },
    "language_info": {
      "codemirror_mode": {
        "name": "ipython",
        "version": 3
      },
      "file_extension": ".py",
      "mimetype": "text/x-python",
      "name": "python",
      "nbconvert_exporter": "python",
      "pygments_lexer": "ipython3",
      "version": "3.7.3"
    },
    "colab": {
      "name": "BTKiemDinhANOVAOneWay.ipynb",
      "provenance": [],
      "include_colab_link": true
    }
  },
  "nbformat": 4,
  "nbformat_minor": 0
}