{
  "nbformat": 4,
  "nbformat_minor": 0,
  "metadata": {
    "colab": {
      "name": "BTTL.ipynb",
      "provenance": [],
      "collapsed_sections": [],
      "authorship_tag": "ABX9TyP+n3pruJQrYbNWWW52CKXO",
      "include_colab_link": true
    },
    "kernelspec": {
      "name": "python3",
      "display_name": "Python 3"
    },
    "language_info": {
      "name": "python"
    }
  },
  "cells": [
    {
      "cell_type": "markdown",
      "metadata": {
        "id": "view-in-github",
        "colab_type": "text"
      },
      "source": [
        "<a href=\"https://colab.research.google.com/github/TranNhatHan/LamBt/blob/main/BTTL.ipynb\" target=\"_parent\"><img src=\"https://colab.research.google.com/assets/colab-badge.svg\" alt=\"Open In Colab\"/></a>"
      ]
    },
    {
      "cell_type": "code",
      "metadata": {
        "colab": {
          "base_uri": "https://localhost:8080/"
        },
        "id": "kn49mgVjhm-B",
        "outputId": "a9b2dd92-1942-4161-8a32-66018bc21a64"
      },
      "source": [
        "xa=float(input(\"Nhap hoanh do cua diem A:\"))\n",
        "ya=float(input(\"Nhap tung do cua diem A:\"))\n",
        "xb=float(input(\"Nhap hoanh do cua diem B:\"))\n",
        "yb=float(input(\"Nhap tung do cua diem B:\"))\n",
        "d=math.sqrt((xa-xb)**2+(ya-yb)**2)\n",
        "print (\"Khoang cach giua hai diem la: \",d)\n",
        "\n"
      ],
      "execution_count": 25,
      "outputs": [
        {
          "output_type": "stream",
          "name": "stdout",
          "text": [
            "Nhap hoanh do cua diem A:5\n",
            "Nhap tung do cua diem A:7\n",
            "Nhap hoanh do cua diem B:2\n",
            "Nhap tung do cua diem B:3\n",
            "Khoang cach giua hai diem la:  5.0\n"
          ]
        }
      ]
    },
    {
      "cell_type": "code",
      "metadata": {
        "colab": {
          "base_uri": "https://localhost:8080/"
        },
        "id": "Whzwlbaoq5_0",
        "outputId": "83cacc7e-f50f-44ab-dede-b5bf569897a1"
      },
      "source": [
        "a=float(input(\"Số tiền vay ban đầu:\"))\n",
        "b=(float(input(\"Lãi suất hàng tháng:\")))/100\n",
        "c=float(input(\"Số năm vay:\"))\n",
        "print(\"Tiền lãi phải trả hàng tháng là\",(a*b)/(1-(1/((1+b)**(12*c)))))"
      ],
      "execution_count": 37,
      "outputs": [
        {
          "output_type": "stream",
          "name": "stdout",
          "text": [
            "Số tiền vay ban đầu:50000000\n",
            "Lãi suất hàng tháng:3\n",
            "Số năm vay:5\n",
            "Tiền lãi phải trả hàng tháng là 1806647.9369021947\n"
          ]
        }
      ]
    }
  ]
}