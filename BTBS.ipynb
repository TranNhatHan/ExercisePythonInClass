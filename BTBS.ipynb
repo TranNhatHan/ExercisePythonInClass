{
  "nbformat": 4,
  "nbformat_minor": 0,
  "metadata": {
    "colab": {
      "name": "BTBS.ipynb",
      "provenance": [],
      "collapsed_sections": [],
      "authorship_tag": "ABX9TyMZIQUGaMlxgICqyMVl7xly",
      "include_colab_link": true
    },
    "kernelspec": {
      "name": "python3",
      "display_name": "Python 3"
    },
    "language_info": {
      "name": "python"
    }
  },
  "cells": [
    {
      "cell_type": "markdown",
      "metadata": {
        "id": "view-in-github",
        "colab_type": "text"
      },
      "source": [
        "<a href=\"https://colab.research.google.com/github/TranNhatHan/LamBt/blob/main/BTBS.ipynb\" target=\"_parent\"><img src=\"https://colab.research.google.com/assets/colab-badge.svg\" alt=\"Open In Colab\"/></a>"
      ]
    },
    {
      "cell_type": "code",
      "metadata": {
        "colab": {
          "base_uri": "https://localhost:8080/"
        },
        "id": "vl20RPuXcBPy",
        "outputId": "e8447789-7fdb-4cce-9c30-73886747bf52"
      },
      "source": [
        "n=int(input('So nguyen n:'))\n",
        "if n % 2 == 1:\n",
        "  print(\"Weird\")\n",
        "if n % 2 == 0 and 2<=n<=5:\n",
        "  print(\"not Weird\")\n",
        "if n % 2 == 0 and 6<=n<=20:\n",
        "  print(\"Weird\")\n",
        "if n % 2 == 0 and n>20:\n",
        "  print(\"not Weird\")\n",
        "\n",
        "\n",
        "\n"
      ],
      "execution_count": 22,
      "outputs": [
        {
          "output_type": "stream",
          "name": "stdout",
          "text": [
            "So nguyen n:54\n",
            "not Weird\n"
          ]
        }
      ]
    }
  ]
}