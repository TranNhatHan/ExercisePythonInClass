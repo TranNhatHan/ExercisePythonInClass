{
  "nbformat": 4,
  "nbformat_minor": 0,
  "metadata": {
    "colab": {
      "name": "BTTL.ipynb",
      "provenance": [],
      "collapsed_sections": [],
      "authorship_tag": "ABX9TyPvdk2LAJ0/F7SUn6unS1He",
      "include_colab_link": true
    },
    "kernelspec": {
      "name": "python3",
      "display_name": "Python 3"
    },
    "language_info": {
      "name": "python"
    }
  },
  "cells": [
    {
      "cell_type": "markdown",
      "metadata": {
        "id": "view-in-github",
        "colab_type": "text"
      },
      "source": [
        "<a href=\"https://colab.research.google.com/github/TranNhatHan/LamBt/blob/main/BTTLTL2.ipynb\" target=\"_parent\"><img src=\"https://colab.research.google.com/assets/colab-badge.svg\" alt=\"Open In Colab\"/></a>"
      ]
    },
    {
      "cell_type": "code",
      "metadata": {
        "colab": {
          "base_uri": "https://localhost:8080/"
        },
        "id": "ce6cV4obaSYk",
        "outputId": "751a6c9e-2ff9-4fb9-b3be-7652b06c50bc"
      },
      "source": [
        "#Write a Python program to find the number of days in a month.\n",
        "m=int(input(\"Input a month number:\"))\n",
        "y=int(input(\"Input a year:\"))\n",
        "a=[\" \",\"January\",\"February\",\"March\",\"April\",\"May\",\"June\",\"July\",\"August\",\"September\",\"October\",\"November\",\"December\"]\n",
        "if (m==1) or (m==3) or (m==5) or (m==7) or (m==8) or (m==10) or (m==12):\n",
        "  day=31\n",
        "if (m==4) or (m==6) or (m==9) or (m==11):\n",
        "  day=30\n",
        "if m==2:\n",
        "  if (y%4==0) and (y%100!=0) or (y%400==0):\n",
        "    day=28\n",
        "  else:\n",
        "    day=29\n",
        "print(a[m],y,\"has\",day,\"days\")"
      ],
      "execution_count": 24,
      "outputs": [
        {
          "output_type": "stream",
          "name": "stdout",
          "text": [
            "Input a month number:2\n",
            "Input a year:2016\n",
            "February 2016 has 28 days\n"
          ]
        }
      ]
    },
    {
      "cell_type": "code",
      "metadata": {
        "id": "cXK4fRS-eFP4"
      },
      "source": [
        "#Print Vowel or Consonant, depending on the user input.\n",
        "import string\n",
        "a=string.ascii_uppercase\n",
        "a=list(a)\n",
        "CC=input().upper()\n",
        "k=0\n",
        "if CC in a:\n",
        "    if CC in ('a', 'e', 'i', 'o', 'u'):\n",
        "        print(CC,\" is a vowel.\")\n",
        "    elif CC == 'y':\n",
        "        print(\"Sometimes letter y stand for vowel, sometimes stand for consonant.\")\n",
        "    else:\n",
        "        print(CC,\" is a consonant.\" )\n",
        "else:\n",
        "    print(\"Error\")"
      ],
      "execution_count": null,
      "outputs": []
    },
    {
      "cell_type": "code",
      "metadata": {
        "colab": {
          "base_uri": "https://localhost:8080/"
        },
        "id": "bLJOI8Rw1zPw",
        "outputId": "a26b83c2-24ef-492c-f1b7-2537c08de5a5"
      },
      "source": [
        "y=int(input(\"Input a year:\"))\n",
        "if (y%4==0) and (y%100!=0) or (y%400==0):\n",
        "  print(y,\"is a leap year\")\n",
        "else:\n",
        "  print(y,\"is not a leap year\")"
      ],
      "execution_count": 53,
      "outputs": [
        {
          "output_type": "stream",
          "name": "stdout",
          "text": [
            "Input a year:2016\n",
            "2016 is a leap year\n"
          ]
        }
      ]
    },
    {
      "cell_type": "code",
      "metadata": {
        "colab": {
          "base_uri": "https://localhost:8080/"
        },
        "id": "sAq0Phfq4jcO",
        "outputId": "b3ca0639-0bf6-4359-ea57-6428e55f81bb"
      },
      "source": [
        "s=0\n",
        "list = input('Input the 5 numbers:')\n",
        "list = list.split()\n",
        "for i in list:\n",
        "  i=int(i)\n",
        "  s=s+i\n",
        "print(\"The sum of 5 no is:\",s)\n",
        "print(\"The Average is:\",s/5)"
      ],
      "execution_count": 72,
      "outputs": [
        {
          "output_type": "stream",
          "name": "stdout",
          "text": [
            "Input the 5 numbers:1 2 3 4 5\n",
            "The sum of 5 no is: 15\n",
            "The Average is: 3.0\n"
          ]
        }
      ]
    }
  ]
}