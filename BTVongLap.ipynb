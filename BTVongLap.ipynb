{
  "nbformat": 4,
  "nbformat_minor": 0,
  "metadata": {
    "colab": {
      "name": "BTVongLap.ipynb",
      "provenance": [],
      "collapsed_sections": [],
      "authorship_tag": "ABX9TyPai33e2bToUBDkQrC6vF9z",
      "include_colab_link": true
    },
    "kernelspec": {
      "name": "python3",
      "display_name": "Python 3"
    },
    "language_info": {
      "name": "python"
    }
  },
  "cells": [
    {
      "cell_type": "markdown",
      "metadata": {
        "id": "view-in-github",
        "colab_type": "text"
      },
      "source": [
        "<a href=\"https://colab.research.google.com/github/TranNhatHan/LamBt/blob/main/BTVongLap.ipynb\" target=\"_parent\"><img src=\"https://colab.research.google.com/assets/colab-badge.svg\" alt=\"Open In Colab\"/></a>"
      ]
    },
    {
      "cell_type": "code",
      "metadata": {
        "colab": {
          "base_uri": "https://localhost:8080/"
        },
        "id": "lLfvxx8WHYA4",
        "outputId": "c4856876-f2e4-4f76-95b2-37939cc454d9"
      },
      "source": [
        "#1\n",
        "a=0\n",
        "while a<=10:\n",
        "  print(a)\n",
        "  a=a+1"
      ],
      "execution_count": 91,
      "outputs": [
        {
          "output_type": "stream",
          "name": "stdout",
          "text": [
            "0\n",
            "1\n",
            "2\n",
            "3\n",
            "4\n",
            "5\n",
            "6\n",
            "7\n",
            "8\n",
            "9\n",
            "10\n"
          ]
        }
      ]
    },
    {
      "cell_type": "code",
      "metadata": {
        "colab": {
          "base_uri": "https://localhost:8080/"
        },
        "id": "9KfKH_UMMcny",
        "outputId": "f65df029-e7b7-4471-e7da-3726ceaf7a63"
      },
      "source": [
        "#2\n",
        "for i in range(5,0,-1):\n",
        "  for j in range(i,0,-1):\n",
        "    print(j,end=\" \")\n",
        "  print()\n",
        "  \n"
      ],
      "execution_count": 97,
      "outputs": [
        {
          "output_type": "stream",
          "name": "stdout",
          "text": [
            "5 4 3 2 1 \n",
            "4 3 2 1 \n",
            "3 2 1 \n",
            "2 1 \n",
            "1 \n"
          ]
        }
      ]
    },
    {
      "cell_type": "code",
      "metadata": {
        "colab": {
          "base_uri": "https://localhost:8080/"
        },
        "id": "cHQgqnlRPViM",
        "outputId": "cb131fad-c445-4c8e-d4b9-d74a7d44eca4"
      },
      "source": [
        "#3\n",
        "sum=0\n",
        "n=int(input())\n",
        "for i in range(1,n+1):\n",
        "  sum=sum+i\n",
        "print(sum)"
      ],
      "execution_count": 33,
      "outputs": [
        {
          "output_type": "stream",
          "name": "stdout",
          "text": [
            "5\n",
            "15\n"
          ]
        }
      ]
    },
    {
      "cell_type": "code",
      "metadata": {
        "colab": {
          "base_uri": "https://localhost:8080/"
        },
        "id": "Zjuhpk9CQL_P",
        "outputId": "7851ff64-6245-4d67-dd86-9ac5f782b4c2"
      },
      "source": [
        "#4\n",
        "m=0\n",
        "n=int(input())\n",
        "for i in range(1,10):\n",
        "  m=i*n\n",
        "  print(\"\",n,\"*\",i,\"=\",m)\n",
        "  \n"
      ],
      "execution_count": 43,
      "outputs": [
        {
          "output_type": "stream",
          "name": "stdout",
          "text": [
            "3\n",
            " 3 * 1 = 3\n",
            " 3 * 2 = 6\n",
            " 3 * 3 = 9\n",
            " 3 * 4 = 12\n",
            " 3 * 5 = 15\n",
            " 3 * 6 = 18\n",
            " 3 * 7 = 21\n",
            " 3 * 8 = 24\n",
            " 3 * 9 = 27\n"
          ]
        }
      ]
    },
    {
      "cell_type": "code",
      "metadata": {
        "colab": {
          "base_uri": "https://localhost:8080/"
        },
        "id": "kaVoIBYNYaZB",
        "outputId": "2dbce7cc-bcaf-485e-a53f-ab3fb4ab7e46"
      },
      "source": [
        "#5\n",
        "list = [1,2,3,4,5]\n",
        "for i in list:\n",
        "  print(i)"
      ],
      "execution_count": 76,
      "outputs": [
        {
          "output_type": "stream",
          "name": "stdout",
          "text": [
            "1\n",
            "2\n",
            "3\n",
            "4\n",
            "5\n"
          ]
        }
      ]
    },
    {
      "cell_type": "code",
      "metadata": {
        "colab": {
          "base_uri": "https://localhost:8080/"
        },
        "id": "MJmN8kY_X21F",
        "outputId": "2ee855f7-494e-4edf-c184-b2bc9db123d4"
      },
      "source": [
        "#6\n",
        "i=0\n",
        "n = int(input())\n",
        "while (n != 0):\n",
        "  n=n//10\n",
        "  i=i+1\n",
        "print(i)"
      ],
      "execution_count": 102,
      "outputs": [
        {
          "output_type": "stream",
          "name": "stdout",
          "text": [
            "43532\n",
            "5\n"
          ]
        }
      ]
    },
    {
      "cell_type": "code",
      "metadata": {
        "colab": {
          "base_uri": "https://localhost:8080/"
        },
        "id": "XarEfOVhR6wJ",
        "outputId": "76d0a970-e606-402e-a059-ed2da9f89202"
      },
      "source": [
        "#7\n",
        "list = [1,2,3,4,5]\n",
        "list.reverse()\n",
        "for i in list:\n",
        "  print(i)"
      ],
      "execution_count": 68,
      "outputs": [
        {
          "output_type": "stream",
          "name": "stdout",
          "text": [
            "5\n",
            "4\n",
            "3\n",
            "2\n",
            "1\n"
          ]
        }
      ]
    },
    {
      "cell_type": "code",
      "metadata": {
        "colab": {
          "base_uri": "https://localhost:8080/"
        },
        "id": "tDvjcPisSWKK",
        "outputId": "45647a9e-4a25-467c-beb7-158f5ea92855"
      },
      "source": [
        "#8\n",
        "for i in range (-10,0):\n",
        " print(i)"
      ],
      "execution_count": 69,
      "outputs": [
        {
          "output_type": "stream",
          "name": "stdout",
          "text": [
            "-10\n",
            "-9\n",
            "-8\n",
            "-7\n",
            "-6\n",
            "-5\n",
            "-4\n",
            "-3\n",
            "-2\n",
            "-1\n"
          ]
        }
      ]
    },
    {
      "cell_type": "code",
      "metadata": {
        "colab": {
          "base_uri": "https://localhost:8080/"
        },
        "id": "X7FR3Ue7SpCE",
        "outputId": "c3e6072e-3327-4c2e-ee46-4d0610f645ab"
      },
      "source": [
        "#10\n",
        "n=int(input())\n",
        "m=int(input())\n",
        "if n>m:\n",
        "  n, m=m, n\n",
        "for i in range(n,m+1):\n",
        " a=0\n",
        " for j in range(2,i):\n",
        "    if i%j==0:\n",
        "      a=a+1\n",
        " if a==0:\n",
        "    print(i,end=\" \")\n",
        "  \n"
      ],
      "execution_count": 143,
      "outputs": [
        {
          "output_type": "stream",
          "name": "stdout",
          "text": [
            "-3\n",
            "9\n",
            "Khong co so nguyen to\n",
            "-3 -2 -1 0 1 2 3 5 7 "
          ]
        }
      ]
    },
    {
      "cell_type": "code",
      "metadata": {
        "colab": {
          "base_uri": "https://localhost:8080/"
        },
        "id": "x1QKMBUhb0Yp",
        "outputId": "cb0a7879-0b1c-4ce5-9528-81929eba5074"
      },
      "source": [
        "#11\n",
        "a = 1\n",
        "b = 1\n",
        "n = 10\n",
        "list = [0, 1]\n",
        "for i in range(2, n):\n",
        "    c = list[i - 1] + list[i - 2]\n",
        "    list.append(c)   \n",
        "print(list)     "
      ],
      "execution_count": 171,
      "outputs": [
        {
          "output_type": "stream",
          "name": "stdout",
          "text": [
            "[0, 1, 1, 2, 3, 5, 8, 13, 21, 34]\n"
          ]
        }
      ]
    },
    {
      "cell_type": "code",
      "metadata": {
        "colab": {
          "base_uri": "https://localhost:8080/"
        },
        "id": "v2cOyYL9ToLl",
        "outputId": "95433fd8-4748-4344-cc08-4fa5ad5d99b0"
      },
      "source": [
        "#12\n",
        "a=1\n",
        "n=int(input())\n",
        "for i in range(1,n+1):\n",
        "  a=a*i\n",
        "print(a)\n",
        "\n"
      ],
      "execution_count": 168,
      "outputs": [
        {
          "output_type": "stream",
          "name": "stdout",
          "text": [
            "5\n",
            "120\n"
          ]
        }
      ]
    },
    {
      "cell_type": "code",
      "metadata": {
        "colab": {
          "base_uri": "https://localhost:8080/"
        },
        "id": "twLbpndCVRtD",
        "outputId": "2f06f79a-5bc8-4937-9c1f-056d2689b139"
      },
      "source": [
        "#13\n",
        "n = int(input())\n",
        "while (n != 0):\n",
        "    print(n % 10, end=\"\")\n",
        "    n = n // 10"
      ],
      "execution_count": 90,
      "outputs": [
        {
          "output_type": "stream",
          "name": "stdout",
          "text": [
            "235252\n",
            "252532"
          ]
        }
      ]
    },
    {
      "cell_type": "code",
      "metadata": {
        "colab": {
          "base_uri": "https://localhost:8080/"
        },
        "id": "yk16Z_UMVANr",
        "outputId": "a7fa9ed7-03b9-4fa3-f96e-8fc1ca28d99b"
      },
      "source": [
        "#14\n",
        "n=int(input())\n",
        "for i in range(1,n+1):\n",
        "  if i%2==1:\n",
        "    print(i)"
      ],
      "execution_count": 73,
      "outputs": [
        {
          "output_type": "stream",
          "name": "stdout",
          "text": [
            "5\n",
            "1\n",
            "3\n",
            "5\n"
          ]
        }
      ]
    },
    {
      "cell_type": "code",
      "metadata": {
        "colab": {
          "base_uri": "https://localhost:8080/"
        },
        "id": "YV0LfmrsUrgk",
        "outputId": "15624b34-eaa0-46e1-c102-0579812eb6a6"
      },
      "source": [
        "#15\n",
        "n=int(input())\n",
        "for i in range(1,n+1):\n",
        "  print(i**3)"
      ],
      "execution_count": 72,
      "outputs": [
        {
          "output_type": "stream",
          "name": "stdout",
          "text": [
            "5\n",
            "1\n",
            "8\n",
            "27\n",
            "64\n",
            "125\n"
          ]
        }
      ]
    }
  ]
}