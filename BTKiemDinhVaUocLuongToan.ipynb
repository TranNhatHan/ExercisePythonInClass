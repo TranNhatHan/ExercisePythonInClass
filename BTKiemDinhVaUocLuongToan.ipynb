{
  "nbformat": 4,
  "nbformat_minor": 0,
  "metadata": {
    "colab": {
      "name": "BTKiemDinhVaUocLuongToan.ipynb",
      "provenance": [],
      "collapsed_sections": [
        "1uvUovBNK7_K",
        "yj9REeUreGR9",
        "t2clpre_4uuj",
        "vI-tyafA4w-4",
        "qopMrmJvegDX",
        "0ou6kSa06OqU",
        "kX86Kt4-euEq",
        "Nkb_wTJpevgy",
        "Rkk3BIPHe8Pt",
        "KAs48ZG8fEwP"
      ],
      "authorship_tag": "ABX9TyMk+WLK1gYLjqysTcOuSDoZ",
      "include_colab_link": true
    },
    "kernelspec": {
      "name": "ir",
      "display_name": "R"
    },
    "language_info": {
      "name": "R"
    }
  },
  "cells": [
    {
      "cell_type": "markdown",
      "metadata": {
        "id": "view-in-github",
        "colab_type": "text"
      },
      "source": [
        "<a href=\"https://colab.research.google.com/github/TranNhatHan/ExercisePythonInClass/blob/main/BTKiemDinhVaUocLuongToan.ipynb\" target=\"_parent\"><img src=\"https://colab.research.google.com/assets/colab-badge.svg\" alt=\"Open In Colab\"/></a>"
      ]
    },
    {
      "cell_type": "markdown",
      "source": [
        "Truy cập thư viện và xây dựng hàm cần thiết"
      ],
      "metadata": {
        "id": "ZG8f30lbaYyv"
      }
    },
    {
      "cell_type": "code",
      "source": [
        "# install.packages(\"BSDA\")\n",
        "# install.packages(\"EnvStats\")\n",
        "# install.packages(\"PropCIs\")\n",
        "library(BSDA)\n",
        "library(EnvStats)\n",
        "library(PropCIs)"
      ],
      "metadata": {
        "id": "0u6go04-NUKY"
      },
      "execution_count": null,
      "outputs": []
    },
    {
      "cell_type": "code",
      "source": [
        "rnorm_fix <- function(n ,mean = 0, sd = 1) { as.vector(mean+sd*scale(rnorm(n))) }"
      ],
      "metadata": {
        "id": "PkK2EXuONDGP"
      },
      "execution_count": null,
      "outputs": []
    },
    {
      "cell_type": "markdown",
      "source": [
        "#Kiểm định so sánh kỳ vọng của biến ngẫu nhiên có phân phối chuẩn (với một giá trị cho trước của kỳ vọng) \n"
      ],
      "metadata": {
        "id": "1uvUovBNK7_K"
      }
    },
    {
      "cell_type": "markdown",
      "source": [
        "## Trường hợp $σ^2$ đã biết"
      ],
      "metadata": {
        "id": "nhnFUcFcc9bz"
      }
    },
    {
      "cell_type": "markdown",
      "source": [
        "Ví dụ 1: Theo **tiêu chuẩn** thì trọng lượng các gói mì chính được đóng trên một máy tự động là\n",
        "**453 g**. Kiểm tra ngẫu nhiên 81 gói ta thấy **trọng lượng trung bình** là **448 g**. Với mức ý\n",
        "nghĩa **0,05** có thể cho rằng trọng lượng các gói mì chính không đạt tiêu chuẩn hay\n",
        "không, biết rằng trọng lượng gói mì chính là biến ngẫu nhiên **có phân phối chuẩn** với\n",
        "**độ lệch chuẩn** là 36g?"
      ],
      "metadata": {
        "id": "81i_Uo_lPwYg"
      }
    },
    {
      "cell_type": "code",
      "source": [
        "data <- rnorm_fix(81, 448)\n",
        "z.test(data, mu = 453, sigma.x=36)\n",
        "# Ta phải chấp nhận giả thuyết, coi các gói mì chính đạt tiêu chuẩn về mặt trọng lượng."
      ],
      "metadata": {
        "colab": {
          "base_uri": "https://localhost:8080/",
          "height": 208
        },
        "id": "6D-EdL0fKo5c",
        "outputId": "bbdf96ba-750d-4996-d5fb-9209d64d6fee"
      },
      "execution_count": null,
      "outputs": [
        {
          "output_type": "display_data",
          "data": {
            "text/plain": [
              "\n",
              "\tOne-sample z-Test\n",
              "\n",
              "data:  data\n",
              "z = -1.25, p-value = 0.2113\n",
              "alternative hypothesis: true mean is not equal to 453\n",
              "95 percent confidence interval:\n",
              " 440.1601 455.8399\n",
              "sample estimates:\n",
              "mean of x \n",
              "      448 \n"
            ]
          },
          "metadata": {}
        }
      ]
    },
    {
      "cell_type": "markdown",
      "source": [
        "Ví dụ 2: Năng suất trung bình của một giống lúa ở các năm trước là **32,5** (tạ/ha). Năm nay\n",
        "người ta đưa vào phương pháp chăm sóc mới và hy vọng năng suất cao hơn năm\n",
        "truớc. Điều tra trên 15 thửa ruộng thu được kết quả sau:\n",
        "* $33.7, 35.4, 32.7, 36.3, 37.3, 32.4, 30.0,\n",
        "32.4, 31.7, 34.5, 42.0, 33.9, 38.1, 35.0, 33.8$\n",
        "\n",
        "Với mức ý nghĩa **1%** có thể chấp nhận niềm hy vọng đó hay không, biết rằng năng\n",
        "suất lúa là một biến ngẫu nhiên có **phân phối chuẩn** với **phương sai** là **10 (tạ/ha)**."
      ],
      "metadata": {
        "id": "k0cjqARnVUab"
      }
    },
    {
      "cell_type": "code",
      "source": [
        "data = c(33.7, 35.4, 32.7, 36.3, 37.3, 32.4, 30.0, 32.4, 31.7, 34.5, 42.0, 33.9, 38.1, 35.0, 33.8)\n",
        "z.test(data, mu = 32.5, sigma.x=sqrt(10), conf.level = 0.99, alternative = \"greater\")\n",
        "# Vậy ta bác bỏ giả thuyết và kết luận năng suất lúa thực sự có tăng lên"
      ],
      "metadata": {
        "colab": {
          "base_uri": "https://localhost:8080/",
          "height": 208
        },
        "id": "yOMThRCRVt9c",
        "outputId": "7118cb65-6956-4c92-8963-2cebac654c18"
      },
      "execution_count": null,
      "outputs": [
        {
          "output_type": "display_data",
          "data": {
            "text/plain": [
              "\n",
              "\tOne-sample z-Test\n",
              "\n",
              "data:  data\n",
              "z = 2.5883, p-value = 0.004823\n",
              "alternative hypothesis: true mean is greater than 32.5\n",
              "99 percent confidence interval:\n",
              " 32.71388       NA\n",
              "sample estimates:\n",
              "mean of x \n",
              " 34.61333 \n"
            ]
          },
          "metadata": {}
        }
      ]
    },
    {
      "cell_type": "markdown",
      "source": [
        "Ví dụ 3: Theo **tiêu chuẩn** thì trọng lượng các bao gạo do một\n",
        "máy tự động đóng là **50 kg**. Sau một thời gian hoạt\n",
        "động người ta **nghi ngờ** máy hoạt động không bình\n",
        "thường **văn bản in đậm** làm cho trọng lượng các bao gạo **giảm đi**.\n",
        "Lấy ngẫu nhiên **90** bao và cân thử thì thu được\n",
        "trọng lượng trung bình là **48,5 kg**. Với mức ý nghĩa\n",
        "**5%** có thể kết luận gì về điều nghi ngờ trên, biết\n",
        "rằng trọng lượng bao gạo là biến ngẫu nhiên có\n",
        "phân phối chuẩn với **độ lệch chuẩn** là **2 kg**? "
      ],
      "metadata": {
        "id": "42Njb9Ntbzk_"
      }
    },
    {
      "cell_type": "code",
      "source": [
        "data = rnorm_fix(90, 48.5)\n",
        "z.test(data, mu = 50 , sigma.x = 2, alternative = \"less\")\n",
        "# Vậy ta bác bỏ giả thuyết và kết luận các bao gọi bị đóng gói thiếu trọng lượng"
      ],
      "metadata": {
        "colab": {
          "base_uri": "https://localhost:8080/",
          "height": 208
        },
        "id": "-HmAlPvyb0Y3",
        "outputId": "808dccc4-f832-491b-e0b7-97566504e551"
      },
      "execution_count": null,
      "outputs": [
        {
          "output_type": "display_data",
          "data": {
            "text/plain": [
              "\n",
              "\tOne-sample z-Test\n",
              "\n",
              "data:  data\n",
              "z = -7.1151, p-value = 5.591e-13\n",
              "alternative hypothesis: true mean is less than 50\n",
              "95 percent confidence interval:\n",
              "       NA 48.84677\n",
              "sample estimates:\n",
              "mean of x \n",
              "     48.5 \n"
            ]
          },
          "metadata": {}
        }
      ]
    },
    {
      "cell_type": "markdown",
      "source": [
        ""
      ],
      "metadata": {
        "id": "qS1CA8Gw-TQk"
      }
    },
    {
      "cell_type": "markdown",
      "source": [
        "## Trường hợp $σ^2$ chưa biết"
      ],
      "metadata": {
        "id": "yj9REeUreGR9"
      }
    },
    {
      "cell_type": "markdown",
      "source": [
        "Ví dụ 4: Trong các **năm trước** thu nhập trung bình của công nhân là **15 (triệu/năm)**, năm nay\n",
        "điều tra thu nhập của **25** công nhân ta có số liệu sau:\n",
        "> Thu nhập 10-12 12-14 14-16 16-18 18-20\n",
        "\n",
        "> Số công nhân 2 4 10 6 3\n",
        "\n",
        "Với mức ý nghĩa **5%** hãy kiểm định xem thu nhập trung bình của công nhân năm nay\n",
        "có khác so với năm trước hay không, biết rằng thu nhập của công nhân là biến ngẫu\n",
        "nhiên có **phân phối chuẩn**. "
      ],
      "metadata": {
        "id": "PAhHqBq460Jh"
      }
    },
    {
      "cell_type": "code",
      "source": [
        "a = c(11, 13, 15, 17, 19)\n",
        "b = c(2, 4, 10, 6, 3)\n",
        "data = rep(a, time = b)\n",
        "t.test(data, mu = 15)\n",
        "# Chưa thể bác bỏ được giả thuyết H0 và phải kết luận có thể thu nhập trung bình của công nhân năm nay vẫn như năm ngoái"
      ],
      "metadata": {
        "id": "up3FgzkMeQTm",
        "colab": {
          "base_uri": "https://localhost:8080/",
          "height": 208
        },
        "outputId": "04feb917-5252-4981-f039-c08c5eb42150"
      },
      "execution_count": null,
      "outputs": [
        {
          "output_type": "display_data",
          "data": {
            "text/plain": [
              "\n",
              "\tOne Sample t-test\n",
              "\n",
              "data:  data\n",
              "t = 0.7233, df = 24, p-value = 0.4765\n",
              "alternative hypothesis: true mean is not equal to 15\n",
              "95 percent confidence interval:\n",
              " 14.40689 16.23311\n",
              "sample estimates:\n",
              "mean of x \n",
              "    15.32 \n"
            ]
          },
          "metadata": {}
        }
      ]
    },
    {
      "cell_type": "markdown",
      "source": [
        "Ví dụ 5: Mức xăng hao phí cho một loại xe ôtô chạy trên đoạn đường AB ở các năm trước là\n",
        "**50 lít**. Năm nay do đoạn đường AB đã bị xuống cấp và người ta cho rằng mức xăng\n",
        "hao phí đã tăng lên. Điều tra **30** chuyến xe chạy trên đoạn đường AB ta có số liệu sau:\n",
        "> Mức xăng hao phí 49-49,5 49,5-50 50-50,5 50,5-51 51-51,5\n",
        "\n",
        "> Số chuyến 5 7 10 6 2\n",
        "\n",
        "Với mức ý nghĩa **1%** hãy kết luận về điều nghi ngờ trên, biết rằng mức xăng hao phí là\n",
        "biến ngẫu nhiên có phân phối chuẩn. "
      ],
      "metadata": {
        "id": "zojk0Rp987sX"
      }
    },
    {
      "cell_type": "code",
      "source": [
        "a = c(49.25, 49.75, 50.25, 50.75, 51.25)\n",
        "b = c(5, 7, 10, 6, 2)\n",
        "data = rep(a, time = b)\n",
        "t.test(data, mu = 50, alternative = \"greater\", conf.level = 0.99)\n",
        "# Do đó chưa có cơ sở để bác bỏ giả thuyết"
      ],
      "metadata": {
        "colab": {
          "base_uri": "https://localhost:8080/",
          "height": 208
        },
        "id": "0wsr_PBZ9Mq5",
        "outputId": "6d39765b-69c8-44c4-8dd9-1362f6c60fe0"
      },
      "execution_count": null,
      "outputs": [
        {
          "output_type": "display_data",
          "data": {
            "text/plain": [
              "\n",
              "\tOne Sample t-test\n",
              "\n",
              "data:  data\n",
              "t = 1.2536, df = 29, p-value = 0.11\n",
              "alternative hypothesis: true mean is greater than 50\n",
              "99 percent confidence interval:\n",
              " 49.87147      Inf\n",
              "sample estimates:\n",
              "mean of x \n",
              " 50.13333 \n"
            ]
          },
          "metadata": {}
        }
      ]
    },
    {
      "cell_type": "markdown",
      "source": [
        "Ví dụ 6: Trọng lượng các bao gạo theo tiêu chuẩn là **50 kg**. Có nhiều ý kiến khách hàng phản\n",
        "ảnh là trọng lượng gạo bị thiếu. Nhóm điều tra lấy ngẫu nhiên **25** bao cân thử và thu\n",
        "được kết quả sau:\n",
        "> Trọng lượng 48-48,5 48,5- 49 49 – 49,5 49,5 - 50 50-50,5\n",
        "\n",
        "> Số bao 3 5 10 5 2\n",
        "\n",
        "Với mức ý nghĩa **5%** hãy kiểm định ý kiến khách hàng có đúng không, biết rằng trọng\n",
        "lượng bao gạo là biến ngẫu nhiên có **phân phối chuẩn**."
      ],
      "metadata": {
        "id": "jElFqYMx-JGP"
      }
    },
    {
      "cell_type": "code",
      "source": [
        "a = c(48.25, 48.75, 49.25, 49.75, 50.25)\n",
        "b = c(3, 5, 10, 5, 2)\n",
        "data = rep(a, time = b)\n",
        "t.test(data, mu = 50, alternative = \"less\")\n",
        "# Do đó giả thuyết H0 bị bác bỏ, tức là ý kiến khách hàng phản ánh là đúng."
      ],
      "metadata": {
        "colab": {
          "base_uri": "https://localhost:8080/",
          "height": 208
        },
        "id": "QpwZ4vOG-w6i",
        "outputId": "20116880-fb50-42ed-818d-f4c0cf73ecb3"
      },
      "execution_count": null,
      "outputs": [
        {
          "output_type": "display_data",
          "data": {
            "text/plain": [
              "\n",
              "\tOne Sample t-test\n",
              "\n",
              "data:  data\n",
              "t = -7.0849, df = 24, p-value = 1.263e-07\n",
              "alternative hypothesis: true mean is less than 50\n",
              "95 percent confidence interval:\n",
              "     -Inf 49.40077\n",
              "sample estimates:\n",
              "mean of x \n",
              "    49.21 \n"
            ]
          },
          "metadata": {}
        }
      ]
    },
    {
      "cell_type": "markdown",
      "source": [
        "# Ước lượng khoảng cho kỳ vọng của biến ngẫu nhiên phân phối chuẩn "
      ],
      "metadata": {
        "id": "ttD0ssQz175B"
      }
    },
    {
      "cell_type": "markdown",
      "source": [
        "## Trường hợp $σ^2$ đã biết"
      ],
      "metadata": {
        "id": "t2clpre_4uuj"
      }
    },
    {
      "cell_type": "markdown",
      "source": [
        "Ví dụ 5:\n",
        "Điều tra thu nhập (triệu/năm) hàng năm của **25** hộ gia đình trong vùng ta có bảng\n",
        "số liệu:\n",
        "> Thu nhập 11,5 11,6 11,7 11,8 11,9 12\n",
        "\n",
        "> Số hộ 5 8 4 6 1 1\n",
        "\n",
        "Hãy ước lượng mức thu nhập trung bình trong vùng với độ tin cậy **95%**, biết rằng thu\n",
        "nhập là biến ngẫu nhiên có phân phối chuẩn với độ lệch chuẩn σ = 0,2 ."
      ],
      "metadata": {
        "id": "k6BiwByv2HXF"
      }
    },
    {
      "cell_type": "code",
      "source": [
        "a = c(11.5, 11.6, 11.7, 11.8, 11.9, 12)\n",
        "b = c(5, 8, 4, 6, 1, 1)\n",
        "data = rep(a, time = b)\n",
        "z.test(data, sigma.x = 0.2)$conf.int"
      ],
      "metadata": {
        "colab": {
          "base_uri": "https://localhost:8080/",
          "height": 34
        },
        "id": "QPpDrveM2AmR",
        "outputId": "a9d01caf-f00f-4ba8-aac4-2818b37df2a6"
      },
      "execution_count": null,
      "outputs": [
        {
          "output_type": "display_data",
          "data": {
            "text/html": [
              "<style>\n",
              ".list-inline {list-style: none; margin:0; padding: 0}\n",
              ".list-inline>li {display: inline-block}\n",
              ".list-inline>li:not(:last-child)::after {content: \"\\00b7\"; padding: 0 .5ex}\n",
              "</style>\n",
              "<ol class=list-inline><li>11.5936014406184</li><li>11.7503985593816</li></ol>\n"
            ],
            "text/markdown": "1. 11.5936014406184\n2. 11.7503985593816\n\n\n",
            "text/latex": "\\begin{enumerate*}\n\\item 11.5936014406184\n\\item 11.7503985593816\n\\end{enumerate*}\n",
            "text/plain": [
              "[1] 11.5936 11.7504\n",
              "attr(,\"conf.level\")\n",
              "[1] 0.95"
            ]
          },
          "metadata": {}
        }
      ]
    },
    {
      "cell_type": "markdown",
      "source": [
        "Ví dụ 6:\n",
        "(Xét Ví dụ 5) Hãy ước lượng giá trị tối thiểu và giá\n",
        "trị tối đa của mức thu nhập trung bình trong vùng\n",
        "với độ tin cậy 99%."
      ],
      "metadata": {
        "id": "BB2h8vj33NKG"
      }
    },
    {
      "cell_type": "code",
      "source": [
        "z.test(data, sigma.x = 0.2, conf.level = 0.99, alternative = \"greater\")$conf.int\n",
        "z.test(data, sigma.x = 0.2, conf.level = 0.99, alternative = \"less\")$conf.int"
      ],
      "metadata": {
        "colab": {
          "base_uri": "https://localhost:8080/",
          "height": 52
        },
        "id": "u4Kx5COF3Ox5",
        "outputId": "e2fe7dd3-986f-48fc-c085-adacce2af745"
      },
      "execution_count": null,
      "outputs": [
        {
          "output_type": "display_data",
          "data": {
            "text/html": [
              "<style>\n",
              ".list-inline {list-style: none; margin:0; padding: 0}\n",
              ".list-inline>li {display: inline-block}\n",
              ".list-inline>li:not(:last-child)::after {content: \"\\00b7\"; padding: 0 .5ex}\n",
              "</style>\n",
              "<ol class=list-inline><li>11.5789460850384</li><li>&lt;NA&gt;</li></ol>\n"
            ],
            "text/markdown": "1. 11.5789460850384\n2. &lt;NA&gt;\n\n\n",
            "text/latex": "\\begin{enumerate*}\n\\item 11.5789460850384\n\\item <NA>\n\\end{enumerate*}\n",
            "text/plain": [
              "[1] 11.57895       NA\n",
              "attr(,\"conf.level\")\n",
              "[1] 0.99"
            ]
          },
          "metadata": {}
        },
        {
          "output_type": "display_data",
          "data": {
            "text/html": [
              "<style>\n",
              ".list-inline {list-style: none; margin:0; padding: 0}\n",
              ".list-inline>li {display: inline-block}\n",
              ".list-inline>li:not(:last-child)::after {content: \"\\00b7\"; padding: 0 .5ex}\n",
              "</style>\n",
              "<ol class=list-inline><li>&lt;NA&gt;</li><li>11.7650539149616</li></ol>\n"
            ],
            "text/markdown": "1. &lt;NA&gt;\n2. 11.7650539149616\n\n\n",
            "text/latex": "\\begin{enumerate*}\n\\item <NA>\n\\item 11.7650539149616\n\\end{enumerate*}\n",
            "text/plain": [
              "[1]       NA 11.76505\n",
              "attr(,\"conf.level\")\n",
              "[1] 0.99"
            ]
          },
          "metadata": {}
        }
      ]
    },
    {
      "cell_type": "markdown",
      "source": [
        "## Trường hợp $σ^2$ chưa biết"
      ],
      "metadata": {
        "id": "vI-tyafA4w-4"
      }
    },
    {
      "cell_type": "markdown",
      "source": [
        "Ví dụ 7: Điều tra thu nhập (triệu/năm) hàng năm của 25 hộ gia đình trong vùng ta có bảng\n",
        "số liệu:\n",
        "> Thu nhập 11,5 11,6 11,7 11,8 11,9 12\n",
        "\n",
        "> Số hộ 5 8 4 6 1 1\n",
        "\n",
        "Hãy ước lượng mức thu nhập trung bình trong vùng với độ tin cậy 95%, biết rằng thu\n",
        "nhập là biến ngẫu nhiên có phân phối chuẩn. "
      ],
      "metadata": {
        "id": "bWlfmHnO4_aI"
      }
    },
    {
      "cell_type": "code",
      "source": [
        "t.test(data, alternative = \"greater\")$conf.int\n",
        "t.test(data, alternative = \"less\")$conf.int"
      ],
      "metadata": {
        "colab": {
          "base_uri": "https://localhost:8080/",
          "height": 52
        },
        "id": "4MdLVRlc45fl",
        "outputId": "c3b0e081-9fd0-42ae-a14d-cad433dece03"
      },
      "execution_count": null,
      "outputs": [
        {
          "output_type": "display_data",
          "data": {
            "text/html": [
              "<style>\n",
              ".list-inline {list-style: none; margin:0; padding: 0}\n",
              ".list-inline>li {display: inline-block}\n",
              ".list-inline>li:not(:last-child)::after {content: \"\\00b7\"; padding: 0 .5ex}\n",
              "</style>\n",
              "<ol class=list-inline><li>11.6251247450121</li><li>Inf</li></ol>\n"
            ],
            "text/markdown": "1. 11.6251247450121\n2. Inf\n\n\n",
            "text/latex": "\\begin{enumerate*}\n\\item 11.6251247450121\n\\item Inf\n\\end{enumerate*}\n",
            "text/plain": [
              "[1] 11.62512      Inf\n",
              "attr(,\"conf.level\")\n",
              "[1] 0.95"
            ]
          },
          "metadata": {}
        },
        {
          "output_type": "display_data",
          "data": {
            "text/html": [
              "<style>\n",
              ".list-inline {list-style: none; margin:0; padding: 0}\n",
              ".list-inline>li {display: inline-block}\n",
              ".list-inline>li:not(:last-child)::after {content: \"\\00b7\"; padding: 0 .5ex}\n",
              "</style>\n",
              "<ol class=list-inline><li>-Inf</li><li>11.7188752549879</li></ol>\n"
            ],
            "text/markdown": "1. -Inf\n2. 11.7188752549879\n\n\n",
            "text/latex": "\\begin{enumerate*}\n\\item -Inf\n\\item 11.7188752549879\n\\end{enumerate*}\n",
            "text/plain": [
              "[1]     -Inf 11.71888\n",
              "attr(,\"conf.level\")\n",
              "[1] 0.95"
            ]
          },
          "metadata": {}
        }
      ]
    },
    {
      "cell_type": "markdown",
      "source": [
        "# Kiểm định giả thuyết phương sai của biến ngẫu nhiên phân phối chuẩn"
      ],
      "metadata": {
        "id": "qopMrmJvegDX"
      }
    },
    {
      "cell_type": "markdown",
      "source": [
        "Ví dụ 7: Lấy ngẫu nhiên **20 chai nước** do một máy đóng chai tự động đóng ta thu được **độ lệch chuẩn mẫu** là **$s^{'2} = 0.0153(l^2)$**  . Máy được gọi là đạt chuẩn nếu độ phân tán không sai\n",
        "khác quá **$0.01(l^2)$**. Với mức ý nghĩa **5%** hãy kiểm\n",
        "định xem máy đóng chai có đạt chuẩn hay không,\n",
        "biết rằng thể tích nước trong chai là biến ngẫu nhiên\n",
        "có phân phối chuẩn. "
      ],
      "metadata": {
        "id": "2hb5qQu1mvjh"
      }
    },
    {
      "cell_type": "code",
      "source": [
        "data = rnorm_fix(20, sd = sqrt(0.0153))\n",
        "cbind(varTest(data, sigma.squared = 0.01, alternative = \"greater\"))\n",
        "# Vậy ta chưa có cơ sở bác bỏ giả thuyết H0, tức là máy đóng chai vẫn đạt chuẩn. "
      ],
      "metadata": {
        "colab": {
          "base_uri": "https://localhost:8080/",
          "height": 317
        },
        "id": "revQLVZnD0tD",
        "outputId": "97704891-50f0-494b-c0f6-cda894c8df44"
      },
      "execution_count": null,
      "outputs": [
        {
          "output_type": "display_data",
          "data": {
            "text/html": [
              "<table class=\"dataframe\">\n",
              "<caption>A matrix: 9 × 1</caption>\n",
              "<tbody>\n",
              "\t<tr><th scope=row>statistic</th><td>29.07</td></tr>\n",
              "\t<tr><th scope=row>parameters</th><td>19</td></tr>\n",
              "\t<tr><th scope=row>p.value</th><td>0.064892</td></tr>\n",
              "\t<tr><th scope=row>estimate</th><td>0.0153</td></tr>\n",
              "\t<tr><th scope=row>null.value</th><td>0.01</td></tr>\n",
              "\t<tr><th scope=row>alternative</th><td>greater</td></tr>\n",
              "\t<tr><th scope=row>method</th><td>Chi-Squared Test on Variance</td></tr>\n",
              "\t<tr><th scope=row>data.name</th><td>data</td></tr>\n",
              "\t<tr><th scope=row>conf.int</th><td>0.009643861, Inf</td></tr>\n",
              "</tbody>\n",
              "</table>\n"
            ],
            "text/markdown": "\nA matrix: 9 × 1\n\n| statistic | 29.07 |\n| parameters | 19 |\n| p.value | 0.064892 |\n| estimate | 0.0153 |\n| null.value | 0.01 |\n| alternative | greater |\n| method | Chi-Squared Test on Variance |\n| data.name | data |\n| conf.int | 0.009643861, Inf |\n\n",
            "text/latex": "A matrix: 9 × 1\n\\begin{tabular}{r|l}\n\tstatistic & 29.07\\\\\n\tparameters & 19\\\\\n\tp.value & 0.064892\\\\\n\testimate & 0.0153\\\\\n\tnull.value & 0.01\\\\\n\talternative & greater\\\\\n\tmethod & Chi-Squared Test on Variance\\\\\n\tdata.name & data\\\\\n\tconf.int & 0.009643861, Inf\\\\\n\\end{tabular}\n",
            "text/plain": [
              "            [,1]                        \n",
              "statistic   29.07                       \n",
              "parameters  19                          \n",
              "p.value     0.064892                    \n",
              "estimate    0.0153                      \n",
              "null.value  0.01                        \n",
              "alternative greater                     \n",
              "method      Chi-Squared Test on Variance\n",
              "data.name   data                        \n",
              "conf.int    0.009643861, Inf            "
            ]
          },
          "metadata": {}
        }
      ]
    },
    {
      "cell_type": "markdown",
      "source": [
        "# Ước lượng khoảng cho phương sai của biến ngẫu nhiên phân phối chuẩn"
      ],
      "metadata": {
        "id": "0ou6kSa06OqU"
      }
    },
    {
      "cell_type": "markdown",
      "source": [
        "Ví dụ 10:\n",
        "Kiểm tra ngẫu nhiên 20 bao gạo do một máy đóng\n",
        "bao tự động đóng, ta có phương sai hiệu chỉnh\n",
        "$s^{'2} = 0.0153(l^2)$ . Hãy tìm ước lượng khoảng tối\n",
        "đa cho độ chính xác của trọng lượng các bao gạo\n",
        "với độ tin cậy 95%. Biết rằng trọng lượng các bao\n",
        "gạo do máy tự động đóng là biến ngẫu nhiên có\n",
        "phân phối chuẩn. "
      ],
      "metadata": {
        "id": "g2ZWtHDP6Tn7"
      }
    },
    {
      "cell_type": "code",
      "source": [
        "data = rnorm_fix(20, sd = sqrt(0.0153))\n",
        "as.vector(varTest(data, alternative = \"less\")$conf.int)\n",
        "# Bài này sách hơi sai"
      ],
      "metadata": {
        "colab": {
          "base_uri": "https://localhost:8080/",
          "height": 34
        },
        "id": "zOQnKY7s6fNL",
        "outputId": "13df98f4-2a95-4e9e-ddef-1d9d7e26f65d"
      },
      "execution_count": null,
      "outputs": [
        {
          "output_type": "display_data",
          "data": {
            "text/html": [
              "<style>\n",
              ".list-inline {list-style: none; margin:0; padding: 0}\n",
              ".list-inline>li {display: inline-block}\n",
              ".list-inline>li:not(:last-child)::after {content: \"\\00b7\"; padding: 0 .5ex}\n",
              "</style>\n",
              "<ol class=list-inline><li>0</li><li>0.0287337772685563</li></ol>\n"
            ],
            "text/markdown": "1. 0\n2. 0.0287337772685563\n\n\n",
            "text/latex": "\\begin{enumerate*}\n\\item 0\n\\item 0.0287337772685563\n\\end{enumerate*}\n",
            "text/plain": [
              "[1] 0.00000000 0.02873378"
            ]
          },
          "metadata": {}
        }
      ]
    },
    {
      "cell_type": "markdown",
      "source": [
        "# Kiểm định giả thuyết cho xác suất (hay tỷ lệ)"
      ],
      "metadata": {
        "id": "kX86Kt4-euEq"
      }
    },
    {
      "cell_type": "markdown",
      "source": [
        "Ví dụ 8:\n",
        "Những năm trước nhà máy áp dụng **công nghệ A** sản xuất thì có tỷ lệ phế phẩm là **6%**.\n",
        "Năm nay nhà máy nhập **công nghệ B** để sản xuất, hy vọng sẽ giảm được tỷ lệ phế\n",
        "phẩm. Lấy ngẫu nhiên **100 sản phẩm** để kiểm tra thì thấy có **5 phế phẩm**. Với mức ý\n",
        "nghĩa **5%**, có thể cho rằng tỷ lệ phế phẩm của công nghệ B nhỏ hơn công nghệ A\n",
        "hay không?"
      ],
      "metadata": {
        "id": "xoy_q9KEHc7i"
      }
    },
    {
      "cell_type": "code",
      "source": [
        "prop.test(x=5, n=100, p=0.06, alternative=\"less\", correct = FALSE)\n",
        "cat(\"z.statitic = \",-sqrt(0.1773))\n",
        "# Vậy ta không thể bác bỏ giả thuyết H0 , chấp nhận công nghệ B không làm giảm tỷ lệ phế phẩm"
      ],
      "metadata": {
        "id": "x2LCiV62euxc",
        "colab": {
          "base_uri": "https://localhost:8080/",
          "height": 225
        },
        "outputId": "7063f999-fd8f-4c2f-e14e-cf630c2429a0"
      },
      "execution_count": null,
      "outputs": [
        {
          "output_type": "display_data",
          "data": {
            "text/plain": [
              "\n",
              "\t1-sample proportions test without continuity correction\n",
              "\n",
              "data:  5 out of 100, null probability 0.06\n",
              "X-squared = 0.1773, df = 1, p-value = 0.3368\n",
              "alternative hypothesis: true p is less than 0.06\n",
              "95 percent confidence interval:\n",
              " 0.00000000 0.09916109\n",
              "sample estimates:\n",
              "   p \n",
              "0.05 \n"
            ]
          },
          "metadata": {}
        },
        {
          "output_type": "stream",
          "name": "stdout",
          "text": [
            "z.statitic =  -0.4210701"
          ]
        }
      ]
    },
    {
      "cell_type": "markdown",
      "source": [
        "# Ước lượng khoảng cho xác suất (tỷ lệ)"
      ],
      "metadata": {
        "id": "7atwcIkN7KmS"
      }
    },
    {
      "cell_type": "markdown",
      "source": [
        "Ví dụ 11:\n",
        "Kiểm tra ngẫu nhiên 100 sản phẩm do một nhà máy sản xuất thấy có 12 phế phẩm.\n",
        "Với độ tin cậy 95% , hãy ước lượng tỷ lệ phế phẩm của nhà máy đó"
      ],
      "metadata": {
        "id": "rYinyehv7M56"
      }
    },
    {
      "cell_type": "code",
      "source": [
        "# Sử dụng phương pháp Wilson\n",
        "prop.test(12, 100, correct = FALSE)$conf.int"
      ],
      "metadata": {
        "colab": {
          "base_uri": "https://localhost:8080/",
          "height": 34
        },
        "id": "i7uNQPhsE9lL",
        "outputId": "95a56c44-2e15-46b0-de7e-ce8868d84709"
      },
      "execution_count": 338,
      "outputs": [
        {
          "output_type": "display_data",
          "data": {
            "text/html": [
              "<style>\n",
              ".list-inline {list-style: none; margin:0; padding: 0}\n",
              ".list-inline>li {display: inline-block}\n",
              ".list-inline>li:not(:last-child)::after {content: \"\\00b7\"; padding: 0 .5ex}\n",
              "</style>\n",
              "<ol class=list-inline><li>0.0699940643701949</li><li>0.198120994267114</li></ol>\n"
            ],
            "text/markdown": "1. 0.0699940643701949\n2. 0.198120994267114\n\n\n",
            "text/latex": "\\begin{enumerate*}\n\\item 0.0699940643701949\n\\item 0.198120994267114\n\\end{enumerate*}\n",
            "text/plain": [
              "[1] 0.06999406 0.19812099\n",
              "attr(,\"conf.level\")\n",
              "[1] 0.95"
            ]
          },
          "metadata": {}
        }
      ]
    },
    {
      "cell_type": "code",
      "source": [
        "# Sử dụng phương pháp Clopper-Pearson\n",
        "binom.test(12, 100)$conf.int"
      ],
      "metadata": {
        "colab": {
          "base_uri": "https://localhost:8080/",
          "height": 34
        },
        "id": "QIJ0MU8v7VE4",
        "outputId": "c5cedc3b-e996-4377-8d69-133896cd324a"
      },
      "execution_count": 350,
      "outputs": [
        {
          "output_type": "display_data",
          "data": {
            "text/html": [
              "<style>\n",
              ".list-inline {list-style: none; margin:0; padding: 0}\n",
              ".list-inline>li {display: inline-block}\n",
              ".list-inline>li:not(:last-child)::after {content: \"\\00b7\"; padding: 0 .5ex}\n",
              "</style>\n",
              "<ol class=list-inline><li>0.0635689025611593</li><li>0.200235683619969</li></ol>\n"
            ],
            "text/markdown": "1. 0.0635689025611593\n2. 0.200235683619969\n\n\n",
            "text/latex": "\\begin{enumerate*}\n\\item 0.0635689025611593\n\\item 0.200235683619969\n\\end{enumerate*}\n",
            "text/plain": [
              "[1] 0.0635689 0.2002357\n",
              "attr(,\"conf.level\")\n",
              "[1] 0.95"
            ]
          },
          "metadata": {}
        }
      ]
    },
    {
      "cell_type": "code",
      "source": [
        "# Sử dụng phương pháp Blaker\n",
        "blakerci(12, 100, conf.level=0.95)$conf.int"
      ],
      "metadata": {
        "colab": {
          "base_uri": "https://localhost:8080/",
          "height": 34
        },
        "id": "SG_-olm-Bl1F",
        "outputId": "ca5c772e-fa58-4823-9540-46b5d4a6327a"
      },
      "execution_count": 351,
      "outputs": [
        {
          "output_type": "display_data",
          "data": {
            "text/html": [
              "<style>\n",
              ".list-inline {list-style: none; margin:0; padding: 0}\n",
              ".list-inline>li {display: inline-block}\n",
              ".list-inline>li:not(:last-child)::after {content: \"\\00b7\"; padding: 0 .5ex}\n",
              "</style>\n",
              "<ol class=list-inline><li>0.0665589025611581</li><li>0.197375683619966</li></ol>\n"
            ],
            "text/markdown": "1. 0.0665589025611581\n2. 0.197375683619966\n\n\n",
            "text/latex": "\\begin{enumerate*}\n\\item 0.0665589025611581\n\\item 0.197375683619966\n\\end{enumerate*}\n",
            "text/plain": [
              "[1] 0.0665589 0.1973757\n",
              "attr(,\"conf.level\")\n",
              "[1] 0.95"
            ]
          },
          "metadata": {}
        }
      ]
    },
    {
      "cell_type": "markdown",
      "source": [
        "# Kiểm định giả thuyết so sánh kỳ vọng của hai biến ngẫu nhiên phân phối chuẩn "
      ],
      "metadata": {
        "id": "Nkb_wTJpevgy"
      }
    },
    {
      "cell_type": "markdown",
      "source": [
        "Ví dụ 9: Học sinh hai trường A và B cùng học môn toán, khảo\n",
        "sát thi kết quả thi hết môn ta thu được kết quả sau:\n",
        "> Trường A: $n = 64; \\overline{x} = 7,32$\n",
        "\n",
        "> Trường B: $m = 68; \\overline{y} = 7,66$\n",
        "\n",
        "Biết rằng điểm thi của hai trường là biến ngẫu nhiên\n",
        "có phân phối chuẩn với độ lêch chuẩn tương ứng là\n",
        "A **σ =1,09** và B **σ =1,12**. Với mức ý nghĩa **1%** có thể\n",
        "cho rằng kết quả thi của trường B cao hơn trường A hay không?"
      ],
      "metadata": {
        "id": "Smrds4uYIUSb"
      }
    },
    {
      "cell_type": "code",
      "source": [
        "x = rnorm_fix(64, 7.32)\n",
        "y = rnorm_fix(68, 7.66)\n",
        "z.test(x, y, sigma.x = 1.09, sigma.y = 1.12, alternative = \"less\", conf.level = 0.99)\n",
        "# Vậy không thể bác bỏ giả thuyết H0, vẫn có thể xảy ra trường hợp điểm tb học sinh trường B bằng trường A.\n",
        "# Bài này sách giải đúng nhưng tính sai"
      ],
      "metadata": {
        "id": "UXczMLjCezVg",
        "colab": {
          "base_uri": "https://localhost:8080/",
          "height": 208
        },
        "outputId": "c2c1065e-391d-41c3-a4a2-b878e768efef"
      },
      "execution_count": null,
      "outputs": [
        {
          "output_type": "display_data",
          "data": {
            "text/plain": [
              "\n",
              "\tTwo-sample z-Test\n",
              "\n",
              "data:  x and y\n",
              "z = -1.7673, p-value = 0.03859\n",
              "alternative hypothesis: true difference in means is less than 0\n",
              "99 percent confidence interval:\n",
              "        NA 0.1075492\n",
              "sample estimates:\n",
              "mean of x mean of y \n",
              "     7.32      7.66 \n"
            ]
          },
          "metadata": {}
        }
      ]
    },
    {
      "cell_type": "markdown",
      "source": [
        "Ví dụ 10:\n",
        "Điều tra thu nhập ($) trong một tháng của công nhân ở hai nhà máy sản xuất thiết bị\n",
        "điện tử A và B ta thu được số liệu sau:\n",
        "\n",
        "> Nhà máy A: 91,5; 94,18; 92,18; 95,39; 91,79; 89,07; 94,72; 89,21.\n",
        "\n",
        "> Nhà máy B: 89,19; 90,95; 90,46; 93,21; 97,19; 97,04; 91,07; 92,75.\n",
        "\n",
        "Với mức ý nghĩa **5%** có thể cho rằng thu nhập trung bình của công nhân trong hai\n",
        "nhà máy trên là như nhau hay không, biết rằng thu nhập trong hai nhà máy có **phân phối chuẩn**? \n"
      ],
      "metadata": {
        "id": "rK4MPkzMRbLd"
      }
    },
    {
      "cell_type": "code",
      "source": [
        "a = c(91.5, 94.18, 92.18, 95.39, 91.79, 89.07, 94.72, 89.21)\n",
        "b = c(89.19, 90.95, 90.46, 93.21, 97.19, 97.04, 91.07, 92.75)\n",
        "t.test(a, b)\n",
        "# Không thể kết luận H0, có thể công nhân hai nhà máy thu nhập như nhau."
      ],
      "metadata": {
        "colab": {
          "base_uri": "https://localhost:8080/",
          "height": 208
        },
        "id": "yy-ADQuJRnqx",
        "outputId": "abaf038b-ac28-486b-f406-fb0bae8b1fc4"
      },
      "execution_count": null,
      "outputs": [
        {
          "output_type": "display_data",
          "data": {
            "text/plain": [
              "\n",
              "\tWelch Two Sample t-test\n",
              "\n",
              "data:  a and b\n",
              "t = -0.35359, df = 13.353, p-value = 0.7292\n",
              "alternative hypothesis: true difference in means is not equal to 0\n",
              "95 percent confidence interval:\n",
              " -3.387118  2.432118\n",
              "sample estimates:\n",
              "mean of x mean of y \n",
              "  92.2550   92.7325 \n"
            ]
          },
          "metadata": {}
        }
      ]
    },
    {
      "cell_type": "markdown",
      "source": [
        "# Kiểm định giả thuyết so sánh hai xác suất "
      ],
      "metadata": {
        "id": "Rkk3BIPHe8Pt"
      }
    },
    {
      "cell_type": "markdown",
      "source": [
        "Ví dụ 11:\n",
        "Điều tra hiện tượng học sinh bỏ học ở hai vùng nông thôn A và B ta thu được số\n",
        "liệu sau:\n",
        "> Vùng A: Điều tra 1900 em có 175 em bỏ học.\n",
        "\n",
        "> Vùng B: Điều tra 2600 em có 325 em bỏ học.\n",
        "\n",
        "Có ý kiến cho rằng tình trạng học sinh bỏ học ở vùng nông thôn A là ít nghiêm trọng\n",
        "hơn vùng nông thôn B. Với mức ý nghĩa 1% hãy kiểm định ý kiến đó. "
      ],
      "metadata": {
        "id": "z3KEpeckTxO8"
      }
    },
    {
      "cell_type": "code",
      "source": [
        "prop.test(x = c(175, 325), n = c(1900, 2600), alternative = \"less\", conf.level = 0.99, correct = FALSE)\n",
        "cat(\"z.statitic = \",-sqrt(12.027))\n",
        "# Do có thể bác bỏ giả thuyết H0, tức là khẳng định tình trạng bỏ học ở vùng A là ít nghiêm trọng hơn vùng B. "
      ],
      "metadata": {
        "id": "EdmXwgSne9FE",
        "colab": {
          "base_uri": "https://localhost:8080/",
          "height": 225
        },
        "outputId": "37091593-4607-4523-c729-32774cf5c39a"
      },
      "execution_count": null,
      "outputs": [
        {
          "output_type": "display_data",
          "data": {
            "text/plain": [
              "\n",
              "\t2-sample test for equality of proportions without continuity correction\n",
              "\n",
              "data:  c(175, 325) out of c(1900, 2600)\n",
              "X-squared = 12.027, df = 1, p-value = 0.0002622\n",
              "alternative hypothesis: less\n",
              "99 percent confidence interval:\n",
              " -1.00000000 -0.01131119\n",
              "sample estimates:\n",
              "    prop 1     prop 2 \n",
              "0.09210526 0.12500000 \n"
            ]
          },
          "metadata": {}
        },
        {
          "output_type": "stream",
          "name": "stdout",
          "text": [
            "z.statitic =  -3.467997"
          ]
        }
      ]
    },
    {
      "cell_type": "markdown",
      "source": [
        "# Kiểm định giả thuyết so sánh phương sai của hai biến ngẫu nhiên có phân phối chuẩn. \n"
      ],
      "metadata": {
        "id": "KAs48ZG8fEwP"
      }
    },
    {
      "cell_type": "markdown",
      "source": [
        "Ví dụ 12:\n",
        "Hai máy A và B cùng gia công một loại chi tiết. Người ta muốn kiểm tra xem hai máy\n",
        "có độ chính xác như nhau hay không. Để làm điều đó người ta tiến hành lấy mẫu và\n",
        "thu được kết quả sau: \n",
        "\n",
        "> Máy A: 135 138 136 140 138 135 139\n",
        "\n",
        "> Máy B: 140 135 140 138 135 138 140\n",
        "\n",
        "Với mức ý nghĩa 5% hãy kiểm tra xem hai máy có độ chính xác như nhau hay không,\n",
        "biết kích thước chi tiết là biến ngẫu nhiên có phân phối chuẩn. \n"
      ],
      "metadata": {
        "id": "UZwVjy3dVcjG"
      }
    },
    {
      "cell_type": "code",
      "source": [
        "a = c(135, 138, 136, 140, 138, 135, 139)\n",
        "b = c(140, 135, 140, 138, 135, 138, 140)\n",
        "var.test(a, b)\n",
        "# Không thể bác bỏ giả thuyết H0, kết luận độ chính xác của hai máy vẫn có thể là như nhau."
      ],
      "metadata": {
        "id": "dRbd56cifGdc",
        "colab": {
          "base_uri": "https://localhost:8080/",
          "height": 208
        },
        "outputId": "07b27080-5b37-43c4-90e0-a62534f5750f"
      },
      "execution_count": null,
      "outputs": [
        {
          "output_type": "display_data",
          "data": {
            "text/plain": [
              "\n",
              "\tF test to compare two variances\n",
              "\n",
              "data:  a and b\n",
              "F = 0.78095, num df = 6, denom df = 6, p-value = 0.7717\n",
              "alternative hypothesis: true ratio of variances is not equal to 1\n",
              "95 percent confidence interval:\n",
              " 0.1341899 4.5449528\n",
              "sample estimates:\n",
              "ratio of variances \n",
              "         0.7809524 \n"
            ]
          },
          "metadata": {}
        }
      ]
    }
  ]
}