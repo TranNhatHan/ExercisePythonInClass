{
  "nbformat": 4,
  "nbformat_minor": 0,
  "metadata": {
    "colab": {
      "name": "BtNumpy3.ipynb",
      "provenance": [],
      "collapsed_sections": [],
      "authorship_tag": "ABX9TyO6wANU4PSIBbLmM6R/efP0",
      "include_colab_link": true
    },
    "kernelspec": {
      "name": "python3",
      "display_name": "Python 3"
    },
    "language_info": {
      "name": "python"
    }
  },
  "cells": [
    {
      "cell_type": "markdown",
      "metadata": {
        "id": "view-in-github",
        "colab_type": "text"
      },
      "source": [
        "<a href=\"https://colab.research.google.com/github/TranNhatHan/LamBt/blob/main/BtNumpy3.ipynb\" target=\"_parent\"><img src=\"https://colab.research.google.com/assets/colab-badge.svg\" alt=\"Open In Colab\"/></a>"
      ]
    },
    {
      "cell_type": "markdown",
      "source": [
        "Cú pháp: numpy.apply_along_axis(func1d, axis, arr, *args, **kwargs)"
      ],
      "metadata": {
        "id": "T35LRRXwCKDS"
      }
    },
    {
      "cell_type": "markdown",
      "source": [
        "func1d : hàm bạn muốn thực hiện cho từng hàm hay cột\n",
        "\n",
        "axis : số 0 nếu bạn muốn áp dụng cho từng cột, 1 nếu muốn áp dụng cho từng hàm\n",
        "\n",
        "arr : ma trận bạn muốn áp dụng thực hiện hàm này"
      ],
      "metadata": {
        "id": "5ofFT4XtEiOT"
      }
    },
    {
      "cell_type": "code",
      "execution_count": 2,
      "metadata": {
        "id": "eJw9H4b5qiVv"
      },
      "outputs": [],
      "source": [
        "import numpy as np"
      ]
    },
    {
      "cell_type": "markdown",
      "source": [
        "Câu 2: Tạo một ma trận A15x17 có giá trị ngẫu nhiên"
      ],
      "metadata": {
        "id": "V1omIgjU_akZ"
      }
    },
    {
      "cell_type": "code",
      "source": [
        "a = np.random.randint(-20,20, (15, 17))\n",
        "print(a)"
      ],
      "metadata": {
        "colab": {
          "base_uri": "https://localhost:8080/"
        },
        "id": "UMFj8E6VvxVs",
        "outputId": "67ec28fe-a982-47f3-b071-f1c8ab5b0a6f"
      },
      "execution_count": 3,
      "outputs": [
        {
          "output_type": "stream",
          "name": "stdout",
          "text": [
            "[[  8  -8   8  15   4   5   7   3  13  15  16 -13  13 -14 -15  11 -17]\n",
            " [ -5 -16  19   5 -13 -11  14 -14 -18 -13   7  19  18  12  -4  18   4]\n",
            " [-19  11  -1  12  -5  -7   8   4   5  14   2 -16   7 -16 -19 -15  -6]\n",
            " [ -8 -13  13 -14   0   9  16   5   8  11 -15  11 -18   5   3  10   3]\n",
            " [  7   6  -4  12  18 -10  -1   3 -12   0  -8 -16  -2 -10   5 -14 -19]\n",
            " [-14 -18   7 -19 -20 -18   3  -7  -1   6 -17 -19  -7   1 -18  -4   4]\n",
            " [-18  -3 -17   8  -5 -15 -18   2  -2  16  10  13 -11  -9 -14  15 -20]\n",
            " [-16  -3  14   7 -13  -4  19  14  12 -19  12  -3  11  -2   0  11   9]\n",
            " [ -2  19  15   7  -3   5  17  -2   1  11 -13   0 -14  14  -1  -9 -16]\n",
            " [-13 -13   2   7   1 -15 -18 -17 -17  -7 -10   7 -17   8  18  -9   9]\n",
            " [-18   1  11  18   3  -9 -19  -7   4 -19  -4  13   2 -16  14 -10  15]\n",
            " [  0   3   8  -8  10 -11  -8   6   7  -9 -15  -6 -17   2  -9   6   2]\n",
            " [ 11  -6 -15 -14   8 -20 -11 -19 -14  18 -15  -6  -6  15  17   1 -18]\n",
            " [-14 -14 -10   8  11 -11   1 -16  17  14  15   7  10   8   5  14  18]\n",
            " [ -3   5   4   9  14 -10 -11  19  13 -19 -18 -13 -10  -7  -3 -10  -9]]\n"
          ]
        }
      ]
    },
    {
      "cell_type": "markdown",
      "source": [
        "Câu 3: Xây dựng hàm tìm giá trị lớn nhất có tên là tim_gia_tri_lon_nhat(vector_a) có tham số\n",
        "đầu vào là 1 vector a và giá trị trả về là giá trị phần tử lớn nhất của vector này. Áp dụng hàm này\n",
        "theo từng hàng của ma trận A ở Câu 1 và xuất kết quả ra màn hình."
      ],
      "metadata": {
        "id": "f9YAz5Q3_eWW"
      }
    },
    {
      "cell_type": "code",
      "source": [
        "def tim_gia_tri_lon_nhat(vector_a):\n",
        "  return np.max(vector_a)\n",
        "np.apply_along_axis(tim_gia_tri_lon_nhat, 1, a)"
      ],
      "metadata": {
        "colab": {
          "base_uri": "https://localhost:8080/"
        },
        "id": "GIHXtJ4Sv60P",
        "outputId": "a4d9ffa0-e496-411f-f6ad-be87f9b615e7"
      },
      "execution_count": 4,
      "outputs": [
        {
          "output_type": "execute_result",
          "data": {
            "text/plain": [
              "array([16, 19, 14, 16, 18,  7, 16, 19, 19, 18, 18, 10, 18, 18, 19])"
            ]
          },
          "metadata": {},
          "execution_count": 4
        }
      ]
    },
    {
      "cell_type": "code",
      "source": [
        "np.apply_along_axis(tim_gia_tri_lon_nhat, 0, a)"
      ],
      "metadata": {
        "colab": {
          "base_uri": "https://localhost:8080/"
        },
        "id": "7VH90w67zAdM",
        "outputId": "a718786d-b96c-41ef-ed62-d32ed11f3187"
      },
      "execution_count": 5,
      "outputs": [
        {
          "output_type": "execute_result",
          "data": {
            "text/plain": [
              "array([11, 19, 19, 18, 18,  9, 19, 19, 17, 18, 16, 19, 18, 15, 18, 18, 18])"
            ]
          },
          "metadata": {},
          "execution_count": 5
        }
      ]
    },
    {
      "cell_type": "markdown",
      "source": [
        "Câu 4: Xây dựng hàm tìm giá trị nhỏ nhất có tên là tim_gia_tri_nho_nhat(vector_a) có tham số\n",
        "đầu vào là 1 vector a và giá trị trả về là giá trị phần tử nhỏ nhất của vector này. Áp dụng hàm này\n",
        "theo từng cột của ma trận A ở Câu 1 và xuất kết quả ra màn hình."
      ],
      "metadata": {
        "id": "Fyq7lK43_hVN"
      }
    },
    {
      "cell_type": "code",
      "source": [
        "def tim_gia_tri_nho_nhat(vector_a):\n",
        "  return np.min(vector_a)\n",
        "np.apply_along_axis(tim_gia_tri_nho_nhat, 1, a)"
      ],
      "metadata": {
        "colab": {
          "base_uri": "https://localhost:8080/"
        },
        "id": "NweyzzdYx5yP",
        "outputId": "24204e27-b66e-4a93-d7dd-889ddbc59bd5"
      },
      "execution_count": 6,
      "outputs": [
        {
          "output_type": "execute_result",
          "data": {
            "text/plain": [
              "array([-17, -18, -19, -18, -19, -20, -20, -19, -16, -18, -19, -17, -20,\n",
              "       -16, -19])"
            ]
          },
          "metadata": {},
          "execution_count": 6
        }
      ]
    },
    {
      "cell_type": "code",
      "source": [
        "np.apply_along_axis(tim_gia_tri_nho_nhat, 0, a)"
      ],
      "metadata": {
        "colab": {
          "base_uri": "https://localhost:8080/"
        },
        "id": "Rcs9mPs8yEVt",
        "outputId": "bdd8d952-ed16-4833-b306-69fb573ef737"
      },
      "execution_count": 7,
      "outputs": [
        {
          "output_type": "execute_result",
          "data": {
            "text/plain": [
              "array([-19, -18, -17, -19, -20, -20, -19, -19, -18, -19, -18, -19, -18,\n",
              "       -16, -19, -15, -20])"
            ]
          },
          "metadata": {},
          "execution_count": 7
        }
      ]
    },
    {
      "cell_type": "markdown",
      "source": [
        "Câu 5: Xây dựng hàm tìm giá trị lớn nhất có tên là tinh_tong(vector_a) có tham số đầu vào là 1\n",
        "vector a và giá trị trả về là tổng các phần tử của vector này. Áp dụng hàm này theo từng hàng của\n",
        "ma trận A ở Câu 1 và xuất kết quả ra màn hình."
      ],
      "metadata": {
        "id": "wLUqzyS5ASLI"
      }
    },
    {
      "cell_type": "code",
      "source": [
        "def tinh_tong(vector_a):\n",
        "  return np.sum(vector_a)\n",
        "np.apply_along_axis(tinh_tong, 1, a)"
      ],
      "metadata": {
        "colab": {
          "base_uri": "https://localhost:8080/"
        },
        "id": "v9vCyxNazSwu",
        "outputId": "f93ec309-cbef-4c51-fe55-f7592a53aaa6"
      },
      "execution_count": 8,
      "outputs": [
        {
          "output_type": "execute_result",
          "data": {
            "text/plain": [
              "array([  51,   22,  -41,   26,  -45, -141,  -68,   49,   29,  -84,  -21,\n",
              "        -39,  -74,   63,  -49])"
            ]
          },
          "metadata": {},
          "execution_count": 8
        }
      ]
    },
    {
      "cell_type": "markdown",
      "source": [
        "Câu 6: Xây dựng hàm tìm giá trị lớn nhất có tên là tinh_tong_2(vector_a) có tham số đầu vào là\n",
        "1 vector a và giá trị trả về là tổng các phần tử có chỉ số lẻ (1 – 3 – 5 , .v.v.) của vector này. Áp\n",
        "dụng hàm này theo từng cột của ma trận A ở Câu 1 và xuất kết quả ra màn hình. Tiếp tục áp dụng\n",
        "hàm này theo từng hàng của ma trận A kể trên và xuất kết quả ra màn hình."
      ],
      "metadata": {
        "id": "PfrCeNSf_0m6"
      }
    },
    {
      "cell_type": "code",
      "source": [
        "def tinh_tong2(vector_a):\n",
        "  sum = 0\n",
        "  for i in vector_a:\n",
        "    if i//2!=0:\n",
        "      sum+=i\n",
        "  return sum\n",
        "np.apply_along_axis(tinh_tong2, 1, a)"
      ],
      "metadata": {
        "colab": {
          "base_uri": "https://localhost:8080/"
        },
        "id": "2tqH9jgizk1P",
        "outputId": "ac6616f5-f29a-4432-b236-2318152047c9"
      },
      "execution_count": 9,
      "outputs": [
        {
          "output_type": "execute_result",
          "data": {
            "text/plain": [
              "array([  51,   22,  -41,   26,  -45, -142,  -68,   49,   28,  -85,  -22,\n",
              "        -39,  -75,   62,  -49])"
            ]
          },
          "metadata": {},
          "execution_count": 9
        }
      ]
    },
    {
      "cell_type": "code",
      "source": [
        "np.apply_along_axis(tinh_tong2, 0, a)"
      ],
      "metadata": {
        "id": "W4Uj8I8r1i_j",
        "colab": {
          "base_uri": "https://localhost:8080/"
        },
        "outputId": "37b71760-4987-467e-da29-50cf56ba3794"
      },
      "execution_count": 10,
      "outputs": [
        {
          "output_type": "execute_result",
          "data": {
            "text/plain": [
              "array([-104,  -50,   54,   53,    9, -122,   -2,  -26,   15,   19,  -53,\n",
              "        -22,  -41,  -10,  -21,   14,  -41])"
            ]
          },
          "metadata": {},
          "execution_count": 10
        }
      ]
    }
  ]
}