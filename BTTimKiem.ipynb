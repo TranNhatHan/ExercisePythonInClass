{
  "nbformat": 4,
  "nbformat_minor": 0,
  "metadata": {
    "colab": {
      "name": "BTTimKiem.ipynb",
      "provenance": [],
      "collapsed_sections": [],
      "authorship_tag": "ABX9TyPrre2rj4/w/+3ZvaEjvYxW",
      "include_colab_link": true
    },
    "kernelspec": {
      "name": "python3",
      "display_name": "Python 3"
    },
    "language_info": {
      "name": "python"
    }
  },
  "cells": [
    {
      "cell_type": "markdown",
      "metadata": {
        "id": "view-in-github",
        "colab_type": "text"
      },
      "source": [
        "<a href=\"https://colab.research.google.com/github/TranNhatHan/LamBt/blob/main/BTTimKiem.ipynb\" target=\"_parent\"><img src=\"https://colab.research.google.com/assets/colab-badge.svg\" alt=\"Open In Colab\"/></a>"
      ]
    },
    {
      "cell_type": "markdown",
      "metadata": {
        "id": "06ujY-mpwcLd"
      },
      "source": [
        "Bài 1: Viết chương trình thực hiện các yêu cầu sau:\n",
        "- Sinh ngẫu nhiên 1 danh sách n số nguyên trong đoạn [a, b], với các thông số n, a và b được\n",
        "nhập vào từ bàn phím;\n",
        "- Nhập vào 1 số x từ bàn phím có giá trị trong đoạn [a, b];\n",
        "- Tìm kiếm x có xuất hiện trong danh sách trên hay không. Nếu có thì trả về vị trí xuất hiện\n",
        "đầu tiên trong danh sách. Ngược lại, thông báo không tìm thấy."
      ]
    },
    {
      "cell_type": "code",
      "metadata": {
        "colab": {
          "base_uri": "https://localhost:8080/"
        },
        "id": "3m8y0HaCwVMa",
        "outputId": "10cac471-8370-4b4f-cea7-9fd84e40adb3"
      },
      "source": [
        "import random\n",
        "n = int(input(\"Nhap so phan tu cua danh sach:\"))\n",
        "a = int(input(\"Nhap gia tri be nhat co the co trong danh sach:\"))\n",
        "b = int(input(\"Nhap gia tri lon nhat co the co trong danh sach:\"))\n",
        "c = [random.randint(a,b) for i in range(n)]\n",
        "print(c)\n",
        "x = int(input(\"Nhap so ban muon tim kiem trong danh sach:\"))\n",
        "if x in c:\n",
        "  print(\"Vị trí xuất hiện đầu tiên trong danh sách:\",c.index(x)+1)\n",
        "else:\n",
        "  print(\"Khong tim thay\")\n",
        "  "
      ],
      "execution_count": null,
      "outputs": [
        {
          "output_type": "stream",
          "name": "stdout",
          "text": [
            "Nhap so phan tu cua danh sach:7\n",
            "Nhap gia tri be nhat co the co trong danh sach:0\n",
            "Nhap gia tri lon nhat co the co trong danh sach:99\n",
            "[8, 60, 0, 66, 27, 28, 81]\n",
            "Nhap so ban muon tim kiem trong danh sach:66\n",
            "Vị trí xuất hiện đầu tiên trong danh sách: 4\n"
          ]
        }
      ]
    },
    {
      "cell_type": "markdown",
      "metadata": {
        "id": "pbO3_BTIwfkh"
      },
      "source": [
        "Bài 2: Viết chương trình thực hiện các yêu cầu sau:\n",
        "- Sinh ngẫu nhiên 1 danh sách n số nguyên trong đoạn [a, b], với các thông số n, a và b được\n",
        "nhập vào từ bàn phím;\n",
        "- Nhập vào 1 số x từ bàn phím có giá trị trong đoạn [a, b];\n",
        "- Tìm kiếm x có xuất hiện trong danh sách trên hay không theo yêu cầu sau:\n",
        "o Nếu có thì trả về vị trí xuất hiện đầu tiên trong danh sách và thông báo số bước lặp\n",
        "đã thực hiện để tìm được phần tử này.\n",
        "o Ngược lại, thông báo không tìm thấy."
      ]
    },
    {
      "cell_type": "code",
      "metadata": {
        "id": "tL_nDx1hzfx2",
        "colab": {
          "base_uri": "https://localhost:8080/"
        },
        "outputId": "d99a5f1e-7dff-40eb-e29a-9db476ee0c48"
      },
      "source": [
        "import random\n",
        "n = int(input(\"Nhap so phan tu cua danh sach:\"))\n",
        "a = int(input(\"Nhap gia tri be nhat co the co trong danh sach:\"))\n",
        "b = int(input(\"Nhap gia tri lon nhat co the co trong danh sach:\"))\n",
        "c = [random.randint(a,b) for i in range(n)]\n",
        "print(c)\n",
        "x = int(input(\"Nhap so ban muon tim kiem trong danh sach:\"))\n",
        "if x in c:\n",
        "  print(\"Vị trí xuất hiện đầu tiên trong danh sách:\",c.index(x)+1)\n",
        "  print(\"So buoc lap thuc hien:\",c.index(x)+1)\n",
        "else:\n",
        "  print(\"Khong tim thay\")\n",
        "  print(\"So buoc lap thuc hien:\",n)"
      ],
      "execution_count": 13,
      "outputs": [
        {
          "output_type": "stream",
          "name": "stdout",
          "text": [
            "Nhap so phan tu cua danh sach:7\n",
            "Nhap gia tri be nhat co the co trong danh sach:0\n",
            "Nhap gia tri lon nhat co the co trong danh sach:65\n",
            "[24, 31, 11, 14, 9, 49, 65]\n",
            "Nhap so ban muon tim kiem trong danh sach:9\n",
            "Vị trí xuất hiện đầu tiên trong danh sách: 5\n",
            "So buoc lap thuc hien: 5\n"
          ]
        }
      ]
    },
    {
      "cell_type": "markdown",
      "metadata": {
        "id": "nOdopRTJwgcA"
      },
      "source": [
        "Bài 3: Viết chương trình thực hiện các yêu cầu sau:\n",
        "- Bước 1: Sinh ngẫu nhiên 1 danh sách n số nguyên trong đoạn [a, b], với các thông số n, a\n",
        "và b được nhập vào từ bàn phím;\n",
        "- Bước 2: Nhập vào 1 số x từ bàn phím có giá trị trong đoạn [a, b];\n",
        "- Bước 3: Sắp xếp danh sách trên theo chiều tăng dần\n",
        "- Bước 4: Tìm kiếm x có xuất hiện trong danh sách trên hay không theo yêu cầu sau:\n",
        "o Nếu có thì trả về vị trí xuất hiện đầu tiên trong danh sách và thông báo số bước lặp\n",
        "đã thực hiện để tìm được phần tử này.\n",
        "o Ngược lại, thông báo không tìm thấy."
      ]
    },
    {
      "cell_type": "code",
      "metadata": {
        "id": "00rkLZfG1pjh",
        "colab": {
          "base_uri": "https://localhost:8080/"
        },
        "outputId": "3aa4f81b-8777-4738-fab9-a8ec3d869947"
      },
      "source": [
        "import random\n",
        "n = int(input(\"Nhap so phan tu cua danh sach:\"))\n",
        "e = 0\n",
        "f = n-1\n",
        "a = int(input(\"Nhap gia tri be nhat co the co trong danh sach:\"))\n",
        "b = int(input(\"Nhap gia tri lon nhat co the co trong danh sach:\"))\n",
        "c = [random.randint(a,b) for i in range(n)]\n",
        "c.sort()\n",
        "print(c)\n",
        "x = int(input(\"Nhap so ban muon tim kiem trong danh sach:\"))\n",
        "k=0\n",
        "l=0\n",
        "while e<f:\n",
        "  k+=1\n",
        "  i=(e+f)//2\n",
        "  if c[i]==x:\n",
        "    while c[i]==c[i-1]:\n",
        "      l+=1\n",
        "      i-=1\n",
        "    print(\"Vi tri xuat hien dau tien la:\",i+1)\n",
        "    break\n",
        "  elif c[i]>x:\n",
        "    f=i-1\n",
        "  else:\n",
        "    e=i+1\n",
        "print(\"So vong lap thuc hien:\",k+l)\n",
        "\n"
      ],
      "execution_count": 4,
      "outputs": [
        {
          "output_type": "stream",
          "name": "stdout",
          "text": [
            "Nhap so phan tu cua danh sach:9\n",
            "Nhap gia tri be nhat co the co trong danh sach:0\n",
            "Nhap gia tri lon nhat co the co trong danh sach:9\n",
            "[2, 2, 3, 3, 4, 6, 6, 7, 8]\n",
            "Nhap so ban muon tim kiem trong danh sach:6\n",
            "Vi tri xuat hien dau tien la: 6\n",
            "So vong lap thuc hien: 3\n"
          ]
        }
      ]
    },
    {
      "cell_type": "markdown",
      "metadata": {
        "id": "pPnnmiAfwiKX"
      },
      "source": [
        "Bài 4: Viết chương trình thực hiện các yêu cầu sau:\n",
        "- Bước 1: Sinh ngẫu nhiên 1 danh sách n số nguyên trong đoạn [a, b], với các thông số n, a\n",
        "và b được nhập vào từ bàn phím;\n",
        "- Bước 2: Nhập vào 1 số x từ bàn phím có giá trị trong đoạn [a, b];\n",
        "\n",
        "- Bước 3: Sắp xếp danh sách trên theo chiều tăng dần\n",
        "- Bước 4: Tìm kiếm x có xuất hiện trong danh sách trên hay không theo yêu cầu sau:\n",
        "o Nếu có thì trả về tất cả các vị trí xuất hiện trong danh sách và thông báo số bước\n",
        "lặp đã thực hiện để tìm được các phần tử này.\n",
        "o Ngược lại, thông báo không tìm thấy."
      ]
    },
    {
      "cell_type": "code",
      "metadata": {
        "colab": {
          "base_uri": "https://localhost:8080/"
        },
        "id": "ERwbDa5Wvg52",
        "outputId": "df4c66d5-01b9-41bc-fae6-224ce7d8468f"
      },
      "source": [
        "import random\n",
        "n = int(input(\"Nhap so phan tu cua danh sach:\"))\n",
        "a = int(input(\"Nhap gia tri be nhat co the co trong danh sach:\"))\n",
        "b = int(input(\"Nhap gia tri lon nhat co the co trong danh sach:\"))\n",
        "c = [random.randint(a,b) for i in range(n)]\n",
        "c.sort()\n",
        "print(c)\n",
        "x = int(input(\"Nhap so ban muon tim kiem trong danh sach:\"))\n",
        "val=True\n",
        "k=0\n",
        "print(\"Các vị trí của\",x,\"trong danh sach là:\",end=\"\")\n",
        "for i in range(n):\n",
        "  k+=1\n",
        "  if x==c[i]:\n",
        "    val=False\n",
        "    print(i+1,end=\" \")\n",
        "  if c[i]>x:\n",
        "    print(\"\\nSo buoc lap thuc hien:\",k)\n",
        "    break\n",
        "if val==True:\n",
        "  print(\"Khong tim thay\")\n"
      ],
      "execution_count": 8,
      "outputs": [
        {
          "output_type": "stream",
          "name": "stdout",
          "text": [
            "Nhap so phan tu cua danh sach:9\n",
            "Nhap gia tri be nhat co the co trong danh sach:0\n",
            "Nhap gia tri lon nhat co the co trong danh sach:9\n",
            "[0, 2, 5, 7, 7, 7, 7, 9, 9]\n",
            "Nhap so ban muon tim kiem trong danh sach:7\n",
            "Các vị trí của 7 trong danh sach là:4 5 6 7 \n",
            "So buoc lap thuc hien: 8\n"
          ]
        }
      ]
    }
  ]
}