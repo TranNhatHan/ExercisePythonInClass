{
  "nbformat": 4,
  "nbformat_minor": 0,
  "metadata": {
    "colab": {
      "name": "BTSapXep.ipynb",
      "provenance": [],
      "collapsed_sections": [],
      "authorship_tag": "ABX9TyPqlRPdb7OQELcA2vw+MDPp",
      "include_colab_link": true
    },
    "kernelspec": {
      "name": "python3",
      "display_name": "Python 3"
    },
    "language_info": {
      "name": "python"
    }
  },
  "cells": [
    {
      "cell_type": "markdown",
      "metadata": {
        "id": "view-in-github",
        "colab_type": "text"
      },
      "source": [
        "<a href=\"https://colab.research.google.com/github/TranNhatHan/LamBt/blob/main/BTSapXep.ipynb\" target=\"_parent\"><img src=\"https://colab.research.google.com/assets/colab-badge.svg\" alt=\"Open In Colab\"/></a>"
      ]
    },
    {
      "cell_type": "markdown",
      "metadata": {
        "id": "RmbgRQ7VXFAs"
      },
      "source": [
        "Bài 1: Viết chương trình nhập vào từ bàn phím một danh sách gồm 10 số nguyên và thực hiện các\n",
        "yêu cầu sau:\n",
        "- Sắp xếp danh sách trên theo chiều tăng dần\n",
        "- In kết quả ra màn hình"
      ]
    },
    {
      "cell_type": "code",
      "metadata": {
        "colab": {
          "base_uri": "https://localhost:8080/"
        },
        "id": "JmlwBb7rW_00",
        "outputId": "228928bb-6620-4982-e2bf-41ac606a50aa"
      },
      "source": [
        "a =[int(input(\"Nhap du lieu:\")) for i in range(10)]\n",
        "a.sort()\n",
        "print(a)"
      ],
      "execution_count": 54,
      "outputs": [
        {
          "output_type": "stream",
          "name": "stdout",
          "text": [
            "Nhap du lieu:1\n",
            "Nhap du lieu:3\n",
            "Nhap du lieu:2\n",
            "Nhap du lieu:4\n",
            "Nhap du lieu:8\n",
            "Nhap du lieu:6\n",
            "Nhap du lieu:9\n",
            "Nhap du lieu:3\n",
            "Nhap du lieu:6\n",
            "Nhap du lieu:3\n",
            "[1, 2, 3, 3, 3, 4, 6, 6, 8, 9]\n"
          ]
        }
      ]
    },
    {
      "cell_type": "markdown",
      "metadata": {
        "id": "-DRp0y4gXKbG"
      },
      "source": [
        "Bài 2: Viết chương trình thực hiện các yêu cầu sau:\n",
        "- Xây dựng hàm có tên nhap_danh_sach_so_nguyen(n), trong đó:\n",
        "o Tham số đầu vào n là số phần tử của danh sách;\n",
        "o Hàm này trả về một danh sách gồm n số nguyên được nhập vào từ bàn phím\n",
        "- Xây dựng hàm có tên sap_xep_danh_sach(x), trong đó:\n",
        "o Tham số đầu vào x là một danh sách các số nguyên\n",
        "o Hàm này trả về một danh sách các số nguyên được sắp xếp theo chiều tăng dần\n",
        "- Chương trình chính (__main__) gọi thực thi 2 hàm nêu trên và in kết quả sắp xếp ra màn\n",
        "hình."
      ]
    },
    {
      "cell_type": "code",
      "metadata": {
        "id": "zxrRVfF5Y_lb"
      },
      "source": [
        "def nhap_danh_sach_so_nguyen(n):\n",
        "  b=[int(input(\"Nhap du lieu:\")) for i in range(n)]\n",
        "  return b\n",
        "def sap_xep_danh_sach(x):\n",
        "  x.sort()\n",
        "  return x"
      ],
      "execution_count": 19,
      "outputs": []
    },
    {
      "cell_type": "code",
      "metadata": {
        "colab": {
          "base_uri": "https://localhost:8080/"
        },
        "id": "We5b2ok2fQch",
        "outputId": "e66b0f91-50c0-4f22-9610-1b14c49c343f"
      },
      "source": [
        "sap_xep_danh_sach(nhap_danh_sach_so_nguyen(int(input(\"Nhap so phan tu:\"))))"
      ],
      "execution_count": 21,
      "outputs": [
        {
          "name": "stdout",
          "output_type": "stream",
          "text": [
            "Nhap so phan tu:4\n",
            "Nhap du lieu:1\n",
            "Nhap du lieu:2\n",
            "Nhap du lieu:3\n",
            "Nhap du lieu:4\n",
            "Nhap so phan tu:7\n",
            "Nhap du lieu:4\n",
            "Nhap du lieu:5\n",
            "Nhap du lieu:8\n",
            "Nhap du lieu:2\n",
            "Nhap du lieu:7\n",
            "Nhap du lieu:9\n",
            "Nhap du lieu:5\n"
          ]
        },
        {
          "output_type": "execute_result",
          "data": {
            "text/plain": [
              "[2, 4, 5, 5, 7, 8, 9]"
            ]
          },
          "metadata": {},
          "execution_count": 21
        }
      ]
    },
    {
      "cell_type": "markdown",
      "metadata": {
        "id": "eo4Jo2VHXKs6"
      },
      "source": [
        "Bài 3: Viết chương trình nhập vào từ bàn phím một danh sách các số thực, theo các yeu cầu sau:\n",
        "- Sau khi nhập mỗi số thực từ bàn phím, chương trình hỏi người dùng có muốn tiếp tục nhập\n",
        "không. Nếu người dùng gõ ký tự n hoặc N thì kết thúc quá trình nhập;\n",
        "- Sắp xếp danh sách các số thực tren theo chiều giảm dần;\n",
        "- In kết quả ra màn hình."
      ]
    },
    {
      "cell_type": "code",
      "metadata": {
        "colab": {
          "base_uri": "https://localhost:8080/"
        },
        "id": "SjzIEJImisfE",
        "outputId": "a7ad7b78-bb6a-4dab-c57f-423348226714"
      },
      "source": [
        "key=\"Han\"\n",
        "c=[]\n",
        "while not key==\"N\" and not key==\"n\":\n",
        "  var=int(input(\"Nhap du lieu:\"))\n",
        "  c.append(var)\n",
        "  key=input(\"Muon ket thuc nhap n hoac N:\")\n",
        "c.sort(reverse=True)\n",
        "print(c)"
      ],
      "execution_count": 12,
      "outputs": [
        {
          "output_type": "stream",
          "name": "stdout",
          "text": [
            "Nhap du lieu:4\n",
            "Muon ket thuc nhap n hoac N:6\n",
            "Nhap du lieu:5\n",
            "Muon ket thuc nhap n hoac N:7\n",
            "Nhap du lieu:3\n",
            "Muon ket thuc nhap n hoac N:n\n",
            "[5, 4, 3]\n"
          ]
        }
      ]
    },
    {
      "cell_type": "markdown",
      "metadata": {
        "id": "8HLb1u8xXK2i"
      },
      "source": [
        "Bài 4: Viết chương trình thực hiện các yêu cầu sau:\n",
        "- Xây dựng hàm nhap_danh_sach_so_thuc( ) thỏa mãn các yêu cầu sau:\n",
        "o Sau khi nhập mỗi số thực từ bàn phím, chương trình hỏi người dùng có muốn tiếp\n",
        "tục nhập không. Nếu người dùng gõ ký tự n hoặc N thì kết thúc quá trình nhập;\n",
        "o Hàm trả về danh sách các số thực đã nhập.\n",
        "- Xây dựng hàm sap_xep_danh_sach_so_thuc(x), với:\n",
        "o Tham số đầu vào x là một danh sách các số thực;\n",
        "o Hàm này trả về một danh sách các số thực được sắp xếp theo chiều giảm dần\n",
        "\n",
        "- Chương trình chính (__main__) gọi thực thi 2 hàm nêu trên và in kết quả sắp xếp ra màn\n",
        "hình."
      ]
    },
    {
      "cell_type": "code",
      "metadata": {
        "id": "KQ6OxaHTlNn4"
      },
      "source": [
        "def nhap_danh_sach_so_thuc():\n",
        "  key=\"Han\"\n",
        "  c=[]\n",
        "  while not key==\"N\" and not key==\"n\":\n",
        "    var=int(input(\"Nhap du lieu:\"))\n",
        "    c.append(var)\n",
        "    key=input(\"Muon ket thuc nhap n hoac N:\")\n",
        "  return c\n",
        "def sap_xep_danh_sach_so_thuc(x):\n",
        "  x.sort(reverse=True)\n",
        "  return x"
      ],
      "execution_count": 60,
      "outputs": []
    },
    {
      "cell_type": "code",
      "metadata": {
        "colab": {
          "base_uri": "https://localhost:8080/"
        },
        "id": "I3W89HR-l1-Z",
        "outputId": "b21acd5e-9f00-47a0-a70b-aab2b95e830b"
      },
      "source": [
        "sap_xep_danh_sach_so_thuc(nhap_danh_sach_so_thuc())"
      ],
      "execution_count": 61,
      "outputs": [
        {
          "name": "stdout",
          "output_type": "stream",
          "text": [
            "Nhap du lieu:6\n",
            "Muon ket thuc nhap n hoac N:5\n",
            "Nhap du lieu:8\n",
            "Muon ket thuc nhap n hoac N:8\n",
            "Nhap du lieu:4\n",
            "Muon ket thuc nhap n hoac N:4\n",
            "Nhap du lieu:2\n",
            "Muon ket thuc nhap n hoac N:8\n",
            "Nhap du lieu:1\n",
            "Muon ket thuc nhap n hoac N:n\n"
          ]
        },
        {
          "output_type": "execute_result",
          "data": {
            "text/plain": [
              "[8, 6, 4, 2, 1]"
            ]
          },
          "metadata": {},
          "execution_count": 61
        }
      ]
    },
    {
      "cell_type": "markdown",
      "metadata": {
        "id": "S1nnxhPoXLHD"
      },
      "source": [
        "Bài 5: Viết chương trình thực hiện các yêu cầu sau:\n",
        "- Sinh ngẫu nhiên 1 danh sách số nguyên gồm n phần tử. Trong đó, n được nhập vào từ bàn\n",
        "phím và số nguyên sinh ra nằm trong khoảng từ 0 đến max_value. Giá trị max_value được\n",
        "nhập vào từ bàn phím;\n",
        "- Hỏi người dùng lựa chọn sắp xếp danh sách trên theo chiều tăng dần hay giảm dần và sắp\n",
        "xếp danh sách theo lựa chọn của người dùng;\n",
        "- In kết quả sắp xếp ra màn hình."
      ]
    },
    {
      "cell_type": "code",
      "metadata": {
        "colab": {
          "base_uri": "https://localhost:8080/"
        },
        "id": "Oh_rsHdYmbst",
        "outputId": "2c4c0003-b8e1-4308-d37c-dc0f4cdd71cb"
      },
      "source": [
        "import random\n",
        "n = int(input(\"Nhap so phan tu:\"))\n",
        "max = int(input(\"Nhap gia tri lon nhat co the duoc tao ra trong danh sach:\"))\n",
        "d=[random.randint(1,max-1 )for i in range(n)]\n",
        "key=input(\"Sap xep theo chieu tang hay giam dan (T/G)? \")\n",
        "key=key.upper()\n",
        "if key==\"T\":\n",
        "  d.sort()\n",
        "  print(d)\n",
        "elif key==\"G\":\n",
        "  d.sort(reverse=True)\n",
        "  print(d)\n",
        "else:\n",
        "  print(d)"
      ],
      "execution_count": 18,
      "outputs": [
        {
          "output_type": "stream",
          "name": "stdout",
          "text": [
            "Nhap so phan tu:8\n",
            "Nhap gia tri lon nhat co the duoc tao ra trong danh sach46\n",
            "Sap xep theo chieu tang hay giam dan (T/G)? g\n",
            "[37, 23, 20, 20, 16, 9, 8, 5]\n"
          ]
        }
      ]
    },
    {
      "cell_type": "markdown",
      "metadata": {
        "id": "Ggl9p2liXLQ2"
      },
      "source": [
        "Bài 6: Viết chương trình thực hiện các yêu cầu sau:\n",
        "- Xây dựng hàm sinh_ngau_nhien_danh_sach_so_nguyen( ), thực hiện các thao tác sau:\n",
        "o Sinh ngẫu nhiên 1 danh sách số nguyên gồm n phần tử;\n",
        "o Trong đó, n được nhập vào từ bàn phím và số nguyên sinh ra nằm trong khoảng từ\n",
        "0 đến max_value;\n",
        "o Giá trị max_value được nhập vào từ bàn phím;\n",
        "o Hàm này trả về danh sách các số nguyên được sinh ngẫu nhiên ở trên.\n",
        "- Xây dựng hàm sap_xep_giam_dan(x), trong đó:\n",
        "o Tham số đầu vào x là một danh sách các số nguyên;\n",
        "o Hàm này trả về một danh sách các số nguyên được sắp xếp theo chiều giảm dần.\n",
        "- Xây dựng hàm sap_xep_tang_dan(x), trong đó:\n",
        "o Tham số đầu vào x là một danh sách các số nguyên;\n",
        "o Hàm này trả về một danh sách các số nguyên được sắp xếp theo chiều tăng dần.\n",
        "- Chương trình chính (__main__) gọi thực hiện các hàm trên và in kết quả ra màn hình."
      ]
    },
    {
      "cell_type": "code",
      "metadata": {
        "id": "0RLWZOe4p8tj"
      },
      "source": [
        "def sinh_ngau_nhien_danh_sach_so_nguyen():\n",
        "  import random\n",
        "  global e\n",
        "  n = int(input(\"Nhap so phan tu:\"))\n",
        "  max = int(input(\"Nhap gia tri lon nhat co the duoc tao ra trong danh sach:\"))\n",
        "  e=[random.randint(1,max-1 )for i in range(n)]\n",
        "  print(e)\n",
        "  return e\n",
        "def sap_xep_giam_dan(x):\n",
        "  e.sort(reverse=True)\n",
        "  print(e)\n",
        "def sap_xep_tang_dan(x):\n",
        "  e.sort()\n",
        "  print(e)"
      ],
      "execution_count": 57,
      "outputs": []
    },
    {
      "cell_type": "code",
      "metadata": {
        "colab": {
          "base_uri": "https://localhost:8080/"
        },
        "id": "zJ8_nFmBq9LA",
        "outputId": "48f60032-d723-430e-b00d-57b2d1d80a4c"
      },
      "source": [
        "sinh_ngau_nhien_danh_sach_so_nguyen()\n",
        "sap_xep_giam_dan(e)\n",
        "sap_xep_tang_dan(e)"
      ],
      "execution_count": 58,
      "outputs": [
        {
          "output_type": "stream",
          "name": "stdout",
          "text": [
            "Nhap so phan tu:9\n",
            "Nhap gia tri lon nhat co the duoc tao ra trong danh sach:34\n",
            "[30, 27, 5, 16, 19, 12, 18, 28, 7]\n",
            "[30, 28, 27, 19, 18, 16, 12, 7, 5]\n",
            "[5, 7, 12, 16, 18, 19, 27, 28, 30]\n"
          ]
        }
      ]
    }
  ]
}