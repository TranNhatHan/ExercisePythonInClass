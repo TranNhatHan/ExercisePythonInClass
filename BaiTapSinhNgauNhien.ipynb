{
  "cells": [
    {
      "cell_type": "markdown",
      "metadata": {
        "id": "view-in-github",
        "colab_type": "text"
      },
      "source": [
        "<a href=\"https://colab.research.google.com/github/TranNhatHan/LamBt/blob/main/BaiTapSinhNgauNhien.ipynb\" target=\"_parent\"><img src=\"https://colab.research.google.com/assets/colab-badge.svg\" alt=\"Open In Colab\"/></a>"
      ]
    },
    {
      "cell_type": "code",
      "source": [
        "import numpy as np"
      ],
      "metadata": {
        "id": "IALy4wI2fwbc"
      },
      "execution_count": 1,
      "outputs": []
    },
    {
      "cell_type": "markdown",
      "metadata": {
        "id": "7Ltz17_Cfo_d"
      },
      "source": [
        "Sử dụng thư viện Numpy\n",
        "\n",
        "1. Sinh mẫu ngẫu nhiên bằng hàm arange trong khoảng [-15, 27] với khoảng cách là 0.7 và in kết quả ra màn hình"
      ]
    },
    {
      "cell_type": "code",
      "execution_count": 2,
      "metadata": {
        "id": "AnjFNcBhfo_h",
        "outputId": "319f8021-547f-44ae-f8ba-2937e1b4476b",
        "colab": {
          "base_uri": "https://localhost:8080/"
        }
      },
      "outputs": [
        {
          "output_type": "execute_result",
          "data": {
            "text/plain": [
              "array([-15. , -14.3, -13.6, -12.9, -12.2, -11.5, -10.8, -10.1,  -9.4,\n",
              "        -8.7,  -8. ,  -7.3,  -6.6,  -5.9,  -5.2,  -4.5,  -3.8,  -3.1,\n",
              "        -2.4,  -1.7,  -1. ,  -0.3,   0.4,   1.1,   1.8,   2.5,   3.2,\n",
              "         3.9,   4.6,   5.3,   6. ,   6.7,   7.4,   8.1,   8.8,   9.5,\n",
              "        10.2,  10.9,  11.6,  12.3,  13. ,  13.7,  14.4,  15.1,  15.8,\n",
              "        16.5,  17.2,  17.9,  18.6,  19.3,  20. ,  20.7,  21.4,  22.1,\n",
              "        22.8,  23.5,  24.2,  24.9,  25.6,  26.3,  27. ])"
            ]
          },
          "metadata": {},
          "execution_count": 2
        }
      ],
      "source": [
        "np.arange(-15, 27, 0.7)"
      ]
    },
    {
      "cell_type": "markdown",
      "metadata": {
        "id": "xF683utwfo_i"
      },
      "source": [
        "2. Sinh mẫu ngẫu nhiên theo phân phối chuẩn với mean = 2.7 std = 1.2 và size = 40\n",
        "In kết quả ra màn hình"
      ]
    },
    {
      "cell_type": "code",
      "execution_count": 3,
      "metadata": {
        "id": "7MvPaAItfo_j",
        "outputId": "fd8799a1-20e1-462e-d7d7-93cba64737a1",
        "colab": {
          "base_uri": "https://localhost:8080/"
        }
      },
      "outputs": [
        {
          "output_type": "execute_result",
          "data": {
            "text/plain": [
              "array([3.04463401, 3.67586701, 3.60634807, 1.81603753, 4.70849463,\n",
              "       1.81276641, 1.56001041, 2.28657896, 2.44428544, 2.89148382,\n",
              "       3.8024651 , 0.72132166, 1.63708702, 2.36155994, 1.27637885,\n",
              "       3.13208542, 1.27524946, 1.69508704, 2.2214933 , 1.13187702,\n",
              "       4.12517978, 3.23066469, 3.53089703, 4.19232096, 5.394859  ,\n",
              "       1.95294351, 1.60919399, 4.33465711, 3.74222987, 4.29772687,\n",
              "       1.71657336, 2.82882848, 1.96846853, 1.70705384, 2.63913619,\n",
              "       3.22313381, 2.11405098, 0.77728717, 2.36383849, 3.00814538])"
            ]
          },
          "metadata": {},
          "execution_count": 3
        }
      ],
      "source": [
        "np.random.normal(2.7, 1.2, 40)"
      ]
    },
    {
      "cell_type": "markdown",
      "metadata": {
        "id": "0qZg84OMfo_j"
      },
      "source": [
        "3. Sinh mẫu ngẫu nhiên từ vector ['Viet Nam', 'Britain', 'France', 'Russia', 'Singapore'] \n",
        "\n",
        "với kích thước là 17 theo phân phối chuẩn"
      ]
    },
    {
      "cell_type": "code",
      "execution_count": 4,
      "metadata": {
        "id": "EfzFT6Uffo_j",
        "outputId": "6996cb80-c7b7-4141-95c7-ff2695f470f4",
        "colab": {
          "base_uri": "https://localhost:8080/"
        }
      },
      "outputs": [
        {
          "output_type": "execute_result",
          "data": {
            "text/plain": [
              "array(['Viet Nam', 'Viet Nam', 'Russia', 'Britain', 'Britain',\n",
              "       'Singapore', 'Singapore', 'Britain', 'France', 'Russia',\n",
              "       'Viet Nam', 'Viet Nam', 'Viet Nam', 'Viet Nam', 'Singapore',\n",
              "       'France', 'Russia'], dtype='<U9')"
            ]
          },
          "metadata": {},
          "execution_count": 4
        }
      ],
      "source": [
        "np.random.choice(['Viet Nam', 'Britain', 'France', 'Russia', 'Singapore'], 17)"
      ]
    },
    {
      "cell_type": "markdown",
      "metadata": {
        "id": "fY-COqpbfo_k"
      },
      "source": [
        "4. Sinh mẫu ngẫu nhiên ở câu 3 nhưng không theo phân phối chuẩn mà theo 1 vector đặc tả giá trị xác suất do bạn chọn"
      ]
    },
    {
      "cell_type": "code",
      "execution_count": 5,
      "metadata": {
        "id": "8s8nUFdpfo_l",
        "outputId": "1046d25e-8028-49aa-c08c-268c5ac76057",
        "colab": {
          "base_uri": "https://localhost:8080/"
        }
      },
      "outputs": [
        {
          "output_type": "execute_result",
          "data": {
            "text/plain": [
              "array(['Viet Nam', 'Viet Nam', 'Russia', 'Viet Nam', 'France', 'Viet Nam',\n",
              "       'France', 'Viet Nam', 'France', 'Viet Nam', 'France', 'Viet Nam',\n",
              "       'Viet Nam', 'Britain', 'France', 'Singapore', 'France'],\n",
              "      dtype='<U9')"
            ]
          },
          "metadata": {},
          "execution_count": 5
        }
      ],
      "source": [
        "np.random.choice(['Viet Nam', 'Britain', 'France', 'Russia', 'Singapore'], 17, p = [0.3, 0.2, 0.3, 0.1, 0.1])"
      ]
    },
    {
      "cell_type": "code",
      "source": [
        "import scipy.stats as st"
      ],
      "metadata": {
        "id": "v0elYnrHgt7T"
      },
      "execution_count": 6,
      "outputs": []
    },
    {
      "cell_type": "markdown",
      "metadata": {
        "id": "O1_VUH_6fo_l"
      },
      "source": [
        "Sử dụng thư việc scipy.stats để sinh mẫu ngẫu nhiên\n",
        "\n",
        "1. Sinh mẫu ngẫu nhiên theo phân phối chuẩn với mean = 12.7, std = 2.6 và size = 30. In kết quả ra màn hình"
      ]
    },
    {
      "cell_type": "code",
      "execution_count": 7,
      "metadata": {
        "id": "Hnuh2dysfo_m",
        "outputId": "a4d8a7fc-c046-4b41-ff6e-116794bd864a",
        "colab": {
          "base_uri": "https://localhost:8080/"
        }
      },
      "outputs": [
        {
          "output_type": "execute_result",
          "data": {
            "text/plain": [
              "array([15.78062302, 15.18161507, 15.50875957, 12.92114433, 11.15445487,\n",
              "       19.49768522, 14.73835231, 12.65841116, 12.05342963,  9.87267627,\n",
              "       13.34294664, 15.22034183, 10.40092857, 12.07966031,  8.79518928,\n",
              "       14.42398217, 12.28316104, 13.71034275, 11.67784587,  9.17672571,\n",
              "       13.20012303, 15.11148258,  9.2076288 , 13.14342581, 13.28912756,\n",
              "        9.8509814 , 14.07517918, 13.54948381, 13.72631066, 10.38238766])"
            ]
          },
          "metadata": {},
          "execution_count": 7
        }
      ],
      "source": [
        "st.norm.rvs(loc = 12.7, scale = 2.6, size = 30)"
      ]
    },
    {
      "cell_type": "markdown",
      "metadata": {
        "id": "P8B6Oixffo_n"
      },
      "source": [
        "2. Hãy sinh một mẫu ngẫu nhiên theo phân phối Poisson"
      ]
    },
    {
      "cell_type": "code",
      "execution_count": 20,
      "metadata": {
        "id": "udES0iudfo_o",
        "outputId": "4a0c77bc-dae9-462e-9694-85aa005640fd",
        "colab": {
          "base_uri": "https://localhost:8080/"
        }
      },
      "outputs": [
        {
          "output_type": "execute_result",
          "data": {
            "text/plain": [
              "array([ 3, -2,  1, -1, -4,  3, -3,  0, -1,  3,  2, -1,  4, -3,  6, -2,  3,\n",
              "        4, -1, -2, -1,  5,  3,  0,  0,  3, -4,  0, -3, -2,  3, -5,  3,  2,\n",
              "        0,  3, -4,  0, -3, -3, -4, -6,  3,  3,  2,  5, -3,  3,  1,  1, -1,\n",
              "       -1,  4,  9, -4,  1, -4, -3,  4, -3, -2,  5, -1,  2,  0, -7,  6,  5,\n",
              "       -1, -1,  2,  4,  1,  1, -3, -2,  3,  3, -4,  3, -2,  1,  3, -3,  4,\n",
              "       -5, -1, -1,  7,  0,  5,  2, -2,  8,  2,  5, -3,  4,  0,  0])"
            ]
          },
          "metadata": {},
          "execution_count": 20
        }
      ],
      "source": [
        "st.poisson.rvs(loc=-10, mu=10, size=100)"
      ]
    }
  ],
  "metadata": {
    "kernelspec": {
      "display_name": "Python 3",
      "language": "python",
      "name": "python3"
    },
    "language_info": {
      "codemirror_mode": {
        "name": "ipython",
        "version": 3
      },
      "file_extension": ".py",
      "mimetype": "text/x-python",
      "name": "python",
      "nbconvert_exporter": "python",
      "pygments_lexer": "ipython3",
      "version": "3.7.3"
    },
    "colab": {
      "name": "bai-tap-sinh-mau-ngau-nhien.ipynb",
      "provenance": [],
      "include_colab_link": true
    }
  },
  "nbformat": 4,
  "nbformat_minor": 0
}