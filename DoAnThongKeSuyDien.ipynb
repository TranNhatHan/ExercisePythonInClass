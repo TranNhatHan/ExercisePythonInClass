{
  "nbformat": 4,
  "nbformat_minor": 0,
  "metadata": {
    "colab": {
      "name": "DoAnThongKeSuyDien.ipynb",
      "provenance": [],
      "collapsed_sections": [
        "q4tATL3D9V8z",
        "8X3rnCzV3jct",
        "YztIMT_g3uvJ",
        "4X1rYq2q08ot",
        "xEuMc1KnGU4b",
        "d6J5NHymtjky"
      ],
      "mount_file_id": "14baxa8Z41ss861lFwrcm9-7_IGWFJlai",
      "authorship_tag": "ABX9TyNOrVPHE7xzBGExmyIQH96s",
      "include_colab_link": true
    },
    "kernelspec": {
      "name": "python3",
      "display_name": "Python 3"
    },
    "language_info": {
      "name": "python"
    }
  },
  "cells": [
    {
      "cell_type": "markdown",
      "metadata": {
        "id": "view-in-github",
        "colab_type": "text"
      },
      "source": [
        "<a href=\"https://colab.research.google.com/github/TranNhatHan/ExercisePythonInClass/blob/main/DoAnThongKeSuyDien.ipynb\" target=\"_parent\"><img src=\"https://colab.research.google.com/assets/colab-badge.svg\" alt=\"Open In Colab\"/></a>"
      ]
    },
    {
      "cell_type": "markdown",
      "source": [
        "#Tải các thư viện chưa được hỗ trợ sẵn trong Colab"
      ],
      "metadata": {
        "id": "q4tATL3D9V8z"
      }
    },
    {
      "cell_type": "code",
      "source": [
        "!pip install pingouin"
      ],
      "metadata": {
        "colab": {
          "base_uri": "https://localhost:8080/"
        },
        "id": "M6JGuxoZ0S6h",
        "outputId": "8f3ca861-2fad-4412-b37d-fdbf9131947c"
      },
      "execution_count": null,
      "outputs": [
        {
          "output_type": "stream",
          "name": "stdout",
          "text": [
            "Collecting pingouin\n",
            "  Downloading pingouin-0.5.1.tar.gz (183 kB)\n",
            "\u001b[K     |████████████████████████████████| 183 kB 2.7 MB/s \n",
            "\u001b[?25hRequirement already satisfied: numpy>=1.19 in /usr/local/lib/python3.7/dist-packages (from pingouin) (1.21.6)\n",
            "Collecting scipy>=1.7\n",
            "  Downloading scipy-1.7.3-cp37-cp37m-manylinux_2_12_x86_64.manylinux2010_x86_64.whl (38.1 MB)\n",
            "\u001b[K     |████████████████████████████████| 38.1 MB 1.2 MB/s \n",
            "\u001b[?25hRequirement already satisfied: pandas>=1.0 in /usr/local/lib/python3.7/dist-packages (from pingouin) (1.3.5)\n",
            "Requirement already satisfied: matplotlib>=3.0.2 in /usr/local/lib/python3.7/dist-packages (from pingouin) (3.2.2)\n",
            "Requirement already satisfied: seaborn>=0.11 in /usr/local/lib/python3.7/dist-packages (from pingouin) (0.11.2)\n",
            "Collecting statsmodels>=0.13\n",
            "  Downloading statsmodels-0.13.2-cp37-cp37m-manylinux_2_17_x86_64.manylinux2014_x86_64.whl (9.8 MB)\n",
            "\u001b[K     |████████████████████████████████| 9.8 MB 57.6 MB/s \n",
            "\u001b[?25hRequirement already satisfied: scikit-learn in /usr/local/lib/python3.7/dist-packages (from pingouin) (1.0.2)\n",
            "Collecting pandas_flavor>=0.2.0\n",
            "  Downloading pandas_flavor-0.3.0-py3-none-any.whl (6.3 kB)\n",
            "Collecting outdated\n",
            "  Downloading outdated-0.2.1-py3-none-any.whl (7.5 kB)\n",
            "Requirement already satisfied: tabulate in /usr/local/lib/python3.7/dist-packages (from pingouin) (0.8.9)\n",
            "Requirement already satisfied: kiwisolver>=1.0.1 in /usr/local/lib/python3.7/dist-packages (from matplotlib>=3.0.2->pingouin) (1.4.2)\n",
            "Requirement already satisfied: pyparsing!=2.0.4,!=2.1.2,!=2.1.6,>=2.0.1 in /usr/local/lib/python3.7/dist-packages (from matplotlib>=3.0.2->pingouin) (3.0.9)\n",
            "Requirement already satisfied: python-dateutil>=2.1 in /usr/local/lib/python3.7/dist-packages (from matplotlib>=3.0.2->pingouin) (2.8.2)\n",
            "Requirement already satisfied: cycler>=0.10 in /usr/local/lib/python3.7/dist-packages (from matplotlib>=3.0.2->pingouin) (0.11.0)\n",
            "Requirement already satisfied: typing-extensions in /usr/local/lib/python3.7/dist-packages (from kiwisolver>=1.0.1->matplotlib>=3.0.2->pingouin) (4.2.0)\n",
            "Requirement already satisfied: pytz>=2017.3 in /usr/local/lib/python3.7/dist-packages (from pandas>=1.0->pingouin) (2022.1)\n",
            "Requirement already satisfied: xarray in /usr/local/lib/python3.7/dist-packages (from pandas_flavor>=0.2.0->pingouin) (0.18.2)\n",
            "Collecting pandas_flavor>=0.2.0\n",
            "  Downloading pandas_flavor-0.2.0-py2.py3-none-any.whl (6.6 kB)\n",
            "Requirement already satisfied: six>=1.5 in /usr/local/lib/python3.7/dist-packages (from python-dateutil>=2.1->matplotlib>=3.0.2->pingouin) (1.15.0)\n",
            "Requirement already satisfied: packaging>=21.3 in /usr/local/lib/python3.7/dist-packages (from statsmodels>=0.13->pingouin) (21.3)\n",
            "Requirement already satisfied: patsy>=0.5.2 in /usr/local/lib/python3.7/dist-packages (from statsmodels>=0.13->pingouin) (0.5.2)\n",
            "Collecting littleutils\n",
            "  Downloading littleutils-0.2.2.tar.gz (6.6 kB)\n",
            "Requirement already satisfied: requests in /usr/local/lib/python3.7/dist-packages (from outdated->pingouin) (2.23.0)\n",
            "Requirement already satisfied: certifi>=2017.4.17 in /usr/local/lib/python3.7/dist-packages (from requests->outdated->pingouin) (2021.10.8)\n",
            "Requirement already satisfied: chardet<4,>=3.0.2 in /usr/local/lib/python3.7/dist-packages (from requests->outdated->pingouin) (3.0.4)\n",
            "Requirement already satisfied: urllib3!=1.25.0,!=1.25.1,<1.26,>=1.21.1 in /usr/local/lib/python3.7/dist-packages (from requests->outdated->pingouin) (1.24.3)\n",
            "Requirement already satisfied: idna<3,>=2.5 in /usr/local/lib/python3.7/dist-packages (from requests->outdated->pingouin) (2.10)\n",
            "Requirement already satisfied: joblib>=0.11 in /usr/local/lib/python3.7/dist-packages (from scikit-learn->pingouin) (1.1.0)\n",
            "Requirement already satisfied: threadpoolctl>=2.0.0 in /usr/local/lib/python3.7/dist-packages (from scikit-learn->pingouin) (3.1.0)\n",
            "Requirement already satisfied: setuptools>=40.4 in /usr/local/lib/python3.7/dist-packages (from xarray->pandas_flavor>=0.2.0->pingouin) (57.4.0)\n",
            "Building wheels for collected packages: pingouin, littleutils\n",
            "  Building wheel for pingouin (setup.py) ... \u001b[?25l\u001b[?25hdone\n",
            "  Created wheel for pingouin: filename=pingouin-0.5.1-py3-none-any.whl size=194002 sha256=84b76f5667bb4d47791b5216a2979edcc90a72955c0587705c9900be0a72315b\n",
            "  Stored in directory: /root/.cache/pip/wheels/74/a7/b6/5b5f03b0395fdada1f45d3aed76e7da48873a02805545ef652\n",
            "  Building wheel for littleutils (setup.py) ... \u001b[?25l\u001b[?25hdone\n",
            "  Created wheel for littleutils: filename=littleutils-0.2.2-py3-none-any.whl size=7048 sha256=013bcc47fc2f52807f52a2f3fda98a2cea3cb4de06abb9a71d3b7b24db765325\n",
            "  Stored in directory: /root/.cache/pip/wheels/d6/64/cd/32819b511a488e4993f2fab909a95330289c3f4e0f6ef4676d\n",
            "Successfully built pingouin littleutils\n",
            "Installing collected packages: scipy, littleutils, statsmodels, pandas-flavor, outdated, pingouin\n",
            "  Attempting uninstall: scipy\n",
            "    Found existing installation: scipy 1.4.1\n",
            "    Uninstalling scipy-1.4.1:\n",
            "      Successfully uninstalled scipy-1.4.1\n",
            "  Attempting uninstall: statsmodels\n",
            "    Found existing installation: statsmodels 0.10.2\n",
            "    Uninstalling statsmodels-0.10.2:\n",
            "      Successfully uninstalled statsmodels-0.10.2\n",
            "\u001b[31mERROR: pip's dependency resolver does not currently take into account all the packages that are installed. This behaviour is the source of the following dependency conflicts.\n",
            "albumentations 0.1.12 requires imgaug<0.2.7,>=0.2.5, but you have imgaug 0.2.9 which is incompatible.\u001b[0m\n",
            "Successfully installed littleutils-0.2.2 outdated-0.2.1 pandas-flavor-0.2.0 pingouin-0.5.1 scipy-1.7.3 statsmodels-0.13.2\n"
          ]
        }
      ]
    },
    {
      "cell_type": "code",
      "source": [
        "!pip install researchpy"
      ],
      "metadata": {
        "colab": {
          "base_uri": "https://localhost:8080/"
        },
        "id": "8LMAtThOg8oD",
        "outputId": "b64de9bf-0486-4be3-88d7-abfa7a6f6271"
      },
      "execution_count": null,
      "outputs": [
        {
          "output_type": "stream",
          "name": "stdout",
          "text": [
            "Collecting researchpy\n",
            "  Downloading researchpy-0.3.2-py3-none-any.whl (15 kB)\n",
            "Requirement already satisfied: numpy in /usr/local/lib/python3.7/dist-packages (from researchpy) (1.21.6)\n",
            "Requirement already satisfied: scipy in /usr/local/lib/python3.7/dist-packages (from researchpy) (1.7.3)\n",
            "Requirement already satisfied: pandas in /usr/local/lib/python3.7/dist-packages (from researchpy) (1.3.5)\n",
            "Requirement already satisfied: statsmodels in /usr/local/lib/python3.7/dist-packages (from researchpy) (0.13.2)\n",
            "Requirement already satisfied: patsy in /usr/local/lib/python3.7/dist-packages (from researchpy) (0.5.2)\n",
            "Requirement already satisfied: python-dateutil>=2.7.3 in /usr/local/lib/python3.7/dist-packages (from pandas->researchpy) (2.8.2)\n",
            "Requirement already satisfied: pytz>=2017.3 in /usr/local/lib/python3.7/dist-packages (from pandas->researchpy) (2022.1)\n",
            "Requirement already satisfied: six>=1.5 in /usr/local/lib/python3.7/dist-packages (from python-dateutil>=2.7.3->pandas->researchpy) (1.15.0)\n",
            "Requirement already satisfied: packaging>=21.3 in /usr/local/lib/python3.7/dist-packages (from statsmodels->researchpy) (21.3)\n",
            "Requirement already satisfied: pyparsing!=3.0.5,>=2.0.2 in /usr/local/lib/python3.7/dist-packages (from packaging>=21.3->statsmodels->researchpy) (3.0.9)\n",
            "Installing collected packages: researchpy\n",
            "Successfully installed researchpy-0.3.2\n"
          ]
        }
      ]
    },
    {
      "cell_type": "markdown",
      "source": [
        "# Truy cập vào các thư viện cần thiết"
      ],
      "metadata": {
        "id": "8X3rnCzV3jct"
      }
    },
    {
      "cell_type": "code",
      "execution_count": null,
      "metadata": {
        "id": "j7PBFY3fyucg"
      },
      "outputs": [],
      "source": [
        "import pandas as pd\n",
        "import scipy.stats as ss\n",
        "import pingouin as pg\n",
        "import researchpy as rp\n",
        "import statsmodels.stats.multicomp as mc\n",
        "import statsmodels.api as smi\n",
        "import matplotlib.pyplot as plt"
      ]
    },
    {
      "cell_type": "markdown",
      "source": [
        "# Đọc dữ liệu từ file Diet_R.csv"
      ],
      "metadata": {
        "id": "YztIMT_g3uvJ"
      }
    },
    {
      "cell_type": "code",
      "source": [
        "df = pd.read_csv(\"/content/drive/MyDrive/Diet_R.csv\")"
      ],
      "metadata": {
        "id": "zLLblgtx0bZ0"
      },
      "execution_count": null,
      "outputs": []
    },
    {
      "cell_type": "code",
      "source": [
        "df.head()"
      ],
      "metadata": {
        "colab": {
          "base_uri": "https://localhost:8080/",
          "height": 206
        },
        "id": "wYnPlNphv3wE",
        "outputId": "39c69c83-3a6e-48a2-c348-388aed790dfa"
      },
      "execution_count": null,
      "outputs": [
        {
          "output_type": "execute_result",
          "data": {
            "text/plain": [
              "   Person  gender  Age  Height  pre.weight  Diet  weight6weeks\n",
              "0      25     NaN   41     171          60     2          60.0\n",
              "1      26     NaN   32     174         103     2         103.0\n",
              "2       1     0.0   22     159          58     1          54.2\n",
              "3       2     0.0   46     192          60     1          54.0\n",
              "4       3     0.0   55     170          64     1          63.3"
            ],
            "text/html": [
              "\n",
              "  <div id=\"df-6e4d8b0f-b306-4561-83b9-047b88e6f795\">\n",
              "    <div class=\"colab-df-container\">\n",
              "      <div>\n",
              "<style scoped>\n",
              "    .dataframe tbody tr th:only-of-type {\n",
              "        vertical-align: middle;\n",
              "    }\n",
              "\n",
              "    .dataframe tbody tr th {\n",
              "        vertical-align: top;\n",
              "    }\n",
              "\n",
              "    .dataframe thead th {\n",
              "        text-align: right;\n",
              "    }\n",
              "</style>\n",
              "<table border=\"1\" class=\"dataframe\">\n",
              "  <thead>\n",
              "    <tr style=\"text-align: right;\">\n",
              "      <th></th>\n",
              "      <th>Person</th>\n",
              "      <th>gender</th>\n",
              "      <th>Age</th>\n",
              "      <th>Height</th>\n",
              "      <th>pre.weight</th>\n",
              "      <th>Diet</th>\n",
              "      <th>weight6weeks</th>\n",
              "    </tr>\n",
              "  </thead>\n",
              "  <tbody>\n",
              "    <tr>\n",
              "      <th>0</th>\n",
              "      <td>25</td>\n",
              "      <td>NaN</td>\n",
              "      <td>41</td>\n",
              "      <td>171</td>\n",
              "      <td>60</td>\n",
              "      <td>2</td>\n",
              "      <td>60.0</td>\n",
              "    </tr>\n",
              "    <tr>\n",
              "      <th>1</th>\n",
              "      <td>26</td>\n",
              "      <td>NaN</td>\n",
              "      <td>32</td>\n",
              "      <td>174</td>\n",
              "      <td>103</td>\n",
              "      <td>2</td>\n",
              "      <td>103.0</td>\n",
              "    </tr>\n",
              "    <tr>\n",
              "      <th>2</th>\n",
              "      <td>1</td>\n",
              "      <td>0.0</td>\n",
              "      <td>22</td>\n",
              "      <td>159</td>\n",
              "      <td>58</td>\n",
              "      <td>1</td>\n",
              "      <td>54.2</td>\n",
              "    </tr>\n",
              "    <tr>\n",
              "      <th>3</th>\n",
              "      <td>2</td>\n",
              "      <td>0.0</td>\n",
              "      <td>46</td>\n",
              "      <td>192</td>\n",
              "      <td>60</td>\n",
              "      <td>1</td>\n",
              "      <td>54.0</td>\n",
              "    </tr>\n",
              "    <tr>\n",
              "      <th>4</th>\n",
              "      <td>3</td>\n",
              "      <td>0.0</td>\n",
              "      <td>55</td>\n",
              "      <td>170</td>\n",
              "      <td>64</td>\n",
              "      <td>1</td>\n",
              "      <td>63.3</td>\n",
              "    </tr>\n",
              "  </tbody>\n",
              "</table>\n",
              "</div>\n",
              "      <button class=\"colab-df-convert\" onclick=\"convertToInteractive('df-6e4d8b0f-b306-4561-83b9-047b88e6f795')\"\n",
              "              title=\"Convert this dataframe to an interactive table.\"\n",
              "              style=\"display:none;\">\n",
              "        \n",
              "  <svg xmlns=\"http://www.w3.org/2000/svg\" height=\"24px\"viewBox=\"0 0 24 24\"\n",
              "       width=\"24px\">\n",
              "    <path d=\"M0 0h24v24H0V0z\" fill=\"none\"/>\n",
              "    <path d=\"M18.56 5.44l.94 2.06.94-2.06 2.06-.94-2.06-.94-.94-2.06-.94 2.06-2.06.94zm-11 1L8.5 8.5l.94-2.06 2.06-.94-2.06-.94L8.5 2.5l-.94 2.06-2.06.94zm10 10l.94 2.06.94-2.06 2.06-.94-2.06-.94-.94-2.06-.94 2.06-2.06.94z\"/><path d=\"M17.41 7.96l-1.37-1.37c-.4-.4-.92-.59-1.43-.59-.52 0-1.04.2-1.43.59L10.3 9.45l-7.72 7.72c-.78.78-.78 2.05 0 2.83L4 21.41c.39.39.9.59 1.41.59.51 0 1.02-.2 1.41-.59l7.78-7.78 2.81-2.81c.8-.78.8-2.07 0-2.86zM5.41 20L4 18.59l7.72-7.72 1.47 1.35L5.41 20z\"/>\n",
              "  </svg>\n",
              "      </button>\n",
              "      \n",
              "  <style>\n",
              "    .colab-df-container {\n",
              "      display:flex;\n",
              "      flex-wrap:wrap;\n",
              "      gap: 12px;\n",
              "    }\n",
              "\n",
              "    .colab-df-convert {\n",
              "      background-color: #E8F0FE;\n",
              "      border: none;\n",
              "      border-radius: 50%;\n",
              "      cursor: pointer;\n",
              "      display: none;\n",
              "      fill: #1967D2;\n",
              "      height: 32px;\n",
              "      padding: 0 0 0 0;\n",
              "      width: 32px;\n",
              "    }\n",
              "\n",
              "    .colab-df-convert:hover {\n",
              "      background-color: #E2EBFA;\n",
              "      box-shadow: 0px 1px 2px rgba(60, 64, 67, 0.3), 0px 1px 3px 1px rgba(60, 64, 67, 0.15);\n",
              "      fill: #174EA6;\n",
              "    }\n",
              "\n",
              "    [theme=dark] .colab-df-convert {\n",
              "      background-color: #3B4455;\n",
              "      fill: #D2E3FC;\n",
              "    }\n",
              "\n",
              "    [theme=dark] .colab-df-convert:hover {\n",
              "      background-color: #434B5C;\n",
              "      box-shadow: 0px 1px 3px 1px rgba(0, 0, 0, 0.15);\n",
              "      filter: drop-shadow(0px 1px 2px rgba(0, 0, 0, 0.3));\n",
              "      fill: #FFFFFF;\n",
              "    }\n",
              "  </style>\n",
              "\n",
              "      <script>\n",
              "        const buttonEl =\n",
              "          document.querySelector('#df-6e4d8b0f-b306-4561-83b9-047b88e6f795 button.colab-df-convert');\n",
              "        buttonEl.style.display =\n",
              "          google.colab.kernel.accessAllowed ? 'block' : 'none';\n",
              "\n",
              "        async function convertToInteractive(key) {\n",
              "          const element = document.querySelector('#df-6e4d8b0f-b306-4561-83b9-047b88e6f795');\n",
              "          const dataTable =\n",
              "            await google.colab.kernel.invokeFunction('convertToInteractive',\n",
              "                                                     [key], {});\n",
              "          if (!dataTable) return;\n",
              "\n",
              "          const docLinkHtml = 'Like what you see? Visit the ' +\n",
              "            '<a target=\"_blank\" href=https://colab.research.google.com/notebooks/data_table.ipynb>data table notebook</a>'\n",
              "            + ' to learn more about interactive tables.';\n",
              "          element.innerHTML = '';\n",
              "          dataTable['output_type'] = 'display_data';\n",
              "          await google.colab.output.renderOutput(dataTable, element);\n",
              "          const docLink = document.createElement('div');\n",
              "          docLink.innerHTML = docLinkHtml;\n",
              "          element.appendChild(docLink);\n",
              "        }\n",
              "      </script>\n",
              "    </div>\n",
              "  </div>\n",
              "  "
            ]
          },
          "metadata": {},
          "execution_count": 165
        }
      ]
    },
    {
      "cell_type": "code",
      "source": [
        "df.info()"
      ],
      "metadata": {
        "colab": {
          "base_uri": "https://localhost:8080/"
        },
        "id": "kSKJ3YBcv1Mf",
        "outputId": "2fe0fc68-cb22-455b-9503-9244eb586b48"
      },
      "execution_count": null,
      "outputs": [
        {
          "output_type": "stream",
          "name": "stdout",
          "text": [
            "<class 'pandas.core.frame.DataFrame'>\n",
            "RangeIndex: 78 entries, 0 to 77\n",
            "Data columns (total 7 columns):\n",
            " #   Column        Non-Null Count  Dtype  \n",
            "---  ------        --------------  -----  \n",
            " 0   Person        78 non-null     int64  \n",
            " 1   gender        76 non-null     float64\n",
            " 2   Age           78 non-null     int64  \n",
            " 3   Height        78 non-null     int64  \n",
            " 4   pre.weight    78 non-null     int64  \n",
            " 5   Diet          78 non-null     int64  \n",
            " 6   weight6weeks  78 non-null     float64\n",
            "dtypes: float64(2), int64(5)\n",
            "memory usage: 4.4 KB\n"
          ]
        }
      ]
    },
    {
      "cell_type": "markdown",
      "source": [
        "# Kiểm định ANOVA One Way"
      ],
      "metadata": {
        "id": "4X1rYq2q08ot"
      }
    },
    {
      "cell_type": "markdown",
      "source": [
        "## Nêu quy trình, phát biểu bài toán và xây dựng giả thuyết"
      ],
      "metadata": {
        "id": "xEuMc1KnGU4b"
      }
    },
    {
      "cell_type": "markdown",
      "source": [
        "QUY TRÌNH PHÂN TÍCH ANOVA MỘT CHIỀU\n",
        "\n",
        "Kiểm tra các giả định:\n",
        "\n",
        "- Các mẫu độc lập với nhau\n",
        "- Các mẫu có cùng phương sai\n",
        "- Các mẫu đều tuân theo phân phối chuẩn\n",
        "\n",
        "Xây dựng giả thuyết\n",
        "\n",
        "$H_{0}: \\mu_{0} = \\mu_{1} = ... = \\mu_{n}$\n",
        "\n",
        "$H_{a}:$ Có tối thiểu một cặp giá trị trung bình có giá trị khác nhau\n",
        "\n",
        "Giá trị thống kê F được sử dụng trong việc ra quyết định của phân tích ANOVA một chiều. Công thức tính như sau:\n",
        "\n",
        "$$F = \\frac{MS_{B}}{MS_{W}}$$\n",
        "\n",
        "với:\n",
        "\n",
        "- $MS_{B} = \\frac{\\sum_{k}n_{k}(\\overline{\\rm x_{k}} - \\overline{\\rm x})^{2}}{k - 1}$\n",
        "- $MS_{W} = \\frac{\\sum_{k}n_{i,k}( x_{i,k} - \\overline{\\rm x})^{2}}{k - 1}$\n",
        "\n",
        "Loại bỏ giả thuyết $H_{0}$ khi chỉ số F > chỉ số F-critical hoặc giá trị $p < \\alpha$."
      ],
      "metadata": {
        "id": "PVrNUQ271yxp"
      }
    },
    {
      "cell_type": "markdown",
      "source": [
        "Bài toán 1: Với thông tin về 78 người sử dụng một trong ba chế độ ăn kiêng. Kiểm tra có sự khác biệt nào về khối lượng cân nặng giảm đi của ba chế độ ăn khiêng có khác nhau hay không?"
      ],
      "metadata": {
        "id": "Io35sO6R7v-l"
      }
    },
    {
      "cell_type": "markdown",
      "source": [
        "Phát biểu giả thuyết:\n",
        "*   $H_0$: Không có sự khác nhau về khối lượng cân năng giảm đi trung bình của các nhóm\n",
        "*   $H_a$: Có ít nhất một nhóm có khối lượng cân năng giảm đi trung bình khác biệt so với các nhóm còn lại\n",
        "\n",
        "Tức:\n",
        "$$H_{0}: \\mu_{1} = \\mu_{2} = \\mu_{3} = \\mu_{4}$$\n",
        "$$H_{a}: \\exists i,j |  \\mu_{i} \\neq \\mu_{j}$$\n"
      ],
      "metadata": {
        "id": "Ps4eHYX4D1Ld"
      }
    },
    {
      "cell_type": "markdown",
      "source": [
        "## Tổ chức, xử lí lại dữ liệu"
      ],
      "metadata": {
        "id": "8wxiiYxMGjYF"
      }
    },
    {
      "cell_type": "code",
      "source": [
        "df = df.dropna()\n",
        "df[\"WeightLost\"] = df[\"pre.weight\"] - df[\"weight6weeks\"]"
      ],
      "metadata": {
        "id": "WwAX2kUys00G"
      },
      "execution_count": null,
      "outputs": []
    },
    {
      "cell_type": "code",
      "source": [
        "df['Diet'].replace({1: 'One', 2: 'Two', 3: 'Three'}, inplace= True)"
      ],
      "metadata": {
        "id": "Px5z8wixDg0_"
      },
      "execution_count": null,
      "outputs": []
    },
    {
      "cell_type": "code",
      "source": [
        "rp.summary_cont(df['WeightLost'])"
      ],
      "metadata": {
        "colab": {
          "base_uri": "https://localhost:8080/",
          "height": 115
        },
        "id": "obFko25YgcWg",
        "outputId": "ed1e06c6-dc3d-4631-9ebb-eeddfc8ff643"
      },
      "execution_count": null,
      "outputs": [
        {
          "output_type": "stream",
          "name": "stdout",
          "text": [
            "\n",
            "\n"
          ]
        },
        {
          "output_type": "execute_result",
          "data": {
            "text/plain": [
              "     Variable     N    Mean      SD      SE  95% Conf.  Interval\n",
              "0  WeightLost  76.0  3.9461  2.5058  0.2874     3.3735    4.5187"
            ],
            "text/html": [
              "\n",
              "  <div id=\"df-7e2b2ae9-b535-400d-a147-a2030183ceb1\">\n",
              "    <div class=\"colab-df-container\">\n",
              "      <div>\n",
              "<style scoped>\n",
              "    .dataframe tbody tr th:only-of-type {\n",
              "        vertical-align: middle;\n",
              "    }\n",
              "\n",
              "    .dataframe tbody tr th {\n",
              "        vertical-align: top;\n",
              "    }\n",
              "\n",
              "    .dataframe thead th {\n",
              "        text-align: right;\n",
              "    }\n",
              "</style>\n",
              "<table border=\"1\" class=\"dataframe\">\n",
              "  <thead>\n",
              "    <tr style=\"text-align: right;\">\n",
              "      <th></th>\n",
              "      <th>Variable</th>\n",
              "      <th>N</th>\n",
              "      <th>Mean</th>\n",
              "      <th>SD</th>\n",
              "      <th>SE</th>\n",
              "      <th>95% Conf.</th>\n",
              "      <th>Interval</th>\n",
              "    </tr>\n",
              "  </thead>\n",
              "  <tbody>\n",
              "    <tr>\n",
              "      <th>0</th>\n",
              "      <td>WeightLost</td>\n",
              "      <td>76.0</td>\n",
              "      <td>3.9461</td>\n",
              "      <td>2.5058</td>\n",
              "      <td>0.2874</td>\n",
              "      <td>3.3735</td>\n",
              "      <td>4.5187</td>\n",
              "    </tr>\n",
              "  </tbody>\n",
              "</table>\n",
              "</div>\n",
              "      <button class=\"colab-df-convert\" onclick=\"convertToInteractive('df-7e2b2ae9-b535-400d-a147-a2030183ceb1')\"\n",
              "              title=\"Convert this dataframe to an interactive table.\"\n",
              "              style=\"display:none;\">\n",
              "        \n",
              "  <svg xmlns=\"http://www.w3.org/2000/svg\" height=\"24px\"viewBox=\"0 0 24 24\"\n",
              "       width=\"24px\">\n",
              "    <path d=\"M0 0h24v24H0V0z\" fill=\"none\"/>\n",
              "    <path d=\"M18.56 5.44l.94 2.06.94-2.06 2.06-.94-2.06-.94-.94-2.06-.94 2.06-2.06.94zm-11 1L8.5 8.5l.94-2.06 2.06-.94-2.06-.94L8.5 2.5l-.94 2.06-2.06.94zm10 10l.94 2.06.94-2.06 2.06-.94-2.06-.94-.94-2.06-.94 2.06-2.06.94z\"/><path d=\"M17.41 7.96l-1.37-1.37c-.4-.4-.92-.59-1.43-.59-.52 0-1.04.2-1.43.59L10.3 9.45l-7.72 7.72c-.78.78-.78 2.05 0 2.83L4 21.41c.39.39.9.59 1.41.59.51 0 1.02-.2 1.41-.59l7.78-7.78 2.81-2.81c.8-.78.8-2.07 0-2.86zM5.41 20L4 18.59l7.72-7.72 1.47 1.35L5.41 20z\"/>\n",
              "  </svg>\n",
              "      </button>\n",
              "      \n",
              "  <style>\n",
              "    .colab-df-container {\n",
              "      display:flex;\n",
              "      flex-wrap:wrap;\n",
              "      gap: 12px;\n",
              "    }\n",
              "\n",
              "    .colab-df-convert {\n",
              "      background-color: #E8F0FE;\n",
              "      border: none;\n",
              "      border-radius: 50%;\n",
              "      cursor: pointer;\n",
              "      display: none;\n",
              "      fill: #1967D2;\n",
              "      height: 32px;\n",
              "      padding: 0 0 0 0;\n",
              "      width: 32px;\n",
              "    }\n",
              "\n",
              "    .colab-df-convert:hover {\n",
              "      background-color: #E2EBFA;\n",
              "      box-shadow: 0px 1px 2px rgba(60, 64, 67, 0.3), 0px 1px 3px 1px rgba(60, 64, 67, 0.15);\n",
              "      fill: #174EA6;\n",
              "    }\n",
              "\n",
              "    [theme=dark] .colab-df-convert {\n",
              "      background-color: #3B4455;\n",
              "      fill: #D2E3FC;\n",
              "    }\n",
              "\n",
              "    [theme=dark] .colab-df-convert:hover {\n",
              "      background-color: #434B5C;\n",
              "      box-shadow: 0px 1px 3px 1px rgba(0, 0, 0, 0.15);\n",
              "      filter: drop-shadow(0px 1px 2px rgba(0, 0, 0, 0.3));\n",
              "      fill: #FFFFFF;\n",
              "    }\n",
              "  </style>\n",
              "\n",
              "      <script>\n",
              "        const buttonEl =\n",
              "          document.querySelector('#df-7e2b2ae9-b535-400d-a147-a2030183ceb1 button.colab-df-convert');\n",
              "        buttonEl.style.display =\n",
              "          google.colab.kernel.accessAllowed ? 'block' : 'none';\n",
              "\n",
              "        async function convertToInteractive(key) {\n",
              "          const element = document.querySelector('#df-7e2b2ae9-b535-400d-a147-a2030183ceb1');\n",
              "          const dataTable =\n",
              "            await google.colab.kernel.invokeFunction('convertToInteractive',\n",
              "                                                     [key], {});\n",
              "          if (!dataTable) return;\n",
              "\n",
              "          const docLinkHtml = 'Like what you see? Visit the ' +\n",
              "            '<a target=\"_blank\" href=https://colab.research.google.com/notebooks/data_table.ipynb>data table notebook</a>'\n",
              "            + ' to learn more about interactive tables.';\n",
              "          element.innerHTML = '';\n",
              "          dataTable['output_type'] = 'display_data';\n",
              "          await google.colab.output.renderOutput(dataTable, element);\n",
              "          const docLink = document.createElement('div');\n",
              "          docLink.innerHTML = docLinkHtml;\n",
              "          element.appendChild(docLink);\n",
              "        }\n",
              "      </script>\n",
              "    </div>\n",
              "  </div>\n",
              "  "
            ]
          },
          "metadata": {},
          "execution_count": 172
        }
      ]
    },
    {
      "cell_type": "code",
      "source": [
        "rp.summary_cont(df['WeightLost'].groupby(df['Diet']))"
      ],
      "metadata": {
        "colab": {
          "base_uri": "https://localhost:8080/",
          "height": 209
        },
        "id": "m5D4_gWRhd1A",
        "outputId": "1730f488-44af-4d09-ebf4-9a35bd138ac7"
      },
      "execution_count": null,
      "outputs": [
        {
          "output_type": "stream",
          "name": "stdout",
          "text": [
            "\n",
            "\n"
          ]
        },
        {
          "output_type": "execute_result",
          "data": {
            "text/plain": [
              "        N    Mean      SD      SE  95% Conf.  Interval\n",
              "Diet                                                  \n",
              "One    24  3.3000  2.2401  0.4573     2.3541    4.2459\n",
              "Three  27  5.1481  2.3956  0.4610     4.2005    6.0958\n",
              "Two    25  3.2680  2.4645  0.4929     2.2507    4.2853"
            ],
            "text/html": [
              "\n",
              "  <div id=\"df-38d21c2a-d326-40d0-9edb-2cbe393c5cae\">\n",
              "    <div class=\"colab-df-container\">\n",
              "      <div>\n",
              "<style scoped>\n",
              "    .dataframe tbody tr th:only-of-type {\n",
              "        vertical-align: middle;\n",
              "    }\n",
              "\n",
              "    .dataframe tbody tr th {\n",
              "        vertical-align: top;\n",
              "    }\n",
              "\n",
              "    .dataframe thead th {\n",
              "        text-align: right;\n",
              "    }\n",
              "</style>\n",
              "<table border=\"1\" class=\"dataframe\">\n",
              "  <thead>\n",
              "    <tr style=\"text-align: right;\">\n",
              "      <th></th>\n",
              "      <th>N</th>\n",
              "      <th>Mean</th>\n",
              "      <th>SD</th>\n",
              "      <th>SE</th>\n",
              "      <th>95% Conf.</th>\n",
              "      <th>Interval</th>\n",
              "    </tr>\n",
              "    <tr>\n",
              "      <th>Diet</th>\n",
              "      <th></th>\n",
              "      <th></th>\n",
              "      <th></th>\n",
              "      <th></th>\n",
              "      <th></th>\n",
              "      <th></th>\n",
              "    </tr>\n",
              "  </thead>\n",
              "  <tbody>\n",
              "    <tr>\n",
              "      <th>One</th>\n",
              "      <td>24</td>\n",
              "      <td>3.3000</td>\n",
              "      <td>2.2401</td>\n",
              "      <td>0.4573</td>\n",
              "      <td>2.3541</td>\n",
              "      <td>4.2459</td>\n",
              "    </tr>\n",
              "    <tr>\n",
              "      <th>Three</th>\n",
              "      <td>27</td>\n",
              "      <td>5.1481</td>\n",
              "      <td>2.3956</td>\n",
              "      <td>0.4610</td>\n",
              "      <td>4.2005</td>\n",
              "      <td>6.0958</td>\n",
              "    </tr>\n",
              "    <tr>\n",
              "      <th>Two</th>\n",
              "      <td>25</td>\n",
              "      <td>3.2680</td>\n",
              "      <td>2.4645</td>\n",
              "      <td>0.4929</td>\n",
              "      <td>2.2507</td>\n",
              "      <td>4.2853</td>\n",
              "    </tr>\n",
              "  </tbody>\n",
              "</table>\n",
              "</div>\n",
              "      <button class=\"colab-df-convert\" onclick=\"convertToInteractive('df-38d21c2a-d326-40d0-9edb-2cbe393c5cae')\"\n",
              "              title=\"Convert this dataframe to an interactive table.\"\n",
              "              style=\"display:none;\">\n",
              "        \n",
              "  <svg xmlns=\"http://www.w3.org/2000/svg\" height=\"24px\"viewBox=\"0 0 24 24\"\n",
              "       width=\"24px\">\n",
              "    <path d=\"M0 0h24v24H0V0z\" fill=\"none\"/>\n",
              "    <path d=\"M18.56 5.44l.94 2.06.94-2.06 2.06-.94-2.06-.94-.94-2.06-.94 2.06-2.06.94zm-11 1L8.5 8.5l.94-2.06 2.06-.94-2.06-.94L8.5 2.5l-.94 2.06-2.06.94zm10 10l.94 2.06.94-2.06 2.06-.94-2.06-.94-.94-2.06-.94 2.06-2.06.94z\"/><path d=\"M17.41 7.96l-1.37-1.37c-.4-.4-.92-.59-1.43-.59-.52 0-1.04.2-1.43.59L10.3 9.45l-7.72 7.72c-.78.78-.78 2.05 0 2.83L4 21.41c.39.39.9.59 1.41.59.51 0 1.02-.2 1.41-.59l7.78-7.78 2.81-2.81c.8-.78.8-2.07 0-2.86zM5.41 20L4 18.59l7.72-7.72 1.47 1.35L5.41 20z\"/>\n",
              "  </svg>\n",
              "      </button>\n",
              "      \n",
              "  <style>\n",
              "    .colab-df-container {\n",
              "      display:flex;\n",
              "      flex-wrap:wrap;\n",
              "      gap: 12px;\n",
              "    }\n",
              "\n",
              "    .colab-df-convert {\n",
              "      background-color: #E8F0FE;\n",
              "      border: none;\n",
              "      border-radius: 50%;\n",
              "      cursor: pointer;\n",
              "      display: none;\n",
              "      fill: #1967D2;\n",
              "      height: 32px;\n",
              "      padding: 0 0 0 0;\n",
              "      width: 32px;\n",
              "    }\n",
              "\n",
              "    .colab-df-convert:hover {\n",
              "      background-color: #E2EBFA;\n",
              "      box-shadow: 0px 1px 2px rgba(60, 64, 67, 0.3), 0px 1px 3px 1px rgba(60, 64, 67, 0.15);\n",
              "      fill: #174EA6;\n",
              "    }\n",
              "\n",
              "    [theme=dark] .colab-df-convert {\n",
              "      background-color: #3B4455;\n",
              "      fill: #D2E3FC;\n",
              "    }\n",
              "\n",
              "    [theme=dark] .colab-df-convert:hover {\n",
              "      background-color: #434B5C;\n",
              "      box-shadow: 0px 1px 3px 1px rgba(0, 0, 0, 0.15);\n",
              "      filter: drop-shadow(0px 1px 2px rgba(0, 0, 0, 0.3));\n",
              "      fill: #FFFFFF;\n",
              "    }\n",
              "  </style>\n",
              "\n",
              "      <script>\n",
              "        const buttonEl =\n",
              "          document.querySelector('#df-38d21c2a-d326-40d0-9edb-2cbe393c5cae button.colab-df-convert');\n",
              "        buttonEl.style.display =\n",
              "          google.colab.kernel.accessAllowed ? 'block' : 'none';\n",
              "\n",
              "        async function convertToInteractive(key) {\n",
              "          const element = document.querySelector('#df-38d21c2a-d326-40d0-9edb-2cbe393c5cae');\n",
              "          const dataTable =\n",
              "            await google.colab.kernel.invokeFunction('convertToInteractive',\n",
              "                                                     [key], {});\n",
              "          if (!dataTable) return;\n",
              "\n",
              "          const docLinkHtml = 'Like what you see? Visit the ' +\n",
              "            '<a target=\"_blank\" href=https://colab.research.google.com/notebooks/data_table.ipynb>data table notebook</a>'\n",
              "            + ' to learn more about interactive tables.';\n",
              "          element.innerHTML = '';\n",
              "          dataTable['output_type'] = 'display_data';\n",
              "          await google.colab.output.renderOutput(dataTable, element);\n",
              "          const docLink = document.createElement('div');\n",
              "          docLink.innerHTML = docLinkHtml;\n",
              "          element.appendChild(docLink);\n",
              "        }\n",
              "      </script>\n",
              "    </div>\n",
              "  </div>\n",
              "  "
            ]
          },
          "metadata": {},
          "execution_count": 173
        }
      ]
    },
    {
      "cell_type": "code",
      "source": [
        "fig = plt.figure(figsize= (10, 10))\n",
        "ax = fig.add_subplot()\n",
        "ax.set_title(\"Box Plot of weight lost by diet\", fontsize= 20)\n",
        "data = [df['WeightLost'][df['Diet'] == 'One'],\n",
        "        df['WeightLost'][df['Diet'] == 'Two'],\n",
        "        df['WeightLost'][df['Diet'] == 'Three']]\n",
        "ax.boxplot(data, labels= ['One', 'Two', 'Three'], showmeans= True)\n",
        "plt.xlabel(\"Diet\")\n",
        "plt.ylabel(\"Weight lost after 6 weeks\")\n",
        "plt.show()"
      ],
      "metadata": {
        "colab": {
          "base_uri": "https://localhost:8080/",
          "height": 682
        },
        "id": "1PHgsZsziyrm",
        "outputId": "beed47bc-607e-4020-ba72-c7dceee8c50c"
      },
      "execution_count": null,
      "outputs": [
        {
          "output_type": "stream",
          "name": "stderr",
          "text": [
            "/usr/local/lib/python3.7/dist-packages/matplotlib/cbook/__init__.py:1376: VisibleDeprecationWarning: Creating an ndarray from ragged nested sequences (which is a list-or-tuple of lists-or-tuples-or ndarrays with different lengths or shapes) is deprecated. If you meant to do this, you must specify 'dtype=object' when creating the ndarray.\n",
            "  X = np.atleast_1d(X.T if isinstance(X, np.ndarray) else np.asarray(X))\n"
          ]
        },
        {
          "output_type": "display_data",
          "data": {
            "text/plain": [
              "<Figure size 720x720 with 1 Axes>"
            ],
            "image/png": "[encoded data removed]"
          },
          "metadata": {
            "needs_background": "light"
          }
        }
      ]
    },
    {
      "cell_type": "markdown",
      "source": [
        "Tách dữ liệu theo ba chế độ ăn khiêng"
      ],
      "metadata": {
        "id": "Afc-KyBD7Mzp"
      }
    },
    {
      "cell_type": "code",
      "source": [
        "one = list(df['WeightLost'][df['Diet'] == 'One'])\n",
        "plt.hist(one, 7)\n",
        "_ = smi.qqplot(pd.Series(one), line = \"r\")"
      ],
      "metadata": {
        "colab": {
          "base_uri": "https://localhost:8080/",
          "height": 527
        },
        "id": "CwHzJ6G8yq9u",
        "outputId": "3b3c04a3-3363-42e8-c9e4-bffa7e205f96"
      },
      "execution_count": null,
      "outputs": [
        {
          "output_type": "display_data",
          "data": {
            "text/plain": [
              "<Figure size 432x288 with 1 Axes>"
            ],
            "image/png": "[encoded data removed]"
          },
          "metadata": {
            "needs_background": "light"
          }
        },
        {
          "output_type": "display_data",
          "data": {
            "text/plain": [
              "<Figure size 432x288 with 1 Axes>"
            ],
            "image/png": "[encoded data removed]"
          },
          "metadata": {
            "needs_background": "light"
          }
        }
      ]
    },
    {
      "cell_type": "code",
      "source": [
        "two = list(df['WeightLost'][df['Diet'] == 'Two'])\n",
        "plt.hist(two, 7)\n",
        "_ = smi.qqplot(pd.Series(two), line = \"r\")"
      ],
      "metadata": {
        "colab": {
          "base_uri": "https://localhost:8080/",
          "height": 527
        },
        "id": "ENmKpg13y3mF",
        "outputId": "2fc3df45-b5f2-4e3a-c374-a2253705626e"
      },
      "execution_count": null,
      "outputs": [
        {
          "output_type": "display_data",
          "data": {
            "text/plain": [
              "<Figure size 432x288 with 1 Axes>"
            ],
            "image/png": "[encoded data removed]"
          },
          "metadata": {
            "needs_background": "light"
          }
        },
        {
          "output_type": "display_data",
          "data": {
            "text/plain": [
              "<Figure size 432x288 with 1 Axes>"
            ],
            "image/png": "[encoded data removed]"
          },
          "metadata": {
            "needs_background": "light"
          }
        }
      ]
    },
    {
      "cell_type": "code",
      "source": [
        "three = list(df['WeightLost'][df['Diet'] == 'Three'])\n",
        "plt.hist(three , 7)\n",
        "_ = smi.qqplot(pd.Series(three ), line = \"r\")"
      ],
      "metadata": {
        "id": "vsyVoGey2TQc",
        "colab": {
          "base_uri": "https://localhost:8080/",
          "height": 527
        },
        "outputId": "a38b7c33-1c77-4f32-d3e3-5f0cbc9cfc74"
      },
      "execution_count": null,
      "outputs": [
        {
          "output_type": "display_data",
          "data": {
            "text/plain": [
              "<Figure size 432x288 with 1 Axes>"
            ],
            "image/png": "[encoded data removed]"
          },
          "metadata": {
            "needs_background": "light"
          }
        },
        {
          "output_type": "display_data",
          "data": {
            "text/plain": [
              "<Figure size 432x288 with 1 Axes>"
            ],
            "image/png": "[encoded data removed]"
          },
          "metadata": {
            "needs_background": "light"
          }
        }
      ]
    },
    {
      "cell_type": "code",
      "source": [
        "alpha = 0.05"
      ],
      "metadata": {
        "id": "Y11FDKVpz1mg"
      },
      "execution_count": null,
      "outputs": []
    },
    {
      "cell_type": "markdown",
      "source": [
        "## Kiểm tra các giả định"
      ],
      "metadata": {
        "id": "MvqUQBsL8atM"
      }
    },
    {
      "cell_type": "markdown",
      "source": [
        "* Kiểm tra mẫu dữ liệu có được lấy từ quần thể có phân phối chuẩn hoặc xấp xỉ phân phối chuẩn hay không?"
      ],
      "metadata": {
        "id": "2eD7TCYx6sUN"
      }
    },
    {
      "cell_type": "code",
      "source": [
        "for i in [one, two, three]:\n",
        "  statistic, p_value = ss.shapiro(i)\n",
        "  print(\"P value:\", p_value)\n",
        "  if p_value < alpha:\n",
        "    print(\"Có bằng chứng bác bỏ giả thuyết mẫu được lấy từ quần thể có phân phối chuẩn\")\n",
        "    break\n",
        "  else:\n",
        "    print(\"Không có bằng chứng bác bỏ giả thuyết mẫu được lấy từ quần thể phân phối chuẩn\")"
      ],
      "metadata": {
        "colab": {
          "base_uri": "https://localhost:8080/"
        },
        "id": "0HiXZd8b3rQB",
        "outputId": "dae034eb-0b19-4be8-e01f-473b4a6a621d"
      },
      "execution_count": null,
      "outputs": [
        {
          "output_type": "stream",
          "name": "stdout",
          "text": [
            "P value: 0.07748671621084213\n",
            "Không có bằng chứng bác bỏ giả thuyết mẫu được lấy từ quần thể phân phối chuẩn\n",
            "P value: 0.8721737861633301\n",
            "Không có bằng chứng bác bỏ giả thuyết mẫu được lấy từ quần thể phân phối chuẩn\n",
            "P value: 0.37203603982925415\n",
            "Không có bằng chứng bác bỏ giả thuyết mẫu được lấy từ quần thể phân phối chuẩn\n"
          ]
        }
      ]
    },
    {
      "cell_type": "markdown",
      "source": [
        "**Không có bằng chứng bác bỏ giả thuyết mẫu được lấy từ quần thể phân phối chuẩn, tức là ta vẫn có thể chấp nhận mẫu được lấy từ quần thể có phân phối chuẩn**"
      ],
      "metadata": {
        "id": "O5cSsI-A4UMi"
      }
    },
    {
      "cell_type": "markdown",
      "source": [
        "* Kiểm tra phương sai của mẫu có sự khác biệt nào không?"
      ],
      "metadata": {
        "id": "9ZKe1EWE8yZK"
      }
    },
    {
      "cell_type": "code",
      "source": [
        "statistic, p_value = ss.bartlett(one, two, three)\n",
        "print(p_value)\n",
        "if p_value < alpha:\n",
        "  print(\"Có bằng chứng bác bỏ giả thuyết khối lượng giảm đi của các chế độ ăn có phương sai bằng nhau\")\n",
        "else:\n",
        "  print(\"Không có bằng chứng bác bỏ giả thuyết khối lượng giảm đi của các chế độ ăn có phương sai bằng nhau\")"
      ],
      "metadata": {
        "colab": {
          "base_uri": "https://localhost:8080/"
        },
        "id": "kNe7yBzb8lhZ",
        "outputId": "8457dc61-f324-4a7b-a2dc-1ad5cc4d18a2"
      },
      "execution_count": null,
      "outputs": [
        {
          "output_type": "stream",
          "name": "stdout",
          "text": [
            "0.8966804982694925\n",
            "Không có bằng chứng bác bỏ giả thuyết khối lượng giảm đi của các chế độ ăn có phương sai bằng nhau\n"
          ]
        }
      ]
    },
    {
      "cell_type": "markdown",
      "source": [
        "**Không có bằng chứng bác bỏ giả thuyết khối lượng giảm đi của các chế độ ăn có phương sai bằng nhau, tức là ta vẫn có thể chấp nhận phương sai về khối lượng giảm đi của các chế độ ăn là bằng nhau**"
      ],
      "metadata": {
        "id": "H32hXQoG5Hs_"
      }
    },
    {
      "cell_type": "markdown",
      "source": [
        "> Từ các kiểm định trên ta giả định rằng các mẫu dữ liệu được lấy từ phân phối chuẩn và không có sự khác biệt về phương sai về độ sâu trung bình giữa các địa điểm. Và tất cả các nhóm đều độc lập với nhau."
      ],
      "metadata": {
        "id": "cvdcW71K8uJG"
      }
    },
    {
      "cell_type": "markdown",
      "source": [
        "## Tiến hành kiểm định, đưa ra kết quả"
      ],
      "metadata": {
        "id": "VMecJ8W0GN-y"
      }
    },
    {
      "cell_type": "code",
      "source": [
        "statistic, p_value = ss.f_oneway(one, two, three)\n",
        "print(p_value)\n",
        "if p_value < alpha:\n",
        "  print(\"Có bằng chứng bác bỏ giả thuyết H0\")\n",
        "else:\n",
        "  print(\"Không có bằng chứng bác bỏ giả thuyết H0\")"
      ],
      "metadata": {
        "colab": {
          "base_uri": "https://localhost:8080/"
        },
        "id": "-bYmp_YG8utI",
        "outputId": "dfd30923-6414-489f-e2a9-bf2cc8be1b25"
      },
      "execution_count": null,
      "outputs": [
        {
          "output_type": "stream",
          "name": "stdout",
          "text": [
            "0.006595853108669741\n",
            "Có bằng chứng bác bỏ giả thuyết H0\n"
          ]
        }
      ]
    },
    {
      "cell_type": "markdown",
      "source": [
        "**VỚI 95% ĐỘ TIN CẬY TA CÓ BẰNG CHỨNG ĐỂ BÁC BỎ GIẢ THUYẾT KHỐI LƯỢNG CÂN NẶNG GIẢM ĐI TRUNG BÌNH CỦA CÁC CHẾ ĐỘ ĂN LÀ BẰNG NHAU. TỨC CÓ ÍT NHẤT MỘT CHẾ ĐỘ ĂN CÓ HIỆU QUẢ GIẢM KHÁC BIỆT SO VỚI CÁC CHẾ ĐỘ CÒN LẠI**"
      ],
      "metadata": {
        "id": "q4xPUF6RBL8A"
      }
    },
    {
      "cell_type": "markdown",
      "source": [
        "Bảng chi tiết về phân tích ANOVA"
      ],
      "metadata": {
        "id": "Li1HBqZgCYZ-"
      }
    },
    {
      "cell_type": "code",
      "source": [
        "pg.anova(dv=\"WeightLost\", between='Diet', data = df ,detailed=True)"
      ],
      "metadata": {
        "id": "b3s-5_i40qBC",
        "colab": {
          "base_uri": "https://localhost:8080/",
          "height": 112
        },
        "outputId": "600db04a-c3fb-47ad-e25f-91642e8cc6b8"
      },
      "execution_count": null,
      "outputs": [
        {
          "output_type": "execute_result",
          "data": {
            "text/plain": [
              "   Source          SS  DF         MS         F     p-unc       np2\n",
              "0    Diet   60.527008   2  30.263504  5.383104  0.006596  0.128527\n",
              "1  Within  410.401807  73   5.621943       NaN       NaN       NaN"
            ],
            "text/html": [
              "\n",
              "  <div id=\"df-933c869c-31c4-4ec2-be03-4e658bf6c102\">\n",
              "    <div class=\"colab-df-container\">\n",
              "      <div>\n",
              "<style scoped>\n",
              "    .dataframe tbody tr th:only-of-type {\n",
              "        vertical-align: middle;\n",
              "    }\n",
              "\n",
              "    .dataframe tbody tr th {\n",
              "        vertical-align: top;\n",
              "    }\n",
              "\n",
              "    .dataframe thead th {\n",
              "        text-align: right;\n",
              "    }\n",
              "</style>\n",
              "<table border=\"1\" class=\"dataframe\">\n",
              "  <thead>\n",
              "    <tr style=\"text-align: right;\">\n",
              "      <th></th>\n",
              "      <th>Source</th>\n",
              "      <th>SS</th>\n",
              "      <th>DF</th>\n",
              "      <th>MS</th>\n",
              "      <th>F</th>\n",
              "      <th>p-unc</th>\n",
              "      <th>np2</th>\n",
              "    </tr>\n",
              "  </thead>\n",
              "  <tbody>\n",
              "    <tr>\n",
              "      <th>0</th>\n",
              "      <td>Diet</td>\n",
              "      <td>60.527008</td>\n",
              "      <td>2</td>\n",
              "      <td>30.263504</td>\n",
              "      <td>5.383104</td>\n",
              "      <td>0.006596</td>\n",
              "      <td>0.128527</td>\n",
              "    </tr>\n",
              "    <tr>\n",
              "      <th>1</th>\n",
              "      <td>Within</td>\n",
              "      <td>410.401807</td>\n",
              "      <td>73</td>\n",
              "      <td>5.621943</td>\n",
              "      <td>NaN</td>\n",
              "      <td>NaN</td>\n",
              "      <td>NaN</td>\n",
              "    </tr>\n",
              "  </tbody>\n",
              "</table>\n",
              "</div>\n",
              "      <button class=\"colab-df-convert\" onclick=\"convertToInteractive('df-933c869c-31c4-4ec2-be03-4e658bf6c102')\"\n",
              "              title=\"Convert this dataframe to an interactive table.\"\n",
              "              style=\"display:none;\">\n",
              "        \n",
              "  <svg xmlns=\"http://www.w3.org/2000/svg\" height=\"24px\"viewBox=\"0 0 24 24\"\n",
              "       width=\"24px\">\n",
              "    <path d=\"M0 0h24v24H0V0z\" fill=\"none\"/>\n",
              "    <path d=\"M18.56 5.44l.94 2.06.94-2.06 2.06-.94-2.06-.94-.94-2.06-.94 2.06-2.06.94zm-11 1L8.5 8.5l.94-2.06 2.06-.94-2.06-.94L8.5 2.5l-.94 2.06-2.06.94zm10 10l.94 2.06.94-2.06 2.06-.94-2.06-.94-.94-2.06-.94 2.06-2.06.94z\"/><path d=\"M17.41 7.96l-1.37-1.37c-.4-.4-.92-.59-1.43-.59-.52 0-1.04.2-1.43.59L10.3 9.45l-7.72 7.72c-.78.78-.78 2.05 0 2.83L4 21.41c.39.39.9.59 1.41.59.51 0 1.02-.2 1.41-.59l7.78-7.78 2.81-2.81c.8-.78.8-2.07 0-2.86zM5.41 20L4 18.59l7.72-7.72 1.47 1.35L5.41 20z\"/>\n",
              "  </svg>\n",
              "      </button>\n",
              "      \n",
              "  <style>\n",
              "    .colab-df-container {\n",
              "      display:flex;\n",
              "      flex-wrap:wrap;\n",
              "      gap: 12px;\n",
              "    }\n",
              "\n",
              "    .colab-df-convert {\n",
              "      background-color: #E8F0FE;\n",
              "      border: none;\n",
              "      border-radius: 50%;\n",
              "      cursor: pointer;\n",
              "      display: none;\n",
              "      fill: #1967D2;\n",
              "      height: 32px;\n",
              "      padding: 0 0 0 0;\n",
              "      width: 32px;\n",
              "    }\n",
              "\n",
              "    .colab-df-convert:hover {\n",
              "      background-color: #E2EBFA;\n",
              "      box-shadow: 0px 1px 2px rgba(60, 64, 67, 0.3), 0px 1px 3px 1px rgba(60, 64, 67, 0.15);\n",
              "      fill: #174EA6;\n",
              "    }\n",
              "\n",
              "    [theme=dark] .colab-df-convert {\n",
              "      background-color: #3B4455;\n",
              "      fill: #D2E3FC;\n",
              "    }\n",
              "\n",
              "    [theme=dark] .colab-df-convert:hover {\n",
              "      background-color: #434B5C;\n",
              "      box-shadow: 0px 1px 3px 1px rgba(0, 0, 0, 0.15);\n",
              "      filter: drop-shadow(0px 1px 2px rgba(0, 0, 0, 0.3));\n",
              "      fill: #FFFFFF;\n",
              "    }\n",
              "  </style>\n",
              "\n",
              "      <script>\n",
              "        const buttonEl =\n",
              "          document.querySelector('#df-933c869c-31c4-4ec2-be03-4e658bf6c102 button.colab-df-convert');\n",
              "        buttonEl.style.display =\n",
              "          google.colab.kernel.accessAllowed ? 'block' : 'none';\n",
              "\n",
              "        async function convertToInteractive(key) {\n",
              "          const element = document.querySelector('#df-933c869c-31c4-4ec2-be03-4e658bf6c102');\n",
              "          const dataTable =\n",
              "            await google.colab.kernel.invokeFunction('convertToInteractive',\n",
              "                                                     [key], {});\n",
              "          if (!dataTable) return;\n",
              "\n",
              "          const docLinkHtml = 'Like what you see? Visit the ' +\n",
              "            '<a target=\"_blank\" href=https://colab.research.google.com/notebooks/data_table.ipynb>data table notebook</a>'\n",
              "            + ' to learn more about interactive tables.';\n",
              "          element.innerHTML = '';\n",
              "          dataTable['output_type'] = 'display_data';\n",
              "          await google.colab.output.renderOutput(dataTable, element);\n",
              "          const docLink = document.createElement('div');\n",
              "          docLink.innerHTML = docLinkHtml;\n",
              "          element.appendChild(docLink);\n",
              "        }\n",
              "      </script>\n",
              "    </div>\n",
              "  </div>\n",
              "  "
            ]
          },
          "metadata": {},
          "execution_count": 181
        }
      ]
    },
    {
      "cell_type": "markdown",
      "source": [
        "So sánh giữa các nhóm"
      ],
      "metadata": {
        "id": "wHX8PRxsFNBK"
      }
    },
    {
      "cell_type": "code",
      "source": [
        "comp = mc.MultiComparison(df['WeightLost'], df['Diet'])\n",
        "post_hoc_res = comp.tukeyhsd()\n",
        "pd.DataFrame(post_hoc_res.summary(), columns = [\"Group 1\",\t\"Group 2\",\t\"Mean_diff\",\t\"P-adj\",\t\"Lower\",\t\"Upper\",\t\"Reject\"]).iloc[1:]"
      ],
      "metadata": {
        "id": "3RXeBmIgFR5d",
        "colab": {
          "base_uri": "https://localhost:8080/",
          "height": 143
        },
        "outputId": "8fa1d7bc-b47a-4e28-ce6b-2fd8fb477850"
      },
      "execution_count": null,
      "outputs": [
        {
          "output_type": "execute_result",
          "data": {
            "text/plain": [
              "  Group 1 Group 2 Mean_diff   P-adj    Lower    Upper Reject\n",
              "1     One   Three    1.8481  0.0188   0.2567   3.4396   True\n",
              "2     One     Two    -0.032  0.9988  -1.6531   1.5891  False\n",
              "3   Three     Two   -1.8801  0.0152  -3.4546  -0.3057   True"
            ],
            "text/html": [
              "\n",
              "  <div id=\"df-f075f2a7-5736-4ca2-a261-f0e9a5500de4\">\n",
              "    <div class=\"colab-df-container\">\n",
              "      <div>\n",
              "<style scoped>\n",
              "    .dataframe tbody tr th:only-of-type {\n",
              "        vertical-align: middle;\n",
              "    }\n",
              "\n",
              "    .dataframe tbody tr th {\n",
              "        vertical-align: top;\n",
              "    }\n",
              "\n",
              "    .dataframe thead th {\n",
              "        text-align: right;\n",
              "    }\n",
              "</style>\n",
              "<table border=\"1\" class=\"dataframe\">\n",
              "  <thead>\n",
              "    <tr style=\"text-align: right;\">\n",
              "      <th></th>\n",
              "      <th>Group 1</th>\n",
              "      <th>Group 2</th>\n",
              "      <th>Mean_diff</th>\n",
              "      <th>P-adj</th>\n",
              "      <th>Lower</th>\n",
              "      <th>Upper</th>\n",
              "      <th>Reject</th>\n",
              "    </tr>\n",
              "  </thead>\n",
              "  <tbody>\n",
              "    <tr>\n",
              "      <th>1</th>\n",
              "      <td>One</td>\n",
              "      <td>Three</td>\n",
              "      <td>1.8481</td>\n",
              "      <td>0.0188</td>\n",
              "      <td>0.2567</td>\n",
              "      <td>3.4396</td>\n",
              "      <td>True</td>\n",
              "    </tr>\n",
              "    <tr>\n",
              "      <th>2</th>\n",
              "      <td>One</td>\n",
              "      <td>Two</td>\n",
              "      <td>-0.032</td>\n",
              "      <td>0.9988</td>\n",
              "      <td>-1.6531</td>\n",
              "      <td>1.5891</td>\n",
              "      <td>False</td>\n",
              "    </tr>\n",
              "    <tr>\n",
              "      <th>3</th>\n",
              "      <td>Three</td>\n",
              "      <td>Two</td>\n",
              "      <td>-1.8801</td>\n",
              "      <td>0.0152</td>\n",
              "      <td>-3.4546</td>\n",
              "      <td>-0.3057</td>\n",
              "      <td>True</td>\n",
              "    </tr>\n",
              "  </tbody>\n",
              "</table>\n",
              "</div>\n",
              "      <button class=\"colab-df-convert\" onclick=\"convertToInteractive('df-f075f2a7-5736-4ca2-a261-f0e9a5500de4')\"\n",
              "              title=\"Convert this dataframe to an interactive table.\"\n",
              "              style=\"display:none;\">\n",
              "        \n",
              "  <svg xmlns=\"http://www.w3.org/2000/svg\" height=\"24px\"viewBox=\"0 0 24 24\"\n",
              "       width=\"24px\">\n",
              "    <path d=\"M0 0h24v24H0V0z\" fill=\"none\"/>\n",
              "    <path d=\"M18.56 5.44l.94 2.06.94-2.06 2.06-.94-2.06-.94-.94-2.06-.94 2.06-2.06.94zm-11 1L8.5 8.5l.94-2.06 2.06-.94-2.06-.94L8.5 2.5l-.94 2.06-2.06.94zm10 10l.94 2.06.94-2.06 2.06-.94-2.06-.94-.94-2.06-.94 2.06-2.06.94z\"/><path d=\"M17.41 7.96l-1.37-1.37c-.4-.4-.92-.59-1.43-.59-.52 0-1.04.2-1.43.59L10.3 9.45l-7.72 7.72c-.78.78-.78 2.05 0 2.83L4 21.41c.39.39.9.59 1.41.59.51 0 1.02-.2 1.41-.59l7.78-7.78 2.81-2.81c.8-.78.8-2.07 0-2.86zM5.41 20L4 18.59l7.72-7.72 1.47 1.35L5.41 20z\"/>\n",
              "  </svg>\n",
              "      </button>\n",
              "      \n",
              "  <style>\n",
              "    .colab-df-container {\n",
              "      display:flex;\n",
              "      flex-wrap:wrap;\n",
              "      gap: 12px;\n",
              "    }\n",
              "\n",
              "    .colab-df-convert {\n",
              "      background-color: #E8F0FE;\n",
              "      border: none;\n",
              "      border-radius: 50%;\n",
              "      cursor: pointer;\n",
              "      display: none;\n",
              "      fill: #1967D2;\n",
              "      height: 32px;\n",
              "      padding: 0 0 0 0;\n",
              "      width: 32px;\n",
              "    }\n",
              "\n",
              "    .colab-df-convert:hover {\n",
              "      background-color: #E2EBFA;\n",
              "      box-shadow: 0px 1px 2px rgba(60, 64, 67, 0.3), 0px 1px 3px 1px rgba(60, 64, 67, 0.15);\n",
              "      fill: #174EA6;\n",
              "    }\n",
              "\n",
              "    [theme=dark] .colab-df-convert {\n",
              "      background-color: #3B4455;\n",
              "      fill: #D2E3FC;\n",
              "    }\n",
              "\n",
              "    [theme=dark] .colab-df-convert:hover {\n",
              "      background-color: #434B5C;\n",
              "      box-shadow: 0px 1px 3px 1px rgba(0, 0, 0, 0.15);\n",
              "      filter: drop-shadow(0px 1px 2px rgba(0, 0, 0, 0.3));\n",
              "      fill: #FFFFFF;\n",
              "    }\n",
              "  </style>\n",
              "\n",
              "      <script>\n",
              "        const buttonEl =\n",
              "          document.querySelector('#df-f075f2a7-5736-4ca2-a261-f0e9a5500de4 button.colab-df-convert');\n",
              "        buttonEl.style.display =\n",
              "          google.colab.kernel.accessAllowed ? 'block' : 'none';\n",
              "\n",
              "        async function convertToInteractive(key) {\n",
              "          const element = document.querySelector('#df-f075f2a7-5736-4ca2-a261-f0e9a5500de4');\n",
              "          const dataTable =\n",
              "            await google.colab.kernel.invokeFunction('convertToInteractive',\n",
              "                                                     [key], {});\n",
              "          if (!dataTable) return;\n",
              "\n",
              "          const docLinkHtml = 'Like what you see? Visit the ' +\n",
              "            '<a target=\"_blank\" href=https://colab.research.google.com/notebooks/data_table.ipynb>data table notebook</a>'\n",
              "            + ' to learn more about interactive tables.';\n",
              "          element.innerHTML = '';\n",
              "          dataTable['output_type'] = 'display_data';\n",
              "          await google.colab.output.renderOutput(dataTable, element);\n",
              "          const docLink = document.createElement('div');\n",
              "          docLink.innerHTML = docLinkHtml;\n",
              "          element.appendChild(docLink);\n",
              "        }\n",
              "      </script>\n",
              "    </div>\n",
              "  </div>\n",
              "  "
            ]
          },
          "metadata": {},
          "execution_count": 182
        }
      ]
    },
    {
      "cell_type": "markdown",
      "source": [
        "Từ bảng trên ta có thể thấy được chế độ ăn khiêng thứ ba là chế độ có sự khác biệt so với các nhóm còn lại"
      ],
      "metadata": {
        "id": "gbM7YwODFSVT"
      }
    },
    {
      "cell_type": "markdown",
      "source": [
        "Hình vẽ minh họa"
      ],
      "metadata": {
        "id": "VkgMC_ZHqpXP"
      }
    },
    {
      "cell_type": "code",
      "source": [
        "sd = post_hoc_res.plot_simultaneous(ylabel= \"Diet\", xlabel= \"Score Difference\")"
      ],
      "metadata": {
        "colab": {
          "base_uri": "https://localhost:8080/",
          "height": 404
        },
        "id": "-OpK6EWnkd1n",
        "outputId": "96ba1207-3c43-495a-b3de-0a204fdc174d"
      },
      "execution_count": null,
      "outputs": [
        {
          "output_type": "display_data",
          "data": {
            "text/plain": [
              "<Figure size 720x432 with 1 Axes>"
            ],
            "image/png": "[encoded data removed]"
          },
          "metadata": {
            "needs_background": "light"
          }
        }
      ]
    },
    {
      "cell_type": "markdown",
      "source": [
        "Dễ dàng nhận thấy rằng chế độ ăn khiêng thứ ba cho hiệu quả giảm cân cao hơn so với hai chế độ còn lại."
      ],
      "metadata": {
        "id": "-z0tiestsR4w"
      }
    },
    {
      "cell_type": "markdown",
      "source": [
        "# Kiểm định ANOVA Two Way"
      ],
      "metadata": {
        "id": "d6J5NHymtjky"
      }
    },
    {
      "cell_type": "markdown",
      "source": [
        "Bài toán 2: Với thông tin về 78 người sử dụng một trong ba chế độ ăn kiêng. Kiểm tra có sự khác biệt nào về khối lượng cân nặng giảm đi của ba chế độ ăn khiêng và giới tính có khác nhau hay không?"
      ],
      "metadata": {
        "id": "htkzmYIetzP_"
      }
    },
    {
      "cell_type": "markdown",
      "source": [
        "Phát biểu giả thuyết:\n",
        "\n",
        "$H_0$:\n",
        "* Không có sự khác biệt về khối lượng giảm đi theo các chế độ ăn khiêng\n",
        "* Không có sự khác biệt về khối lượng giảm đi theo giới tính\n",
        "* Ảnh hưởng của chế độ ăn không phụ thuộc vào ảnh hưởng của giới tính\n",
        "\n",
        "$H_a$:\n",
        "* Có sự ít nhất một nhóm khác biệt về khối lượng giảm đi theo các chế độ ăn khiêng\n",
        "* Có sự ít nhất một nhóm khác biệt về khối lượng giảm đi theo giới tính\n",
        "* Có ảnh hưởng tương tác chế độ ăn và giới tính đến hiệu quả giảm cân\n"
      ],
      "metadata": {
        "id": "ciHynvM0tzP_"
      }
    },
    {
      "cell_type": "code",
      "source": [
        "df['gender'].replace({0: 'Female', 1: 'Male'}, inplace= True)"
      ],
      "metadata": {
        "id": "LrOX6XPOtzQA"
      },
      "execution_count": null,
      "outputs": []
    },
    {
      "cell_type": "code",
      "source": [
        "rp.summary_cont(df['WeightLost'])"
      ],
      "metadata": {
        "colab": {
          "base_uri": "https://localhost:8080/",
          "height": 115
        },
        "outputId": "900c5bc3-c284-41cf-e654-b0fa65decb13",
        "id": "3RwQJmIxtzQA"
      },
      "execution_count": null,
      "outputs": [
        {
          "output_type": "stream",
          "name": "stdout",
          "text": [
            "\n",
            "\n"
          ]
        },
        {
          "output_type": "execute_result",
          "data": {
            "text/plain": [
              "     Variable     N    Mean      SD      SE  95% Conf.  Interval\n",
              "0  WeightLost  76.0  3.9461  2.5058  0.2874     3.3735    4.5187"
            ],
            "text/html": [
              "\n",
              "  <div id=\"df-ae5c0025-36a1-4daa-83c2-9bcea99ff0e2\">\n",
              "    <div class=\"colab-df-container\">\n",
              "      <div>\n",
              "<style scoped>\n",
              "    .dataframe tbody tr th:only-of-type {\n",
              "        vertical-align: middle;\n",
              "    }\n",
              "\n",
              "    .dataframe tbody tr th {\n",
              "        vertical-align: top;\n",
              "    }\n",
              "\n",
              "    .dataframe thead th {\n",
              "        text-align: right;\n",
              "    }\n",
              "</style>\n",
              "<table border=\"1\" class=\"dataframe\">\n",
              "  <thead>\n",
              "    <tr style=\"text-align: right;\">\n",
              "      <th></th>\n",
              "      <th>Variable</th>\n",
              "      <th>N</th>\n",
              "      <th>Mean</th>\n",
              "      <th>SD</th>\n",
              "      <th>SE</th>\n",
              "      <th>95% Conf.</th>\n",
              "      <th>Interval</th>\n",
              "    </tr>\n",
              "  </thead>\n",
              "  <tbody>\n",
              "    <tr>\n",
              "      <th>0</th>\n",
              "      <td>WeightLost</td>\n",
              "      <td>76.0</td>\n",
              "      <td>3.9461</td>\n",
              "      <td>2.5058</td>\n",
              "      <td>0.2874</td>\n",
              "      <td>3.3735</td>\n",
              "      <td>4.5187</td>\n",
              "    </tr>\n",
              "  </tbody>\n",
              "</table>\n",
              "</div>\n",
              "      <button class=\"colab-df-convert\" onclick=\"convertToInteractive('df-ae5c0025-36a1-4daa-83c2-9bcea99ff0e2')\"\n",
              "              title=\"Convert this dataframe to an interactive table.\"\n",
              "              style=\"display:none;\">\n",
              "        \n",
              "  <svg xmlns=\"http://www.w3.org/2000/svg\" height=\"24px\"viewBox=\"0 0 24 24\"\n",
              "       width=\"24px\">\n",
              "    <path d=\"M0 0h24v24H0V0z\" fill=\"none\"/>\n",
              "    <path d=\"M18.56 5.44l.94 2.06.94-2.06 2.06-.94-2.06-.94-.94-2.06-.94 2.06-2.06.94zm-11 1L8.5 8.5l.94-2.06 2.06-.94-2.06-.94L8.5 2.5l-.94 2.06-2.06.94zm10 10l.94 2.06.94-2.06 2.06-.94-2.06-.94-.94-2.06-.94 2.06-2.06.94z\"/><path d=\"M17.41 7.96l-1.37-1.37c-.4-.4-.92-.59-1.43-.59-.52 0-1.04.2-1.43.59L10.3 9.45l-7.72 7.72c-.78.78-.78 2.05 0 2.83L4 21.41c.39.39.9.59 1.41.59.51 0 1.02-.2 1.41-.59l7.78-7.78 2.81-2.81c.8-.78.8-2.07 0-2.86zM5.41 20L4 18.59l7.72-7.72 1.47 1.35L5.41 20z\"/>\n",
              "  </svg>\n",
              "      </button>\n",
              "      \n",
              "  <style>\n",
              "    .colab-df-container {\n",
              "      display:flex;\n",
              "      flex-wrap:wrap;\n",
              "      gap: 12px;\n",
              "    }\n",
              "\n",
              "    .colab-df-convert {\n",
              "      background-color: #E8F0FE;\n",
              "      border: none;\n",
              "      border-radius: 50%;\n",
              "      cursor: pointer;\n",
              "      display: none;\n",
              "      fill: #1967D2;\n",
              "      height: 32px;\n",
              "      padding: 0 0 0 0;\n",
              "      width: 32px;\n",
              "    }\n",
              "\n",
              "    .colab-df-convert:hover {\n",
              "      background-color: #E2EBFA;\n",
              "      box-shadow: 0px 1px 2px rgba(60, 64, 67, 0.3), 0px 1px 3px 1px rgba(60, 64, 67, 0.15);\n",
              "      fill: #174EA6;\n",
              "    }\n",
              "\n",
              "    [theme=dark] .colab-df-convert {\n",
              "      background-color: #3B4455;\n",
              "      fill: #D2E3FC;\n",
              "    }\n",
              "\n",
              "    [theme=dark] .colab-df-convert:hover {\n",
              "      background-color: #434B5C;\n",
              "      box-shadow: 0px 1px 3px 1px rgba(0, 0, 0, 0.15);\n",
              "      filter: drop-shadow(0px 1px 2px rgba(0, 0, 0, 0.3));\n",
              "      fill: #FFFFFF;\n",
              "    }\n",
              "  </style>\n",
              "\n",
              "      <script>\n",
              "        const buttonEl =\n",
              "          document.querySelector('#df-ae5c0025-36a1-4daa-83c2-9bcea99ff0e2 button.colab-df-convert');\n",
              "        buttonEl.style.display =\n",
              "          google.colab.kernel.accessAllowed ? 'block' : 'none';\n",
              "\n",
              "        async function convertToInteractive(key) {\n",
              "          const element = document.querySelector('#df-ae5c0025-36a1-4daa-83c2-9bcea99ff0e2');\n",
              "          const dataTable =\n",
              "            await google.colab.kernel.invokeFunction('convertToInteractive',\n",
              "                                                     [key], {});\n",
              "          if (!dataTable) return;\n",
              "\n",
              "          const docLinkHtml = 'Like what you see? Visit the ' +\n",
              "            '<a target=\"_blank\" href=https://colab.research.google.com/notebooks/data_table.ipynb>data table notebook</a>'\n",
              "            + ' to learn more about interactive tables.';\n",
              "          element.innerHTML = '';\n",
              "          dataTable['output_type'] = 'display_data';\n",
              "          await google.colab.output.renderOutput(dataTable, element);\n",
              "          const docLink = document.createElement('div');\n",
              "          docLink.innerHTML = docLinkHtml;\n",
              "          element.appendChild(docLink);\n",
              "        }\n",
              "      </script>\n",
              "    </div>\n",
              "  </div>\n",
              "  "
            ]
          },
          "metadata": {},
          "execution_count": 216
        }
      ]
    },
    {
      "cell_type": "code",
      "source": [
        "alpha = 0.05"
      ],
      "metadata": {
        "id": "mxg54BGTtzQA"
      },
      "execution_count": null,
      "outputs": []
    },
    {
      "cell_type": "code",
      "source": [
        "pg.anova(dv=\"WeightLost\", between=['Diet', 'gender'], data = df ,detailed=True)"
      ],
      "metadata": {
        "colab": {
          "base_uri": "https://localhost:8080/",
          "height": 175
        },
        "outputId": "c91fc77f-78df-4603-c97e-32e8510a4c60",
        "id": "kjXJp70-tzQB"
      },
      "execution_count": null,
      "outputs": [
        {
          "output_type": "execute_result",
          "data": {
            "text/plain": [
              "          Source          SS    DF         MS         F     p-unc       np2\n",
              "0           Diet   60.417220   2.0  30.208610  5.619026  0.005456  0.138335\n",
              "1         gender    0.168696   1.0   0.168696  0.031379  0.859910  0.000448\n",
              "2  Diet * gender   33.904068   2.0  16.952034  3.153204  0.048842  0.082646\n",
              "3       Residual  376.329043  70.0   5.376129       NaN       NaN       NaN"
            ],
            "text/html": [
              "\n",
              "  <div id=\"df-990802ee-0a13-4be3-b77b-874e734bc931\">\n",
              "    <div class=\"colab-df-container\">\n",
              "      <div>\n",
              "<style scoped>\n",
              "    .dataframe tbody tr th:only-of-type {\n",
              "        vertical-align: middle;\n",
              "    }\n",
              "\n",
              "    .dataframe tbody tr th {\n",
              "        vertical-align: top;\n",
              "    }\n",
              "\n",
              "    .dataframe thead th {\n",
              "        text-align: right;\n",
              "    }\n",
              "</style>\n",
              "<table border=\"1\" class=\"dataframe\">\n",
              "  <thead>\n",
              "    <tr style=\"text-align: right;\">\n",
              "      <th></th>\n",
              "      <th>Source</th>\n",
              "      <th>SS</th>\n",
              "      <th>DF</th>\n",
              "      <th>MS</th>\n",
              "      <th>F</th>\n",
              "      <th>p-unc</th>\n",
              "      <th>np2</th>\n",
              "    </tr>\n",
              "  </thead>\n",
              "  <tbody>\n",
              "    <tr>\n",
              "      <th>0</th>\n",
              "      <td>Diet</td>\n",
              "      <td>60.417220</td>\n",
              "      <td>2.0</td>\n",
              "      <td>30.208610</td>\n",
              "      <td>5.619026</td>\n",
              "      <td>0.005456</td>\n",
              "      <td>0.138335</td>\n",
              "    </tr>\n",
              "    <tr>\n",
              "      <th>1</th>\n",
              "      <td>gender</td>\n",
              "      <td>0.168696</td>\n",
              "      <td>1.0</td>\n",
              "      <td>0.168696</td>\n",
              "      <td>0.031379</td>\n",
              "      <td>0.859910</td>\n",
              "      <td>0.000448</td>\n",
              "    </tr>\n",
              "    <tr>\n",
              "      <th>2</th>\n",
              "      <td>Diet * gender</td>\n",
              "      <td>33.904068</td>\n",
              "      <td>2.0</td>\n",
              "      <td>16.952034</td>\n",
              "      <td>3.153204</td>\n",
              "      <td>0.048842</td>\n",
              "      <td>0.082646</td>\n",
              "    </tr>\n",
              "    <tr>\n",
              "      <th>3</th>\n",
              "      <td>Residual</td>\n",
              "      <td>376.329043</td>\n",
              "      <td>70.0</td>\n",
              "      <td>5.376129</td>\n",
              "      <td>NaN</td>\n",
              "      <td>NaN</td>\n",
              "      <td>NaN</td>\n",
              "    </tr>\n",
              "  </tbody>\n",
              "</table>\n",
              "</div>\n",
              "      <button class=\"colab-df-convert\" onclick=\"convertToInteractive('df-990802ee-0a13-4be3-b77b-874e734bc931')\"\n",
              "              title=\"Convert this dataframe to an interactive table.\"\n",
              "              style=\"display:none;\">\n",
              "        \n",
              "  <svg xmlns=\"http://www.w3.org/2000/svg\" height=\"24px\"viewBox=\"0 0 24 24\"\n",
              "       width=\"24px\">\n",
              "    <path d=\"M0 0h24v24H0V0z\" fill=\"none\"/>\n",
              "    <path d=\"M18.56 5.44l.94 2.06.94-2.06 2.06-.94-2.06-.94-.94-2.06-.94 2.06-2.06.94zm-11 1L8.5 8.5l.94-2.06 2.06-.94-2.06-.94L8.5 2.5l-.94 2.06-2.06.94zm10 10l.94 2.06.94-2.06 2.06-.94-2.06-.94-.94-2.06-.94 2.06-2.06.94z\"/><path d=\"M17.41 7.96l-1.37-1.37c-.4-.4-.92-.59-1.43-.59-.52 0-1.04.2-1.43.59L10.3 9.45l-7.72 7.72c-.78.78-.78 2.05 0 2.83L4 21.41c.39.39.9.59 1.41.59.51 0 1.02-.2 1.41-.59l7.78-7.78 2.81-2.81c.8-.78.8-2.07 0-2.86zM5.41 20L4 18.59l7.72-7.72 1.47 1.35L5.41 20z\"/>\n",
              "  </svg>\n",
              "      </button>\n",
              "      \n",
              "  <style>\n",
              "    .colab-df-container {\n",
              "      display:flex;\n",
              "      flex-wrap:wrap;\n",
              "      gap: 12px;\n",
              "    }\n",
              "\n",
              "    .colab-df-convert {\n",
              "      background-color: #E8F0FE;\n",
              "      border: none;\n",
              "      border-radius: 50%;\n",
              "      cursor: pointer;\n",
              "      display: none;\n",
              "      fill: #1967D2;\n",
              "      height: 32px;\n",
              "      padding: 0 0 0 0;\n",
              "      width: 32px;\n",
              "    }\n",
              "\n",
              "    .colab-df-convert:hover {\n",
              "      background-color: #E2EBFA;\n",
              "      box-shadow: 0px 1px 2px rgba(60, 64, 67, 0.3), 0px 1px 3px 1px rgba(60, 64, 67, 0.15);\n",
              "      fill: #174EA6;\n",
              "    }\n",
              "\n",
              "    [theme=dark] .colab-df-convert {\n",
              "      background-color: #3B4455;\n",
              "      fill: #D2E3FC;\n",
              "    }\n",
              "\n",
              "    [theme=dark] .colab-df-convert:hover {\n",
              "      background-color: #434B5C;\n",
              "      box-shadow: 0px 1px 3px 1px rgba(0, 0, 0, 0.15);\n",
              "      filter: drop-shadow(0px 1px 2px rgba(0, 0, 0, 0.3));\n",
              "      fill: #FFFFFF;\n",
              "    }\n",
              "  </style>\n",
              "\n",
              "      <script>\n",
              "        const buttonEl =\n",
              "          document.querySelector('#df-990802ee-0a13-4be3-b77b-874e734bc931 button.colab-df-convert');\n",
              "        buttonEl.style.display =\n",
              "          google.colab.kernel.accessAllowed ? 'block' : 'none';\n",
              "\n",
              "        async function convertToInteractive(key) {\n",
              "          const element = document.querySelector('#df-990802ee-0a13-4be3-b77b-874e734bc931');\n",
              "          const dataTable =\n",
              "            await google.colab.kernel.invokeFunction('convertToInteractive',\n",
              "                                                     [key], {});\n",
              "          if (!dataTable) return;\n",
              "\n",
              "          const docLinkHtml = 'Like what you see? Visit the ' +\n",
              "            '<a target=\"_blank\" href=https://colab.research.google.com/notebooks/data_table.ipynb>data table notebook</a>'\n",
              "            + ' to learn more about interactive tables.';\n",
              "          element.innerHTML = '';\n",
              "          dataTable['output_type'] = 'display_data';\n",
              "          await google.colab.output.renderOutput(dataTable, element);\n",
              "          const docLink = document.createElement('div');\n",
              "          docLink.innerHTML = docLinkHtml;\n",
              "          element.appendChild(docLink);\n",
              "        }\n",
              "      </script>\n",
              "    </div>\n",
              "  </div>\n",
              "  "
            ]
          },
          "metadata": {},
          "execution_count": 221
        }
      ]
    },
    {
      "cell_type": "markdown",
      "source": [
        "So sánh giữa các nhóm"
      ],
      "metadata": {
        "id": "i43AbNF2tzQB"
      }
    },
    {
      "cell_type": "code",
      "source": [
        "pg.pairwise_ttests(dv = 'WeightLost', between = ['Diet', 'gender'], data = df)"
      ],
      "metadata": {
        "colab": {
          "base_uri": "https://localhost:8080/",
          "height": 269
        },
        "id": "yq1mZVZB7UVr",
        "outputId": "81071831-1132-4cb9-bc6e-de98b7825d2a"
      },
      "execution_count": null,
      "outputs": [
        {
          "output_type": "execute_result",
          "data": {
            "text/plain": [
              "        Contrast   Diet       A      B Paired  Parametric         T  \\\n",
              "0           Diet      -     One  Three  False        True -2.846202   \n",
              "1           Diet      -     One    Two  False        True  0.047594   \n",
              "2           Diet      -   Three    Two  False        True  2.785776   \n",
              "3         gender      -  Female   Male  False        True -0.209097   \n",
              "4  Diet * gender    One  Female   Male  False        True -0.616316   \n",
              "5  Diet * gender  Three  Female   Male  False        True  1.783161   \n",
              "6  Diet * gender    Two  Female   Male  False        True -1.537776   \n",
              "\n",
              "         dof alternative     p-unc   BF10    hedges  \n",
              "0  48.862035   two-sided  0.006450  6.822 -0.783040  \n",
              "1  46.865130   two-sided  0.962242  0.285  0.013357  \n",
              "2  49.435604   two-sided  0.007552  6.019  0.762399  \n",
              "3  68.809119   two-sided  0.834991  0.244 -0.047934  \n",
              "4  16.916289   two-sided  0.545891  0.433 -0.255252  \n",
              "5  18.936543   two-sided  0.090598  1.129  0.697204  \n",
              "6  20.504943   two-sided  0.139393  0.861 -0.606559  "
            ],
            "text/html": [
              "\n",
              "  <div id=\"df-afc9dc19-c8de-4711-aa25-3e80d287253d\">\n",
              "    <div class=\"colab-df-container\">\n",
              "      <div>\n",
              "<style scoped>\n",
              "    .dataframe tbody tr th:only-of-type {\n",
              "        vertical-align: middle;\n",
              "    }\n",
              "\n",
              "    .dataframe tbody tr th {\n",
              "        vertical-align: top;\n",
              "    }\n",
              "\n",
              "    .dataframe thead th {\n",
              "        text-align: right;\n",
              "    }\n",
              "</style>\n",
              "<table border=\"1\" class=\"dataframe\">\n",
              "  <thead>\n",
              "    <tr style=\"text-align: right;\">\n",
              "      <th></th>\n",
              "      <th>Contrast</th>\n",
              "      <th>Diet</th>\n",
              "      <th>A</th>\n",
              "      <th>B</th>\n",
              "      <th>Paired</th>\n",
              "      <th>Parametric</th>\n",
              "      <th>T</th>\n",
              "      <th>dof</th>\n",
              "      <th>alternative</th>\n",
              "      <th>p-unc</th>\n",
              "      <th>BF10</th>\n",
              "      <th>hedges</th>\n",
              "    </tr>\n",
              "  </thead>\n",
              "  <tbody>\n",
              "    <tr>\n",
              "      <th>0</th>\n",
              "      <td>Diet</td>\n",
              "      <td>-</td>\n",
              "      <td>One</td>\n",
              "      <td>Three</td>\n",
              "      <td>False</td>\n",
              "      <td>True</td>\n",
              "      <td>-2.846202</td>\n",
              "      <td>48.862035</td>\n",
              "      <td>two-sided</td>\n",
              "      <td>0.006450</td>\n",
              "      <td>6.822</td>\n",
              "      <td>-0.783040</td>\n",
              "    </tr>\n",
              "    <tr>\n",
              "      <th>1</th>\n",
              "      <td>Diet</td>\n",
              "      <td>-</td>\n",
              "      <td>One</td>\n",
              "      <td>Two</td>\n",
              "      <td>False</td>\n",
              "      <td>True</td>\n",
              "      <td>0.047594</td>\n",
              "      <td>46.865130</td>\n",
              "      <td>two-sided</td>\n",
              "      <td>0.962242</td>\n",
              "      <td>0.285</td>\n",
              "      <td>0.013357</td>\n",
              "    </tr>\n",
              "    <tr>\n",
              "      <th>2</th>\n",
              "      <td>Diet</td>\n",
              "      <td>-</td>\n",
              "      <td>Three</td>\n",
              "      <td>Two</td>\n",
              "      <td>False</td>\n",
              "      <td>True</td>\n",
              "      <td>2.785776</td>\n",
              "      <td>49.435604</td>\n",
              "      <td>two-sided</td>\n",
              "      <td>0.007552</td>\n",
              "      <td>6.019</td>\n",
              "      <td>0.762399</td>\n",
              "    </tr>\n",
              "    <tr>\n",
              "      <th>3</th>\n",
              "      <td>gender</td>\n",
              "      <td>-</td>\n",
              "      <td>Female</td>\n",
              "      <td>Male</td>\n",
              "      <td>False</td>\n",
              "      <td>True</td>\n",
              "      <td>-0.209097</td>\n",
              "      <td>68.809119</td>\n",
              "      <td>two-sided</td>\n",
              "      <td>0.834991</td>\n",
              "      <td>0.244</td>\n",
              "      <td>-0.047934</td>\n",
              "    </tr>\n",
              "    <tr>\n",
              "      <th>4</th>\n",
              "      <td>Diet * gender</td>\n",
              "      <td>One</td>\n",
              "      <td>Female</td>\n",
              "      <td>Male</td>\n",
              "      <td>False</td>\n",
              "      <td>True</td>\n",
              "      <td>-0.616316</td>\n",
              "      <td>16.916289</td>\n",
              "      <td>two-sided</td>\n",
              "      <td>0.545891</td>\n",
              "      <td>0.433</td>\n",
              "      <td>-0.255252</td>\n",
              "    </tr>\n",
              "    <tr>\n",
              "      <th>5</th>\n",
              "      <td>Diet * gender</td>\n",
              "      <td>Three</td>\n",
              "      <td>Female</td>\n",
              "      <td>Male</td>\n",
              "      <td>False</td>\n",
              "      <td>True</td>\n",
              "      <td>1.783161</td>\n",
              "      <td>18.936543</td>\n",
              "      <td>two-sided</td>\n",
              "      <td>0.090598</td>\n",
              "      <td>1.129</td>\n",
              "      <td>0.697204</td>\n",
              "    </tr>\n",
              "    <tr>\n",
              "      <th>6</th>\n",
              "      <td>Diet * gender</td>\n",
              "      <td>Two</td>\n",
              "      <td>Female</td>\n",
              "      <td>Male</td>\n",
              "      <td>False</td>\n",
              "      <td>True</td>\n",
              "      <td>-1.537776</td>\n",
              "      <td>20.504943</td>\n",
              "      <td>two-sided</td>\n",
              "      <td>0.139393</td>\n",
              "      <td>0.861</td>\n",
              "      <td>-0.606559</td>\n",
              "    </tr>\n",
              "  </tbody>\n",
              "</table>\n",
              "</div>\n",
              "      <button class=\"colab-df-convert\" onclick=\"convertToInteractive('df-afc9dc19-c8de-4711-aa25-3e80d287253d')\"\n",
              "              title=\"Convert this dataframe to an interactive table.\"\n",
              "              style=\"display:none;\">\n",
              "        \n",
              "  <svg xmlns=\"http://www.w3.org/2000/svg\" height=\"24px\"viewBox=\"0 0 24 24\"\n",
              "       width=\"24px\">\n",
              "    <path d=\"M0 0h24v24H0V0z\" fill=\"none\"/>\n",
              "    <path d=\"M18.56 5.44l.94 2.06.94-2.06 2.06-.94-2.06-.94-.94-2.06-.94 2.06-2.06.94zm-11 1L8.5 8.5l.94-2.06 2.06-.94-2.06-.94L8.5 2.5l-.94 2.06-2.06.94zm10 10l.94 2.06.94-2.06 2.06-.94-2.06-.94-.94-2.06-.94 2.06-2.06.94z\"/><path d=\"M17.41 7.96l-1.37-1.37c-.4-.4-.92-.59-1.43-.59-.52 0-1.04.2-1.43.59L10.3 9.45l-7.72 7.72c-.78.78-.78 2.05 0 2.83L4 21.41c.39.39.9.59 1.41.59.51 0 1.02-.2 1.41-.59l7.78-7.78 2.81-2.81c.8-.78.8-2.07 0-2.86zM5.41 20L4 18.59l7.72-7.72 1.47 1.35L5.41 20z\"/>\n",
              "  </svg>\n",
              "      </button>\n",
              "      \n",
              "  <style>\n",
              "    .colab-df-container {\n",
              "      display:flex;\n",
              "      flex-wrap:wrap;\n",
              "      gap: 12px;\n",
              "    }\n",
              "\n",
              "    .colab-df-convert {\n",
              "      background-color: #E8F0FE;\n",
              "      border: none;\n",
              "      border-radius: 50%;\n",
              "      cursor: pointer;\n",
              "      display: none;\n",
              "      fill: #1967D2;\n",
              "      height: 32px;\n",
              "      padding: 0 0 0 0;\n",
              "      width: 32px;\n",
              "    }\n",
              "\n",
              "    .colab-df-convert:hover {\n",
              "      background-color: #E2EBFA;\n",
              "      box-shadow: 0px 1px 2px rgba(60, 64, 67, 0.3), 0px 1px 3px 1px rgba(60, 64, 67, 0.15);\n",
              "      fill: #174EA6;\n",
              "    }\n",
              "\n",
              "    [theme=dark] .colab-df-convert {\n",
              "      background-color: #3B4455;\n",
              "      fill: #D2E3FC;\n",
              "    }\n",
              "\n",
              "    [theme=dark] .colab-df-convert:hover {\n",
              "      background-color: #434B5C;\n",
              "      box-shadow: 0px 1px 3px 1px rgba(0, 0, 0, 0.15);\n",
              "      filter: drop-shadow(0px 1px 2px rgba(0, 0, 0, 0.3));\n",
              "      fill: #FFFFFF;\n",
              "    }\n",
              "  </style>\n",
              "\n",
              "      <script>\n",
              "        const buttonEl =\n",
              "          document.querySelector('#df-afc9dc19-c8de-4711-aa25-3e80d287253d button.colab-df-convert');\n",
              "        buttonEl.style.display =\n",
              "          google.colab.kernel.accessAllowed ? 'block' : 'none';\n",
              "\n",
              "        async function convertToInteractive(key) {\n",
              "          const element = document.querySelector('#df-afc9dc19-c8de-4711-aa25-3e80d287253d');\n",
              "          const dataTable =\n",
              "            await google.colab.kernel.invokeFunction('convertToInteractive',\n",
              "                                                     [key], {});\n",
              "          if (!dataTable) return;\n",
              "\n",
              "          const docLinkHtml = 'Like what you see? Visit the ' +\n",
              "            '<a target=\"_blank\" href=https://colab.research.google.com/notebooks/data_table.ipynb>data table notebook</a>'\n",
              "            + ' to learn more about interactive tables.';\n",
              "          element.innerHTML = '';\n",
              "          dataTable['output_type'] = 'display_data';\n",
              "          await google.colab.output.renderOutput(dataTable, element);\n",
              "          const docLink = document.createElement('div');\n",
              "          docLink.innerHTML = docLinkHtml;\n",
              "          element.appendChild(docLink);\n",
              "        }\n",
              "      </script>\n",
              "    </div>\n",
              "  </div>\n",
              "  "
            ]
          },
          "metadata": {},
          "execution_count": 232
        }
      ]
    }
  ]
}