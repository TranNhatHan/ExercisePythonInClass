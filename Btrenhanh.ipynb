{
  "nbformat": 4,
  "nbformat_minor": 0,
  "metadata": {
    "colab": {
      "name": "Btrenhanh.ipynb",
      "provenance": [],
      "collapsed_sections": [],
      "authorship_tag": "ABX9TyNSx4khiiLSUgcoXVhoYD0n",
      "include_colab_link": true
    },
    "kernelspec": {
      "name": "python3",
      "display_name": "Python 3"
    },
    "language_info": {
      "name": "python"
    }
  },
  "cells": [
    {
      "cell_type": "markdown",
      "metadata": {
        "id": "view-in-github",
        "colab_type": "text"
      },
      "source": [
        "<a href=\"https://colab.research.google.com/github/TranNhatHan/LamBt/blob/main/Btrenhanh.ipynb\" target=\"_parent\"><img src=\"https://colab.research.google.com/assets/colab-badge.svg\" alt=\"Open In Colab\"/></a>"
      ]
    },
    {
      "cell_type": "code",
      "metadata": {
        "colab": {
          "base_uri": "https://localhost:8080/"
        },
        "id": "JJBl4EugzTAU",
        "outputId": "789d0fe5-19f0-4e8f-d8d2-98064f512cb5"
      },
      "source": [
        "a=float(input())\n",
        "if a>0:\n",
        "  print(\"Positive\")\n",
        "if a<0:\n",
        "  print(\"Negative\")"
      ],
      "execution_count": null,
      "outputs": [
        {
          "output_type": "stream",
          "name": "stdout",
          "text": [
            "6\n",
            "Duong\n"
          ]
        }
      ]
    },
    {
      "cell_type": "code",
      "metadata": {
        "colab": {
          "base_uri": "https://localhost:8080/"
        },
        "id": "DpCdsXkl3RqO",
        "outputId": "7a754c1c-b2aa-4598-a36f-16cd4b5b36ff"
      },
      "source": [
        "a=input()\n",
        "b=input()\n",
        "c=input()\n",
        "if a>=b and a>=c:\n",
        "  print(a)\n",
        "if b>=a and b>=c:\n",
        "  print(b)\n",
        "if c>=a and c>=b:\n",
        "  print(\"So lon nhat trong ba so la\",c)"
      ],
      "execution_count": null,
      "outputs": [
        {
          "output_type": "stream",
          "name": "stdout",
          "text": [
            "3\n",
            "4\n",
            "5\n",
            "So lon nhat trong ba so la 5\n"
          ]
        }
      ]
    },
    {
      "cell_type": "code",
      "metadata": {
        "id": "HsE_d2pNDDBZ"
      },
      "source": [
        "a = float(input())\n",
        "s=\"\"\n",
        "if a==0:\n",
        "  print(\"Zero\")\n",
        "else:\n",
        " if a>0:\n",
        "  s=\"Positive Number\"\n",
        " if a<0:\n",
        "  s=\"Negative Number\"\n",
        " if abs(a)<1:\n",
        "   s=s+\" Small\"\n",
        " if abs(a)>1000000:\n",
        "   s=s+\" Large\"\n",
        "print(s)"
      ],
      "execution_count": null,
      "outputs": []
    },
    {
      "cell_type": "code",
      "metadata": {
        "colab": {
          "base_uri": "https://localhost:8080/"
        },
        "id": "b4L49YsaFEQP",
        "outputId": "8216bfdf-66a8-4338-ec0b-4d5577bcc182"
      },
      "source": [
        "a=float(input())\n",
        "b=float(input())\n",
        "a=round(a,3)\n",
        "b=round(b,3)\n",
        "if a==b:\n",
        "  print(\"Giong nhau\")\n",
        "else:\n",
        "  print(\"Khac Nhau\")"
      ],
      "execution_count": null,
      "outputs": [
        {
          "output_type": "stream",
          "name": "stdout",
          "text": [
            "9.9999\n",
            "9.9998\n",
            "Giong nhau\n"
          ]
        }
      ]
    },
    {
      "cell_type": "code",
      "metadata": {
        "colab": {
          "base_uri": "https://localhost:8080/"
        },
        "id": "TjlpYHwaGxAe",
        "outputId": "7b8a3cdb-78b5-4dda-98fa-08d15319f9c2"
      },
      "source": [
        "a=int(input())\n",
        "a=a%7+1\n",
        "if a==1:\n",
        "  print(\"Sunday\")\n",
        "if a==2:\n",
        "  print(\"Monday\")\n",
        "if a==3:\n",
        "  print(\"Tuesday \")\n",
        "if a==4:\n",
        "  print(\"Wednesday\")\n",
        "if a==5:\n",
        "  print(\"Thursday\")\n",
        "if a==6:\n",
        "  print(\"Friday\")\n",
        "if a==7:\n",
        "  print(\"Saturday\")"
      ],
      "execution_count": null,
      "outputs": [
        {
          "output_type": "stream",
          "name": "stdout",
          "text": [
            "76\n",
            "Saturday\n"
          ]
        }
      ]
    }
  ]
}