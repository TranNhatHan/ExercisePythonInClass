{
  "cells": [
    {
      "cell_type": "markdown",
      "metadata": {
        "id": "view-in-github",
        "colab_type": "text"
      },
      "source": [
        "<a href=\"https://colab.research.google.com/github/TranNhatHan/LamBt/blob/main/KiemDinhF.ipynb\" target=\"_parent\"><img src=\"https://colab.research.google.com/assets/colab-badge.svg\" alt=\"Open In Colab\"/></a>"
      ]
    },
    {
      "cell_type": "markdown",
      "metadata": {
        "id": "T2D-Q85tlZpt"
      },
      "source": [
        "KIỂM ĐỊNH F\n",
        "\n",
        "Thay vì xây dựng giả thuyết với giá trị trung bình, người ta có thể xây dựng giả thuyết với phương sai (variance $\\sigma^{2}$). Trong trường hợp này, chúng ta sử dụng kiểm định F. Tóm tắt về kiểm định F như sau:\n",
        "\n",
        "Kiểm định một đuôi:\n",
        "\n",
        "$$H_{0}: \\sigma^{2} = \\sigma_{0}^{2} $$\n",
        "\n",
        "$$H_{a}: \\sigma^{2} < \\sigma_{0}^{2} (H_{a}: \\sigma^{2} > \\sigma_{0}^{2})$$ \n",
        "\n",
        "Giá trị thống kê kiểm định:\n",
        "\n",
        "$$ \\chi^{2} = \\frac{(n-1)s^{2}}{\\sigma_{0}^{2}}$$\n",
        "\n",
        "Vùng bác bỏ: $\\chi^{2} < \\chi_{(1 - \\alpha)}^{2}$  hoặc $\\chi^{2} > \\chi_{(1 - \\alpha)}^{2}$  khi $H_{a}: \\sigma^{2} > \\sigma_{0}^{2}$\n",
        "\n",
        "Ghi chú: \n",
        "\n",
        "- $\\chi^{2}$ - chi-square\n",
        "- (n - 1) mức tự do\n",
        "\n"
      ]
    },
    {
      "cell_type": "markdown",
      "metadata": {
        "id": "JpJn-FlxlZpx"
      },
      "source": [
        "Kiểm định 2 đuôi:\n",
        "\n",
        "$$H_{0}: \\sigma^{2} = \\sigma_{0}^{2}$$\n",
        "$$H_{a}:\\sigma^{2} \\neq \\sigma_{0}^{2} $$\n",
        "\n",
        "Giá trị thống kê kiểm định:\n",
        "\n",
        "$$ \\chi^{2} = \\frac{(n-1)s^{2}}{\\sigma_{0}^{2}}$$\n",
        "\n",
        "Vùng bác bỏ: $\\chi^{2} < \\chi_{(1 - \\alpha/2)}^{2}$  hoặc $\\chi^{2} > \\chi_{(\\alpha/2)}^{2}$  \n",
        "Ghi chú: \n",
        "\n",
        "- $\\chi^{2}$ - chi-square\n",
        "- (n - 1) mức tự do"
      ]
    },
    {
      "cell_type": "markdown",
      "metadata": {
        "id": "88lppdrLlZpy"
      },
      "source": [
        "THỰC HÀNH KIỂM ĐỊNH F\n",
        "\n",
        "Bước 1: Sinh ngẫu nhiên số liệu\n",
        "\n",
        "Bước 2: Xây dựng giả thuyết \n",
        "\n",
        "Bước 3: Kiểm định Bartlett "
      ]
    },
    {
      "cell_type": "code",
      "execution_count": null,
      "metadata": {
        "id": "rBHlt-f1lZpy"
      },
      "outputs": [],
      "source": [
        "import numpy as np\n",
        "import pandas as pd\n",
        "from scipy import stats"
      ]
    },
    {
      "cell_type": "code",
      "execution_count": null,
      "metadata": {
        "id": "aQNzVIGKlZpz"
      },
      "outputs": [],
      "source": [
        "#Sinh ngẫu nhiên 1000 mẫu tuân theo phân phối chuẩn có trung bình mẫu là 7.5 và độ lệch chuẩn là 0.25\n",
        "mean_1 = 7.5\n",
        "std_1 = 0.25\n",
        "N_1 = 1000\n",
        "samples_1 = np.random.normal(mean_1, std_1, N_1)"
      ]
    },
    {
      "cell_type": "code",
      "execution_count": null,
      "metadata": {
        "id": "3MF3qJ3YlZp0",
        "outputId": "01b9e4e9-eaed-4dee-957f-68fdb011cabb",
        "colab": {
          "base_uri": "https://localhost:8080/"
        }
      },
      "outputs": [
        {
          "output_type": "stream",
          "name": "stdout",
          "text": [
            "[7.68926113 7.34384953 7.0046026  7.88257763 7.85284994 7.50445374\n",
            " 7.6215449  7.31173045 7.17486925 7.10942125]\n"
          ]
        }
      ],
      "source": [
        "#In ra 10 phần tử đầu tiên\n",
        "print(samples_1[:10])"
      ]
    },
    {
      "cell_type": "code",
      "execution_count": null,
      "metadata": {
        "id": "a9py6TLRlZp0"
      },
      "outputs": [],
      "source": [
        "#Sinh ngẫu nhiên 900 mẫu tuân theo phân phối chuẩn có trung bình mẫu là 7 và độ lệch chuẩn là 0.2\n",
        "mean_2= 7\n",
        "std_2 = 0.2\n",
        "N_2 = 900\n",
        "samples_2 = np.random.normal(mean_2, std_2, N_2)"
      ]
    },
    {
      "cell_type": "code",
      "execution_count": null,
      "metadata": {
        "id": "Em9cyo0klZp1",
        "outputId": "d11d9e44-dc2e-46e9-a94a-a828c8bdfa6a",
        "colab": {
          "base_uri": "https://localhost:8080/"
        }
      },
      "outputs": [
        {
          "output_type": "stream",
          "name": "stdout",
          "text": [
            "[7.45863514 6.72537817 7.58454102 6.87537883 7.25619488 7.14001601\n",
            " 7.24336745 6.66256348 6.87560505 6.80121541]\n"
          ]
        }
      ],
      "source": [
        "#In ra 10 phần tử đầu tiên\n",
        "print(samples_2[:10])"
      ]
    },
    {
      "cell_type": "markdown",
      "metadata": {
        "id": "UeHeyRMOlZp2"
      },
      "source": [
        "Xây dựng giả thuyết:\n",
        "$$H_{0}: \\sigma_{1}^{2} = \\sigma_{2}^{2}$$\n",
        "$$H_{a}: \\sigma_{1}^{2} \\neq \\sigma_{2}^{2}$$"
      ]
    },
    {
      "cell_type": "code",
      "execution_count": null,
      "metadata": {
        "id": "_ahVyokllZp2",
        "outputId": "935113a1-c13a-4a71-b3a6-80945db66a14",
        "colab": {
          "base_uri": "https://localhost:8080/"
        }
      },
      "outputs": [
        {
          "output_type": "stream",
          "name": "stdout",
          "text": [
            "Stat value:  34.63540431351686 ; p-value:  3.9760861243229395e-09\n"
          ]
        }
      ],
      "source": [
        "#Kiểm định Bartlett\n",
        "stat_value, p_value = stats.bartlett(samples_1, samples_2)\n",
        "print(\"Stat value: \", stat_value, \"; p-value: \", p_value)"
      ]
    },
    {
      "cell_type": "code",
      "execution_count": null,
      "metadata": {
        "id": "QVFOB5hilZp2",
        "outputId": "4f09f030-189b-45d9-e6c8-71321a55e85b",
        "colab": {
          "base_uri": "https://localhost:8080/"
        }
      },
      "outputs": [
        {
          "output_type": "stream",
          "name": "stdout",
          "text": [
            "Có bằng chứng để bác bỏ giả thuyết H0\n"
          ]
        }
      ],
      "source": [
        "alpha = 0.05\n",
        "if(p_value <  alpha):\n",
        "  print(\"Có bằng chứng để bác bỏ giả thuyết H0\")\n",
        "else:\n",
        "  print(\"Chưa có bằng chứng để bác bỏ giả thuyết H0\")"
      ]
    },
    {
      "cell_type": "markdown",
      "metadata": {
        "id": "agYpzOBxlZp3"
      },
      "source": [
        "BÀI TẬP\n",
        "\n",
        "Bạn hãy thử viết code tiến hành kiểm định F 1 đuôi?\n",
        "\n",
        "Gợi ý: Thử tìm kiếm ví dụ về kiểm dịnh F 1 đuôi trong ngôn ngữ lập trình Python & R để nhận thấy sự khác biệt."
      ]
    },
    {
      "cell_type": "code",
      "execution_count": null,
      "metadata": {
        "id": "G5r9ZAKrnSyM"
      },
      "outputs": [],
      "source": [
        "#Sinh ngẫu nhiên mẫu tuân theo phân phối chuẩn có trung bình mẫu là có cùng độ lệch chuẩn là 0.9\n",
        "samples_1 = np.random.normal(45, 0.9, 1454)\n",
        "samples_2 = np.random.normal(54, 0.9, 1545)"
      ]
    },
    {
      "cell_type": "markdown",
      "source": [
        "Xây dựng giả thuyết:\n",
        "$$H_{0}: \\sigma_{1}^{2} = \\sigma_{2}^{2}$$\n",
        "$$H_{a}: \\sigma_{1}^{2} \\leq \\sigma_{2}^{2}$$"
      ],
      "metadata": {
        "id": "hdl_onyDqgB9"
      }
    },
    {
      "cell_type": "code",
      "source": [
        "def ftest_onetail(x, y, z):\n",
        "    x = np.array(x)\n",
        "    y = np.array(y)\n",
        "    f = np.var(x, ddof=1)/np.var(y, ddof=1) #calculate F test statistic \n",
        "    dfn = x.size-1 #define degrees of freedom numerator \n",
        "    dfd = y.size-1 #define degrees of freedom denominator \n",
        "    if z == \"right\":\n",
        "      p = (1 - stats.f.cdf(f, dfn, dfd)) #find p-value of F test statistic\n",
        "    elif z == \"left\":\n",
        "      p = stats.f.cdf(f, dfn, dfd) #find p-value of F test statistic \n",
        "    return f, p\n",
        "tstats, pvalue = ftest_onetail(samples_1, samples_2, \"left\")\n",
        "print(\"Stat value: \", tstats, \"; p-value: \", pvalue)"
      ],
      "metadata": {
        "colab": {
          "base_uri": "https://localhost:8080/"
        },
        "id": "weWR2fUxiDXo",
        "outputId": "61786381-bbc7-41d3-a9b6-0ae7a2c697ca"
      },
      "execution_count": null,
      "outputs": [
        {
          "output_type": "stream",
          "name": "stdout",
          "text": [
            "Stat value:  1.469872761445277 ; p-value:  0.999999997998308\n"
          ]
        }
      ]
    },
    {
      "cell_type": "code",
      "execution_count": null,
      "metadata": {
        "outputId": "b5cf2fdf-c2df-4569-dddd-337c4129c3ee",
        "id": "Cr3eR4nJnZRI",
        "colab": {
          "base_uri": "https://localhost:8080/"
        }
      },
      "outputs": [
        {
          "output_type": "stream",
          "name": "stdout",
          "text": [
            "Chưa có bằng chứng để bác bỏ giả thuyết H0\n"
          ]
        }
      ],
      "source": [
        "alpha = 0.05\n",
        "if(pvalue <  alpha):\n",
        "  print(\"Có bằng chứng để bác bỏ giả thuyết H0\")\n",
        "else:\n",
        "  print(\"Chưa có bằng chứng để bác bỏ giả thuyết H0\")"
      ]
    },
    {
      "cell_type": "markdown",
      "source": [
        "F Test One Tail In R\n",
        "\n",
        "x <- rnorm(50, mean = 0, sd = 2)\n",
        "\n",
        "y <- rnorm(30, mean = 1, sd = 1)\n",
        "\n",
        "var.test(x, y, alternative = c(\"two.sided\", \"less\", \"greater\")) "
      ],
      "metadata": {
        "id": "GWQLTUPZuFje"
      }
    }
  ],
  "metadata": {
    "kernelspec": {
      "display_name": "Python 3",
      "language": "python",
      "name": "python3"
    },
    "language_info": {
      "codemirror_mode": {
        "name": "ipython",
        "version": 3
      },
      "file_extension": ".py",
      "mimetype": "text/x-python",
      "name": "python",
      "nbconvert_exporter": "python",
      "pygments_lexer": "ipython3",
      "version": "3.7.3"
    },
    "colab": {
      "name": "KiemDinhF.ipynb",
      "provenance": [],
      "collapsed_sections": [],
      "include_colab_link": true
    }
  },
  "nbformat": 4,
  "nbformat_minor": 0
}