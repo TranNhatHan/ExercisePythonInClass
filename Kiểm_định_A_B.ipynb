{
  "nbformat": 4,
  "nbformat_minor": 0,
  "metadata": {
    "colab": {
      "name": "Kiểm định A/B.ipynb",
      "provenance": [],
      "collapsed_sections": [],
      "include_colab_link": true
    },
    "kernelspec": {
      "name": "python3",
      "display_name": "Python 3"
    },
    "language_info": {
      "name": "python"
    }
  },
  "cells": [
    {
      "cell_type": "markdown",
      "metadata": {
        "id": "view-in-github",
        "colab_type": "text"
      },
      "source": [
        "<a href=\"https://colab.research.google.com/github/TranNhatHan/LamBt/blob/main/Ki%E1%BB%83m_%C4%91%E1%BB%8Bnh_A_B.ipynb\" target=\"_parent\"><img src=\"https://colab.research.google.com/assets/colab-badge.svg\" alt=\"Open In Colab\"/></a>"
      ]
    },
    {
      "cell_type": "markdown",
      "source": [
        "**BÀI TẬP TỰ HỌC VỀ KIỂM ĐỊNH A/B**\n",
        "\n",
        "Sinh viên sử dụng tài liệu tham khảo \"Practical Statistics...\", Chương 3 để hoàn thành các yêu cầu sau."
      ],
      "metadata": {
        "id": "fw49i_jmb7ZK"
      }
    },
    {
      "cell_type": "markdown",
      "source": [
        "**Câu 1**: Trả lời các câu hỏi lý thuyết sau:\n",
        "\n",
        "\n",
        "1.   Kiểm định A/B là gì?\n",
        "2.   Thuật ngữ treatment trong ngữ cảnh của thống kê có thể dịch sang tiếng Việt không? nếu có thì là gì?\n",
        "3.   Nêu định nghĩa về treatment\n",
        "4.   Control group là gì? vai trò trong thí nghiệm của kiểm định A/B?\n",
        "5.   Treament group là gì? vai trò trong thí nghiệm của kiểm định A/B?\n",
        "6.   Hãy liệt kê một số kiểm định A/B trong thực tế?\n",
        "\n"
      ],
      "metadata": {
        "id": "EBsgDMSRcVy9"
      }
    },
    {
      "cell_type": "markdown",
      "source": [
        "1. Kiểm định A/B là một quy trình mà trong đó hai phiên bản (A và B) sẽ được cùng so sánh trong một môi trường hoặc tình huống được xác định và qua đó đánh giá xem phiên bản nào hiệu quả hơn."
      ],
      "metadata": {
        "id": "NJmyUuh0dwh-"
      }
    },
    {
      "cell_type": "markdown",
      "source": [
        "2. Không, nhưng tương đối gần nghĩa với từ biến thể\n"
      ],
      "metadata": {
        "id": "1i0IT9_TSZDd"
      }
    },
    {
      "cell_type": "markdown",
      "source": [
        "3. Something (drug, price, web headline) to which a subject is exposed"
      ],
      "metadata": {
        "id": "30M6yBIbSdWa"
      }
    },
    {
      "cell_type": "markdown",
      "source": [
        "4. Control group is a group of subjects exposed to a specific treatment.\n",
        "\n"
      ],
      "metadata": {
        "id": "ti9NzjVyNQPD"
      }
    },
    {
      "cell_type": "markdown",
      "source": [
        "5. Control group is a group of subjects exposed to no (or standard) treatment.\n"
      ],
      "metadata": {
        "id": "Q2IwUOrVNPyC"
      }
    },
    {
      "cell_type": "markdown",
      "source": [
        "6. Một số kiểm định thống kế trong thực tế:\n",
        "- Thử nghiệm hai phương pháp xử lý đất để xác định xem hạt nào nảy mầm tốt hơn\n",
        "- Thử nghiệm hai liệu pháp để xác định phương pháp nào ngăn chặn ung thư hiệu quả hơn\n",
        "- Kiểm tra hai mức giá để xác định giá nào mang lại nhiều lợi nhuận ròng hơn\n",
        "- Thử nghiệm hai quảng cáo web để xác định quảng cáo nào tạo ra nhiều chuyển đổi hơn\n",
        "- Kiểm tra hai tiêu đề web để xác định tiêu đề nào tạo ra nhiều nhấp chuột hơn\n"
      ],
      "metadata": {
        "id": "CvO221loRCik"
      }
    },
    {
      "cell_type": "markdown",
      "source": [
        "**Câu 2**: Tại sao không có kiểm định A/B/C/D?\n",
        "\n",
        "\n",
        "Trả lời tại đây: Tại vì sẽ rất phức tạp, thời gian tính toán kéo dài và khi thực hiện kiểm định A/B/C/D, vẫn còn nhiều phương pháp khác để kiểm định nhiều biến thể như multi-arm bandit"
      ],
      "metadata": {
        "id": "Ghp_lniLedz8"
      }
    },
    {
      "cell_type": "markdown",
      "source": [
        "**Câu 3**: Lý thuyết về kiểm định giả thuyết. Trả lời các câu hỏi sau:\n",
        "\n",
        "\n",
        "1.   Nêu định nghĩa về kiểm định giả thuyết\n",
        "2.   Giả thuyết null là gì? cho ví dụ\n",
        "3.   Giả thuyết thay thế là gì? cho ví dụ\n",
        "4.   Kiểm định 1 chiều (hay 1 đuôi) là gì? cho ví dụ\n",
        "5.   Kiểm định 2 chiều (hay 2 đuôi) là gì?cho ví dụ\n",
        "6.   Nêu điểm khác biệt giữa kiểm định 1 chiều so với kiểm định 2 chiều?\n",
        "\n"
      ],
      "metadata": {
        "id": "4bRj6dX8fQKu"
      }
    },
    {
      "cell_type": "markdown",
      "source": [
        "1. Kiểm định giả thuyết (hypothesis testing) là quá trình thiết lập và sử dụng các tiêu chuẩn thống kê để hỗ trợ cho việc đi đến quyết định về giá trị của giả thuyết trong điều kiện bất định. Trong những quyết định như thế, người ta có thể may mắn lựa chọn đúng, nhưng cũng có thể vấp phải rủi ro, tức lựa chọn sai lầm."
      ],
      "metadata": {
        "id": "xZHLM-16guTL"
      }
    },
    {
      "cell_type": "markdown",
      "source": [
        "2. Trong thống kê, giả thuyết không (tiếng Anh: null hypothesis) về một tham số là khái niệm được sử dụng trong kiểm định giả thuyết thống kê. Giả thuyết không, hay được ký hiệu là $H_0$, thường được đặt ra với mục tiêu là xem dữ liệu thu thập trong các nghiên cứu thực nghiệm có mâu thuẫn gì với giả thuyết này không."
      ],
      "metadata": {
        "id": "8Op4aGz_Ow1c"
      }
    },
    {
      "cell_type": "markdown",
      "source": [
        "3. Giả thuyết thay thế là một giả thuyết thống kê được sử dụng trong kiểm định giả thuyết, trong đó nói rằng có sự khác biệt đáng kể giữa tập hợp các biến. Nó thường được gọi là giả thuyết khác với giả thuyết không, thường được ký hiệu là $H_1$. Đó là những gì nhà nghiên cứu tìm cách chứng minh một cách gián tiếp, bằng cách sử dụng thử nghiệm."
      ],
      "metadata": {
        "id": "EqLkgT7BRADc"
      }
    },
    {
      "cell_type": "markdown",
      "source": [
        "Ví dụ, giả sử chúng ta muốn quyết định xem liệu một đồng tiền xu có đồng chất và cân đối hay không. Một giả thuyết không có thể là Một nửa số lần tung sẽ ra mặt sấp, một nửa số lần còn lại sẽ ra mặt ngửa. Giả thuyết nghịch có thể là Số lần xuất hiện mặt sấp và mặt ngửa sẽ rất khác nhau."
      ],
      "metadata": {
        "id": "_HFdYhHOTV4d"
      }
    },
    {
      "cell_type": "markdown",
      "source": [
        "4. Nếu một bài kiểm định giả thuyết thống kê có vùng bác bỏ chỉ là một bên của phân phối mẫu thì được gọi là kiểm định một đuôi (one-tailed test). Ví dụ, giả sử giả thuyết không chỉ ra rằng trung bình nhỏ hơn hoặc bằng 10. Giả thuyết nghịch sẽ là trung bình lớn hơn 10. Vùng bác bỏ sẽ bao gồm dãy số ở phía bên phải của phân phối mẫu, đó là, dãy các số lớn hơn 10.\n",
        "\n"
      ],
      "metadata": {
        "id": "EjV-ItH1SlpM"
      }
    },
    {
      "cell_type": "markdown",
      "source": [
        "5. Nếu một bài kiểm định giả thuyết thống kê có vùng bác bỏ ở cả hai bên của phân phối mẫu thì được gọi là bài kiểm định hai đuôi (two-tailed test). Ví dụ, giả sử giả thuyết không chỉ ra rằng trung bình bằng 10. Giả thuyết nghịch sẽ là trung bình nhỏ hơn 10 hoặc lớn hơn 10. Vùng bác bỏ bao gồm các số ở cả 2 phía của phân phối mẫu, đó là vùng dãy các số nhỏ hơn 10 và lớn hơn 10"
      ],
      "metadata": {
        "id": "KbI_ToRqSt7q"
      }
    },
    {
      "cell_type": "markdown",
      "source": [
        "6. Một thử nghiệm một đuôi được sử dụng để xác định xem có bất kỳ mối quan hệ nào giữa các biến theo một hướng, tức là trái hay phải. Để chống lại điều này, thử nghiệm hai đuôi được sử dụng để xác định xem có hay không có bất kỳ mối quan hệ nào giữa các biến theo một trong hai hướng.\n",
        "\n"
      ],
      "metadata": {
        "id": "BIwDZoNBUs-9"
      }
    },
    {
      "cell_type": "markdown",
      "source": [
        "**Câu 4**: Lý thuyết về lấy mẫu (sampling). \n",
        "\n",
        "\n",
        "1.   Sampling là gì? cho ví dụ\n",
        "2.   Resampling là gì? cho ví dụ?\n",
        "3.   Hãy mô tả kỹ thuật permutation (hoặc quy trình của permutation test)? Xây dựng đoạn code lập trình permutation test\n",
        "\n",
        "\n"
      ],
      "metadata": {
        "id": "jpcORdODhElp"
      }
    },
    {
      "cell_type": "markdown",
      "source": [
        "1. Sampling (lấy mẫu) là việc tạo ra một tập hợp các quan sát được thu thập từ một quần thể thống kê theo một quy tắc nhất định. Ví dụ "
      ],
      "metadata": {
        "id": "HyDM-nFEiLW9"
      }
    },
    {
      "cell_type": "markdown",
      "source": [
        "2. Resampling trong thống kê có nghĩa là lấy mẫu lặp lại các giá trị từ dữ liệu quan sát, với mục tiêu chung là đánh giá sự biến thiên ngẫu nhiên trong một thống kê. Nó cũng có thể được sử dụng để đánh giá và cải thiện độ chính xác của một số mô hình học máy"
      ],
      "metadata": {
        "id": "hpOXVbV5WHx3"
      }
    },
    {
      "cell_type": "markdown",
      "source": [
        "3. Quy trình permutation test\n",
        "- Kết hợp các kết quả từ các nhóm khác nhau thành một tập dữ liệu duy nhất.\n",
        "- Xáo trộn dữ liệu kết hợp và sau đó rút ngẫu nhiên (không thay thế) một resample có cùng kích thước với nhóm A (rõ ràng nó sẽ chứa một số dữ liệu từ các nhóm khác).\n",
        "- Từ dữ liệu còn lại, rút ngẫu nhiên (không thay thế) một mẫu lại có cùng kích thước với nhóm B.\n",
        "- Làm tương tự cho các nhóm C, D, v.v. Bây giờ bạn đã thu thập được một tập hợp các ví dụ phản ánh kích thước của các mẫu ban đầu.\n",
        "- Bất kỳ thống kê hoặc ước tính nào đã được tính toán cho các mẫu ban đầu (ví dụ: sự khác biệt về tỷ lệ nhóm), hãy tính toán nó ngay bây giờ cho các ví dụ và ghi lại; điều này tạo thành một lần lặp hoán vị.\n",
        "- Lặp lại các bước trước đó R lần để thu được phân phối hoán vị của thống kê thử nghiệm."
      ],
      "metadata": {
        "id": "56M6twQ4XayT"
      }
    },
    {
      "cell_type": "code",
      "source": [
        "from google.colab import drive\n",
        "drive.mount('/content/drive')"
      ],
      "metadata": {
        "colab": {
          "base_uri": "https://localhost:8080/"
        },
        "id": "2d6CdV0nZoj3",
        "outputId": "54fb0813-a2b2-4db3-b038-67e599aeaef3"
      },
      "execution_count": null,
      "outputs": [
        {
          "output_type": "stream",
          "name": "stdout",
          "text": [
            "Drive already mounted at /content/drive; to attempt to forcibly remount, call drive.mount(\"/content/drive\", force_remount=True).\n"
          ]
        }
      ]
    },
    {
      "cell_type": "markdown",
      "source": [
        "Truy xuất các thư viện cần thiết"
      ],
      "metadata": {
        "id": "HOrbP0Gev5dI"
      }
    },
    {
      "cell_type": "code",
      "source": [
        "import matplotlib.pyplot as plt\n",
        "import pandas as pd\n",
        "import numpy as np\n",
        "import random"
      ],
      "metadata": {
        "id": "g1IcrmnYX1nD"
      },
      "execution_count": null,
      "outputs": []
    },
    {
      "cell_type": "markdown",
      "source": [
        "Đọc dữ liệu vào data frame"
      ],
      "metadata": {
        "id": "TtRM5OcXv9rr"
      }
    },
    {
      "cell_type": "code",
      "source": [
        "session_times = pd.read_csv('/content/drive/MyDrive/PracticalStatistics/web_page_data.csv')"
      ],
      "metadata": {
        "id": "vyLAx-NNZnlG"
      },
      "execution_count": null,
      "outputs": []
    },
    {
      "cell_type": "markdown",
      "source": [
        "Đồ thị boxplot của mỗi thuộc tính trong tập dữ liệu"
      ],
      "metadata": {
        "id": "KrYoYav4wb7s"
      }
    },
    {
      "cell_type": "code",
      "source": [
        "ax = session_times.boxplot(by='Page', column='Time')\n",
        "ax.set_xlabel('')\n",
        "ax.set_ylabel('Time (in seconds)')\n",
        "plt.suptitle('')"
      ],
      "metadata": {
        "colab": {
          "base_uri": "https://localhost:8080/",
          "height": 352
        },
        "id": "HbEw1XmiXYtf",
        "outputId": "dab81377-4494-4187-db20-dafe2557cf83"
      },
      "execution_count": null,
      "outputs": [
        {
          "output_type": "stream",
          "name": "stderr",
          "text": [
            "/usr/local/lib/python3.7/dist-packages/matplotlib/cbook/__init__.py:1376: VisibleDeprecationWarning: Creating an ndarray from ragged nested sequences (which is a list-or-tuple of lists-or-tuples-or ndarrays with different lengths or shapes) is deprecated. If you meant to do this, you must specify 'dtype=object' when creating the ndarray.\n",
            "  X = np.atleast_1d(X.T if isinstance(X, np.ndarray) else np.asarray(X))\n"
          ]
        },
        {
          "output_type": "execute_result",
          "data": {
            "text/plain": [
              "Text(0.5, 0.98, '')"
            ]
          },
          "metadata": {},
          "execution_count": 78
        },
        {
          "output_type": "display_data",
          "data": {
            "text/plain": [
              "<Figure size 432x288 with 1 Axes>"
            ],
            "image/png": "[encoded data removed]"
          },
          "metadata": {
            "needs_background": "light"
          }
        }
      ]
    },
    {
      "cell_type": "code",
      "source": [
        "mean_a = session_times[session_times.Page == 'Page A'].Time.mean()\n",
        "mean_b = session_times[session_times.Page == 'Page B'].Time.mean()\n",
        "mean_b - mean_a"
      ],
      "metadata": {
        "colab": {
          "base_uri": "https://localhost:8080/"
        },
        "id": "OiX-bJ3sZ8TA",
        "outputId": "2d3a51ce-6feb-497b-db45-99e55229a394"
      },
      "execution_count": null,
      "outputs": [
        {
          "output_type": "execute_result",
          "data": {
            "text/plain": [
              "0.35666666666666713"
            ]
          },
          "metadata": {},
          "execution_count": 58
        }
      ]
    },
    {
      "cell_type": "markdown",
      "source": [
        "Xây dựng hàm kiểm định hoán vị"
      ],
      "metadata": {
        "id": "rcFMJlP8xWC7"
      }
    },
    {
      "cell_type": "code",
      "source": [
        "def perm_fun(x, nA, nB):\n",
        "  n = nA + nB\n",
        "  idx_B = set(random.sample(range(n), nB))\n",
        "  idx_A = set(range(n)) - idx_B\n",
        "  return x.loc[idx_B].mean() - x.loc[idx_A].mean()"
      ],
      "metadata": {
        "id": "XojWxdPkaAFc"
      },
      "execution_count": null,
      "outputs": []
    },
    {
      "cell_type": "markdown",
      "source": [
        "Gọi hàm này là R = 1.000 lần và\n",
        "xác định nA\n",
        "= 21 và nB = 15 dẫn đến sự phân bổ chênh lệch trong phiên\n",
        "thời gian có thể được vẽ dưới dạng biểu đồ."
      ],
      "metadata": {
        "id": "m_peFFOi1IwE"
      }
    },
    {
      "cell_type": "code",
      "source": [
        "perm_diffs = [perm_fun(session_times.Time, 15, 21) for _ in range(1000)]\n",
        "fig, ax = plt.subplots()\n",
        "ax.hist(perm_diffs, bins=11, rwidth=0.9)\n",
        "ax.axvline(x = mean_b - mean_a, color='black', lw=2)\n",
        "ax.text(50, 190, 'Observed\\ndifference', bbox={'facecolor':'white'})\n",
        "ax.set_xlabel('Session time differences (in seconds)')\n",
        "ax.set_ylabel('Frequency')"
      ],
      "metadata": {
        "colab": {
          "base_uri": "https://localhost:8080/",
          "height": 317
        },
        "id": "E327xc3waSbW",
        "outputId": "565f30f2-f00b-414b-95b3-3fb5470a0a8c"
      },
      "execution_count": null,
      "outputs": [
        {
          "output_type": "execute_result",
          "data": {
            "text/plain": [
              "Text(0, 0.5, 'Frequency')"
            ]
          },
          "metadata": {},
          "execution_count": 85
        },
        {
          "output_type": "display_data",
          "data": {
            "text/plain": [
              "<Figure size 432x288 with 1 Axes>"
            ],
            "image/png": "[encoded data removed]"
          },
          "metadata": {
            "needs_background": "light"
          }
        }
      ]
    },
    {
      "cell_type": "markdown",
      "source": [
        "Biểu đồ cho thấy sự khác biệt trung bình của các hoán vị ngẫu nhiên\n",
        "thường vượt quá sự khác biệt quan sát được trong thời gian phiên (đường thẳng đứng)"
      ],
      "metadata": {
        "id": "0VsL_64q0Itj"
      }
    },
    {
      "cell_type": "code",
      "source": [
        "np.mean(np.array(perm_diffs) > mean_b - mean_a)"
      ],
      "metadata": {
        "colab": {
          "base_uri": "https://localhost:8080/"
        },
        "id": "LAC3xGbud5id",
        "outputId": "1bb8b65e-2b02-4d8a-ee0e-4015cab57f58"
      },
      "execution_count": null,
      "outputs": [
        {
          "output_type": "execute_result",
          "data": {
            "text/plain": [
              "0.144"
            ]
          },
          "metadata": {},
          "execution_count": 87
        }
      ]
    },
    {
      "cell_type": "markdown",
      "source": [
        "Điều này cho thấy rằng sự khác biệt quan sát được về thời lượng phiên giữa trang A và trang B nằm trong phạm vi biến động cơ hội và do đó không có ý nghĩa thống kê."
      ],
      "metadata": {
        "id": "iGt2DMmTzNci"
      }
    }
  ]
}