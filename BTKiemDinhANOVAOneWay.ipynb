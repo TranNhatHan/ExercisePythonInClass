{
  "cells": [
    {
      "cell_type": "markdown",
      "metadata": {
        "id": "view-in-github",
        "colab_type": "text"
      },
      "source": [
        "<a href=\"https://colab.research.google.com/github/TranNhatHan/ExercisePythonInClass/blob/main/BTKiemDinhANOVAOneWay.ipynb\" target=\"_parent\"><img src=\"https://colab.research.google.com/assets/colab-badge.svg\" alt=\"Open In Colab\"/></a>"
      ]
    },
    {
      "cell_type": "markdown",
      "metadata": {
        "id": "TmvtWmTR4ZnB"
      },
      "source": [
        "Hãy sử dụng các tập dữ liệu sau và tiến hành phân tích ANOVA 1 chiều\n",
        "\n",
        "- [Excavation Depth and Archaeology](https://college.cengage.com/mathematics/brase/understandable_statistics/7e/students/datasets/owan/frames/owan01.html)\n",
        "- [Apple Orchard Experiment](https://college.cengage.com/mathematics/brase/understandable_statistics/7e/students/datasets/owan/frames/owan02.html)\n",
        "- [Red Dye Number 40](https://college.cengage.com/mathematics/brase/understandable_statistics/7e/students/datasets/owan/frames/owan03.html)\n",
        "- [Business Startup Costs](https://college.cengage.com/mathematics/brase/understandable_statistics/7e/students/datasets/owan/frames/owan04.html)\n",
        "- [Weights of Football Players](https://college.cengage.com/mathematics/brase/understandable_statistics/7e/students/datasets/owan/frames/owan05.html)"
      ]
    },
    {
      "cell_type": "code",
      "source": [
        "from google.colab import drive\n",
        "drive.mount('/content/drive')"
      ],
      "metadata": {
        "colab": {
          "base_uri": "https://localhost:8080/"
        },
        "id": "l6-UuP0T7SuE",
        "outputId": "6d0ab9a7-11e9-4a3e-8d79-97b3752a0a74"
      },
      "execution_count": 1,
      "outputs": [
        {
          "output_type": "stream",
          "name": "stdout",
          "text": [
            "Mounted at /content/drive\n"
          ]
        }
      ]
    },
    {
      "cell_type": "code",
      "source": [
        "!pip install pingouin"
      ],
      "metadata": {
        "colab": {
          "base_uri": "https://localhost:8080/"
        },
        "id": "nw7hzftoXBVT",
        "outputId": "1ab944ad-6e7e-49ad-ff85-30be5b8a1261"
      },
      "execution_count": 1,
      "outputs": [
        {
          "output_type": "stream",
          "name": "stdout",
          "text": [
            "Requirement already satisfied: pingouin in /usr/local/lib/python3.7/dist-packages (0.5.1)\n",
            "Requirement already satisfied: seaborn>=0.11 in /usr/local/lib/python3.7/dist-packages (from pingouin) (0.11.2)\n",
            "Requirement already satisfied: tabulate in /usr/local/lib/python3.7/dist-packages (from pingouin) (0.8.9)\n",
            "Requirement already satisfied: outdated in /usr/local/lib/python3.7/dist-packages (from pingouin) (0.2.1)\n",
            "Requirement already satisfied: statsmodels>=0.13 in /usr/local/lib/python3.7/dist-packages (from pingouin) (0.13.2)\n",
            "Requirement already satisfied: numpy>=1.19 in /usr/local/lib/python3.7/dist-packages (from pingouin) (1.21.6)\n",
            "Requirement already satisfied: scikit-learn in /usr/local/lib/python3.7/dist-packages (from pingouin) (1.0.2)\n",
            "Requirement already satisfied: matplotlib>=3.0.2 in /usr/local/lib/python3.7/dist-packages (from pingouin) (3.2.2)\n",
            "Requirement already satisfied: pandas-flavor>=0.2.0 in /usr/local/lib/python3.7/dist-packages (from pingouin) (0.2.0)\n",
            "Requirement already satisfied: pandas>=1.0 in /usr/local/lib/python3.7/dist-packages (from pingouin) (1.3.5)\n",
            "Requirement already satisfied: scipy>=1.7 in /usr/local/lib/python3.7/dist-packages (from pingouin) (1.7.3)\n",
            "Requirement already satisfied: kiwisolver>=1.0.1 in /usr/local/lib/python3.7/dist-packages (from matplotlib>=3.0.2->pingouin) (1.4.2)\n",
            "Requirement already satisfied: python-dateutil>=2.1 in /usr/local/lib/python3.7/dist-packages (from matplotlib>=3.0.2->pingouin) (2.8.2)\n",
            "Requirement already satisfied: cycler>=0.10 in /usr/local/lib/python3.7/dist-packages (from matplotlib>=3.0.2->pingouin) (0.11.0)\n",
            "Requirement already satisfied: pyparsing!=2.0.4,!=2.1.2,!=2.1.6,>=2.0.1 in /usr/local/lib/python3.7/dist-packages (from matplotlib>=3.0.2->pingouin) (3.0.8)\n",
            "Requirement already satisfied: typing-extensions in /usr/local/lib/python3.7/dist-packages (from kiwisolver>=1.0.1->matplotlib>=3.0.2->pingouin) (4.2.0)\n",
            "Requirement already satisfied: pytz>=2017.3 in /usr/local/lib/python3.7/dist-packages (from pandas>=1.0->pingouin) (2022.1)\n",
            "Requirement already satisfied: xarray in /usr/local/lib/python3.7/dist-packages (from pandas-flavor>=0.2.0->pingouin) (0.18.2)\n",
            "Requirement already satisfied: six>=1.5 in /usr/local/lib/python3.7/dist-packages (from python-dateutil>=2.1->matplotlib>=3.0.2->pingouin) (1.15.0)\n",
            "Requirement already satisfied: patsy>=0.5.2 in /usr/local/lib/python3.7/dist-packages (from statsmodels>=0.13->pingouin) (0.5.2)\n",
            "Requirement already satisfied: packaging>=21.3 in /usr/local/lib/python3.7/dist-packages (from statsmodels>=0.13->pingouin) (21.3)\n",
            "Requirement already satisfied: littleutils in /usr/local/lib/python3.7/dist-packages (from outdated->pingouin) (0.2.2)\n",
            "Requirement already satisfied: requests in /usr/local/lib/python3.7/dist-packages (from outdated->pingouin) (2.23.0)\n",
            "Requirement already satisfied: idna<3,>=2.5 in /usr/local/lib/python3.7/dist-packages (from requests->outdated->pingouin) (2.10)\n",
            "Requirement already satisfied: certifi>=2017.4.17 in /usr/local/lib/python3.7/dist-packages (from requests->outdated->pingouin) (2021.10.8)\n",
            "Requirement already satisfied: urllib3!=1.25.0,!=1.25.1,<1.26,>=1.21.1 in /usr/local/lib/python3.7/dist-packages (from requests->outdated->pingouin) (1.24.3)\n",
            "Requirement already satisfied: chardet<4,>=3.0.2 in /usr/local/lib/python3.7/dist-packages (from requests->outdated->pingouin) (3.0.4)\n",
            "Requirement already satisfied: threadpoolctl>=2.0.0 in /usr/local/lib/python3.7/dist-packages (from scikit-learn->pingouin) (3.1.0)\n",
            "Requirement already satisfied: joblib>=0.11 in /usr/local/lib/python3.7/dist-packages (from scikit-learn->pingouin) (1.1.0)\n",
            "Requirement already satisfied: setuptools>=40.4 in /usr/local/lib/python3.7/dist-packages (from xarray->pandas-flavor>=0.2.0->pingouin) (57.4.0)\n"
          ]
        }
      ]
    },
    {
      "cell_type": "code",
      "source": [
        "import pandas as pd\n",
        "import scipy.stats as ss\n",
        "import pingouin as pg"
      ],
      "metadata": {
        "id": "0VrALi0P41P0"
      },
      "execution_count": 2,
      "outputs": []
    },
    {
      "cell_type": "markdown",
      "source": [
        "Bài toán 1: Độ sâu khai quật và khảo cổ học\n",
        "Bốn địa điểm khai quật khác nhau tại một khu vực khảo cổ ở New Mexico đã đưa ra độ sâu (cm) cho những khám phá khảo cổ quan trọng.\n",
        "* X1 = độ sâu tại Vị trí I\n",
        "* X2 = độ sâu tại Vị trí II\n",
        "* X3 = độ sâu tại Vị trí III\n",
        "* X4 = độ sâu tại Vị trí IV\n",
        "\n",
        "Kiểm tra có sự khác biệt nào về độ sâu trung bình để tìm ra khảo cổ của bốn địa điểm có khác nhau hay không?"
      ],
      "metadata": {
        "id": "kvAxy7W6BgKl"
      }
    },
    {
      "cell_type": "markdown",
      "source": [
        "Phát biểu giả thuyết:\n",
        "*   $H_0$: Không có sự khác nhau về độ sâu trung bình để tìm ra khảo cổ của bốn địa điểm\n",
        "*   $H_a$: Có ít nhất một địa điểm có độ sâu trung bình khác với các địa điểm còn lại"
      ],
      "metadata": {
        "id": "ziAQLJPHCMp5"
      }
    },
    {
      "cell_type": "markdown",
      "source": [
        "Xây dựng giả thuyết:\n",
        "\n",
        "$$H_{0}: \\mu_{1} = \\mu_{2} = \\mu_{3} = \\mu_{4}$$\n",
        "\n",
        "Giả thuyết thay thế:\n",
        "\n",
        "$$H_{a}: \\mu_{1} \\neq \\mu_{2} \\neq \\mu_{3} \\neq \\mu_{4}$$"
      ],
      "metadata": {
        "id": "imT4T3uvR2Hx"
      }
    },
    {
      "cell_type": "code",
      "execution_count": 3,
      "metadata": {
        "id": "wH-PsSb84ZnG"
      },
      "outputs": [],
      "source": [
        "df1 = pd.read_csv(\"/content/drive/MyDrive/DataANOVAExercise/DataANOVA1.csv\")\n",
        "df1 = df1.dropna()"
      ]
    },
    {
      "cell_type": "markdown",
      "source": [
        "Kiểm tra mẫu có phải là phân phối chuẩn hay xấp xỉ phân phối chuẩn"
      ],
      "metadata": {
        "id": "o-WEUDPTGAgA"
      }
    },
    {
      "cell_type": "code",
      "source": [
        "statistic, p_value = ss.shapiro(df1[\"X1\"])\n",
        "print(p_value)\n",
        "if p_value < 0.05:\n",
        "  print(\"Có bằng chứng bác bỏ giả thuyết mẫu đến từ phân phối chuẩn\")\n",
        "else:\n",
        "  print(\"Không có bằng chứng bác bỏ giả thuyết mẫu đến từ phân phối chuẩn\")"
      ],
      "metadata": {
        "colab": {
          "base_uri": "https://localhost:8080/"
        },
        "id": "tSLC0FtvEpzZ",
        "outputId": "41506cd4-f1ae-4d3d-b1e9-264ba7c253bf"
      },
      "execution_count": null,
      "outputs": [
        {
          "output_type": "stream",
          "name": "stdout",
          "text": [
            "0.9508695602416992\n",
            "Không có bằng chứng bác bỏ giả thuyết mẫu đến từ phân phối chuẩn\n"
          ]
        }
      ]
    },
    {
      "cell_type": "code",
      "source": [
        "statistic, p_value = ss.shapiro(df1[\"X2\"])\n",
        "print(p_value)\n",
        "if p_value < 0.05:\n",
        "  print(\"Có bằng chứng bác bỏ giả thuyết mẫu đến từ phân phối chuẩn\")\n",
        "else:\n",
        "  print(\"Không có bằng chứng bác bỏ giả thuyết mẫu đến từ phân phối chuẩn\")"
      ],
      "metadata": {
        "colab": {
          "base_uri": "https://localhost:8080/"
        },
        "id": "JK_-JbzYFgxL",
        "outputId": "79d1f963-eb04-4165-e094-3fffa048fc34"
      },
      "execution_count": null,
      "outputs": [
        {
          "output_type": "stream",
          "name": "stdout",
          "text": [
            "0.8324363231658936\n",
            "Không có bằng chứng bác bỏ giả thuyết mẫu đến từ phân phối chuẩn\n"
          ]
        }
      ]
    },
    {
      "cell_type": "code",
      "source": [
        "statistic, p_value = ss.shapiro(df1[\"X3\"])\n",
        "print(p_value)\n",
        "if p_value < 0.05:\n",
        "  print(\"Có bằng chứng bác bỏ giả thuyết mẫu đến từ phân phối chuẩn\")\n",
        "else:\n",
        "  print(\"Không có bằng chứng bác bỏ giả thuyết mẫu đến từ phân phối chuẩn\")"
      ],
      "metadata": {
        "colab": {
          "base_uri": "https://localhost:8080/"
        },
        "id": "BSvh5sKDFg41",
        "outputId": "d7dfaa90-103b-461e-97f9-547175f22cc7"
      },
      "execution_count": null,
      "outputs": [
        {
          "output_type": "stream",
          "name": "stdout",
          "text": [
            "0.8603958487510681\n",
            "Không có bằng chứng bác bỏ giả thuyết mẫu đến từ phân phối chuẩn\n"
          ]
        }
      ]
    },
    {
      "cell_type": "code",
      "source": [
        "statistic, p_value = ss.shapiro(df1[\"X4\"])\n",
        "print(p_value)\n",
        "if p_value < 0.05:\n",
        "  print(\"Có bằng chứng bác bỏ giả thuyết mẫu đến từ phân phối chuẩn\")\n",
        "else:\n",
        "  print(\"Không có bằng chứng bác bỏ giả thuyết mẫu đến từ phân phối chuẩn\")"
      ],
      "metadata": {
        "colab": {
          "base_uri": "https://localhost:8080/"
        },
        "id": "CPQqQhECFg_H",
        "outputId": "92db9ffb-6029-46e1-bb12-e91b55d74931"
      },
      "execution_count": null,
      "outputs": [
        {
          "output_type": "stream",
          "name": "stdout",
          "text": [
            "0.13579683005809784\n",
            "Không có bằng chứng bác bỏ giả thuyết mẫu đến từ phân phối chuẩn\n"
          ]
        }
      ]
    },
    {
      "cell_type": "markdown",
      "source": [
        "Kiểm tra phương sai của mẫu có sự khác biệt nào không?"
      ],
      "metadata": {
        "id": "6ROt14z-GKCh"
      }
    },
    {
      "cell_type": "code",
      "source": [
        "statistic, p_value = ss.bartlett(df1[\"X1\"], df1[\"X2\"], df1[\"X3\"], df1[\"X4\"])\n",
        "print(p_value)\n",
        "if p_value <= 0.05:\n",
        "  print(\"Có bằng chứng bác bỏ giả thuyết độ sâu trung bình của các địa điểm có phương sai bằng nhau\")\n",
        "else:\n",
        "  print(\"Không có bằng chứng bác bỏ giả thuyết độ sâu trung bình của các địa điểm có phương sai bằng nhau\")"
      ],
      "metadata": {
        "colab": {
          "base_uri": "https://localhost:8080/"
        },
        "id": "uDU1fe2OGVa0",
        "outputId": "18e6ade9-217b-4fd6-bee8-a31ef2ca43f0"
      },
      "execution_count": null,
      "outputs": [
        {
          "output_type": "stream",
          "name": "stdout",
          "text": [
            "0.6593319405510176\n",
            "Không có bằng chứng bác bỏ giả thuyết độ sâu trung bình của các địa điểm có phương sai bằng nhau\n"
          ]
        }
      ]
    },
    {
      "cell_type": "markdown",
      "source": [
        "Từ các kiểm định trên ta giả định rằng các mẫu dữ liệu được lấy từ phân phối chuẩn và không có sự khác biệt về phương sai về độ sâu trung bình giữa các địa điểm. Và tất cả các nhóm đều độc lập với nhau."
      ],
      "metadata": {
        "id": "2LphztemHUWt"
      }
    },
    {
      "cell_type": "code",
      "source": [
        "statistic, p_value = ss.f_oneway(df1[\"X1\"], df1[\"X2\"], df1[\"X3\"], df1[\"X4\"])\n",
        "if p_value <= 0.05:\n",
        "  print(\"Có bằng chứng bác bỏ giả thuyết H0\")\n",
        "else:\n",
        "  print(\"Không có bằng chứng bác bỏ giả thuyết H0\")"
      ],
      "metadata": {
        "colab": {
          "base_uri": "https://localhost:8080/"
        },
        "id": "lUCvDh6QCpmN",
        "outputId": "715109a1-08fd-4c78-8636-f27ee4bad0df"
      },
      "execution_count": null,
      "outputs": [
        {
          "output_type": "stream",
          "name": "stdout",
          "text": [
            "Có bằng chứng bác bỏ giả thuyết H0\n"
          ]
        }
      ]
    },
    {
      "cell_type": "code",
      "source": [
        "df_melt = pd.melt(df1.reset_index(), id_vars=['index'], value_vars=['X1', 'X2', 'X3', 'X4'])\n",
        "df_melt.columns = ['index', 'treatments', 'value']"
      ],
      "metadata": {
        "id": "UWzT-bc1a_uB"
      },
      "execution_count": 30,
      "outputs": []
    },
    {
      "cell_type": "code",
      "source": [
        "pg.anova(dv=\"value\", between='variable', data = temp ,detailed=True)"
      ],
      "metadata": {
        "colab": {
          "base_uri": "https://localhost:8080/",
          "height": 112
        },
        "id": "Oepq9zz_XyvG",
        "outputId": "32975655-9856-46ee-e595-e995b016e80f"
      },
      "execution_count": 27,
      "outputs": [
        {
          "output_type": "execute_result",
          "data": {
            "text/plain": [
              "     Source            SS  DF           MS         F     p-unc       np2\n",
              "0  variable   8201.555556   3  2733.851852  8.613383  0.000246  0.446751\n",
              "1    Within  10156.666667  32   317.395833       NaN       NaN       NaN"
            ],
            "text/html": [
              "\n",
              "  <div id=\"df-266f8f02-466e-468d-9adf-48126e422d72\">\n",
              "    <div class=\"colab-df-container\">\n",
              "      <div>\n",
              "<style scoped>\n",
              "    .dataframe tbody tr th:only-of-type {\n",
              "        vertical-align: middle;\n",
              "    }\n",
              "\n",
              "    .dataframe tbody tr th {\n",
              "        vertical-align: top;\n",
              "    }\n",
              "\n",
              "    .dataframe thead th {\n",
              "        text-align: right;\n",
              "    }\n",
              "</style>\n",
              "<table border=\"1\" class=\"dataframe\">\n",
              "  <thead>\n",
              "    <tr style=\"text-align: right;\">\n",
              "      <th></th>\n",
              "      <th>Source</th>\n",
              "      <th>SS</th>\n",
              "      <th>DF</th>\n",
              "      <th>MS</th>\n",
              "      <th>F</th>\n",
              "      <th>p-unc</th>\n",
              "      <th>np2</th>\n",
              "    </tr>\n",
              "  </thead>\n",
              "  <tbody>\n",
              "    <tr>\n",
              "      <th>0</th>\n",
              "      <td>variable</td>\n",
              "      <td>8201.555556</td>\n",
              "      <td>3</td>\n",
              "      <td>2733.851852</td>\n",
              "      <td>8.613383</td>\n",
              "      <td>0.000246</td>\n",
              "      <td>0.446751</td>\n",
              "    </tr>\n",
              "    <tr>\n",
              "      <th>1</th>\n",
              "      <td>Within</td>\n",
              "      <td>10156.666667</td>\n",
              "      <td>32</td>\n",
              "      <td>317.395833</td>\n",
              "      <td>NaN</td>\n",
              "      <td>NaN</td>\n",
              "      <td>NaN</td>\n",
              "    </tr>\n",
              "  </tbody>\n",
              "</table>\n",
              "</div>\n",
              "      <button class=\"colab-df-convert\" onclick=\"convertToInteractive('df-266f8f02-466e-468d-9adf-48126e422d72')\"\n",
              "              title=\"Convert this dataframe to an interactive table.\"\n",
              "              style=\"display:none;\">\n",
              "        \n",
              "  <svg xmlns=\"http://www.w3.org/2000/svg\" height=\"24px\"viewBox=\"0 0 24 24\"\n",
              "       width=\"24px\">\n",
              "    <path d=\"M0 0h24v24H0V0z\" fill=\"none\"/>\n",
              "    <path d=\"M18.56 5.44l.94 2.06.94-2.06 2.06-.94-2.06-.94-.94-2.06-.94 2.06-2.06.94zm-11 1L8.5 8.5l.94-2.06 2.06-.94-2.06-.94L8.5 2.5l-.94 2.06-2.06.94zm10 10l.94 2.06.94-2.06 2.06-.94-2.06-.94-.94-2.06-.94 2.06-2.06.94z\"/><path d=\"M17.41 7.96l-1.37-1.37c-.4-.4-.92-.59-1.43-.59-.52 0-1.04.2-1.43.59L10.3 9.45l-7.72 7.72c-.78.78-.78 2.05 0 2.83L4 21.41c.39.39.9.59 1.41.59.51 0 1.02-.2 1.41-.59l7.78-7.78 2.81-2.81c.8-.78.8-2.07 0-2.86zM5.41 20L4 18.59l7.72-7.72 1.47 1.35L5.41 20z\"/>\n",
              "  </svg>\n",
              "      </button>\n",
              "      \n",
              "  <style>\n",
              "    .colab-df-container {\n",
              "      display:flex;\n",
              "      flex-wrap:wrap;\n",
              "      gap: 12px;\n",
              "    }\n",
              "\n",
              "    .colab-df-convert {\n",
              "      background-color: #E8F0FE;\n",
              "      border: none;\n",
              "      border-radius: 50%;\n",
              "      cursor: pointer;\n",
              "      display: none;\n",
              "      fill: #1967D2;\n",
              "      height: 32px;\n",
              "      padding: 0 0 0 0;\n",
              "      width: 32px;\n",
              "    }\n",
              "\n",
              "    .colab-df-convert:hover {\n",
              "      background-color: #E2EBFA;\n",
              "      box-shadow: 0px 1px 2px rgba(60, 64, 67, 0.3), 0px 1px 3px 1px rgba(60, 64, 67, 0.15);\n",
              "      fill: #174EA6;\n",
              "    }\n",
              "\n",
              "    [theme=dark] .colab-df-convert {\n",
              "      background-color: #3B4455;\n",
              "      fill: #D2E3FC;\n",
              "    }\n",
              "\n",
              "    [theme=dark] .colab-df-convert:hover {\n",
              "      background-color: #434B5C;\n",
              "      box-shadow: 0px 1px 3px 1px rgba(0, 0, 0, 0.15);\n",
              "      filter: drop-shadow(0px 1px 2px rgba(0, 0, 0, 0.3));\n",
              "      fill: #FFFFFF;\n",
              "    }\n",
              "  </style>\n",
              "\n",
              "      <script>\n",
              "        const buttonEl =\n",
              "          document.querySelector('#df-266f8f02-466e-468d-9adf-48126e422d72 button.colab-df-convert');\n",
              "        buttonEl.style.display =\n",
              "          google.colab.kernel.accessAllowed ? 'block' : 'none';\n",
              "\n",
              "        async function convertToInteractive(key) {\n",
              "          const element = document.querySelector('#df-266f8f02-466e-468d-9adf-48126e422d72');\n",
              "          const dataTable =\n",
              "            await google.colab.kernel.invokeFunction('convertToInteractive',\n",
              "                                                     [key], {});\n",
              "          if (!dataTable) return;\n",
              "\n",
              "          const docLinkHtml = 'Like what you see? Visit the ' +\n",
              "            '<a target=\"_blank\" href=https://colab.research.google.com/notebooks/data_table.ipynb>data table notebook</a>'\n",
              "            + ' to learn more about interactive tables.';\n",
              "          element.innerHTML = '';\n",
              "          dataTable['output_type'] = 'display_data';\n",
              "          await google.colab.output.renderOutput(dataTable, element);\n",
              "          const docLink = document.createElement('div');\n",
              "          docLink.innerHTML = docLinkHtml;\n",
              "          element.appendChild(docLink);\n",
              "        }\n",
              "      </script>\n",
              "    </div>\n",
              "  </div>\n",
              "  "
            ]
          },
          "metadata": {},
          "execution_count": 27
        }
      ]
    },
    {
      "cell_type": "code",
      "source": [
        "import scipy.stats as stats\n",
        "from statsmodels.formula.api import ols\n",
        "model = ols('value ~ C(treatments)', data=df_melt).fit()\n",
        "anova_table = sm.stats.anova_lm(model, typ=2)\n",
        "anova_table"
      ],
      "metadata": {
        "colab": {
          "base_uri": "https://localhost:8080/",
          "height": 112
        },
        "id": "cds7nZ39etya",
        "outputId": "e1b00a8c-8e1b-4d60-f791-c1ae0a4c6bbf"
      },
      "execution_count": 31,
      "outputs": [
        {
          "output_type": "execute_result",
          "data": {
            "text/plain": [
              "                     sum_sq    df         F    PR(>F)\n",
              "C(treatments)   8201.555556   3.0  8.613383  0.000246\n",
              "Residual       10156.666667  32.0       NaN       NaN"
            ],
            "text/html": [
              "\n",
              "  <div id=\"df-ec3cb117-e683-412a-bdf3-c4d992515924\">\n",
              "    <div class=\"colab-df-container\">\n",
              "      <div>\n",
              "<style scoped>\n",
              "    .dataframe tbody tr th:only-of-type {\n",
              "        vertical-align: middle;\n",
              "    }\n",
              "\n",
              "    .dataframe tbody tr th {\n",
              "        vertical-align: top;\n",
              "    }\n",
              "\n",
              "    .dataframe thead th {\n",
              "        text-align: right;\n",
              "    }\n",
              "</style>\n",
              "<table border=\"1\" class=\"dataframe\">\n",
              "  <thead>\n",
              "    <tr style=\"text-align: right;\">\n",
              "      <th></th>\n",
              "      <th>sum_sq</th>\n",
              "      <th>df</th>\n",
              "      <th>F</th>\n",
              "      <th>PR(&gt;F)</th>\n",
              "    </tr>\n",
              "  </thead>\n",
              "  <tbody>\n",
              "    <tr>\n",
              "      <th>C(treatments)</th>\n",
              "      <td>8201.555556</td>\n",
              "      <td>3.0</td>\n",
              "      <td>8.613383</td>\n",
              "      <td>0.000246</td>\n",
              "    </tr>\n",
              "    <tr>\n",
              "      <th>Residual</th>\n",
              "      <td>10156.666667</td>\n",
              "      <td>32.0</td>\n",
              "      <td>NaN</td>\n",
              "      <td>NaN</td>\n",
              "    </tr>\n",
              "  </tbody>\n",
              "</table>\n",
              "</div>\n",
              "      <button class=\"colab-df-convert\" onclick=\"convertToInteractive('df-ec3cb117-e683-412a-bdf3-c4d992515924')\"\n",
              "              title=\"Convert this dataframe to an interactive table.\"\n",
              "              style=\"display:none;\">\n",
              "        \n",
              "  <svg xmlns=\"http://www.w3.org/2000/svg\" height=\"24px\"viewBox=\"0 0 24 24\"\n",
              "       width=\"24px\">\n",
              "    <path d=\"M0 0h24v24H0V0z\" fill=\"none\"/>\n",
              "    <path d=\"M18.56 5.44l.94 2.06.94-2.06 2.06-.94-2.06-.94-.94-2.06-.94 2.06-2.06.94zm-11 1L8.5 8.5l.94-2.06 2.06-.94-2.06-.94L8.5 2.5l-.94 2.06-2.06.94zm10 10l.94 2.06.94-2.06 2.06-.94-2.06-.94-.94-2.06-.94 2.06-2.06.94z\"/><path d=\"M17.41 7.96l-1.37-1.37c-.4-.4-.92-.59-1.43-.59-.52 0-1.04.2-1.43.59L10.3 9.45l-7.72 7.72c-.78.78-.78 2.05 0 2.83L4 21.41c.39.39.9.59 1.41.59.51 0 1.02-.2 1.41-.59l7.78-7.78 2.81-2.81c.8-.78.8-2.07 0-2.86zM5.41 20L4 18.59l7.72-7.72 1.47 1.35L5.41 20z\"/>\n",
              "  </svg>\n",
              "      </button>\n",
              "      \n",
              "  <style>\n",
              "    .colab-df-container {\n",
              "      display:flex;\n",
              "      flex-wrap:wrap;\n",
              "      gap: 12px;\n",
              "    }\n",
              "\n",
              "    .colab-df-convert {\n",
              "      background-color: #E8F0FE;\n",
              "      border: none;\n",
              "      border-radius: 50%;\n",
              "      cursor: pointer;\n",
              "      display: none;\n",
              "      fill: #1967D2;\n",
              "      height: 32px;\n",
              "      padding: 0 0 0 0;\n",
              "      width: 32px;\n",
              "    }\n",
              "\n",
              "    .colab-df-convert:hover {\n",
              "      background-color: #E2EBFA;\n",
              "      box-shadow: 0px 1px 2px rgba(60, 64, 67, 0.3), 0px 1px 3px 1px rgba(60, 64, 67, 0.15);\n",
              "      fill: #174EA6;\n",
              "    }\n",
              "\n",
              "    [theme=dark] .colab-df-convert {\n",
              "      background-color: #3B4455;\n",
              "      fill: #D2E3FC;\n",
              "    }\n",
              "\n",
              "    [theme=dark] .colab-df-convert:hover {\n",
              "      background-color: #434B5C;\n",
              "      box-shadow: 0px 1px 3px 1px rgba(0, 0, 0, 0.15);\n",
              "      filter: drop-shadow(0px 1px 2px rgba(0, 0, 0, 0.3));\n",
              "      fill: #FFFFFF;\n",
              "    }\n",
              "  </style>\n",
              "\n",
              "      <script>\n",
              "        const buttonEl =\n",
              "          document.querySelector('#df-ec3cb117-e683-412a-bdf3-c4d992515924 button.colab-df-convert');\n",
              "        buttonEl.style.display =\n",
              "          google.colab.kernel.accessAllowed ? 'block' : 'none';\n",
              "\n",
              "        async function convertToInteractive(key) {\n",
              "          const element = document.querySelector('#df-ec3cb117-e683-412a-bdf3-c4d992515924');\n",
              "          const dataTable =\n",
              "            await google.colab.kernel.invokeFunction('convertToInteractive',\n",
              "                                                     [key], {});\n",
              "          if (!dataTable) return;\n",
              "\n",
              "          const docLinkHtml = 'Like what you see? Visit the ' +\n",
              "            '<a target=\"_blank\" href=https://colab.research.google.com/notebooks/data_table.ipynb>data table notebook</a>'\n",
              "            + ' to learn more about interactive tables.';\n",
              "          element.innerHTML = '';\n",
              "          dataTable['output_type'] = 'display_data';\n",
              "          await google.colab.output.renderOutput(dataTable, element);\n",
              "          const docLink = document.createElement('div');\n",
              "          docLink.innerHTML = docLinkHtml;\n",
              "          element.appendChild(docLink);\n",
              "        }\n",
              "      </script>\n",
              "    </div>\n",
              "  </div>\n",
              "  "
            ]
          },
          "metadata": {},
          "execution_count": 31
        }
      ]
    },
    {
      "cell_type": "code",
      "source": [
        "!pip install bioinfokit"
      ],
      "metadata": {
        "colab": {
          "base_uri": "https://localhost:8080/"
        },
        "id": "dtcInArnf2aa",
        "outputId": "041d6dc2-6c77-4f07-e04b-c6af96e7f815"
      },
      "execution_count": 34,
      "outputs": [
        {
          "output_type": "stream",
          "name": "stdout",
          "text": [
            "Collecting bioinfokit\n",
            "  Downloading bioinfokit-2.0.8.tar.gz (84 kB)\n",
            "\u001b[?25l\r\u001b[K     |███▉                            | 10 kB 21.0 MB/s eta 0:00:01\r\u001b[K     |███████▊                        | 20 kB 11.4 MB/s eta 0:00:01\r\u001b[K     |███████████▋                    | 30 kB 9.0 MB/s eta 0:00:01\r\u001b[K     |███████████████▌                | 40 kB 7.9 MB/s eta 0:00:01\r\u001b[K     |███████████████████▍            | 51 kB 4.3 MB/s eta 0:00:01\r\u001b[K     |███████████████████████▎        | 61 kB 5.0 MB/s eta 0:00:01\r\u001b[K     |███████████████████████████     | 71 kB 5.7 MB/s eta 0:00:01\r\u001b[K     |███████████████████████████████ | 81 kB 6.1 MB/s eta 0:00:01\r\u001b[K     |████████████████████████████████| 84 kB 2.0 MB/s \n",
            "\u001b[?25hRequirement already satisfied: pandas in /usr/local/lib/python3.7/dist-packages (from bioinfokit) (1.3.5)\n",
            "Requirement already satisfied: numpy in /usr/local/lib/python3.7/dist-packages (from bioinfokit) (1.21.6)\n",
            "Requirement already satisfied: matplotlib in /usr/local/lib/python3.7/dist-packages (from bioinfokit) (3.2.2)\n",
            "Requirement already satisfied: scipy in /usr/local/lib/python3.7/dist-packages (from bioinfokit) (1.7.3)\n",
            "Requirement already satisfied: scikit-learn in /usr/local/lib/python3.7/dist-packages (from bioinfokit) (1.0.2)\n",
            "Requirement already satisfied: seaborn in /usr/local/lib/python3.7/dist-packages (from bioinfokit) (0.11.2)\n",
            "Requirement already satisfied: matplotlib-venn in /usr/local/lib/python3.7/dist-packages (from bioinfokit) (0.11.7)\n",
            "Requirement already satisfied: tabulate in /usr/local/lib/python3.7/dist-packages (from bioinfokit) (0.8.9)\n",
            "Requirement already satisfied: statsmodels in /usr/local/lib/python3.7/dist-packages (from bioinfokit) (0.13.2)\n",
            "Collecting textwrap3\n",
            "  Downloading textwrap3-0.9.2-py2.py3-none-any.whl (12 kB)\n",
            "Collecting adjustText\n",
            "  Downloading adjustText-0.7.3.tar.gz (7.5 kB)\n",
            "Requirement already satisfied: pyparsing!=2.0.4,!=2.1.2,!=2.1.6,>=2.0.1 in /usr/local/lib/python3.7/dist-packages (from matplotlib->bioinfokit) (3.0.8)\n",
            "Requirement already satisfied: python-dateutil>=2.1 in /usr/local/lib/python3.7/dist-packages (from matplotlib->bioinfokit) (2.8.2)\n",
            "Requirement already satisfied: cycler>=0.10 in /usr/local/lib/python3.7/dist-packages (from matplotlib->bioinfokit) (0.11.0)\n",
            "Requirement already satisfied: kiwisolver>=1.0.1 in /usr/local/lib/python3.7/dist-packages (from matplotlib->bioinfokit) (1.4.2)\n",
            "Requirement already satisfied: typing-extensions in /usr/local/lib/python3.7/dist-packages (from kiwisolver>=1.0.1->matplotlib->bioinfokit) (4.2.0)\n",
            "Requirement already satisfied: six>=1.5 in /usr/local/lib/python3.7/dist-packages (from python-dateutil>=2.1->matplotlib->bioinfokit) (1.15.0)\n",
            "Requirement already satisfied: pytz>=2017.3 in /usr/local/lib/python3.7/dist-packages (from pandas->bioinfokit) (2022.1)\n",
            "Requirement already satisfied: joblib>=0.11 in /usr/local/lib/python3.7/dist-packages (from scikit-learn->bioinfokit) (1.1.0)\n",
            "Requirement already satisfied: threadpoolctl>=2.0.0 in /usr/local/lib/python3.7/dist-packages (from scikit-learn->bioinfokit) (3.1.0)\n",
            "Requirement already satisfied: patsy>=0.5.2 in /usr/local/lib/python3.7/dist-packages (from statsmodels->bioinfokit) (0.5.2)\n",
            "Requirement already satisfied: packaging>=21.3 in /usr/local/lib/python3.7/dist-packages (from statsmodels->bioinfokit) (21.3)\n",
            "Building wheels for collected packages: bioinfokit, adjustText\n",
            "  Building wheel for bioinfokit (setup.py) ... \u001b[?25l\u001b[?25hdone\n",
            "  Created wheel for bioinfokit: filename=bioinfokit-2.0.8-py3-none-any.whl size=56750 sha256=a3af2dd82e346f873c8dbf47f593ee9ad268957eb7128ef1a1c363dc23cdd481\n",
            "  Stored in directory: /root/.cache/pip/wheels/0d/b0/a4/2be59655e33c889f2197d43e99ed077f05a6559e24ce28e21a\n",
            "  Building wheel for adjustText (setup.py) ... \u001b[?25l\u001b[?25hdone\n",
            "  Created wheel for adjustText: filename=adjustText-0.7.3-py3-none-any.whl size=7097 sha256=2bcedb90e98bc1342a1f3b3b92f3039205da6371ebd20435551885e2c1fb70fc\n",
            "  Stored in directory: /root/.cache/pip/wheels/2f/98/32/afbf902d8f040fadfdf0a44357e4ab750afe165d873bf5893d\n",
            "Successfully built bioinfokit adjustText\n",
            "Installing collected packages: textwrap3, adjustText, bioinfokit\n",
            "Successfully installed adjustText-0.7.3 bioinfokit-2.0.8 textwrap3-0.9.2\n"
          ]
        }
      ]
    },
    {
      "cell_type": "code",
      "source": [
        "from bioinfokit.analys import stat\n",
        "res = stat()\n",
        "res.tukey_hsd(df=df_melt, res_var='value', xfac_var='treatments', anova_model='value ~ C(treatments)')\n",
        "res.tukey_summary"
      ],
      "metadata": {
        "colab": {
          "base_uri": "https://localhost:8080/",
          "height": 292
        },
        "id": "-AMgxAXMfpja",
        "outputId": "09d238e0-5495-4741-ae62-a2fdd132d6ed"
      },
      "execution_count": 35,
      "outputs": [
        {
          "output_type": "stream",
          "name": "stderr",
          "text": [
            "/usr/local/lib/python3.7/dist-packages/bioinfokit/analys.py:402: FutureWarning: Dropping of nuisance columns in DataFrame reductions (with 'numeric_only=None') is deprecated; in a future version this will raise TypeError.  Select only valid columns before calling the reduction.\n",
            "  mult_group[ele] = df[df[xfac_var] == ele].mean().loc[res_var]\n"
          ]
        },
        {
          "output_type": "execute_result",
          "data": {
            "text/plain": [
              "  group1 group2       Diff      Lower      Upper   q-value   p-value\n",
              "0     X1     X2  34.777778  12.024242  57.531314  5.856289  0.001282\n",
              "1     X1     X3  35.888889  13.135353  58.642425  6.043390  0.001000\n",
              "2     X1     X4  13.333333  -9.420203  36.086869  2.245222  0.400961\n",
              "3     X2     X3   1.111111 -21.642425  23.864647  0.187102  0.900000\n",
              "4     X2     X4  21.444444  -1.309092  44.197980  3.611066  0.070594\n",
              "5     X3     X4  22.555556  -0.197980  45.309092  3.798168  0.052727"
            ],
            "text/html": [
              "\n",
              "  <div id=\"df-d69b0111-29c4-4b74-8d8a-8ce4ac98a5e8\">\n",
              "    <div class=\"colab-df-container\">\n",
              "      <div>\n",
              "<style scoped>\n",
              "    .dataframe tbody tr th:only-of-type {\n",
              "        vertical-align: middle;\n",
              "    }\n",
              "\n",
              "    .dataframe tbody tr th {\n",
              "        vertical-align: top;\n",
              "    }\n",
              "\n",
              "    .dataframe thead th {\n",
              "        text-align: right;\n",
              "    }\n",
              "</style>\n",
              "<table border=\"1\" class=\"dataframe\">\n",
              "  <thead>\n",
              "    <tr style=\"text-align: right;\">\n",
              "      <th></th>\n",
              "      <th>group1</th>\n",
              "      <th>group2</th>\n",
              "      <th>Diff</th>\n",
              "      <th>Lower</th>\n",
              "      <th>Upper</th>\n",
              "      <th>q-value</th>\n",
              "      <th>p-value</th>\n",
              "    </tr>\n",
              "  </thead>\n",
              "  <tbody>\n",
              "    <tr>\n",
              "      <th>0</th>\n",
              "      <td>X1</td>\n",
              "      <td>X2</td>\n",
              "      <td>34.777778</td>\n",
              "      <td>12.024242</td>\n",
              "      <td>57.531314</td>\n",
              "      <td>5.856289</td>\n",
              "      <td>0.001282</td>\n",
              "    </tr>\n",
              "    <tr>\n",
              "      <th>1</th>\n",
              "      <td>X1</td>\n",
              "      <td>X3</td>\n",
              "      <td>35.888889</td>\n",
              "      <td>13.135353</td>\n",
              "      <td>58.642425</td>\n",
              "      <td>6.043390</td>\n",
              "      <td>0.001000</td>\n",
              "    </tr>\n",
              "    <tr>\n",
              "      <th>2</th>\n",
              "      <td>X1</td>\n",
              "      <td>X4</td>\n",
              "      <td>13.333333</td>\n",
              "      <td>-9.420203</td>\n",
              "      <td>36.086869</td>\n",
              "      <td>2.245222</td>\n",
              "      <td>0.400961</td>\n",
              "    </tr>\n",
              "    <tr>\n",
              "      <th>3</th>\n",
              "      <td>X2</td>\n",
              "      <td>X3</td>\n",
              "      <td>1.111111</td>\n",
              "      <td>-21.642425</td>\n",
              "      <td>23.864647</td>\n",
              "      <td>0.187102</td>\n",
              "      <td>0.900000</td>\n",
              "    </tr>\n",
              "    <tr>\n",
              "      <th>4</th>\n",
              "      <td>X2</td>\n",
              "      <td>X4</td>\n",
              "      <td>21.444444</td>\n",
              "      <td>-1.309092</td>\n",
              "      <td>44.197980</td>\n",
              "      <td>3.611066</td>\n",
              "      <td>0.070594</td>\n",
              "    </tr>\n",
              "    <tr>\n",
              "      <th>5</th>\n",
              "      <td>X3</td>\n",
              "      <td>X4</td>\n",
              "      <td>22.555556</td>\n",
              "      <td>-0.197980</td>\n",
              "      <td>45.309092</td>\n",
              "      <td>3.798168</td>\n",
              "      <td>0.052727</td>\n",
              "    </tr>\n",
              "  </tbody>\n",
              "</table>\n",
              "</div>\n",
              "      <button class=\"colab-df-convert\" onclick=\"convertToInteractive('df-d69b0111-29c4-4b74-8d8a-8ce4ac98a5e8')\"\n",
              "              title=\"Convert this dataframe to an interactive table.\"\n",
              "              style=\"display:none;\">\n",
              "        \n",
              "  <svg xmlns=\"http://www.w3.org/2000/svg\" height=\"24px\"viewBox=\"0 0 24 24\"\n",
              "       width=\"24px\">\n",
              "    <path d=\"M0 0h24v24H0V0z\" fill=\"none\"/>\n",
              "    <path d=\"M18.56 5.44l.94 2.06.94-2.06 2.06-.94-2.06-.94-.94-2.06-.94 2.06-2.06.94zm-11 1L8.5 8.5l.94-2.06 2.06-.94-2.06-.94L8.5 2.5l-.94 2.06-2.06.94zm10 10l.94 2.06.94-2.06 2.06-.94-2.06-.94-.94-2.06-.94 2.06-2.06.94z\"/><path d=\"M17.41 7.96l-1.37-1.37c-.4-.4-.92-.59-1.43-.59-.52 0-1.04.2-1.43.59L10.3 9.45l-7.72 7.72c-.78.78-.78 2.05 0 2.83L4 21.41c.39.39.9.59 1.41.59.51 0 1.02-.2 1.41-.59l7.78-7.78 2.81-2.81c.8-.78.8-2.07 0-2.86zM5.41 20L4 18.59l7.72-7.72 1.47 1.35L5.41 20z\"/>\n",
              "  </svg>\n",
              "      </button>\n",
              "      \n",
              "  <style>\n",
              "    .colab-df-container {\n",
              "      display:flex;\n",
              "      flex-wrap:wrap;\n",
              "      gap: 12px;\n",
              "    }\n",
              "\n",
              "    .colab-df-convert {\n",
              "      background-color: #E8F0FE;\n",
              "      border: none;\n",
              "      border-radius: 50%;\n",
              "      cursor: pointer;\n",
              "      display: none;\n",
              "      fill: #1967D2;\n",
              "      height: 32px;\n",
              "      padding: 0 0 0 0;\n",
              "      width: 32px;\n",
              "    }\n",
              "\n",
              "    .colab-df-convert:hover {\n",
              "      background-color: #E2EBFA;\n",
              "      box-shadow: 0px 1px 2px rgba(60, 64, 67, 0.3), 0px 1px 3px 1px rgba(60, 64, 67, 0.15);\n",
              "      fill: #174EA6;\n",
              "    }\n",
              "\n",
              "    [theme=dark] .colab-df-convert {\n",
              "      background-color: #3B4455;\n",
              "      fill: #D2E3FC;\n",
              "    }\n",
              "\n",
              "    [theme=dark] .colab-df-convert:hover {\n",
              "      background-color: #434B5C;\n",
              "      box-shadow: 0px 1px 3px 1px rgba(0, 0, 0, 0.15);\n",
              "      filter: drop-shadow(0px 1px 2px rgba(0, 0, 0, 0.3));\n",
              "      fill: #FFFFFF;\n",
              "    }\n",
              "  </style>\n",
              "\n",
              "      <script>\n",
              "        const buttonEl =\n",
              "          document.querySelector('#df-d69b0111-29c4-4b74-8d8a-8ce4ac98a5e8 button.colab-df-convert');\n",
              "        buttonEl.style.display =\n",
              "          google.colab.kernel.accessAllowed ? 'block' : 'none';\n",
              "\n",
              "        async function convertToInteractive(key) {\n",
              "          const element = document.querySelector('#df-d69b0111-29c4-4b74-8d8a-8ce4ac98a5e8');\n",
              "          const dataTable =\n",
              "            await google.colab.kernel.invokeFunction('convertToInteractive',\n",
              "                                                     [key], {});\n",
              "          if (!dataTable) return;\n",
              "\n",
              "          const docLinkHtml = 'Like what you see? Visit the ' +\n",
              "            '<a target=\"_blank\" href=https://colab.research.google.com/notebooks/data_table.ipynb>data table notebook</a>'\n",
              "            + ' to learn more about interactive tables.';\n",
              "          element.innerHTML = '';\n",
              "          dataTable['output_type'] = 'display_data';\n",
              "          await google.colab.output.renderOutput(dataTable, element);\n",
              "          const docLink = document.createElement('div');\n",
              "          docLink.innerHTML = docLinkHtml;\n",
              "          element.appendChild(docLink);\n",
              "        }\n",
              "      </script>\n",
              "    </div>\n",
              "  </div>\n",
              "  "
            ]
          },
          "metadata": {},
          "execution_count": 35
        }
      ]
    },
    {
      "cell_type": "markdown",
      "source": [
        "VỚI 95% ĐỘ TIN CẬY TA CÓ BẰNG CHỨNG BÁC BỎ GIẢ THUYẾT ĐỘ SÂU TRUNG BÌNH ĐỂ TÌM RA CÁC KHẢO CỔ CỦA MỖI ĐỊA ĐIỂM LÀ GIỐNG NHAU "
      ],
      "metadata": {
        "id": "F1aoIsIRJMeu"
      }
    },
    {
      "cell_type": "markdown",
      "source": [
        "TỨC TA CÓ THỂ PHÁT BIỂU RẰNG ĐỘ SÂU TRUNG BÌNH CỦA MỖI ĐỊA ĐIỂM LÀ KHÁC NHAU"
      ],
      "metadata": {
        "id": "a1ZoY7rUKUHS"
      }
    },
    {
      "cell_type": "markdown",
      "source": [
        "Bài toán 3: Đại học Harvard cho chuột ăn các liều thuốc nhuộm đỏ số 40 khác nhau và ghi lại thời gian chết trong nhiều tuần. Kết quả đối với chuột cái, liều lượng và thời gian chết được hiển thị trong dữ liệu\n",
        "* X1 = thời gian chết cho nhóm kiểm soát\n",
        "* X2 = thời gian tử vong của nhóm sử dụng liều lượng thấp\n",
        "* X3 = thời gian tử vong của nhóm sử dụng liều lượng trung bình\n",
        "* X4 = thời gian tử vong của nhóm sử dụng liều lượng cao\n",
        "\n",
        "Kiểm tra có sự khác biệt nào về thời gian chết của các nhóm?"
      ],
      "metadata": {
        "id": "6UDks46fMgrl"
      }
    },
    {
      "cell_type": "code",
      "source": [
        "df3 = pd.read_csv(\"/content/drive/MyDrive/DataANOVAExercise/DataANOVA3.csv\")\n",
        "df3 = df3.dropna()"
      ],
      "metadata": {
        "id": "_myPF9hjJmda"
      },
      "execution_count": null,
      "outputs": []
    },
    {
      "cell_type": "markdown",
      "source": [
        "Phát biểu giả thuyết:\n",
        "*   $H_0$: Không có sự khác nhau về thời gian chết trung bình của các nhóm\n",
        "*   $H_a$: Có ít nhất một nhóm có thời gian chết trung bình khác biệt so với các nhóm còn lại"
      ],
      "metadata": {
        "id": "RyQYJQq0M4hV"
      }
    },
    {
      "cell_type": "markdown",
      "source": [
        "Xây dựng giả thuyết:\n",
        "\n",
        "$$H_{0}: \\mu_{1} = \\mu_{2} = \\mu_{3} = \\mu_{4}$$\n",
        "\n",
        "Giả thuyết thay thế:\n",
        "\n",
        "$$H_{a}: \\mu_{1} \\neq \\mu_{2} \\neq \\mu_{3} \\neq \\mu_{4}$$"
      ],
      "metadata": {
        "id": "nKU2YoRPSsrK"
      }
    },
    {
      "cell_type": "markdown",
      "source": [
        "Kiểm tra mẫu có phải là phân phối chuẩn hay xấp xỉ phân phối chuẩn"
      ],
      "metadata": {
        "id": "WtIHoAXYLuXX"
      }
    },
    {
      "cell_type": "code",
      "source": [
        "statistic, p_value = ss.shapiro(df3[\"X1\"])\n",
        "print(p_value)\n",
        "if p_value < 0.05:\n",
        "  print(\"Có bằng chứng bác bỏ giả thuyết mẫu đến từ phân phối chuẩn\")\n",
        "else:\n",
        "  print(\"Không có bằng chứng bác bỏ giả thuyết mẫu đến từ phân phối chuẩn\")"
      ],
      "metadata": {
        "colab": {
          "base_uri": "https://localhost:8080/"
        },
        "outputId": "bc83beeb-b7d9-4c65-a389-d57591d62c53",
        "id": "y546r2nZLuXh"
      },
      "execution_count": null,
      "outputs": [
        {
          "output_type": "stream",
          "name": "stdout",
          "text": [
            "0.8542101979255676\n",
            "Không có bằng chứng bác bỏ giả thuyết mẫu đến từ phân phối chuẩn\n"
          ]
        }
      ]
    },
    {
      "cell_type": "code",
      "source": [
        "statistic, p_value = ss.shapiro(df3[\"X2\"])\n",
        "print(p_value)\n",
        "if p_value < 0.05:\n",
        "  print(\"Có bằng chứng bác bỏ giả thuyết mẫu đến từ phân phối chuẩn\")\n",
        "else:\n",
        "  print(\"Không có bằng chứng bác bỏ giả thuyết mẫu đến từ phân phối chuẩn\")"
      ],
      "metadata": {
        "colab": {
          "base_uri": "https://localhost:8080/"
        },
        "outputId": "e0e42c6c-2f74-42c0-eccf-06cae688a435",
        "id": "f8mVHB40LuXi"
      },
      "execution_count": null,
      "outputs": [
        {
          "output_type": "stream",
          "name": "stdout",
          "text": [
            "0.8434385061264038\n",
            "Không có bằng chứng bác bỏ giả thuyết mẫu đến từ phân phối chuẩn\n"
          ]
        }
      ]
    },
    {
      "cell_type": "code",
      "source": [
        "statistic, p_value = ss.shapiro(df3[\"X3\"])\n",
        "print(p_value)\n",
        "if p_value < 0.05:\n",
        "  print(\"Có bằng chứng bác bỏ giả thuyết mẫu đến từ phân phối chuẩn\")\n",
        "else:\n",
        "  print(\"Không có bằng chứng bác bỏ giả thuyết mẫu đến từ phân phối chuẩn\")"
      ],
      "metadata": {
        "colab": {
          "base_uri": "https://localhost:8080/"
        },
        "outputId": "fc71b0b6-f1bc-4106-ca46-b50286586ad8",
        "id": "JATCCBh_LuXi"
      },
      "execution_count": null,
      "outputs": [
        {
          "output_type": "stream",
          "name": "stdout",
          "text": [
            "0.3321065306663513\n",
            "Không có bằng chứng bác bỏ giả thuyết mẫu đến từ phân phối chuẩn\n"
          ]
        }
      ]
    },
    {
      "cell_type": "code",
      "source": [
        "statistic, p_value = ss.shapiro(df3[\"X4\"])\n",
        "print(p_value)\n",
        "if p_value < 0.05:\n",
        "  print(\"Có bằng chứng bác bỏ giả thuyết mẫu đến từ phân phối chuẩn\")\n",
        "else:\n",
        "  print(\"Không có bằng chứng bác bỏ giả thuyết mẫu đến từ phân phối chuẩn\")"
      ],
      "metadata": {
        "colab": {
          "base_uri": "https://localhost:8080/"
        },
        "outputId": "38191287-fee2-4d62-9b20-c1ed3e6b96d1",
        "id": "EPSbxSyDLuXi"
      },
      "execution_count": null,
      "outputs": [
        {
          "output_type": "stream",
          "name": "stdout",
          "text": [
            "0.14956821501255035\n",
            "Không có bằng chứng bác bỏ giả thuyết mẫu đến từ phân phối chuẩn\n"
          ]
        }
      ]
    },
    {
      "cell_type": "markdown",
      "source": [
        "Kiểm tra phương sai của mẫu có sự khác biệt nào không?"
      ],
      "metadata": {
        "id": "c1bLVXBdLuXi"
      }
    },
    {
      "cell_type": "code",
      "source": [
        "statistic, p_value = ss.bartlett(df3[\"X1\"], df3[\"X2\"], df3[\"X3\"], df3[\"X4\"])\n",
        "print(p_value)\n",
        "if p_value <= 0.05:\n",
        "  print(\"Có bằng chứng bác bỏ giả thuyết thời gian chết của các nhóm chuột có phương sai bằng nhau\")\n",
        "else:\n",
        "  print(\"Không có bằng chứng bác bỏ giả thuyết thời gian chết của các nhóm chuột có phương sai bằng nhau\")"
      ],
      "metadata": {
        "colab": {
          "base_uri": "https://localhost:8080/"
        },
        "outputId": "661f097b-3b4a-43bb-fd04-eeb03a3dc013",
        "id": "j58sX66ZLuXi"
      },
      "execution_count": null,
      "outputs": [
        {
          "output_type": "stream",
          "name": "stdout",
          "text": [
            "0.023106804849423433\n",
            "Có bằng chứng bác bỏ giả thuyết thời gian chết của các nhóm chuột có phương sai bằng nhau\n"
          ]
        }
      ]
    },
    {
      "cell_type": "markdown",
      "source": [
        "Vì phương sai của các nhóm có sự khác biết nên ta không thể tiến hành kiểm định ANOVA"
      ],
      "metadata": {
        "id": "aKissmYOSO0M"
      }
    },
    {
      "cell_type": "markdown",
      "source": [
        "Bài toán 5: Dữ liệu sau đây là trọngtrọng lượng (pound) của một mẫu ngẫu nhiên các cầu thủ bóng đá chuyên nghiệp của các đội sau đây.\n",
        "* X1 = Trọng lượng của các cầu thủ chơi cho Dallas Cowboys\n",
        "* X2 = Trọng lượng của các cầu thủ chơi cho Green Bay Packers\n",
        "* X3 = Trọng lượng của các cầu thủ chơi cho Denver Broncos\n",
        "* X4 = Trọng lượng của các cầu thủ chơi cho Miami Dolphins\n",
        "* X5 = Trọng lượng của các cầu thủ chơi cho San Francisco Forty Niners\n",
        "\n",
        "Kiểm tra xem có sự khác biệt về trọng lượng trung bình của các cầu thủ của mỗi đội"
      ],
      "metadata": {
        "id": "rhkFFZ10Sqnk"
      }
    },
    {
      "cell_type": "code",
      "source": [
        "df5 = pd.read_csv(\"/content/drive/MyDrive/DataANOVAExercise/DataANOVA5.csv\")\n",
        "df5 = df5.dropna()"
      ],
      "metadata": {
        "id": "JnsMwYyGTYvq"
      },
      "execution_count": null,
      "outputs": []
    },
    {
      "cell_type": "markdown",
      "source": [
        "Phát biểu giả thuyết:\n",
        "*   $H_0$: Không có sự khác nhau về trọng lượng trung bình của các nhóm\n",
        "*   $H_a$: Có ít nhất một nhóm có trọng lượng trung bình khác biệt so với các nhóm còn lại"
      ],
      "metadata": {
        "id": "T7q0EWL-TYvq"
      }
    },
    {
      "cell_type": "markdown",
      "source": [
        "Kiểm tra mẫu có phải là phân phối chuẩn hay xấp xỉ phân phối chuẩn"
      ],
      "metadata": {
        "id": "iTe4ThUCTYvr"
      }
    },
    {
      "cell_type": "code",
      "source": [
        "statistic, p_value = ss.shapiro(df5[\"X1\"])\n",
        "print(p_value)\n",
        "if p_value < 0.05:\n",
        "  print(\"Có bằng chứng bác bỏ giả thuyết mẫu đến từ phân phối chuẩn\")\n",
        "else:\n",
        "  print(\"Không có bằng chứng bác bỏ giả thuyết mẫu đến từ phân phối chuẩn\")"
      ],
      "metadata": {
        "colab": {
          "base_uri": "https://localhost:8080/"
        },
        "outputId": "13b055b7-24ff-4538-be4d-8d6fc54925e3",
        "id": "JhGw6SbHTYvr"
      },
      "execution_count": null,
      "outputs": [
        {
          "output_type": "stream",
          "name": "stdout",
          "text": [
            "0.028549334034323692\n",
            "Có bằng chứng bác bỏ giả thuyết mẫu đến từ phân phối chuẩn\n"
          ]
        }
      ]
    },
    {
      "cell_type": "markdown",
      "source": [
        "Mẫu không đến từ phân phối chuẩn hay xấp xỉ nên không thể tiến hành kiểm định ANOVA"
      ],
      "metadata": {
        "id": "IXEjhK65UAgA"
      }
    },
    {
      "cell_type": "markdown",
      "source": [
        "Bài toán 2: Năm loại gốc rễ đã được sử dụng trong một thí nghiệm ghép vườn táo. Dữ liệu sau đây thể hiện mức tăng trưởng mở rộng (cm) sau bốn năm.\n",
        "* X1 = tăng trưởng phần mở rộng cho loại I\n",
        "* X2 = tăng trưởng mở rộng cho loại II\n",
        "* X3 = tăng trưởng mở rộng cho loại III\n",
        "* X4 = tăng trưởng mở rộng cho loại IV\n",
        "* X5 = tăng trưởng mở rộng cho loại V\n",
        "\n",
        "Kiểm tra có sự khác biệt về mức tăng trưởng mở rộng sau bốn năm của năm loại gốc rễ?"
      ],
      "metadata": {
        "id": "891uzo7FUhRm"
      }
    },
    {
      "cell_type": "code",
      "source": [
        "df2 = pd.read_csv(\"/content/drive/MyDrive/DataANOVAExercise/DataANOVA2.csv\")\n",
        "df2 = df2.dropna()"
      ],
      "metadata": {
        "id": "nv_D1G8TUKN2"
      },
      "execution_count": null,
      "outputs": []
    },
    {
      "cell_type": "markdown",
      "source": [
        "Phát biểu giả thuyết:\n",
        "*   $H_0$: Không có sự khác nhau mức độ tăng trưởng mở rộng trung bình của các nhóm\n",
        "*   $H_a$: Có ít nhất một nhóm có mức độ tăng trưởng mở rộng trung bình khác biệt so với các nhóm còn lại"
      ],
      "metadata": {
        "id": "bv8KgG1AZFID"
      }
    },
    {
      "cell_type": "markdown",
      "source": [
        "Kiểm tra mẫu có phải là phân phối chuẩn hay xấp xỉ phân phối chuẩn"
      ],
      "metadata": {
        "id": "7-eVVCiNU_J2"
      }
    },
    {
      "cell_type": "code",
      "source": [
        "statistic, p_value = ss.shapiro(df2[\"X1\"])\n",
        "print(p_value)\n",
        "if p_value < 0.05:\n",
        "  print(\"Có bằng chứng bác bỏ giả thuyết mẫu đến từ phân phối chuẩn\")\n",
        "else:\n",
        "  print(\"Không có bằng chứng bác bỏ giả thuyết mẫu đến từ phân phối chuẩn\")"
      ],
      "metadata": {
        "colab": {
          "base_uri": "https://localhost:8080/"
        },
        "outputId": "11b08563-345f-4044-d9b5-da6f3ed46561",
        "id": "pts_XX9WU_J2"
      },
      "execution_count": null,
      "outputs": [
        {
          "output_type": "stream",
          "name": "stdout",
          "text": [
            "0.644533634185791\n",
            "Không có bằng chứng bác bỏ giả thuyết mẫu đến từ phân phối chuẩn\n"
          ]
        }
      ]
    },
    {
      "cell_type": "code",
      "source": [
        "statistic, p_value = ss.shapiro(df2[\"X2\"])\n",
        "print(p_value)\n",
        "if p_value < 0.05:\n",
        "  print(\"Có bằng chứng bác bỏ giả thuyết mẫu đến từ phân phối chuẩn\")\n",
        "else:\n",
        "  print(\"Không có bằng chứng bác bỏ giả thuyết mẫu đến từ phân phối chuẩn\")"
      ],
      "metadata": {
        "colab": {
          "base_uri": "https://localhost:8080/"
        },
        "outputId": "bf795376-9916-4339-f4a6-644f45eb1fff",
        "id": "XvcW0k20U_J3"
      },
      "execution_count": null,
      "outputs": [
        {
          "output_type": "stream",
          "name": "stdout",
          "text": [
            "0.7472830414772034\n",
            "Không có bằng chứng bác bỏ giả thuyết mẫu đến từ phân phối chuẩn\n"
          ]
        }
      ]
    },
    {
      "cell_type": "code",
      "source": [
        "statistic, p_value = ss.shapiro(df2[\"X3\"])\n",
        "print(p_value)\n",
        "if p_value < 0.05:\n",
        "  print(\"Có bằng chứng bác bỏ giả thuyết mẫu đến từ phân phối chuẩn\")\n",
        "else:\n",
        "  print(\"Không có bằng chứng bác bỏ giả thuyết mẫu đến từ phân phối chuẩn\")"
      ],
      "metadata": {
        "colab": {
          "base_uri": "https://localhost:8080/"
        },
        "outputId": "1e7a3218-9d92-4105-d34f-3ab3b5bebe60",
        "id": "nJ_kRECYU_J3"
      },
      "execution_count": null,
      "outputs": [
        {
          "output_type": "stream",
          "name": "stdout",
          "text": [
            "0.3169650137424469\n",
            "Không có bằng chứng bác bỏ giả thuyết mẫu đến từ phân phối chuẩn\n"
          ]
        }
      ]
    },
    {
      "cell_type": "code",
      "source": [
        "statistic, p_value = ss.shapiro(df2[\"X4\"])\n",
        "print(p_value)\n",
        "if p_value < 0.05:\n",
        "  print(\"Có bằng chứng bác bỏ giả thuyết mẫu đến từ phân phối chuẩn\")\n",
        "else:\n",
        "  print(\"Không có bằng chứng bác bỏ giả thuyết mẫu đến từ phân phối chuẩn\")"
      ],
      "metadata": {
        "colab": {
          "base_uri": "https://localhost:8080/"
        },
        "outputId": "1574af3e-6a32-4d32-c94d-8faa883489e1",
        "id": "OfN2Nt9NU_J3"
      },
      "execution_count": null,
      "outputs": [
        {
          "output_type": "stream",
          "name": "stdout",
          "text": [
            "0.5994704365730286\n",
            "Không có bằng chứng bác bỏ giả thuyết mẫu đến từ phân phối chuẩn\n"
          ]
        }
      ]
    },
    {
      "cell_type": "code",
      "source": [
        "statistic, p_value = ss.shapiro(df2[\"X5\"])\n",
        "print(p_value)\n",
        "if p_value < 0.05:\n",
        "  print(\"Có bằng chứng bác bỏ giả thuyết mẫu đến từ phân phối chuẩn\")\n",
        "else:\n",
        "  print(\"Không có bằng chứng bác bỏ giả thuyết mẫu đến từ phân phối chuẩn\")"
      ],
      "metadata": {
        "colab": {
          "base_uri": "https://localhost:8080/"
        },
        "id": "AKjteMniVJR4",
        "outputId": "75d5a8c6-eeb6-480c-a98a-014d0dcd2d62"
      },
      "execution_count": null,
      "outputs": [
        {
          "output_type": "stream",
          "name": "stdout",
          "text": [
            "0.803491473197937\n",
            "Không có bằng chứng bác bỏ giả thuyết mẫu đến từ phân phối chuẩn\n"
          ]
        }
      ]
    },
    {
      "cell_type": "markdown",
      "source": [
        "Kiểm tra phương sai của mẫu có sự khác biệt nào không?"
      ],
      "metadata": {
        "id": "NPRhIJ2GU_J3"
      }
    },
    {
      "cell_type": "code",
      "source": [
        "statistic, p_value = ss.bartlett(df2[\"X1\"], df2[\"X2\"], df2[\"X3\"], df2[\"X4\"])\n",
        "print(p_value)\n",
        "if p_value <= 0.05:\n",
        "  print(\"Có bằng chứng bác bỏ giả thuyết mức độ tăng trưởng của các loại rễ có phương sai bằng nhau\")\n",
        "else:\n",
        "  print(\"Không có bằng chứng bác bỏ giả thuyết mức độ tăng trưởng của các loại rễ có phương sai bằng nhau\")"
      ],
      "metadata": {
        "colab": {
          "base_uri": "https://localhost:8080/"
        },
        "outputId": "7d7d75bc-4ec3-4276-bc60-3b4a3bbd73f3",
        "id": "wCVzsG5TU_J3"
      },
      "execution_count": null,
      "outputs": [
        {
          "output_type": "stream",
          "name": "stdout",
          "text": [
            "0.8329412252031859\n",
            "Không có bằng chứng bác bỏ giả thuyết mức độ tăng trưởng của các loại rễ có phương sai bằng nhau\n"
          ]
        }
      ]
    },
    {
      "cell_type": "markdown",
      "source": [
        "Từ các kiểm định trên ta giả định rằng các mẫu dữ liệu được lấy từ phân phối chuẩn và không có sự khác biệt về phương sai về độ sâu trung bình giữa các địa điểm. Và tất cả các nhóm đều độc lập với nhau."
      ],
      "metadata": {
        "id": "3hx6FbsQU_J3"
      }
    },
    {
      "cell_type": "code",
      "source": [
        "statistic, p_value = ss.f_oneway(df2[\"X1\"], df2[\"X2\"], df2[\"X3\"], df2[\"X4\"])\n",
        "if p_value <= 0.05:\n",
        "  print(\"Có bằng chứng bác bỏ giả thuyết H0\")\n",
        "else:\n",
        "  print(\"Không có bằng chứng bác bỏ giả thuyết H0\")"
      ],
      "metadata": {
        "colab": {
          "base_uri": "https://localhost:8080/"
        },
        "outputId": "af47274c-b7bd-4012-dc5b-d3782b25cff0",
        "id": "FsM2ej13WrwF"
      },
      "execution_count": null,
      "outputs": [
        {
          "output_type": "stream",
          "name": "stdout",
          "text": [
            "Không có bằng chứng bác bỏ giả thuyết H0\n"
          ]
        }
      ]
    },
    {
      "cell_type": "markdown",
      "source": [
        "VỚI 95% ĐỘ TIN CẬY TA KHÔNG CÓ BẰNG CHỨNG BÁC BỎ GIẢ THUYẾT MỨC TĂNG TRƯỞNG MỞ RỘNG CỦA NĂM LOẠI RỄ LÀ GIỐNG NHAU "
      ],
      "metadata": {
        "id": "3lpCmLjgWrwF"
      }
    },
    {
      "cell_type": "markdown",
      "source": [
        "TỨC TA CÓ THỂ PHÁT BIỂU RẰNG MỨC ĐỘ TĂNG TRƯỞNG MỞ RỘNG CỦA NĂM LOẠI RỄ CÂY CÓ THỂ BẰNG NHAU"
      ],
      "metadata": {
        "id": "nCTwMEimWrwF"
      }
    },
    {
      "cell_type": "markdown",
      "source": [
        "Bài toán 4: Dữ liệu sau thể hiện chi phí khởi nghiệp kinh doanh (nghìn đô la) cho các cửa hàng.\n",
        "* X1 = chi phí khởi nghiệp cho cửa hàng bánh pizza\n",
        "* X2 = chi phí khởi nghiệp cho cửa hàng bánh / bánh rán\n",
        "* X3 = chi phí khởi nghiệp cho cửa hàng hàng giày\n",
        "* X4 = chi phí khởi nghiệp cho cửa hàng quà tặng\n",
        "* X5 = chi phí khởi nghiệp cho cửa hàng thú cưng\n",
        "\n",
        "Kiểm tra xem chi phí khởi nghiệp của các loại của hàng có sự khác biệt nào không?"
      ],
      "metadata": {
        "id": "BLYLdb6fXX4s"
      }
    },
    {
      "cell_type": "code",
      "source": [
        "df4 = pd.read_csv(\"/content/drive/MyDrive/DataANOVAExercise/DataANOVA4.csv\")\n",
        "df4 = df4.dropna()"
      ],
      "metadata": {
        "id": "HyQ8lCtFYLVo"
      },
      "execution_count": null,
      "outputs": []
    },
    {
      "cell_type": "markdown",
      "source": [
        "Phát biểu giả thuyết:\n",
        "*   $H_0$: Không có sự khác nhau chi phí khởi nghiệp trung bình của các nhóm\n",
        "*   $H_a$: Có ít nhất một nhóm có chi phí khởi nghiệp trung bình khác biệt so với các nhóm còn lại"
      ],
      "metadata": {
        "id": "mMk5oyzaZdUs"
      }
    },
    {
      "cell_type": "markdown",
      "source": [
        "Kiểm tra mẫu có phải là phân phối chuẩn hay xấp xỉ phân phối chuẩn"
      ],
      "metadata": {
        "id": "eDW2seyuYLVp"
      }
    },
    {
      "cell_type": "code",
      "source": [
        "statistic, p_value = ss.shapiro(df4[\"X1\"])\n",
        "print(p_value)\n",
        "if p_value < 0.05:\n",
        "  print(\"Có bằng chứng bác bỏ giả thuyết mẫu đến từ phân phối chuẩn\")\n",
        "else:\n",
        "  print(\"Không có bằng chứng bác bỏ giả thuyết mẫu đến từ phân phối chuẩn\")"
      ],
      "metadata": {
        "colab": {
          "base_uri": "https://localhost:8080/"
        },
        "outputId": "f485b8db-b521-4be8-be75-bbe349e99f74",
        "id": "PpRCjSl4YLVp"
      },
      "execution_count": null,
      "outputs": [
        {
          "output_type": "stream",
          "name": "stdout",
          "text": [
            "0.9062873125076294\n",
            "Không có bằng chứng bác bỏ giả thuyết mẫu đến từ phân phối chuẩn\n"
          ]
        }
      ]
    },
    {
      "cell_type": "code",
      "source": [
        "statistic, p_value = ss.shapiro(df4[\"X2\"])\n",
        "print(p_value)\n",
        "if p_value < 0.05:\n",
        "  print(\"Có bằng chứng bác bỏ giả thuyết mẫu đến từ phân phối chuẩn\")\n",
        "else:\n",
        "  print(\"Không có bằng chứng bác bỏ giả thuyết mẫu đến từ phân phối chuẩn\")"
      ],
      "metadata": {
        "colab": {
          "base_uri": "https://localhost:8080/"
        },
        "outputId": "3dc3d129-0d58-4ff3-fdc3-32507ec6057e",
        "id": "5Kfj7BsfYLVp"
      },
      "execution_count": null,
      "outputs": [
        {
          "output_type": "stream",
          "name": "stdout",
          "text": [
            "0.5765353441238403\n",
            "Không có bằng chứng bác bỏ giả thuyết mẫu đến từ phân phối chuẩn\n"
          ]
        }
      ]
    },
    {
      "cell_type": "code",
      "source": [
        "statistic, p_value = ss.shapiro(df4[\"X3\"])\n",
        "print(p_value)\n",
        "if p_value < 0.05:\n",
        "  print(\"Có bằng chứng bác bỏ giả thuyết mẫu đến từ phân phối chuẩn\")\n",
        "else:\n",
        "  print(\"Không có bằng chứng bác bỏ giả thuyết mẫu đến từ phân phối chuẩn\")"
      ],
      "metadata": {
        "colab": {
          "base_uri": "https://localhost:8080/"
        },
        "outputId": "71965a75-f67d-4f0c-fccf-3f3e3b91ebe9",
        "id": "jToK2sMEYLVp"
      },
      "execution_count": null,
      "outputs": [
        {
          "output_type": "stream",
          "name": "stdout",
          "text": [
            "0.3917592167854309\n",
            "Không có bằng chứng bác bỏ giả thuyết mẫu đến từ phân phối chuẩn\n"
          ]
        }
      ]
    },
    {
      "cell_type": "code",
      "source": [
        "statistic, p_value = ss.shapiro(df4[\"X4\"])\n",
        "print(p_value)\n",
        "if p_value < 0.05:\n",
        "  print(\"Có bằng chứng bác bỏ giả thuyết mẫu đến từ phân phối chuẩn\")\n",
        "else:\n",
        "  print(\"Không có bằng chứng bác bỏ giả thuyết mẫu đến từ phân phối chuẩn\")"
      ],
      "metadata": {
        "colab": {
          "base_uri": "https://localhost:8080/"
        },
        "outputId": "081e0823-c171-4eed-d6f1-1045e804ac37",
        "id": "ZQe3-1LtYLVp"
      },
      "execution_count": null,
      "outputs": [
        {
          "output_type": "stream",
          "name": "stdout",
          "text": [
            "0.5785742998123169\n",
            "Không có bằng chứng bác bỏ giả thuyết mẫu đến từ phân phối chuẩn\n"
          ]
        }
      ]
    },
    {
      "cell_type": "code",
      "source": [
        "statistic, p_value = ss.shapiro(df4[\"X5\"])\n",
        "print(p_value)\n",
        "if p_value < 0.05:\n",
        "  print(\"Có bằng chứng bác bỏ giả thuyết mẫu đến từ phân phối chuẩn\")\n",
        "else:\n",
        "  print(\"Không có bằng chứng bác bỏ giả thuyết mẫu đến từ phân phối chuẩn\")"
      ],
      "metadata": {
        "colab": {
          "base_uri": "https://localhost:8080/"
        },
        "outputId": "f6768b88-7cc5-43e1-82fe-a390ff82a020",
        "id": "npXYGlf-YLVp"
      },
      "execution_count": null,
      "outputs": [
        {
          "output_type": "stream",
          "name": "stdout",
          "text": [
            "0.012689383700489998\n",
            "Có bằng chứng bác bỏ giả thuyết mẫu đến từ phân phối chuẩn\n"
          ]
        }
      ]
    },
    {
      "cell_type": "markdown",
      "source": [
        "Mẫu không đến từ phân phối chuẩn hay xấp xỉ nên không thể tiến hành kiểm định ANOVA"
      ],
      "metadata": {
        "id": "2bzTfX8mYljf"
      }
    }
  ],
  "metadata": {
    "kernelspec": {
      "display_name": "Python 3",
      "language": "python",
      "name": "python3"
    },
    "language_info": {
      "codemirror_mode": {
        "name": "ipython",
        "version": 3
      },
      "file_extension": ".py",
      "mimetype": "text/x-python",
      "name": "python",
      "nbconvert_exporter": "python",
      "pygments_lexer": "ipython3",
      "version": "3.7.3"
    },
    "colab": {
      "name": "BTKiemDinhANOVAOneWay.ipynb",
      "provenance": [],
      "collapsed_sections": [],
      "include_colab_link": true
    }
  },
  "nbformat": 4,
  "nbformat_minor": 0
}