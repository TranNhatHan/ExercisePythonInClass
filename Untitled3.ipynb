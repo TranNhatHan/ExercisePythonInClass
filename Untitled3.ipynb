{
  "nbformat": 4,
  "nbformat_minor": 0,
  "metadata": {
    "colab": {
      "name": "Untitled3.ipynb",
      "provenance": [],
      "collapsed_sections": [],
      "authorship_tag": "ABX9TyNhuJL9MJi6oVLmXEuE3Hwh",
      "include_colab_link": true
    },
    "kernelspec": {
      "name": "python3",
      "display_name": "Python 3"
    },
    "language_info": {
      "name": "python"
    }
  },
  "cells": [
    {
      "cell_type": "markdown",
      "metadata": {
        "id": "view-in-github",
        "colab_type": "text"
      },
      "source": [
        "<a href=\"https://colab.research.google.com/github/TranNhatHan/LamBt/blob/main/Untitled3.ipynb\" target=\"_parent\"><img src=\"https://colab.research.google.com/assets/colab-badge.svg\" alt=\"Open In Colab\"/></a>"
      ]
    },
    {
      "cell_type": "code",
      "metadata": {
        "colab": {
          "base_uri": "https://localhost:8080/"
        },
        "id": "4BZOT6mEQh89",
        "outputId": "b44ba349-d2a7-4e33-ee39-d2a24290a7e5"
      },
      "source": [
        "list1 = [3,2,1,4]\n",
        "sum(list1)\n",
        "print(sum(list1)) \n",
        "list2 = [5,6,\"Han\",8]\n",
        "import numpy\n",
        "a = numpy.prod(list1)\n",
        "print(a)\n",
        "print(max(list1))\n",
        "print(min(list1))\n",
        "list1.sort()\n",
        "print(list1)\n",
        "list1.reverse()\n",
        "print(list1)\n",
        "print(len(list2))\n",
        "import random\n",
        "print(random.choice(list2))\n",
        "print(list1+list2)"
      ],
      "execution_count": 58,
      "outputs": [
        {
          "output_type": "stream",
          "name": "stdout",
          "text": [
            "10\n",
            "24\n",
            "4\n",
            "1\n",
            "[1, 2, 3, 4]\n",
            "[4, 3, 2, 1]\n",
            "4\n",
            "8\n",
            "[4, 3, 2, 1, 5, 6, 'Han', 8]\n"
          ]
        }
      ]
    }
  ]
}